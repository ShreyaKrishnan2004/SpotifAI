{
 "cells": [
  {
   "cell_type": "code",
   "execution_count": null,
   "metadata": {},
   "outputs": [
    {
     "name": "stdout",
     "output_type": "stream",
     "text": [
      "Defaulting to user installation because normal site-packages is not writeable\n",
      "Requirement already satisfied: numpy in c:\\users\\hp\\appdata\\local\\packages\\pythonsoftwarefoundation.python.3.12_qbz5n2kfra8p0\\localcache\\local-packages\\python312\\site-packages (2.1.2)\n",
      "Requirement already satisfied: pandas in c:\\users\\hp\\appdata\\local\\packages\\pythonsoftwarefoundation.python.3.12_qbz5n2kfra8p0\\localcache\\local-packages\\python312\\site-packages (2.2.3)\n",
      "Requirement already satisfied: scikit-learn in c:\\users\\hp\\appdata\\local\\packages\\pythonsoftwarefoundation.python.3.12_qbz5n2kfra8p0\\localcache\\local-packages\\python312\\site-packages (1.5.2)\n",
      "Requirement already satisfied: matplotlib in c:\\users\\hp\\appdata\\local\\packages\\pythonsoftwarefoundation.python.3.12_qbz5n2kfra8p0\\localcache\\local-packages\\python312\\site-packages (3.9.2)\n",
      "Requirement already satisfied: seaborn in c:\\users\\hp\\appdata\\local\\packages\\pythonsoftwarefoundation.python.3.12_qbz5n2kfra8p0\\localcache\\local-packages\\python312\\site-packages (0.13.2)\n",
      "Requirement already satisfied: python-dateutil>=2.8.2 in c:\\users\\hp\\appdata\\local\\packages\\pythonsoftwarefoundation.python.3.12_qbz5n2kfra8p0\\localcache\\local-packages\\python312\\site-packages (from pandas) (2.9.0.post0)\n",
      "Requirement already satisfied: pytz>=2020.1 in c:\\users\\hp\\appdata\\local\\packages\\pythonsoftwarefoundation.python.3.12_qbz5n2kfra8p0\\localcache\\local-packages\\python312\\site-packages (from pandas) (2024.2)\n",
      "Requirement already satisfied: tzdata>=2022.7 in c:\\users\\hp\\appdata\\local\\packages\\pythonsoftwarefoundation.python.3.12_qbz5n2kfra8p0\\localcache\\local-packages\\python312\\site-packages (from pandas) (2024.2)\n",
      "Requirement already satisfied: scipy>=1.6.0 in c:\\users\\hp\\appdata\\local\\packages\\pythonsoftwarefoundation.python.3.12_qbz5n2kfra8p0\\localcache\\local-packages\\python312\\site-packages (from scikit-learn) (1.14.1)\n",
      "Requirement already satisfied: joblib>=1.2.0 in c:\\users\\hp\\appdata\\local\\packages\\pythonsoftwarefoundation.python.3.12_qbz5n2kfra8p0\\localcache\\local-packages\\python312\\site-packages (from scikit-learn) (1.4.2)\n",
      "Requirement already satisfied: threadpoolctl>=3.1.0 in c:\\users\\hp\\appdata\\local\\packages\\pythonsoftwarefoundation.python.3.12_qbz5n2kfra8p0\\localcache\\local-packages\\python312\\site-packages (from scikit-learn) (3.5.0)\n",
      "Requirement already satisfied: contourpy>=1.0.1 in c:\\users\\hp\\appdata\\local\\packages\\pythonsoftwarefoundation.python.3.12_qbz5n2kfra8p0\\localcache\\local-packages\\python312\\site-packages (from matplotlib) (1.3.0)\n",
      "Requirement already satisfied: cycler>=0.10 in c:\\users\\hp\\appdata\\local\\packages\\pythonsoftwarefoundation.python.3.12_qbz5n2kfra8p0\\localcache\\local-packages\\python312\\site-packages (from matplotlib) (0.12.1)\n",
      "Requirement already satisfied: fonttools>=4.22.0 in c:\\users\\hp\\appdata\\local\\packages\\pythonsoftwarefoundation.python.3.12_qbz5n2kfra8p0\\localcache\\local-packages\\python312\\site-packages (from matplotlib) (4.54.1)\n",
      "Requirement already satisfied: kiwisolver>=1.3.1 in c:\\users\\hp\\appdata\\local\\packages\\pythonsoftwarefoundation.python.3.12_qbz5n2kfra8p0\\localcache\\local-packages\\python312\\site-packages (from matplotlib) (1.4.7)\n",
      "Requirement already satisfied: packaging>=20.0 in c:\\users\\hp\\appdata\\local\\packages\\pythonsoftwarefoundation.python.3.12_qbz5n2kfra8p0\\localcache\\local-packages\\python312\\site-packages (from matplotlib) (24.1)\n",
      "Requirement already satisfied: pillow>=8 in c:\\users\\hp\\appdata\\local\\packages\\pythonsoftwarefoundation.python.3.12_qbz5n2kfra8p0\\localcache\\local-packages\\python312\\site-packages (from matplotlib) (10.4.0)\n",
      "Requirement already satisfied: pyparsing>=2.3.1 in c:\\users\\hp\\appdata\\local\\packages\\pythonsoftwarefoundation.python.3.12_qbz5n2kfra8p0\\localcache\\local-packages\\python312\\site-packages (from matplotlib) (3.2.0)\n",
      "Requirement already satisfied: six>=1.5 in c:\\users\\hp\\appdata\\local\\packages\\pythonsoftwarefoundation.python.3.12_qbz5n2kfra8p0\\localcache\\local-packages\\python312\\site-packages (from python-dateutil>=2.8.2->pandas) (1.16.0)\n",
      "Defaulting to user installation because normal site-packages is not writeable\n",
      "Requirement already satisfied: plotly in c:\\users\\hp\\appdata\\local\\packages\\pythonsoftwarefoundation.python.3.12_qbz5n2kfra8p0\\localcache\\local-packages\\python312\\site-packages (5.24.1)\n",
      "Requirement already satisfied: tenacity>=6.2.0 in c:\\users\\hp\\appdata\\local\\packages\\pythonsoftwarefoundation.python.3.12_qbz5n2kfra8p0\\localcache\\local-packages\\python312\\site-packages (from plotly) (9.0.0)\n",
      "Requirement already satisfied: packaging in c:\\users\\hp\\appdata\\local\\packages\\pythonsoftwarefoundation.python.3.12_qbz5n2kfra8p0\\localcache\\local-packages\\python312\\site-packages (from plotly) (24.1)\n",
      "Defaulting to user installation because normal site-packages is not writeable\n",
      "Requirement already satisfied: nbformat in c:\\users\\hp\\appdata\\local\\packages\\pythonsoftwarefoundation.python.3.12_qbz5n2kfra8p0\\localcache\\local-packages\\python312\\site-packages (5.10.4)\n",
      "Requirement already satisfied: fastjsonschema>=2.15 in c:\\users\\hp\\appdata\\local\\packages\\pythonsoftwarefoundation.python.3.12_qbz5n2kfra8p0\\localcache\\local-packages\\python312\\site-packages (from nbformat) (2.20.0)\n",
      "Requirement already satisfied: jsonschema>=2.6 in c:\\users\\hp\\appdata\\local\\packages\\pythonsoftwarefoundation.python.3.12_qbz5n2kfra8p0\\localcache\\local-packages\\python312\\site-packages (from nbformat) (4.23.0)\n",
      "Requirement already satisfied: jupyter-core!=5.0.*,>=4.12 in c:\\users\\hp\\appdata\\local\\packages\\pythonsoftwarefoundation.python.3.12_qbz5n2kfra8p0\\localcache\\local-packages\\python312\\site-packages (from nbformat) (5.7.2)\n",
      "Requirement already satisfied: traitlets>=5.1 in c:\\users\\hp\\appdata\\local\\packages\\pythonsoftwarefoundation.python.3.12_qbz5n2kfra8p0\\localcache\\local-packages\\python312\\site-packages (from nbformat) (5.14.3)\n",
      "Requirement already satisfied: attrs>=22.2.0 in c:\\users\\hp\\appdata\\local\\packages\\pythonsoftwarefoundation.python.3.12_qbz5n2kfra8p0\\localcache\\local-packages\\python312\\site-packages (from jsonschema>=2.6->nbformat) (24.2.0)\n",
      "Requirement already satisfied: jsonschema-specifications>=2023.03.6 in c:\\users\\hp\\appdata\\local\\packages\\pythonsoftwarefoundation.python.3.12_qbz5n2kfra8p0\\localcache\\local-packages\\python312\\site-packages (from jsonschema>=2.6->nbformat) (2024.10.1)\n",
      "Requirement already satisfied: referencing>=0.28.4 in c:\\users\\hp\\appdata\\local\\packages\\pythonsoftwarefoundation.python.3.12_qbz5n2kfra8p0\\localcache\\local-packages\\python312\\site-packages (from jsonschema>=2.6->nbformat) (0.35.1)\n",
      "Requirement already satisfied: rpds-py>=0.7.1 in c:\\users\\hp\\appdata\\local\\packages\\pythonsoftwarefoundation.python.3.12_qbz5n2kfra8p0\\localcache\\local-packages\\python312\\site-packages (from jsonschema>=2.6->nbformat) (0.21.0)\n",
      "Requirement already satisfied: platformdirs>=2.5 in c:\\users\\hp\\appdata\\local\\packages\\pythonsoftwarefoundation.python.3.12_qbz5n2kfra8p0\\localcache\\local-packages\\python312\\site-packages (from jupyter-core!=5.0.*,>=4.12->nbformat) (4.3.6)\n",
      "Requirement already satisfied: pywin32>=300 in c:\\users\\hp\\appdata\\local\\packages\\pythonsoftwarefoundation.python.3.12_qbz5n2kfra8p0\\localcache\\local-packages\\python312\\site-packages (from jupyter-core!=5.0.*,>=4.12->nbformat) (308)\n"
     ]
    }
   ],
   "source": [
    "\n",
    "# !pip install numpy pandas scikit-learn matplotlib seaborn\n",
    "# !pip install plotly\n",
    "# !pip install nbformat"
   ]
  },
  {
   "cell_type": "code",
   "execution_count": 2,
   "metadata": {},
   "outputs": [],
   "source": [
    "\n",
    "import pandas as pd\n",
    "import plotly.graph_objects as go\n",
    "import numpy as np\n",
    "from sklearn.datasets import make_moons\n",
    "from sklearn.model_selection import train_test_split\n",
    "from sklearn.neighbors import KNeighborsClassifier\n",
    "import matplotlib.pyplot as plt\n",
    "import mpl_toolkits.mplot3d\n",
    "from sklearn import datasets\n",
    "from sklearn.manifold import Isomap\n",
    "import plotly.express as px \n",
    "import re\n",
    "import random"
   ]
  },
  {
   "cell_type": "code",
   "execution_count": null,
   "metadata": {},
   "outputs": [
    {
     "name": "stdout",
     "output_type": "stream",
     "text": [
      "Index(['Song Name', 'mfccs_mean_0', 'mfccs_std_0', 'mfccs_mean_1',\n",
      "       'mfccs_std_1', 'mfccs_mean_2', 'mfccs_std_2', 'mfccs_mean_3',\n",
      "       'mfccs_std_3', 'mfccs_mean_4', 'mfccs_std_4', 'mfccs_mean_5',\n",
      "       'mfccs_std_5', 'mfccs_mean_6', 'mfccs_std_6', 'mfccs_mean_7',\n",
      "       'mfccs_std_7', 'mfccs_mean_8', 'mfccs_std_8', 'mfccs_mean_9',\n",
      "       'mfccs_std_9', 'mfccs_mean_10', 'mfccs_std_10', 'mfccs_mean_11',\n",
      "       'mfccs_std_11', 'mfccs_mean_12', 'mfccs_std_12', 'chroma_mean_0',\n",
      "       'chroma_mean_1', 'chroma_mean_2', 'chroma_mean_3', 'chroma_mean_4',\n",
      "       'chroma_mean_5', 'chroma_mean_6', 'chroma_mean_7', 'chroma_mean_8',\n",
      "       'chroma_mean_9', 'chroma_mean_10', 'chroma_mean_11', 'chroma_std_0',\n",
      "       'chroma_std_1', 'chroma_std_2', 'chroma_std_3', 'chroma_std_4',\n",
      "       'chroma_std_5', 'chroma_std_6', 'chroma_std_7', 'chroma_std_8',\n",
      "       'chroma_std_9', 'chroma_std_10', 'chroma_std_11', 'album', 'artist',\n",
      "       'release_date', 'length', 'popularity', 'acousticness', 'danceability',\n",
      "       'energy', 'instrumentalness', 'liveness', 'loudness', 'speechiness',\n",
      "       'tempo', 'valence', 'time_signature', 'key', 'mode', 'uri',\n",
      "       'release_year'],\n",
      "      dtype='object')\n"
     ]
    }
   ],
   "source": [
    "#loads in data set,, change file path\n",
    "#if has index column independent set index_col = (column name)\n",
    "#prints out all column headers for proofreading\n",
    "df = pd.read_csv(\"C:\\\\Users\\\\HP\\\\Downloads\\\\combined_full_data.csv\", index_col= False)\n",
    "print(df.columns)"
   ]
  },
  {
   "cell_type": "code",
   "execution_count": 100,
   "metadata": {},
   "outputs": [],
   "source": [
    "#dataset features that model looks at,, different weights for features set here\n",
    "\n",
    "# X = df[['danceability', 'energy', 'key', 'mode', 'speechiness',\n",
    "#        'acousticness', 'instrumentalness', 'valence', 'tempo',\n",
    "#         ]]\n",
    "X = df.copy()\n",
    "weight = 2.0\n",
    "weight2 = 3.0\n",
    "weight3 = 0.1\n",
    "X['valence']*=weight\n",
    "X['speechiness']**2\n",
    "X['acousticness']*=weight2\n",
    "X['loudness']*=weight\n",
    "X['energy']**-1\n",
    "\n",
    "X = df[['acousticness', 'instrumentalness' , 'tempo', 'energy',\n",
    "        'speechiness', 'valence', 'loudness',\n",
    "        'key', 'mode', 'chroma_mean_0',\n",
    "       'chroma_mean_1', 'chroma_mean_2', 'chroma_mean_3', 'chroma_mean_4',\n",
    "       'chroma_mean_5', 'chroma_mean_6', 'chroma_mean_7', 'chroma_mean_8',\n",
    "       'chroma_mean_9', 'chroma_mean_10', 'chroma_mean_11', 'chroma_std_0',\n",
    "       'chroma_std_1', 'chroma_std_2', 'chroma_std_3', 'chroma_std_4',\n",
    "       'chroma_std_5', 'chroma_std_6', 'chroma_std_7', 'chroma_std_8',\n",
    "       'chroma_std_9', 'chroma_std_10', 'chroma_std_11', 'mfccs_mean_0',\n",
    "       'mfccs_std_0', 'mfccs_mean_1', 'mfccs_std_1', 'mfccs_mean_2',\n",
    "       'mfccs_std_2', 'mfccs_mean_3', 'mfccs_std_3', 'mfccs_mean_4',\n",
    "       'mfccs_std_4', 'mfccs_mean_5', 'mfccs_std_5', 'mfccs_mean_6',\n",
    "       'mfccs_std_6', 'mfccs_mean_7', 'mfccs_std_7', 'mfccs_mean_8',\n",
    "       'mfccs_std_8', 'mfccs_mean_9', 'mfccs_std_9', 'mfccs_mean_10',\n",
    "       'mfccs_std_10', 'mfccs_mean_11', 'mfccs_std_11', 'mfccs_mean_12',\n",
    "       'mfccs_std_12']]"
   ]
  },
  {
   "cell_type": "code",
   "execution_count": null,
   "metadata": {},
   "outputs": [
    {
     "data": {
      "text/html": [
       "<style>#sk-container-id-5 {\n",
       "  /* Definition of color scheme common for light and dark mode */\n",
       "  --sklearn-color-text: black;\n",
       "  --sklearn-color-line: gray;\n",
       "  /* Definition of color scheme for unfitted estimators */\n",
       "  --sklearn-color-unfitted-level-0: #fff5e6;\n",
       "  --sklearn-color-unfitted-level-1: #f6e4d2;\n",
       "  --sklearn-color-unfitted-level-2: #ffe0b3;\n",
       "  --sklearn-color-unfitted-level-3: chocolate;\n",
       "  /* Definition of color scheme for fitted estimators */\n",
       "  --sklearn-color-fitted-level-0: #f0f8ff;\n",
       "  --sklearn-color-fitted-level-1: #d4ebff;\n",
       "  --sklearn-color-fitted-level-2: #b3dbfd;\n",
       "  --sklearn-color-fitted-level-3: cornflowerblue;\n",
       "\n",
       "  /* Specific color for light theme */\n",
       "  --sklearn-color-text-on-default-background: var(--sg-text-color, var(--theme-code-foreground, var(--jp-content-font-color1, black)));\n",
       "  --sklearn-color-background: var(--sg-background-color, var(--theme-background, var(--jp-layout-color0, white)));\n",
       "  --sklearn-color-border-box: var(--sg-text-color, var(--theme-code-foreground, var(--jp-content-font-color1, black)));\n",
       "  --sklearn-color-icon: #696969;\n",
       "\n",
       "  @media (prefers-color-scheme: dark) {\n",
       "    /* Redefinition of color scheme for dark theme */\n",
       "    --sklearn-color-text-on-default-background: var(--sg-text-color, var(--theme-code-foreground, var(--jp-content-font-color1, white)));\n",
       "    --sklearn-color-background: var(--sg-background-color, var(--theme-background, var(--jp-layout-color0, #111)));\n",
       "    --sklearn-color-border-box: var(--sg-text-color, var(--theme-code-foreground, var(--jp-content-font-color1, white)));\n",
       "    --sklearn-color-icon: #878787;\n",
       "  }\n",
       "}\n",
       "\n",
       "#sk-container-id-5 {\n",
       "  color: var(--sklearn-color-text);\n",
       "}\n",
       "\n",
       "#sk-container-id-5 pre {\n",
       "  padding: 0;\n",
       "}\n",
       "\n",
       "#sk-container-id-5 input.sk-hidden--visually {\n",
       "  border: 0;\n",
       "  clip: rect(1px 1px 1px 1px);\n",
       "  clip: rect(1px, 1px, 1px, 1px);\n",
       "  height: 1px;\n",
       "  margin: -1px;\n",
       "  overflow: hidden;\n",
       "  padding: 0;\n",
       "  position: absolute;\n",
       "  width: 1px;\n",
       "}\n",
       "\n",
       "#sk-container-id-5 div.sk-dashed-wrapped {\n",
       "  border: 1px dashed var(--sklearn-color-line);\n",
       "  margin: 0 0.4em 0.5em 0.4em;\n",
       "  box-sizing: border-box;\n",
       "  padding-bottom: 0.4em;\n",
       "  background-color: var(--sklearn-color-background);\n",
       "}\n",
       "\n",
       "#sk-container-id-5 div.sk-container {\n",
       "  /* jupyter's `normalize.less` sets `[hidden] { display: none; }`\n",
       "     but bootstrap.min.css set `[hidden] { display: none !important; }`\n",
       "     so we also need the `!important` here to be able to override the\n",
       "     default hidden behavior on the sphinx rendered scikit-learn.org.\n",
       "     See: https://github.com/scikit-learn/scikit-learn/issues/21755 */\n",
       "  display: inline-block !important;\n",
       "  position: relative;\n",
       "}\n",
       "\n",
       "#sk-container-id-5 div.sk-text-repr-fallback {\n",
       "  display: none;\n",
       "}\n",
       "\n",
       "div.sk-parallel-item,\n",
       "div.sk-serial,\n",
       "div.sk-item {\n",
       "  /* draw centered vertical line to link estimators */\n",
       "  background-image: linear-gradient(var(--sklearn-color-text-on-default-background), var(--sklearn-color-text-on-default-background));\n",
       "  background-size: 2px 100%;\n",
       "  background-repeat: no-repeat;\n",
       "  background-position: center center;\n",
       "}\n",
       "\n",
       "/* Parallel-specific style estimator block */\n",
       "\n",
       "#sk-container-id-5 div.sk-parallel-item::after {\n",
       "  content: \"\";\n",
       "  width: 100%;\n",
       "  border-bottom: 2px solid var(--sklearn-color-text-on-default-background);\n",
       "  flex-grow: 1;\n",
       "}\n",
       "\n",
       "#sk-container-id-5 div.sk-parallel {\n",
       "  display: flex;\n",
       "  align-items: stretch;\n",
       "  justify-content: center;\n",
       "  background-color: var(--sklearn-color-background);\n",
       "  position: relative;\n",
       "}\n",
       "\n",
       "#sk-container-id-5 div.sk-parallel-item {\n",
       "  display: flex;\n",
       "  flex-direction: column;\n",
       "}\n",
       "\n",
       "#sk-container-id-5 div.sk-parallel-item:first-child::after {\n",
       "  align-self: flex-end;\n",
       "  width: 50%;\n",
       "}\n",
       "\n",
       "#sk-container-id-5 div.sk-parallel-item:last-child::after {\n",
       "  align-self: flex-start;\n",
       "  width: 50%;\n",
       "}\n",
       "\n",
       "#sk-container-id-5 div.sk-parallel-item:only-child::after {\n",
       "  width: 0;\n",
       "}\n",
       "\n",
       "/* Serial-specific style estimator block */\n",
       "\n",
       "#sk-container-id-5 div.sk-serial {\n",
       "  display: flex;\n",
       "  flex-direction: column;\n",
       "  align-items: center;\n",
       "  background-color: var(--sklearn-color-background);\n",
       "  padding-right: 1em;\n",
       "  padding-left: 1em;\n",
       "}\n",
       "\n",
       "\n",
       "/* Toggleable style: style used for estimator/Pipeline/ColumnTransformer box that is\n",
       "clickable and can be expanded/collapsed.\n",
       "- Pipeline and ColumnTransformer use this feature and define the default style\n",
       "- Estimators will overwrite some part of the style using the `sk-estimator` class\n",
       "*/\n",
       "\n",
       "/* Pipeline and ColumnTransformer style (default) */\n",
       "\n",
       "#sk-container-id-5 div.sk-toggleable {\n",
       "  /* Default theme specific background. It is overwritten whether we have a\n",
       "  specific estimator or a Pipeline/ColumnTransformer */\n",
       "  background-color: var(--sklearn-color-background);\n",
       "}\n",
       "\n",
       "/* Toggleable label */\n",
       "#sk-container-id-5 label.sk-toggleable__label {\n",
       "  cursor: pointer;\n",
       "  display: block;\n",
       "  width: 100%;\n",
       "  margin-bottom: 0;\n",
       "  padding: 0.5em;\n",
       "  box-sizing: border-box;\n",
       "  text-align: center;\n",
       "}\n",
       "\n",
       "#sk-container-id-5 label.sk-toggleable__label-arrow:before {\n",
       "  /* Arrow on the left of the label */\n",
       "  content: \"▸\";\n",
       "  float: left;\n",
       "  margin-right: 0.25em;\n",
       "  color: var(--sklearn-color-icon);\n",
       "}\n",
       "\n",
       "#sk-container-id-5 label.sk-toggleable__label-arrow:hover:before {\n",
       "  color: var(--sklearn-color-text);\n",
       "}\n",
       "\n",
       "/* Toggleable content - dropdown */\n",
       "\n",
       "#sk-container-id-5 div.sk-toggleable__content {\n",
       "  max-height: 0;\n",
       "  max-width: 0;\n",
       "  overflow: hidden;\n",
       "  text-align: left;\n",
       "  /* unfitted */\n",
       "  background-color: var(--sklearn-color-unfitted-level-0);\n",
       "}\n",
       "\n",
       "#sk-container-id-5 div.sk-toggleable__content.fitted {\n",
       "  /* fitted */\n",
       "  background-color: var(--sklearn-color-fitted-level-0);\n",
       "}\n",
       "\n",
       "#sk-container-id-5 div.sk-toggleable__content pre {\n",
       "  margin: 0.2em;\n",
       "  border-radius: 0.25em;\n",
       "  color: var(--sklearn-color-text);\n",
       "  /* unfitted */\n",
       "  background-color: var(--sklearn-color-unfitted-level-0);\n",
       "}\n",
       "\n",
       "#sk-container-id-5 div.sk-toggleable__content.fitted pre {\n",
       "  /* unfitted */\n",
       "  background-color: var(--sklearn-color-fitted-level-0);\n",
       "}\n",
       "\n",
       "#sk-container-id-5 input.sk-toggleable__control:checked~div.sk-toggleable__content {\n",
       "  /* Expand drop-down */\n",
       "  max-height: 200px;\n",
       "  max-width: 100%;\n",
       "  overflow: auto;\n",
       "}\n",
       "\n",
       "#sk-container-id-5 input.sk-toggleable__control:checked~label.sk-toggleable__label-arrow:before {\n",
       "  content: \"▾\";\n",
       "}\n",
       "\n",
       "/* Pipeline/ColumnTransformer-specific style */\n",
       "\n",
       "#sk-container-id-5 div.sk-label input.sk-toggleable__control:checked~label.sk-toggleable__label {\n",
       "  color: var(--sklearn-color-text);\n",
       "  background-color: var(--sklearn-color-unfitted-level-2);\n",
       "}\n",
       "\n",
       "#sk-container-id-5 div.sk-label.fitted input.sk-toggleable__control:checked~label.sk-toggleable__label {\n",
       "  background-color: var(--sklearn-color-fitted-level-2);\n",
       "}\n",
       "\n",
       "/* Estimator-specific style */\n",
       "\n",
       "/* Colorize estimator box */\n",
       "#sk-container-id-5 div.sk-estimator input.sk-toggleable__control:checked~label.sk-toggleable__label {\n",
       "  /* unfitted */\n",
       "  background-color: var(--sklearn-color-unfitted-level-2);\n",
       "}\n",
       "\n",
       "#sk-container-id-5 div.sk-estimator.fitted input.sk-toggleable__control:checked~label.sk-toggleable__label {\n",
       "  /* fitted */\n",
       "  background-color: var(--sklearn-color-fitted-level-2);\n",
       "}\n",
       "\n",
       "#sk-container-id-5 div.sk-label label.sk-toggleable__label,\n",
       "#sk-container-id-5 div.sk-label label {\n",
       "  /* The background is the default theme color */\n",
       "  color: var(--sklearn-color-text-on-default-background);\n",
       "}\n",
       "\n",
       "/* On hover, darken the color of the background */\n",
       "#sk-container-id-5 div.sk-label:hover label.sk-toggleable__label {\n",
       "  color: var(--sklearn-color-text);\n",
       "  background-color: var(--sklearn-color-unfitted-level-2);\n",
       "}\n",
       "\n",
       "/* Label box, darken color on hover, fitted */\n",
       "#sk-container-id-5 div.sk-label.fitted:hover label.sk-toggleable__label.fitted {\n",
       "  color: var(--sklearn-color-text);\n",
       "  background-color: var(--sklearn-color-fitted-level-2);\n",
       "}\n",
       "\n",
       "/* Estimator label */\n",
       "\n",
       "#sk-container-id-5 div.sk-label label {\n",
       "  font-family: monospace;\n",
       "  font-weight: bold;\n",
       "  display: inline-block;\n",
       "  line-height: 1.2em;\n",
       "}\n",
       "\n",
       "#sk-container-id-5 div.sk-label-container {\n",
       "  text-align: center;\n",
       "}\n",
       "\n",
       "/* Estimator-specific */\n",
       "#sk-container-id-5 div.sk-estimator {\n",
       "  font-family: monospace;\n",
       "  border: 1px dotted var(--sklearn-color-border-box);\n",
       "  border-radius: 0.25em;\n",
       "  box-sizing: border-box;\n",
       "  margin-bottom: 0.5em;\n",
       "  /* unfitted */\n",
       "  background-color: var(--sklearn-color-unfitted-level-0);\n",
       "}\n",
       "\n",
       "#sk-container-id-5 div.sk-estimator.fitted {\n",
       "  /* fitted */\n",
       "  background-color: var(--sklearn-color-fitted-level-0);\n",
       "}\n",
       "\n",
       "/* on hover */\n",
       "#sk-container-id-5 div.sk-estimator:hover {\n",
       "  /* unfitted */\n",
       "  background-color: var(--sklearn-color-unfitted-level-2);\n",
       "}\n",
       "\n",
       "#sk-container-id-5 div.sk-estimator.fitted:hover {\n",
       "  /* fitted */\n",
       "  background-color: var(--sklearn-color-fitted-level-2);\n",
       "}\n",
       "\n",
       "/* Specification for estimator info (e.g. \"i\" and \"?\") */\n",
       "\n",
       "/* Common style for \"i\" and \"?\" */\n",
       "\n",
       ".sk-estimator-doc-link,\n",
       "a:link.sk-estimator-doc-link,\n",
       "a:visited.sk-estimator-doc-link {\n",
       "  float: right;\n",
       "  font-size: smaller;\n",
       "  line-height: 1em;\n",
       "  font-family: monospace;\n",
       "  background-color: var(--sklearn-color-background);\n",
       "  border-radius: 1em;\n",
       "  height: 1em;\n",
       "  width: 1em;\n",
       "  text-decoration: none !important;\n",
       "  margin-left: 1ex;\n",
       "  /* unfitted */\n",
       "  border: var(--sklearn-color-unfitted-level-1) 1pt solid;\n",
       "  color: var(--sklearn-color-unfitted-level-1);\n",
       "}\n",
       "\n",
       ".sk-estimator-doc-link.fitted,\n",
       "a:link.sk-estimator-doc-link.fitted,\n",
       "a:visited.sk-estimator-doc-link.fitted {\n",
       "  /* fitted */\n",
       "  border: var(--sklearn-color-fitted-level-1) 1pt solid;\n",
       "  color: var(--sklearn-color-fitted-level-1);\n",
       "}\n",
       "\n",
       "/* On hover */\n",
       "div.sk-estimator:hover .sk-estimator-doc-link:hover,\n",
       ".sk-estimator-doc-link:hover,\n",
       "div.sk-label-container:hover .sk-estimator-doc-link:hover,\n",
       ".sk-estimator-doc-link:hover {\n",
       "  /* unfitted */\n",
       "  background-color: var(--sklearn-color-unfitted-level-3);\n",
       "  color: var(--sklearn-color-background);\n",
       "  text-decoration: none;\n",
       "}\n",
       "\n",
       "div.sk-estimator.fitted:hover .sk-estimator-doc-link.fitted:hover,\n",
       ".sk-estimator-doc-link.fitted:hover,\n",
       "div.sk-label-container:hover .sk-estimator-doc-link.fitted:hover,\n",
       ".sk-estimator-doc-link.fitted:hover {\n",
       "  /* fitted */\n",
       "  background-color: var(--sklearn-color-fitted-level-3);\n",
       "  color: var(--sklearn-color-background);\n",
       "  text-decoration: none;\n",
       "}\n",
       "\n",
       "/* Span, style for the box shown on hovering the info icon */\n",
       ".sk-estimator-doc-link span {\n",
       "  display: none;\n",
       "  z-index: 9999;\n",
       "  position: relative;\n",
       "  font-weight: normal;\n",
       "  right: .2ex;\n",
       "  padding: .5ex;\n",
       "  margin: .5ex;\n",
       "  width: min-content;\n",
       "  min-width: 20ex;\n",
       "  max-width: 50ex;\n",
       "  color: var(--sklearn-color-text);\n",
       "  box-shadow: 2pt 2pt 4pt #999;\n",
       "  /* unfitted */\n",
       "  background: var(--sklearn-color-unfitted-level-0);\n",
       "  border: .5pt solid var(--sklearn-color-unfitted-level-3);\n",
       "}\n",
       "\n",
       ".sk-estimator-doc-link.fitted span {\n",
       "  /* fitted */\n",
       "  background: var(--sklearn-color-fitted-level-0);\n",
       "  border: var(--sklearn-color-fitted-level-3);\n",
       "}\n",
       "\n",
       ".sk-estimator-doc-link:hover span {\n",
       "  display: block;\n",
       "}\n",
       "\n",
       "/* \"?\"-specific style due to the `<a>` HTML tag */\n",
       "\n",
       "#sk-container-id-5 a.estimator_doc_link {\n",
       "  float: right;\n",
       "  font-size: 1rem;\n",
       "  line-height: 1em;\n",
       "  font-family: monospace;\n",
       "  background-color: var(--sklearn-color-background);\n",
       "  border-radius: 1rem;\n",
       "  height: 1rem;\n",
       "  width: 1rem;\n",
       "  text-decoration: none;\n",
       "  /* unfitted */\n",
       "  color: var(--sklearn-color-unfitted-level-1);\n",
       "  border: var(--sklearn-color-unfitted-level-1) 1pt solid;\n",
       "}\n",
       "\n",
       "#sk-container-id-5 a.estimator_doc_link.fitted {\n",
       "  /* fitted */\n",
       "  border: var(--sklearn-color-fitted-level-1) 1pt solid;\n",
       "  color: var(--sklearn-color-fitted-level-1);\n",
       "}\n",
       "\n",
       "/* On hover */\n",
       "#sk-container-id-5 a.estimator_doc_link:hover {\n",
       "  /* unfitted */\n",
       "  background-color: var(--sklearn-color-unfitted-level-3);\n",
       "  color: var(--sklearn-color-background);\n",
       "  text-decoration: none;\n",
       "}\n",
       "\n",
       "#sk-container-id-5 a.estimator_doc_link.fitted:hover {\n",
       "  /* fitted */\n",
       "  background-color: var(--sklearn-color-fitted-level-3);\n",
       "}\n",
       "</style><div id=\"sk-container-id-5\" class=\"sk-top-container\"><div class=\"sk-text-repr-fallback\"><pre>NearestNeighbors(n_neighbors=50, p=3)</pre><b>In a Jupyter environment, please rerun this cell to show the HTML representation or trust the notebook. <br />On GitHub, the HTML representation is unable to render, please try loading this page with nbviewer.org.</b></div><div class=\"sk-container\" hidden><div class=\"sk-item\"><div class=\"sk-estimator fitted sk-toggleable\"><input class=\"sk-toggleable__control sk-hidden--visually\" id=\"sk-estimator-id-5\" type=\"checkbox\" checked><label for=\"sk-estimator-id-5\" class=\"sk-toggleable__label fitted sk-toggleable__label-arrow fitted\">&nbsp;&nbsp;NearestNeighbors<a class=\"sk-estimator-doc-link fitted\" rel=\"noreferrer\" target=\"_blank\" href=\"https://scikit-learn.org/1.5/modules/generated/sklearn.neighbors.NearestNeighbors.html\">?<span>Documentation for NearestNeighbors</span></a><span class=\"sk-estimator-doc-link fitted\">i<span>Fitted</span></span></label><div class=\"sk-toggleable__content fitted\"><pre>NearestNeighbors(n_neighbors=50, p=3)</pre></div> </div></div></div></div>"
      ],
      "text/plain": [
       "NearestNeighbors(n_neighbors=50, p=3)"
      ]
     },
     "execution_count": 91,
     "metadata": {},
     "output_type": "execute_result"
    }
   ],
   "source": [
    "#model\n",
    "from sklearn.neighbors import NearestNeighbors\n",
    "\n",
    "#k neighbors\n",
    "model = NearestNeighbors(n_neighbors=50, p=3)\n",
    "\n",
    "model.fit(X)"
   ]
  },
  {
   "cell_type": "code",
   "execution_count": null,
   "metadata": {},
   "outputs": [],
   "source": [
    "#converts link to id \n",
    "\n",
    "def getTrackIdfromLink():\n",
    "    url = input(\"Enter Spotify track link: \")\n",
    "    match = re.search(r\"track/([a-zA-Z0-9]+)\", url)\n",
    "    if match:\n",
    "        return match.group(1)\n",
    "    else:\n",
    "        print(\"No track ID found in the URL.\")\n",
    "        return None\n",
    "\n"
   ]
  },
  {
   "cell_type": "code",
   "execution_count": null,
   "metadata": {},
   "outputs": [],
   "source": [
    "#turns id into uri\n",
    "def convertToUriFormat(track_id):\n",
    "    if track_id:\n",
    "        return f\"spotify:track:{track_id}\"\n",
    "    else:\n",
    "        print(\"Invalid track ID provided.\")\n",
    "        return None"
   ]
  },
  {
   "cell_type": "code",
   "execution_count": null,
   "metadata": {},
   "outputs": [],
   "source": [
    "#converts uri into id\n",
    "def extractTrackId(uri):\n",
    "    if uri and uri.startswith(\"spotify:track:\"):\n",
    "        return uri.replace(\"spotify:track:\", \"\")\n",
    "    else:\n",
    "        print(\"Invalid URI format provided.\")\n",
    "        return None\n"
   ]
  },
  {
   "cell_type": "code",
   "execution_count": null,
   "metadata": {},
   "outputs": [],
   "source": [
    "#Input track url, returns 5 track uri similar using model; nearest 20, but chooses 3 from closest 10, choose 2 from farthest 10\n",
    "#prints out track name and artist,, uncomment other line for distance measurements\n",
    "def get_song_recommendation():\n",
    "    track_id = convertToUriFormat(getTrackIdfromLink())\n",
    "    if track_id is None:\n",
    "        print(\"No valid track ID found.\")\n",
    "        return \n",
    "\n",
    "    track_rows = df[df['uri'] == track_id]\n",
    "    \n",
    "    if not track_rows.empty:\n",
    "        \n",
    "        index_position = df[df['uri'] == track_id].index[0]\n",
    "        \n",
    "        distances, indices = model.kneighbors(X.iloc[[index_position]])\n",
    "        \n",
    "        track_name = df.iloc[index_position]['Song Name']\n",
    "        print(f\"\\nSongs based on '{track_name}':\\n\")\n",
    "        \n",
    "\n",
    "        neighbor_indices = [idx for idx in indices[0] if idx != index_position]\n",
    "        \n",
    "#Comment out in final; only to test\n",
    "#\n",
    "        # print(\"20 Closest Neighbors:\")\n",
    "        # for i, idx in enumerate(neighbor_indices[:20], start=1):\n",
    "        #     recommended_song = df.iloc[idx]\n",
    "        #     distance = distances[0][list(indices[0]).index(idx)]\n",
    "        #     print(f\"{i}. {recommended_song['Song Name']} by {recommended_song['artist']} (Distance: {distance:.4f})\")\n",
    "    #\n",
    "\n",
    "        nearest_10 = neighbor_indices[:10]\n",
    "        next_10 = neighbor_indices[10:20]\n",
    "        \n",
    "        random_neighbors = random.sample(nearest_10, min(3, len(nearest_10)))\n",
    "        random_neighbors += random.sample(next_10, min(2, len(next_10)))      \n",
    "        output =[]\n",
    "\n",
    "        print(\"5 Recommended Songs:\")\n",
    "        for i, idx in enumerate(random_neighbors, start=1):\n",
    "            recommended_song = df.iloc[idx]\n",
    "            distance = distances[0][list(indices[0]).index(idx)]\n",
    "            #print(f\"{i}. {recommended_song['Song Name']} by {recommended_song['artist']} (Distance: {distance:.4f})\")\n",
    "            print(f\"{i}. {recommended_song['Song Name']} by {recommended_song['artist']}\")\n",
    "            output.append(extractTrackId(recommended_song['uri']))\n",
    "        return output\n",
    "    else:\n",
    "        print(\"Sorry, that song's not in the database.\")\n"
   ]
  },
  {
   "cell_type": "code",
   "execution_count": null,
   "metadata": {},
   "outputs": [],
   "source": [
    "#Input track url, returns 20 track uri similar using model; nearest 40, but chooses 20 random\n",
    "#prints out track name and artist,, uncomment other line for distance measurements\n",
    "def get_song_recommendation_playlist():\n",
    "    track_id = convertToUriFormat(getTrackIdfromLink())\n",
    "    if track_id is None:\n",
    "        print(\"No valid track ID found.\")\n",
    "        return \n",
    "\n",
    "    track_rows = df[df['uri'] == track_id]\n",
    "    \n",
    "    if not track_rows.empty:\n",
    "        \n",
    "        index_position = df[df['uri'] == track_id].index[0]\n",
    "        \n",
    "        distances, indices = model.kneighbors(X.iloc[[index_position]])\n",
    "        \n",
    "        track_name = df.iloc[index_position]['Song Name']\n",
    "        print(f\"\\nSongs based on '{track_name}':\\n\")\n",
    "        \n",
    "\n",
    "        neighbor_indices = [idx for idx in indices[0] if idx != index_position]\n",
    "        \n",
    "#Comment out in final; only to test\n",
    "#\n",
    "        # print(\"40 Closest Neighbors:\")\n",
    "        # for i, idx in enumerate(neighbor_indices[:40], start=1):\n",
    "        #     recommended_song = df.iloc[idx]\n",
    "        #     distance = distances[0][list(indices[0]).index(idx)]\n",
    "        #     print(f\"{i}. {recommended_song['Song Name']} by {recommended_song['artist']} (Distance: {distance:.4f})\")\n",
    "    #\n",
    "\n",
    "        nearest_40 = neighbor_indices[:40]\n",
    "        \n",
    "        random_neighbors = random.sample(nearest_40, min(20, len(nearest_40)))   \n",
    "        output =[]\n",
    "\n",
    "        print(\"20 Recommended Songs:\")\n",
    "        for i, idx in enumerate(random_neighbors, start=1):\n",
    "            recommended_song = df.iloc[idx]\n",
    "            distance = distances[0][list(indices[0]).index(idx)]\n",
    "            #print(f\"{i}. {recommended_song['Song Name']} by {recommended_song['artist']} (Distance: {distance:.4f})\")\n",
    "            print(f\"{i}. {recommended_song['Song Name']} by {recommended_song['artist']}\")\n",
    "            output.append(extractTrackId(recommended_song['uri']))\n",
    "        return output\n",
    "    else:\n",
    "        print(\"Sorry, that song's not in the database.\")\n"
   ]
  },
  {
   "cell_type": "code",
   "execution_count": 90,
   "metadata": {},
   "outputs": [
    {
     "name": "stdout",
     "output_type": "stream",
     "text": [
      "\n",
      "Songs based on 'That’s Why (with GOLDN)':\n",
      "\n",
      "5 Recommended Songs:\n",
      "1. TELL ME by bear bear & friends\n",
      "2. Oxygen by Excision\n",
      "3. HVN ON EARTH (with Kodak Black) by Lil Tecca\n",
      "4. Faded - ODESZA Remix by ZHU\n",
      "5. TORE UP by Don Toliver\n"
     ]
    },
    {
     "data": {
      "text/plain": [
       "['3GY4DBauyY1mVlUlAB60wq',\n",
       " '6f0XqZKDhD5EOTziuKYyq1',\n",
       " '4CIyxiObT9G35HrSItAblR',\n",
       " '74tsW4h0WDYRpfD19gc10W',\n",
       " '1jKXjxMWlq4BhH6f9GtZbu']"
      ]
     },
     "execution_count": 90,
     "metadata": {},
     "output_type": "execute_result"
    }
   ],
   "source": [
    "get_song_recommendation()"
   ]
  },
  {
   "cell_type": "code",
   "execution_count": 93,
   "metadata": {},
   "outputs": [
    {
     "name": "stdout",
     "output_type": "stream",
     "text": [
      "\n",
      "Songs based on 'Worth It':\n",
      "\n",
      "5 Recommended Songs:\n",
      "1. Sideways by ILLENIUM\n",
      "2. In My Mind by ILLENIUM\n",
      "3. Fading Out by ATLiens\n",
      "4. Already Know by Adventure Club\n",
      "5. Returning To You (feat. Alison May) - Kill The Noise Remix by Seven Lions\n",
      "6. Deep Down Low by Valentino Khan\n",
      "7. Constellation by Far Out\n",
      "8. There x2 by Slushii\n",
      "9. I WARE HOUSE by JOYRYDE\n",
      "10. Someone Else by Sullivan King\n",
      "11. Start Again (feat. Fiora) by Seven Lions\n",
      "12. After All - Habstrakt Remix by SLANDER\n",
      "13. Sun Comes Up On You (feat. Amidy) by ARMNHMR\n",
      "14. Returning To You (feat. Alison May) - Kill The Noise Remix by Seven Lions\n",
      "15. Over Getting Over You by Said The Sky\n",
      "16. Running To You by SLANDER\n",
      "17. Ray Of Solar by Swedish House Mafia\n",
      "18. Rock Ur World by Knock2\n",
      "19. Do or Die by Subshock & Evangelos\n",
      "20. thirst by DPR LIVE\n"
     ]
    },
    {
     "data": {
      "text/plain": [
       "['0PMNxtgeNSmPPp4aiA4T8F',\n",
       " '4nRbhflKt9BAc6YulQ22ga',\n",
       " '2h3Mfv3Aznwz0lXIjmTJr8',\n",
       " '3HI54kkKSEZO2wp9hV5tgo',\n",
       " '5E19QhVOEYGG54pNzed8Qu',\n",
       " '46rZgRYU1H5Xnv0n75OGis',\n",
       " '0aDYbKm7Cwe3rkjihsj7S6',\n",
       " '1tndktY8ZFXapGYIeHUGR2',\n",
       " '3THbCOOsUboMu83Ubd3sSR',\n",
       " '44MxUoeZg6FXDlHMrSbVjX',\n",
       " '41Umx93nsocrD8ckKBSuno',\n",
       " '5OhKV5ymsUcEUgvH5YWIX5',\n",
       " '1wqCrjOMRVOMktfDvVLsmv',\n",
       " '3fLD3P5Tg9hPElLCnymdL5',\n",
       " '1QScZdUhSzG4PmszARTR5n',\n",
       " '2LDv4GXuR2yR6n8bdBR95J',\n",
       " '5Y2n6pW4Vqr4Mzkd9V4Uk8',\n",
       " '5PkWhNfVEz2O9n8b6cQFMw',\n",
       " '3hzHvvELxNqWIH0hlaN4jZ',\n",
       " '7kyupZQftQDUUxlATGGmOe']"
      ]
     },
     "execution_count": 93,
     "metadata": {},
     "output_type": "execute_result"
    }
   ],
   "source": [
    "get_song_recommendation_playlist()"
   ]
  },
  {
   "cell_type": "code",
   "execution_count": null,
   "metadata": {},
   "outputs": [
    {
     "data": {
      "application/vnd.plotly.v1+json": {
       "config": {
        "plotlyServerURL": "https://plot.ly"
       },
       "data": [
        {
         "customdata": [
          [
           "(I Can't Get No) Satisfaction - Mono Version"
          ],
          [
           "...Baby One More Time"
          ],
          [
           "1 On 1 - Dubscribe Remix"
          ],
          [
           "10 Freaky Girls (with 21 Savage)"
          ],
          [
           "100 Ways"
          ],
          [
           "1942 (feat. Yo Gotti & YBN Nahmir)"
          ],
          [
           "1979 - Remastered 2012"
          ],
          [
           "2 soon"
          ],
          [
           "2 Things"
          ],
          [
           "2020"
          ],
          [
           "21"
          ],
          [
           "21 Guns"
          ],
          [
           "22 (Taylor's Version)"
          ],
          [
           "3:15 (Breathe)"
          ],
          [
           "34+35"
          ],
          [
           "360"
          ],
          [
           "3AM in Oakland (Lo’ N Slo’)"
          ],
          [
           "3D (feat. Jack Harlow)"
          ],
          [
           "44 (Forget Forever)"
          ],
          [
           "500lbs"
          ],
          [
           "679 (feat. Remy Boyz)"
          ],
          [
           "7 rings"
          ],
          [
           "7HEAVEN"
          ],
          [
           "Action! (Feat. GRAY)"
          ],
          [
           "Addicted"
          ],
          [
           "After All - Habstrakt Remix"
          ],
          [
           "After All"
          ],
          [
           "After You (feat. Calle Lehmann)"
          ],
          [
           "Afterlife"
          ],
          [
           "Ain't About You (feat. Kiiara)"
          ],
          [
           "Alibi (Far Out Remix)"
          ],
          [
           "ALIEN PARTY"
          ],
          [
           "Alive (Acoustic)"
          ],
          [
           "Alive (The Edge) [feat. ROOKIES] - DJ Licious Remix"
          ],
          [
           "Alive (Trivecta Remix)"
          ],
          [
           "Alive - Kumarion Remix"
          ],
          [
           "All Along the Watchtower"
          ],
          [
           "All I Got"
          ],
          [
           "ALL MAJOR"
          ],
          [
           "All My Friends"
          ],
          [
           "All My Life"
          ],
          [
           "ALL MY LOVE"
          ],
          [
           "All Nighter"
          ],
          [
           "All Right Now"
          ],
          [
           "All Too Well (10 Minute Version) (Taylor's Version) (From The Vault)"
          ],
          [
           "All Too Well"
          ],
          [
           "All You Need To Know (feat. Calle Lehmann)"
          ],
          [
           "Almost Is Never Enough"
          ],
          [
           "Aloha"
          ],
          [
           "Alone (tofû remix)"
          ],
          [
           "Alone + Easy Target"
          ],
          [
           "Alone - Sullivan King Remix"
          ],
          [
           "Already Know"
          ],
          [
           "alright"
          ],
          [
           "American Boy"
          ],
          [
           "American Idiot"
          ],
          [
           "American Woman - 7\" Single Version"
          ],
          [
           "Amsterdam"
          ],
          [
           "And This Is Just The Intro (Live)"
          ],
          [
           "Angel 2 Me"
          ],
          [
           "Animal I Have Become"
          ],
          [
           "Animals"
          ],
          [
           "Another Me (with Dylan Matthew)"
          ],
          [
           "Anything"
          ],
          [
           "AP - Music from the film Boogie"
          ],
          [
           "Apologize"
          ],
          [
           "APT."
          ],
          [
           "Assault"
          ],
          [
           "ATM"
          ],
          [
           "Atoms - Said the Sky Remix"
          ],
          [
           "Attention"
          ],
          [
           "Automatic"
          ],
          [
           "Away - TWO LANES Remix"
          ],
          [
           "B.E.D."
          ],
          [
           "B.Y.S."
          ],
          [
           "Baby"
          ],
          [
           "Baby again.."
          ],
          [
           "Baby Boy (feat. Sean Paul)"
          ],
          [
           "Back To Back"
          ],
          [
           "Back to Life"
          ],
          [
           "Back To U - Control Freak Remix"
          ],
          [
           "Back To U"
          ],
          [
           "BAD (Feat. KIMMUSEUM)"
          ],
          [
           "Bad Alive - English Version"
          ],
          [
           "Bad At Love"
          ],
          [
           "Bad Bitches (feat. Megan Thee Stallion)"
          ],
          [
           "Bad Blood (feat. Kendrick Lamar) (Taylor's Version)"
          ],
          [
           "Bad Habits"
          ],
          [
           "Bad Romance"
          ],
          [
           "ball w/o you"
          ],
          [
           "bandaids"
          ],
          [
           "Bang Bang"
          ],
          [
           "Bank Account"
          ],
          [
           "Barracuda"
          ],
          [
           "Bass Inside"
          ],
          [
           "bb u ok?"
          ],
          [
           "BBB"
          ],
          [
           "Be My Lover - Toby Green Remix"
          ],
          [
           "be my somebody new"
          ],
          [
           "Be The One"
          ],
          [
           "Beautiful People (feat. Khalid)"
          ],
          [
           "Beauty And A Beat"
          ],
          [
           "Bed Chem"
          ],
          [
           "Bed Peace"
          ],
          [
           "Beef With Me"
          ],
          [
           "Beg for It"
          ],
          [
           "Beggin'"
          ],
          [
           "Behemoth"
          ],
          [
           "beibs in the trap"
          ],
          [
           "Bent"
          ],
          [
           "beside you"
          ],
          [
           "Best For You (feat. Selah Ford)"
          ],
          [
           "Best Is Yet To Come (with Kyle Reynolds) - Cheyenne Giles Remix"
          ],
          [
           "Best Is Yet To Come (with Kyle Reynolds)"
          ],
          [
           "Best of You"
          ],
          [
           "Better"
          ],
          [
           "Better Apart (feat. Dresage)"
          ],
          [
           "Better Off"
          ],
          [
           "Better Off Lonely"
          ],
          [
           "Better Than Heaven"
          ],
          [
           "BHZ"
          ],
          [
           "Big Dawgs"
          ],
          [
           "Bipolar"
          ],
          [
           "BIRDS OF A FEATHER"
          ],
          [
           "Birthday Sex"
          ],
          [
           "Bitch Better Have My Money"
          ],
          [
           "Bitter Sweet Symphony - Remastered 2016"
          ],
          [
           "Bittersweet Goodbye - Tiësto’s Hardcore Remix"
          ],
          [
           "Bittersweet Melody - Nurko Remix"
          ],
          [
           "black and white"
          ],
          [
           "Black Dog - Remaster"
          ],
          [
           "Black Eye"
          ],
          [
           "Black Hole Sun"
          ],
          [
           "Black Magic Woman - Single Version"
          ],
          [
           "Blah Blah"
          ],
          [
           "blah blah blah"
          ],
          [
           "Blame (feat. John Newman)"
          ],
          [
           "Blame Myself - ILLENIUM and Virtual Riot Remix"
          ],
          [
           "Blank Space (Taylor's Version)"
          ],
          [
           "bleach"
          ],
          [
           "Blind"
          ],
          [
           "Blink & You Will Cry"
          ],
          [
           "Blood On Me"
          ],
          [
           "Bloom (Nurko Remix)"
          ],
          [
           "Blueberry Faygo"
          ],
          [
           "Body Back (feat. Maia Wright)"
          ],
          [
           "Boom"
          ],
          [
           "BOOM"
          ],
          [
           "BOP"
          ],
          [
           "Boss (Kai Wachi Remix)"
          ],
          [
           "Boy's a liar Pt. 2"
          ],
          [
           "boyfriend (with Social House)"
          ],
          [
           "Break It Down"
          ],
          [
           "Break The Silence (feat. RBBTS)"
          ],
          [
           "break up with your girlfriend, i'm bored"
          ],
          [
           "Break Your Neck - Pt. 2 VIP"
          ],
          [
           "Breakdown"
          ],
          [
           "Breakfast"
          ],
          [
           "Breaking the Habit"
          ],
          [
           "Breathe (feat HALIENE & Matthew Steeper)"
          ],
          [
           "Breathe"
          ],
          [
           "Breathe 2.0"
          ],
          [
           "Breathe Without"
          ],
          [
           "Breed"
          ],
          [
           "Bring it on (English ver.)"
          ],
          [
           "Broken"
          ],
          [
           "Broken Clocks"
          ],
          [
           "Broken Love"
          ],
          [
           "Broken Melodies - JVKE Remix"
          ],
          [
           "Brought The Heat Back"
          ],
          [
           "Brown Sugar"
          ],
          [
           "Bubblegum Bitch"
          ],
          [
           "Bullet With Butterfly Wings - Remastered 2012"
          ],
          [
           "Bulletproof"
          ],
          [
           "Bunker Buster"
          ],
          [
           "BURN"
          ],
          [
           "Bussback"
          ],
          [
           "Butter"
          ],
          [
           "Butterflies"
          ],
          [
           "BUTTERFLY EFFECT"
          ],
          [
           "Buyer's Remorse (feat. Omar Apollo)"
          ],
          [
           "By My Side"
          ],
          [
           "By the Way"
          ],
          [
           "California (feat. Warren Hue)"
          ],
          [
           "California Dreamin' (feat. High Jinx)"
          ],
          [
           "California Gurls"
          ],
          [
           "Californication"
          ],
          [
           "Call"
          ],
          [
           "Call Me"
          ],
          [
           "Call Me Maybe"
          ],
          [
           "Can You See It"
          ],
          [
           "can't slow down"
          ],
          [
           "Can't Stop"
          ],
          [
           "Can't Stop Us Now"
          ],
          [
           "Candy Flip"
          ],
          [
           "Can’t Fight The Feeling"
          ],
          [
           "CARNIVAL"
          ],
          [
           "Carry Me Home (feat. Jake Reese)"
          ],
          [
           "Carry on Wayward Son"
          ],
          [
           "Castle on the Hill"
          ],
          [
           "catching feelings"
          ],
          [
           "Chameleon"
          ],
          [
           "Change"
          ],
          [
           "CHAOS"
          ],
          [
           "Chasing That Feeling"
          ],
          [
           "Check Me Out"
          ],
          [
           "Check Out"
          ],
          [
           "Cheese & Wine"
          ],
          [
           "Chemical Bond"
          ],
          [
           "Chicken Soup"
          ],
          [
           "Chunky"
          ],
          [
           "Close to Me"
          ],
          [
           "close with desires (feat. thuy)"
          ],
          [
           "Close your eyes"
          ],
          [
           "Closer"
          ],
          [
           "cloud 11"
          ],
          [
           "CLOUT CHASER"
          ],
          [
           "Club Can't Handle Me (feat. David Guetta)"
          ],
          [
           "Cold Skin - MitiS Remix"
          ],
          [
           "Collard Greens"
          ],
          [
           "Colorblind (feat. Dayseeker)"
          ],
          [
           "Come & Talk To Me"
          ],
          [
           "Come and See Me (feat. Drake)"
          ],
          [
           "Come Out and Play"
          ],
          [
           "Come Together - Remastered 2009"
          ],
          [
           "Consequences"
          ],
          [
           "Constellation"
          ],
          [
           "Corte Madera, CA"
          ],
          [
           "cough drops"
          ],
          [
           "Counting Stars"
          ],
          [
           "CPR"
          ],
          [
           "Crawl Outta Love"
          ],
          [
           "Crazy Times"
          ],
          [
           "Criminals"
          ],
          [
           "Crown Of Thorns"
          ],
          [
           "Cruel Summer"
          ],
          [
           "Crunk Ain't Dead"
          ],
          [
           "Crusade"
          ],
          [
           "Crushes"
          ],
          [
           "Cry (with John Martin)"
          ],
          [
           "cry."
          ],
          [
           "curious/furious"
          ],
          [
           "Cutting Shapes"
          ],
          [
           "D (Half Moon)"
          ],
          [
           "Daisies"
          ],
          [
           "Damage"
          ],
          [
           "Dance Monkey"
          ],
          [
           "Dance No More (with Kaleena Zanders)"
          ],
          [
           "Danger Days"
          ],
          [
           "Dangerous (feat. Jeremih and PnB Rock)"
          ],
          [
           "Dangerous Woman"
          ],
          [
           "Dani California"
          ],
          [
           "Danza Kuduro - Tiësto Remix"
          ],
          [
           "Dark Horse"
          ],
          [
           "Dark Knight Dummo (feat. Travis Scott)"
          ],
          [
           "Darl+ing"
          ],
          [
           "dashstar* - VIP"
          ],
          [
           "Day That I Died"
          ],
          [
           "Daylight"
          ],
          [
           "DAYLIGHT"
          ],
          [
           "DEAD MAN WALKING"
          ],
          [
           "Dead or Alive"
          ],
          [
           "DEATHMATCH"
          ],
          [
           "Debut"
          ],
          [
           "Decimate"
          ],
          [
           "Deep"
          ],
          [
           "Deep Blue"
          ],
          [
           "Deep Down Low"
          ],
          [
           "Delilah (pull me out of this)"
          ],
          [
           "Demisaur"
          ],
          [
           "Demons"
          ],
          [
           "demons"
          ],
          [
           "Despacito - Remix"
          ],
          [
           "Destination"
          ],
          [
           "Detroit Rock City"
          ],
          [
           "Diamond (with Gloria Kim)"
          ],
          [
           "Diamonds (feat. Micky Blue)"
          ],
          [
           "Diamonds"
          ],
          [
           "Die For You - Dabin Remix"
          ],
          [
           "Die For You"
          ],
          [
           "Die With A Smile"
          ],
          [
           "Dimension"
          ],
          [
           "Distance"
          ],
          [
           "Distance - Volac Remix"
          ],
          [
           "Ditto"
          ],
          [
           "DO IT"
          ],
          [
           "Do It Like That"
          ],
          [
           "Do It To It - Tiësto Remix"
          ],
          [
           "Do Not Disturb"
          ],
          [
           "Do or Die"
          ],
          [
           "do u really?"
          ],
          [
           "Do You Like Bass?"
          ],
          [
           "Does She"
          ],
          [
           "Doja"
          ],
          [
           "DOMINATION"
          ],
          [
           "Don't"
          ],
          [
           "Don't Cry (Original)"
          ],
          [
           "Don't Let Me Down (feat. Daya) - Illenium Remix"
          ],
          [
           "Don't Let Me Down"
          ],
          [
           "Don't Look Down"
          ],
          [
           "Don't Run"
          ],
          [
           "Don't Stop"
          ],
          [
           "Don't Stop The Music"
          ],
          [
           "Don't Sweat The Technique"
          ],
          [
           "Don't Wanna Fall"
          ],
          [
           "Don't Wanna Know"
          ],
          [
           "Done With Love"
          ],
          [
           "Don’t Leave"
          ],
          [
           "Don’t Let Me Let Go (with ILLENIUM & EVAN GIIA)"
          ],
          [
           "Don’t Wake Me Up"
          ],
          [
           "Dopamine"
          ],
          [
           "DOPE"
          ],
          [
           "Dope Lovers"
          ],
          [
           "Double Life - From \"Despicable Me 4\""
          ],
          [
           "double take"
          ],
          [
           "Down Below"
          ],
          [
           "Drag Me Down"
          ],
          [
           "Dream"
          ],
          [
           "Dreams, Fairytales, Fantasies (feat. Brent Faiyaz & Salaam Remi)"
          ],
          [
           "Drift"
          ],
          [
           "Drifting"
          ],
          [
           "DROP IT"
          ],
          [
           "Drown (Effin Remix)"
          ],
          [
           "Drown"
          ],
          [
           "Drown the Sky"
          ],
          [
           "Drowning (feat. Kodak Black)"
          ],
          [
           "Drugs"
          ],
          [
           "Drugs From Amsterdam"
          ],
          [
           "drunk"
          ],
          [
           "DUCKWORTH."
          ],
          [
           "Dynamite"
          ],
          [
           "Dynamite"
          ],
          [
           "Dynamite"
          ],
          [
           "E.T."
          ],
          [
           "Each Other"
          ],
          [
           "Earth, Wind & Fire (English Ver.)"
          ],
          [
           "Eastside (with Halsey & Khalid)"
          ],
          [
           "Easy"
          ],
          [
           "Eat Your Man (with Nelly Furtado)"
          ],
          [
           "Edge"
          ],
          [
           "Edge of Seventeen"
          ],
          [
           "Eenie Meenie"
          ],
          [
           "Electricity"
          ],
          [
           "Elements Of A New Life"
          ],
          [
           "Enchanted (Taylor's Version)"
          ],
          [
           "Encore"
          ],
          [
           "End Of The World"
          ],
          [
           "End of Time"
          ],
          [
           "Enough"
          ],
          [
           "Entertainer"
          ],
          [
           "Envy Me"
          ],
          [
           "Enzo (with Sheck Wes, feat. Offset, 21 Savage & Gucci Mane) - Malaa Remix"
          ],
          [
           "Erase You"
          ],
          [
           "escape"
          ],
          [
           "Escape - John Summit Remix"
          ],
          [
           "Espresso"
          ],
          [
           "ETA"
          ],
          [
           "eternal sunshine"
          ],
          [
           "Even Flow"
          ],
          [
           "Everlong"
          ],
          [
           "Every Step"
          ],
          [
           "Every Summertime"
          ],
          [
           "Everybody Feels (feat. Zack Gray)"
          ],
          [
           "Everything You Have Done"
          ],
          [
           "Everytime"
          ],
          [
           "Everytime We Touch"
          ],
          [
           "Evolution"
          ],
          [
           "Exchange"
          ],
          [
           "Exile"
          ],
          [
           "eyes of live"
          ],
          [
           "F.N"
          ],
          [
           "faded"
          ],
          [
           "Faded - ODESZA Remix"
          ],
          [
           "Fading Out"
          ],
          [
           "Fair Trade (with Travis Scott)"
          ],
          [
           "fairy"
          ],
          [
           "fairy godmother"
          ],
          [
           "Faith"
          ],
          [
           "FAKE LOVE"
          ],
          [
           "Fall In Love Again"
          ],
          [
           "Fallen (feat. Desiree Dawson) (WILLIAM BLACK Remix)"
          ],
          [
           "Fallin' All In You"
          ],
          [
           "Falling Apart"
          ],
          [
           "Falling In Love"
          ],
          [
           "Fallin’ (Adrenaline) - AB6IX Remix"
          ],
          [
           "Falls (Reprise)"
          ],
          [
           "FANCY"
          ],
          [
           "Far Away (Feat. H:SEAN, SWRY) (Prod. Liam K)"
          ],
          [
           "Far Away"
          ],
          [
           "Farewell, Neverland"
          ],
          [
           "Fashion Killa"
          ],
          [
           "Favorite Mistake"
          ],
          [
           "Feedback"
          ],
          [
           "Feel It"
          ],
          [
           "Feel Like"
          ],
          [
           "Feel Something (With I Prevail)"
          ],
          [
           "Feel the POP"
          ],
          [
           "Feel The Volume"
          ],
          [
           "feel U luv Me"
          ],
          [
           "Feelin' Like"
          ],
          [
           "FEELING GUD"
          ],
          [
           "Feels (feat. Pharrell Williams, Katy Perry & Big Sean)"
          ],
          [
           "Feels Right (feat. RUNN)"
          ],
          [
           "Figure You Out"
          ],
          [
           "find your way"
          ],
          [
           "Fine Day Anthem"
          ],
          [
           "Finesse"
          ],
          [
           "Fire & Desire"
          ],
          [
           "Firework"
          ],
          [
           "First Time (feat. Dylan Matthew)"
          ],
          [
           "Flatline"
          ],
          [
           "Flatline - Reprise"
          ],
          [
           "Floating (feat. Khalid) [Ekali Remix]"
          ],
          [
           "Flocky Flocky (feat. Travis Scott)"
          ],
          [
           "Flowering"
          ],
          [
           "Fly Away"
          ],
          [
           "Fly Kicks - Wax Motif Remix"
          ],
          [
           "Fly Kicks - Wax Motif Remix"
          ],
          [
           "Followers"
          ],
          [
           "For What It's Worth"
          ],
          [
           "Forget It"
          ],
          [
           "Formula"
          ],
          [
           "Fortress"
          ],
          [
           "Fractures (feat. Nevve)"
          ],
          [
           "Frame of Mind"
          ],
          [
           "FRANCE FREESTYLE"
          ],
          [
           "Freak - VIP Remix Edit"
          ],
          [
           "FREAK"
          ],
          [
           "Freak Hoe"
          ],
          [
           "FREAK IN YOU"
          ],
          [
           "Free (with Ellie Goulding)"
          ],
          [
           "Free (with Ellie Goulding) - Joel Corry Remix"
          ],
          [
           "Free Fall (Kompany Remix)"
          ],
          [
           "Friends"
          ],
          [
           "Fuego"
          ],
          [
           "fukumean"
          ],
          [
           "Funny"
          ],
          [
           "Futsal Shuffle 2020 - Bonus Track"
          ],
          [
           "G Shit (Badklaat Remix)"
          ],
          [
           "Gang Over Luv"
          ],
          [
           "Gangsta Gangsta"
          ],
          [
           "Gasoline"
          ],
          [
           "Gaspar Yanga"
          ],
          [
           "Gassed Up"
          ],
          [
           "Gates Of Hell"
          ],
          [
           "Gece Terörü - VOLB3X Remix"
          ],
          [
           "Gecko (Overdrive) - Radio Edit"
          ],
          [
           "Geekin’"
          ],
          [
           "GERONIMO!"
          ],
          [
           "Get A Guitar (English Version)"
          ],
          [
           "Get Along Better"
          ],
          [
           "Get Away"
          ],
          [
           "Get U There"
          ],
          [
           "Getting Late (feat. Danni Carra)"
          ],
          [
           "GHOST"
          ],
          [
           "Ghost"
          ],
          [
           "Ghost Town"
          ],
          [
           "Gimme Shelter"
          ],
          [
           "Gimme Some Keys"
          ],
          [
           "Girl With The Tattoo Enter.lewd"
          ],
          [
           "Girls Need Love (with Drake) - Remix"
          ],
          [
           "Gist"
          ],
          [
           "Give It Away"
          ],
          [
           "Give It To Me - Full Vocal Mix"
          ],
          [
           "glhf<3"
          ],
          [
           "Go Down (feat. TisaKorean)"
          ],
          [
           "God Damnit (with Call Me Karizma)"
          ],
          [
           "God is a woman"
          ],
          [
           "GODS"
          ],
          [
           "Godspell (feat. Taiki Nulight)"
          ],
          [
           "Godzilla"
          ],
          [
           "Going"
          ],
          [
           "Going Nowhere"
          ],
          [
           "Gold (Stupid Love)"
          ],
          [
           "Gone"
          ],
          [
           "Good Care"
          ],
          [
           "Good Days"
          ],
          [
           "Good Girls"
          ],
          [
           "Good Riddance (Time of Your Life)"
          ],
          [
           "Good Things Fall Apart (with Jon Bellion)"
          ],
          [
           "Good Things Fall Apart vs. Sad Songs (With Said The Sky feat. Annika Wells)"
          ],
          [
           "Goodbye To A World"
          ],
          [
           "Goodies"
          ],
          [
           "Goosebumps"
          ],
          [
           "Gore On The Dancefloor"
          ],
          [
           "Gorgeous (with Blanke & Bipolar Sunshine)"
          ],
          [
           "Green Tea & Honey"
          ],
          [
           "Grime Rate"
          ],
          [
           "Griztronics"
          ],
          [
           "Guap"
          ],
          [
           "guidance"
          ],
          [
           "gun smoke"
          ],
          [
           "Hallucinogen"
          ],
          [
           "Happier"
          ],
          [
           "Happily Ever After"
          ],
          [
           "Happy Fools (feat. Coi Leray)"
          ],
          [
           "Happy Where We Are"
          ],
          [
           "HARD KNOCK LULLABY"
          ],
          [
           "Hard To Say Goodbye (feat. Chloe Angelides)"
          ],
          [
           "Head & Heart (feat. MNEK) - Tiësto Remix"
          ],
          [
           "HEAD OVER HEELS"
          ],
          [
           "HEADSPACE"
          ],
          [
           "Heal Me - Biscits Remix"
          ],
          [
           "Heart"
          ],
          [
           "Heart of Stone (feat. Nevve)"
          ],
          [
           "Heart-Shaped Box"
          ],
          [
           "Hearts on Fire"
          ],
          [
           "Heat Waves"
          ],
          [
           "Hell on Earth"
          ],
          [
           "Hello, Goodbye (feat. Heather Sommer)"
          ],
          [
           "Her Way"
          ],
          [
           "Hey, Soul Sister"
          ],
          [
           "High Hopes"
          ],
          [
           "Highway to Heaven - English Version"
          ],
          [
           "Hitta (feat. Juicy J)"
          ],
          [
           "Hola"
          ],
          [
           "hold me, never let go"
          ],
          [
           "Hold On (feat. Cheat Codes) - 2020 Edit"
          ],
          [
           "Hold On (with Georgia Ku)"
          ],
          [
           "Hold Onto Your Love"
          ],
          [
           "Holding On (Rome In Silver Remix)"
          ],
          [
           "Holding On (yetep Remix)"
          ],
          [
           "Holding On"
          ],
          [
           "Holiday / Boulevard of Broken Dreams"
          ],
          [
           "Holiday"
          ],
          [
           "Home"
          ],
          [
           "Home - Spag Heddy Remix"
          ],
          [
           "Honest"
          ],
          [
           "Honesty"
          ],
          [
           "Honey"
          ],
          [
           "Honey!"
          ],
          [
           "Hoodie (feat. BSlime & Lil Gotit)"
          ],
          [
           "HOP OUT THE VAN"
          ],
          [
           "Horizon"
          ],
          [
           "Hot N Cold"
          ],
          [
           "House of Gold"
          ],
          [
           "How Sweet"
          ],
          [
           "how2fly"
          ],
          [
           "Human (feat. Echoes)"
          ],
          [
           "Hundred"
          ],
          [
           "Hurricane"
          ],
          [
           "Hurt"
          ],
          [
           "Hurting Too"
          ],
          [
           "Hurts Like This"
          ],
          [
           "Hush"
          ],
          [
           "HVN ON EARTH (with Kodak Black)"
          ],
          [
           "Hype Boy"
          ],
          [
           "Hypnocurrency"
          ],
          [
           "I Admit It (feat. 24kGoldn)"
          ],
          [
           "I Can't Escape - MUST DIE! Remix"
          ],
          [
           "I Don't Care (with Justin Bieber)"
          ],
          [
           "I Gotta Feeling"
          ],
          [
           "I Hate Everything About You"
          ],
          [
           "I Hate Myself for Loving You"
          ],
          [
           "I Hope"
          ],
          [
           "I Kissed A Girl"
          ],
          [
           "I Knew You Were Trouble (Taylor's Version)"
          ],
          [
           "I KNOW ?"
          ],
          [
           "I Know"
          ],
          [
           "I Know"
          ],
          [
           "I Like Me Better"
          ],
          [
           "I Love It"
          ],
          [
           "I Love You."
          ],
          [
           "I Need Your Love (feat. Ellie Goulding)"
          ],
          [
           "i swear i'll never leave again"
          ],
          [
           "I Took A Pill In Ibiza - Seeb Remix"
          ],
          [
           "I Wanna Know"
          ],
          [
           "I WARE HOUSE"
          ],
          [
           "I Was Made For Lovin' You (feat. Nile Rodgers & House Gospel Choir)"
          ],
          [
           "I Write Sins Not Tragedies"
          ],
          [
           "I'll Go"
          ],
          [
           "I'm Dreaming"
          ],
          [
           "I'm Fine"
          ],
          [
           "I'm Not Sorry"
          ],
          [
           "i'm so tired..."
          ],
          [
           "I'm Yours"
          ],
          [
           "I.Crawl"
          ],
          [
           "IDGAF (feat. Yeat)"
          ],
          [
           "Idontwannaknowyou!"
          ],
          [
           "If I Ain't Got You"
          ],
          [
           "If I Can't Have You"
          ],
          [
           "If I'm Wrong"
          ],
          [
           "If It Isn't You"
          ],
          [
           "if it's not you"
          ],
          [
           "If Only (Mega Collab)"
          ],
          [
           "If You Let Me"
          ],
          [
           "Immigrant Song - Remaster"
          ],
          [
           "imperfect for you"
          ],
          [
           "Impossible"
          ],
          [
           "In My Blood"
          ],
          [
           "In My Mind"
          ],
          [
           "In The Air Tonight - 2015 Remastered"
          ],
          [
           "In The Bible (with Lil Durk & Giveon)"
          ],
          [
           "In The Yuma (feat. Aatig)"
          ],
          [
           "In Your Arms (with X Ambassadors)"
          ],
          [
           "Infected"
          ],
          [
           "Infinite"
          ],
          [
           "International Love (feat. Chris Brown)"
          ],
          [
           "Interstate Love Song - 2019 Remaster"
          ],
          [
           "Into You (feat. Karra)"
          ],
          [
           "Into You"
          ],
          [
           "Invisible (feat. ROSIE)"
          ],
          [
           "IRATE (Freestyle)"
          ],
          [
           "Is You Down"
          ],
          [
           "Island (feat. Nevve)"
          ],
          [
           "It Won't Kill Ya"
          ],
          [
           "It's All on U (T-Mass & LZRD Remix)"
          ],
          [
           "It's Alright"
          ],
          [
           "It's gotta be you"
          ],
          [
           "IT'S NOT THAT SERIOUS"
          ],
          [
           "IT'S YOU (feat. keshi)"
          ],
          [
           "It's You (Feat. ZICO)"
          ],
          [
           "Jam & Butterfly"
          ],
          [
           "Jasmine"
          ],
          [
           "Jesus of Suburbia"
          ],
          [
           "Johnny Dang (with Paul Wall & DRODi)"
          ],
          [
           "Jungle"
          ],
          [
           "jupiter"
          ],
          [
           "JUS NOT THAT"
          ],
          [
           "just a boy"
          ],
          [
           "Just For A Moment (feat. Iselin)"
          ],
          [
           "Just Like You"
          ],
          [
           "Just Might (with PARTYNEXTDOOR)"
          ],
          [
           "Just the Way You Are"
          ],
          [
           "Just Wanna Rock"
          ],
          [
           "KAMIKAZE"
          ],
          [
           "Kamikaze"
          ],
          [
           "KARMA"
          ],
          [
           "Keep You"
          ],
          [
           "Kickstart My Heart"
          ],
          [
           "Kill Bill"
          ],
          [
           "Kill Me With Your Love"
          ],
          [
           "Killin' Me Good (English Ver.)"
          ],
          [
           "Kiss Kiss (feat. T-Pain)"
          ],
          [
           "KISS ME"
          ],
          [
           "Kiss Me Thru The Phone"
          ],
          [
           "Knife Talk (with 21 Savage ft. Project Pat)"
          ],
          [
           "Know Me (Feat. DEAN)"
          ],
          [
           "Kryptonite"
          ],
          [
           "Kung Fu"
          ],
          [
           "La Danza"
          ],
          [
           "la trains"
          ],
          [
           "Lambo - RUVLO Remix"
          ],
          [
           "Last Chance"
          ],
          [
           "Last Friday Night (T.G.I.F.)"
          ],
          [
           "Last Nite"
          ],
          [
           "Last Of Me - Arknights Soundtrack"
          ],
          [
           "late at night"
          ],
          [
           "Late Night"
          ],
          [
           "Lay It Down"
          ],
          [
           "Lean"
          ],
          [
           "Learn to Fly"
          ],
          [
           "Left and Right (Feat. Jung Kook of BTS)"
          ],
          [
           "Lego House"
          ],
          [
           "Lemon (feat. Drake) - Drake Remix"
          ],
          [
           "Let It Die"
          ],
          [
           "Let Light Out (feat. Sunnie Williams)"
          ],
          [
           "Let Me Love You"
          ],
          [
           "Let Me Love You - DAZZ Remix"
          ],
          [
           "Let Me Love You - R3hab Remix"
          ],
          [
           "letstalkaboutit"
          ],
          [
           "Levitating (feat. DaBaby)"
          ],
          [
           "Life Goes On"
          ],
          [
           "Lifeline"
          ],
          [
           "lift me from the ground"
          ],
          [
           "Light It Up"
          ],
          [
           "Lights"
          ],
          [
           "Lights Down Low"
          ],
          [
           "Lights Out"
          ],
          [
           "Like A Fool"
          ],
          [
           "Like a Stone"
          ],
          [
           "Like Gold"
          ],
          [
           "like i need u"
          ],
          [
           "Like I Want You"
          ],
          [
           "Like Me"
          ],
          [
           "LIMBO"
          ],
          [
           "LMLY"
          ],
          [
           "Location"
          ],
          [
           "Lockdown"
          ],
          [
           "Locked out of Heaven"
          ],
          [
           "Lonely (with Chandler Leighton)"
          ],
          [
           "Long Way Home"
          ],
          [
           "Look At My"
          ],
          [
           "LOOK SO PRETTY"
          ],
          [
           "Lord Pretty Flacko Jodye 2 (LPFJ2)"
          ],
          [
           "Lose My Mind"
          ],
          [
           "Losing Control"
          ],
          [
           "Lost"
          ],
          [
           "Lost In Japan"
          ],
          [
           "LOT OF ME"
          ],
          [
           "LOVE"
          ],
          [
           "Love Again (feat. WAVZ)"
          ],
          [
           "Love Galore (feat. Travis Scott)"
          ],
          [
           "Love in This Club, Pt. II (feat. Beyoncé & Lil' Wayne)"
          ],
          [
           "Love Is Gone - R3HAB Remix"
          ],
          [
           "Love Is Gone"
          ],
          [
           "Love Is Gone - Synymata Remix"
          ],
          [
           "Love Me"
          ],
          [
           "Love Me Harder"
          ],
          [
           "Love Me Like That"
          ],
          [
           "Love Me Like You Do"
          ],
          [
           "Love Somebody"
          ],
          [
           "Love Story (Taylor’s Version)"
          ],
          [
           "Love Yourself"
          ],
          [
           "Lovers In A Past Life (with Rag'n'Bone Man)"
          ],
          [
           "Lovers In The Night"
          ],
          [
           "Lovin On Me"
          ],
          [
           "Lovin' Every Minute"
          ],
          [
           "Low (feat. T-Pain)"
          ],
          [
           "Loyal (feat. Lil Wayne & Tyga)"
          ],
          [
           "LUNCH"
          ],
          [
           "Lune - Manila Killa Remix"
          ],
          [
           "Lying To You"
          ],
          [
           "MADE UP YOUR MIND"
          ],
          [
           "Magic"
          ],
          [
           "Magnolia"
          ],
          [
           "Make It Happen - Dom Dolla Remix"
          ],
          [
           "Make Me Feel"
          ],
          [
           "Make Up (Feat. Crush)"
          ],
          [
           "Malibu (feat. Polo G)"
          ],
          [
           "Malice"
          ],
          [
           "Mama's Glizzy"
          ],
          [
           "Marvins Room"
          ],
          [
           "Master of Puppets (Remastered)"
          ],
          [
           "May I Ask"
          ],
          [
           "ME! (feat. Brendon Urie of Panic! At The Disco)"
          ],
          [
           "Mean It"
          ],
          [
           "Memories"
          ],
          [
           "Memories Of You"
          ],
          [
           "Memory"
          ],
          [
           "Menace"
          ],
          [
           "Mercy"
          ],
          [
           "Message In A Bottle"
          ],
          [
           "MIDDLE CHILD"
          ],
          [
           "Midnight Cowboy"
          ],
          [
           "Millions"
          ],
          [
           "Miracle (with Ellie Goulding) - Mau P Remix"
          ],
          [
           "Miracle Maker"
          ],
          [
           "Mirror"
          ],
          [
           "Mirrors"
          ],
          [
           "MISS HOLLYWOOD"
          ],
          [
           "Miss You"
          ],
          [
           "Missed call (Feat. Chancellor)"
          ],
          [
           "Missing You (feat. AC Slater & Kaleem Taylor)"
          ],
          [
           "Mistakes"
          ],
          [
           "Mo Bamba"
          ],
          [
           "Molly"
          ],
          [
           "Moments"
          ],
          [
           "Money In The Grave (Drake ft. Rick Ross)"
          ],
          [
           "Money Longer"
          ],
          [
           "Monkey Wrench"
          ],
          [
           "MONTA"
          ],
          [
           "Moon (And It Went Like)"
          ],
          [
           "Moon Rider (feat. Wrabel)"
          ],
          [
           "MOONLIGHT SUNRISE"
          ],
          [
           "Moonlit Floor (Kiss Me)"
          ],
          [
           "More Baby"
          ],
          [
           "More Than a Feeling"
          ],
          [
           "Mother Tongue (Live Performance) [Alex Kade Edit]"
          ],
          [
           "Moves Like Jagger - Studio Recording From \"The Voice\" Performance"
          ],
          [
           "Movies"
          ],
          [
           "Moving Slower"
          ],
          [
           "Mr. Blue Sky"
          ],
          [
           "Mr. Brightside"
          ],
          [
           "Mula"
          ],
          [
           "MURDER"
          ],
          [
           "My Ceiling Disappeared"
          ],
          [
           "My City (feat. Katy Tiz)"
          ],
          [
           "MY EYES"
          ],
          [
           "My Hero"
          ],
          [
           "My House"
          ],
          [
           "My Humps"
          ],
          [
           "My Luv (feat. Bibi Bourelly)"
          ],
          [
           "My Place (feat. Reece)"
          ],
          [
           "My Shit"
          ],
          [
           "N 2 Deep"
          ],
          [
           "Nakamura"
          ],
          [
           "Nasty"
          ],
          [
           "Nephew (feat. Lil Pump)"
          ],
          [
           "Never Came Through"
          ],
          [
           "Never Gets You Back"
          ],
          [
           "New Blood (with Boy Matthews)"
          ],
          [
           "New Blood (with Boy Matthews) - Myon Summer Of Love Mix"
          ],
          [
           "New Blood (with Boy Matthews) - Riot Ten Remix"
          ],
          [
           "New Gold (feat. Tame Impala and Bootie Brown) - Dom Dolla Remix"
          ],
          [
           "next door (feat. ASTN)"
          ],
          [
           "Next Level"
          ],
          [
           "Nice & Slow - Ryan James Carr Remake"
          ],
          [
           "Nice Guy (English Ver.)"
          ],
          [
           "Nightlight"
          ],
          [
           "No Blueberries"
          ],
          [
           "No Diggity"
          ],
          [
           "No One"
          ],
          [
           "No One Knows"
          ],
          [
           "No Pole"
          ],
          [
           "NO PROBLEM (Feat. Felix of Stray Kids)"
          ],
          [
           "No Silhouette"
          ],
          [
           "No Son Of Mine"
          ],
          [
           "no tears left to cry"
          ],
          [
           "Nobody Compares To You (feat. Katie Pearlman)"
          ],
          [
           "Nobody Gets Me"
          ],
          [
           "Nonstop"
          ],
          [
           "Normal Girl"
          ],
          [
           "North Face"
          ],
          [
           "Not Like Us"
          ],
          [
           "Nothing Left (feat. RUNN)"
          ],
          [
           "Nothing's Left"
          ],
          [
           "Notorious"
          ],
          [
           "Notorious"
          ],
          [
           "Number 1"
          ],
          [
           "NVMD"
          ],
          [
           "Oakland Pt. 2"
          ],
          [
           "Oceans & Galaxies"
          ],
          [
           "Oceans"
          ],
          [
           "OH GIRL"
          ],
          [
           "Oh my god - English Version"
          ],
          [
           "Oh, the Moon!"
          ],
          [
           "OK Not To Be OK - Duke & Jones Remix"
          ],
          [
           "OMG"
          ],
          [
           "ON FIRE"
          ],
          [
           "On My Mind"
          ],
          [
           "On My Mind - Radio Edit"
          ],
          [
           "On My Own"
          ],
          [
           "Once Again"
          ],
          [
           "One Kiss (with Dua Lipa)"
          ],
          [
           "One Last Time"
          ],
          [
           "One More Day"
          ],
          [
           "One More Night"
          ],
          [
           "One Night Only"
          ],
          [
           "One That Got Away (with Dylan Matthew)"
          ],
          [
           "One Way Or Another - Remastered 2001"
          ],
          [
           "Only Now (feat. Tyler Graves)"
          ],
          [
           "onoffonoff"
          ],
          [
           "Oops!...I Did It Again"
          ],
          [
           "Open Arms (feat. Travis Scott)"
          ],
          [
           "Opps On Fire"
          ],
          [
           "options"
          ],
          [
           "ORANGE SODA"
          ],
          [
           "Orpheus"
          ],
          [
           "Our Fire"
          ],
          [
           "Out Of Love (feat. Internet Money)"
          ],
          [
           "OUT WEST (feat. Young Thug)"
          ],
          [
           "Outta Here"
          ],
          [
           "Over"
          ],
          [
           "Over Getting Over You"
          ],
          [
           "Over You (feat. Lena Leon)"
          ],
          [
           "Overkill"
          ],
          [
           "Oxygen"
          ],
          [
           "p angels"
          ],
          [
           "Paper Cuts (feat. New Vaticans)"
          ],
          [
           "Parachute"
          ],
          [
           "Paris in the Rain"
          ],
          [
           "Part-Time Lover"
          ],
          [
           "Party Girl"
          ],
          [
           "Party In The U.S.A."
          ],
          [
           "Party Rock Anthem"
          ],
          [
           "Payphone"
          ],
          [
           "Peace - Kaivon Remix"
          ],
          [
           "Pegasus"
          ],
          [
           "Perfect"
          ],
          [
           "Perfect Night"
          ],
          [
           "Petals from a Rose"
          ],
          [
           "Phase Me"
          ],
          [
           "Phoenix (Blanke Remix)"
          ],
          [
           "PHONKY TOWN"
          ],
          [
           "Photograph"
          ],
          [
           "Piece Of Me (with LOVA)"
          ],
          [
           "Pink cheeks"
          ],
          [
           "Pink Friday Girls"
          ],
          [
           "Pins & Needles - Xan Griffin Remix"
          ],
          [
           "Play Pretend"
          ],
          [
           "Playing Games (with Bryson Tiller) - Extended Version"
          ],
          [
           "Please Please Please"
          ],
          [
           "Plug Walk"
          ],
          [
           "Poison (With Paris Shadows)"
          ],
          [
           "Poison"
          ],
          [
           "Pokemon Ü"
          ],
          [
           "Poker Face"
          ],
          [
           "Porsches In The Rain"
          ],
          [
           "positions"
          ],
          [
           "Potions"
          ],
          [
           "Pour It Up"
          ],
          [
           "pov"
          ],
          [
           "POV"
          ],
          [
           "Power"
          ],
          [
           "Practice"
          ],
          [
           "Pray (feat. Kameron) [Blanke Remix]"
          ],
          [
           "Prayer Of The Refugee"
          ],
          [
           "Pretty Fly (For A White Guy)"
          ],
          [
           "Privileged Rappers"
          ],
          [
           "Problem"
          ],
          [
           "PROJECT - 2021"
          ],
          [
           "Psy Ops"
          ],
          [
           "Psyclone"
          ],
          [
           "Pull Up (feat. NAV)"
          ],
          [
           "Pump It Louder"
          ],
          [
           "Pure Water (with Migos)"
          ],
          [
           "Push To Start (feat. No/Me)"
          ],
          [
           "Put Yo Hands Up"
          ],
          [
           "PYRO"
          ],
          [
           "Queen of Hearts"
          ],
          [
           "Quit (feat. Ariana Grande)"
          ],
          [
           "Rail Breaker (feat. Rico Act)"
          ],
          [
           "Rain On Me (with Ariana Grande)"
          ],
          [
           "Ransom"
          ],
          [
           "Raver"
          ],
          [
           "Ray Of Solar"
          ],
          [
           "Red"
          ],
          [
           "red sky"
          ],
          [
           "REDLIGHT - Holy Goof Remix"
          ],
          [
           "Rehab (Winter In Paris)"
          ],
          [
           "Remember (feat. Stevie Appleton)"
          ],
          [
           "reminders"
          ],
          [
           "Replace You"
          ],
          [
           "REPLAY (with Shiah Maisel)"
          ],
          [
           "Returning To You (feat. Alison May) - Kill The Noise Remix"
          ],
          [
           "Returning To You (feat. Alison May) - Kill The Noise Remix"
          ],
          [
           "Revolt"
          ],
          [
           "Revolution Radio"
          ],
          [
           "Ric Flair Drip (with Metro Boomin)"
          ],
          [
           "Rich Baby Daddy (feat. Sexyy Red & SZA)"
          ],
          [
           "Rich Nigga Shit (feat. Young Thug)"
          ],
          [
           "Ride It"
          ],
          [
           "Riders on the Storm"
          ],
          [
           "Right Here Right Now (Feat. LOCO & JAY PARK)"
          ],
          [
           "Right My Wrongs"
          ],
          [
           "Riptide"
          ],
          [
           "Rise Up (feat. Vamero)"
          ],
          [
           "Roar"
          ],
          [
           "Rock Ur World"
          ],
          [
           "Rock You Like A Hurricane"
          ],
          [
           "Rock Your Body"
          ],
          [
           "Rockabye (feat. Sean Paul & Anne-Marie)"
          ],
          [
           "Rocket Man (I Think It's Going To Be A Long, Long Time)"
          ],
          [
           "Rockstar"
          ],
          [
           "Rolex"
          ],
          [
           "Rose"
          ],
          [
           "Roses"
          ],
          [
           "Rubbin off the Paint"
          ],
          [
           "Rude Boy"
          ],
          [
           "Run - Acoustic"
          ],
          [
           "Run"
          ],
          [
           "Run Free (Countdown)"
          ],
          [
           "Running Away"
          ],
          [
           "Running To You"
          ],
          [
           "Rush Over Me"
          ],
          [
           "S&M"
          ],
          [
           "SAD"
          ],
          [
           "Sad Boy (feat. Ava Max & Kylie Cantrall) - Club Remix"
          ],
          [
           "Sad B*tch"
          ],
          [
           "Sad Machine"
          ],
          [
           "SAD SONG (English Version)"
          ],
          [
           "Sad Songs (with Said The Sky & Annika Wells)"
          ],
          [
           "Sail Away (feat. Jay Mason)"
          ],
          [
           "Saint Cecilia"
          ],
          [
           "Salvation"
          ],
          [
           "San Frandisco"
          ],
          [
           "Sativa"
          ],
          [
           "Saturn"
          ],
          [
           "Save Me"
          ],
          [
           "Save Me From Myself"
          ],
          [
           "Save Your Tears (with Ariana Grande) (Remix)"
          ],
          [
           "Saving Up"
          ],
          [
           "Say"
          ],
          [
           "Say Hello - AVAO Radio Edit"
          ],
          [
           "Say It"
          ],
          [
           "Say Less - Eptic Remix"
          ],
          [
           "SAY MY GRACE (feat. Travis Scott)"
          ],
          [
           "Say My Name"
          ],
          [
           "Say You Won't Let Go"
          ],
          [
           "Scaredy Cat"
          ],
          [
           "Scars To Your Beautiful"
          ],
          [
           "Schönefeld"
          ],
          [
           "SECRETS"
          ],
          [
           "See In Color"
          ],
          [
           "See You Again"
          ],
          [
           "sentimental (feat. Swervy)"
          ],
          [
           "September - MENTIS Remix"
          ],
          [
           "Session 32"
          ],
          [
           "SET ME FREE (ENG)"
          ],
          [
           "Seven (feat. Latto)"
          ],
          [
           "Seven Nation Army"
          ],
          [
           "Sex on Fire"
          ],
          [
           "SexyBack (feat. Timbaland)"
          ],
          [
           "Señorita"
          ],
          [
           "Shadow of the Season"
          ],
          [
           "Shadows - Acoustic"
          ],
          [
           "Shadows"
          ],
          [
           "Shake It Off (Taylor's Version)"
          ],
          [
           "Shape of You"
          ],
          [
           "Shattered (feat. RUNN)"
          ],
          [
           "She Don't (feat. Ty Dolla $Ign)"
          ],
          [
           "Shelter"
          ],
          [
           "Shenanigans (feat. Yung Bans)"
          ],
          [
           "Shivering"
          ],
          [
           "Shoota (feat. Lil Uzi Vert)"
          ],
          [
           "SHOOTING STAR"
          ],
          [
           "Shotta Flow"
          ],
          [
           "Shouldn't Be"
          ],
          [
           "Show Me Love - EDX Remix / Radio Edit"
          ],
          [
           "Sick and Tired"
          ],
          [
           "Side Effects (feat. SATICA)"
          ],
          [
           "Side To Side"
          ],
          [
           "Sideways (feat. Valerie Broussard) - Laidback Luke Remix"
          ],
          [
           "Sideways"
          ],
          [
           "Silver Lining (feat. KARRA)"
          ],
          [
           "Since U Been Gone"
          ],
          [
           "SIRENS"
          ],
          [
           "SkeeYee"
          ],
          [
           "skeletons"
          ],
          [
           "Skinny Loser"
          ],
          [
           "Sleep Now In the Fire"
          ],
          [
           "Slew Dem"
          ],
          [
           "Slide (feat. Frank Ocean & Migos)"
          ],
          [
           "SLIDE FOR ME"
          ],
          [
           "Slither"
          ],
          [
           "Slow Motion"
          ],
          [
           "Slowly"
          ],
          [
           "SLUT ME OUT 2"
          ],
          [
           "SMACK TALK"
          ],
          [
           "Smack Up (Svdden Death Remix)"
          ],
          [
           "Smells Like Teen Spirit"
          ],
          [
           "Smooth Criminal"
          ],
          [
           "Snakes"
          ],
          [
           "Snooze"
          ],
          [
           "So Beautiful"
          ],
          [
           "So Far Away (feat. Jamie Scott & Romy Dya)"
          ],
          [
           "Sober"
          ],
          [
           "Soft Spot"
          ],
          [
           "SOMEBODY"
          ],
          [
           "Somebody To Love (feat. GLNNA)"
          ],
          [
           "Someone Else"
          ],
          [
           "Someone Else"
          ],
          [
           "Something Comforting"
          ],
          [
           "Something In The Way"
          ],
          [
           "Something Just Like This"
          ],
          [
           "Sorry"
          ],
          [
           "SouthSide - Yultron Remix"
          ],
          [
           "Souvenir"
          ],
          [
           "Spectrum (Say My Name) - Calvin Harris Remix"
          ],
          [
           "Spectrum"
          ],
          [
           "SPEED TRAP"
          ],
          [
           "Spin Again"
          ],
          [
           "Spiritual (Mriya) [feat. Brooke Tomlinson]"
          ],
          [
           "SPLAT"
          ],
          [
           "Spotless"
          ],
          [
           "Standing Next to You"
          ],
          [
           "Starbright"
          ],
          [
           "Starlight"
          ],
          [
           "Starships"
          ],
          [
           "Starships"
          ],
          [
           "Start Again (feat. Fiora)"
          ],
          [
           "Starting To"
          ],
          [
           "Statues"
          ],
          [
           "stay (with Lydia Ganada)"
          ],
          [
           "Stay"
          ],
          [
           "Stay Ready (What A Life)"
          ],
          [
           "Stereo Hearts (feat. Adam Levine)"
          ],
          [
           "Still Breathing"
          ],
          [
           "Stitches"
          ],
          [
           "Story Of My Life (feat. Sueco and Trippie Redd) - RIOT Remix"
          ],
          [
           "Stranger in the Dark"
          ],
          [
           "Strangers"
          ],
          [
           "Stressed Out"
          ],
          [
           "Strip That Down"
          ],
          [
           "Stuck On You"
          ],
          [
           "Stuck with U (with Justin Bieber)"
          ],
          [
           "Suffer (feat. Elle Vee)"
          ],
          [
           "Sugar"
          ],
          [
           "Sugarplum Elegy"
          ],
          [
           "Suge"
          ],
          [
           "Sum 2 Prove"
          ],
          [
           "Summer"
          ],
          [
           "summer"
          ],
          [
           "Summertime - Live"
          ],
          [
           "SUMO | ZUMO"
          ],
          [
           "Sun Comes Up On You (feat. Amidy)"
          ],
          [
           "Sun Is Dark"
          ],
          [
           "Super Freaky Girl"
          ],
          [
           "Super Shy"
          ],
          [
           "Superhero"
          ],
          [
           "Superhuman (Spag Heddy Remix) [feat. Eric Leva]"
          ],
          [
           "Surp On The Surp"
          ],
          [
           "Swallow My Pride"
          ],
          [
           "Swan"
          ],
          [
           "SWEAT"
          ],
          [
           "Sweater Weather"
          ],
          [
           "Sweet Child O' Mine"
          ],
          [
           "Sweet Disposition - John Summit & Silver Panda Remix"
          ],
          [
           "Sweet Dreams"
          ],
          [
           "Sweet Juice"
          ],
          [
           "sweet sweet"
          ],
          [
           "Sweet Venom (English Ver.)"
          ],
          [
           "Swervin (feat. 6ix9ine)"
          ],
          [
           "Swish Swish"
          ],
          [
           "Symphony (feat. Zara Larsson)"
          ],
          [
           "System Failure"
          ],
          [
           "Take Cover - Manila Killa Remix"
          ],
          [
           "Take Me - Not Your Dope Remix"
          ],
          [
           "Take Me Away"
          ],
          [
           "Take Me Out"
          ],
          [
           "Take Ya Head Off"
          ],
          [
           "Take You Down"
          ],
          [
           "Take You Down - Nurko Remix"
          ],
          [
           "Take Your Time (feat. Satellite Empire)"
          ],
          [
           "Talk talk featuring troye sivan"
          ],
          [
           "Taste"
          ],
          [
           "Tattooed Heart"
          ],
          [
           "Tattoos Together"
          ],
          [
           "TECHNO + TEQUILA (feat. Morgan Harvill)"
          ],
          [
           "Teenage Dream"
          ],
          [
           "TELL ME"
          ],
          [
           "Tell Me It's Over (feat. Summer Walker & 6LACK)"
          ],
          [
           "Tell Me Why - MEDUZA Remix"
          ],
          [
           "Temptation (feat. Poppy Baskcomb)"
          ],
          [
           "Texas"
          ],
          [
           "Texas Cyclone"
          ],
          [
           "Text Me"
          ],
          [
           "thank u, next"
          ],
          [
           "That Fiya"
          ],
          [
           "That's What I Like"
          ],
          [
           "That’s Why (with GOLDN)"
          ],
          [
           "The A Team"
          ],
          [
           "the boy is mine"
          ],
          [
           "The Boys Are Back In Town"
          ],
          [
           "The Business"
          ],
          [
           "The Calling"
          ],
          [
           "The Deep"
          ],
          [
           "The Diary of Jane - Single Version"
          ],
          [
           "The Girl"
          ],
          [
           "The Keeper"
          ],
          [
           "The Kill"
          ],
          [
           "The London (feat. J. Cole & Travis Scott)"
          ],
          [
           "The Man Who Sold The World - Live"
          ],
          [
           "The Motion"
          ],
          [
           "The Motto"
          ],
          [
           "The Music Began To Play"
          ],
          [
           "The Night Is Still Young"
          ],
          [
           "The Nights"
          ],
          [
           "The One - NGHTMRE Remix"
          ],
          [
           "The One That Got Away"
          ],
          [
           "The Only Way Is Up - Radio Edit"
          ],
          [
           "The Parade"
          ],
          [
           "The People - Dimatik Remix"
          ],
          [
           "The Pretender"
          ],
          [
           "The Race - Remix"
          ],
          [
           "The Thrill"
          ],
          [
           "The Universe Is Yours (feat. Micah Martin)"
          ],
          [
           "The Weekend"
          ],
          [
           "Then"
          ],
          [
           "There x2"
          ],
          [
           "There's No Way (feat. Julia Michaels)"
          ],
          [
           "There's Nothing Holdin' Me Back"
          ],
          [
           "Thicc Boi"
          ],
          [
           "THINK ABOUT YOU"
          ],
          [
           "Thinking out Loud"
          ],
          [
           "thirst"
          ],
          [
           "This City"
          ],
          [
           "This Is a Call"
          ],
          [
           "This Is Goodbye (feat. Azuria Sky)"
          ],
          [
           "This Is House"
          ],
          [
           "this is what forever feels like (with Nick Jonas)"
          ],
          [
           "Throwin' Elbows"
          ],
          [
           "TIL FURTHER NOTICE (feat. James Blake & 21 Savage)"
          ],
          [
           "Time Stood Still"
          ],
          [
           "Times Like These"
          ],
          [
           "Tiptoe"
          ],
          [
           "To Myself"
          ],
          [
           "TOES (feat. Lil Baby & Moneybagg Yo)"
          ],
          [
           "Tokyo"
          ],
          [
           "Too Good"
          ],
          [
           "Topanga"
          ],
          [
           "TORE UP"
          ],
          [
           "Touch & Go (Remix)"
          ],
          [
           "TOUCH"
          ],
          [
           "Touch Me - PAX & Rui Da Silva Version"
          ],
          [
           "Toxic"
          ],
          [
           "Traingazing"
          ],
          [
           "Traingazing"
          ],
          [
           "Transportin'"
          ],
          [
           "Treading Water"
          ],
          [
           "Treat You Better"
          ],
          [
           "Tripping Over Air"
          ],
          [
           "tsunAmi"
          ],
          [
           "Turks (with Gunna & ft. Travis Scott)"
          ],
          [
           "Turn Back Time"
          ],
          [
           "Turn off the Lights - Cages Remix"
          ],
          [
           "Turn off the Lights"
          ],
          [
           "Turn On The Lights again.. (feat. Future & Fred again..) - Anyma Remix"
          ],
          [
           "Twisted"
          ],
          [
           "Typical (feat. Lars Martin)"
          ],
          [
           "U GOT ME"
          ],
          [
           "U Say (feat. 6LACK)"
          ],
          [
           "Ultimate"
          ],
          [
           "Umbrella"
          ],
          [
           "Uncle M"
          ],
          [
           "Unconditionally"
          ],
          [
           "Under the Bridge"
          ],
          [
           "UNDERSTAND"
          ],
          [
           "Universally Speaking"
          ],
          [
           "universe"
          ],
          [
           "Untouchable - Extended Mix"
          ],
          [
           "Unz Unz"
          ],
          [
           "Up In Arms"
          ],
          [
           "Uprising"
          ],
          [
           "Upside Down"
          ],
          [
           "Uptown Funk (feat. Bruno Mars)"
          ],
          [
           "us"
          ],
          [
           "Us"
          ],
          [
           "Used to Me"
          ],
          [
           "VALENTINO"
          ],
          [
           "VALENTINO - Imanbek Remix"
          ],
          [
           "Vault"
          ],
          [
           "Versace on the Floor"
          ],
          [
           "VHS RAVE"
          ],
          [
           "VIBEZ"
          ],
          [
           "Villain"
          ],
          [
           "VIRUS - Odd Mob Remix"
          ],
          [
           "Visionaries (Remix)"
          ],
          [
           "Volcano Girls"
          ],
          [
           "Wait (feat. A Boogie Wit da Hoodie)"
          ],
          [
           "Wait"
          ],
          [
           "Wait Another Day"
          ],
          [
           "Wake Me Up"
          ],
          [
           "Wake Me Up"
          ],
          [
           "Wake Me up When September Ends"
          ],
          [
           "Wake Up - 12th Planet Remix"
          ],
          [
           "Wake Up"
          ],
          [
           "Walk"
          ],
          [
           "Walk This Way"
          ],
          [
           "Walk Thru Fire"
          ],
          [
           "Want to Want Me"
          ],
          [
           "Want You Bad"
          ],
          [
           "War Game"
          ],
          [
           "War With Heaven"
          ],
          [
           "warm - English Version"
          ],
          [
           "Wassup"
          ],
          [
           "Wasteland - Wooli Remix"
          ],
          [
           "Watch (feat. Lil Uzi Vert & Kanye West)"
          ],
          [
           "Watermelon Sugar"
          ],
          [
           "Way Out (feat. Big Sean)"
          ],
          [
           "We Are Never Ever Getting Back Together (Taylor's Version)"
          ],
          [
           "we can't be friends (wait for your love)"
          ],
          [
           "We Could Be Love"
          ],
          [
           "We Found Love"
          ],
          [
           "Welcome To The People"
          ],
          [
           "Welcome to the Playhouse"
          ],
          [
           "WET"
          ],
          [
           "What A Life (feat. Stevie Appleton)"
          ],
          [
           "What A Shame"
          ],
          [
           "What About You"
          ],
          [
           "What This Could Be"
          ],
          [
           "What You Heard"
          ],
          [
           "What You've Done To Me (feat. Bemendé)"
          ],
          [
           "What's My Name?"
          ],
          [
           "What's The Time Where You Are?"
          ],
          [
           "Whatever She Wants"
          ],
          [
           "What’s Done Is Done"
          ],
          [
           "When I Come Around"
          ],
          [
           "When I'm With You (feat. neverwaves)"
          ],
          [
           "When This Is Over"
          ],
          [
           "Where Ya At (feat. Drake)"
          ],
          [
           "Where You Want"
          ],
          [
           "Where'd U Go"
          ],
          [
           "wherever u r (ft. V of BTS)"
          ],
          [
           "While We're Young"
          ],
          [
           "Who"
          ],
          [
           "Who You Foolin"
          ],
          [
           "Whole Lotta Drugs"
          ],
          [
           "Whole Lotta Love - 1990 Remaster"
          ],
          [
           "Wicked Game"
          ],
          [
           "Wide Awake"
          ],
          [
           "Wild And Broken (feat. RBBTS)"
          ],
          [
           "Wild Ones"
          ],
          [
           "Wildest Dreams (Taylor's Version)"
          ],
          [
           "Without Me"
          ],
          [
           "Without You"
          ],
          [
           "Woah"
          ],
          [
           "Won't Get Fooled Again - Original Album Version"
          ],
          [
           "Work"
          ],
          [
           "Worth It"
          ],
          [
           "Written"
          ],
          [
           "wRoNg (feat. Kehlani)"
          ],
          [
           "Wus Good / Curious"
          ],
          [
           "XO (Only If You Say Yes) (English Ver.) Feat. JVKE"
          ],
          [
           "xoxosos"
          ],
          [
           "Yeah! (feat. Lil Jon & Ludacris)"
          ],
          [
           "yes, and?"
          ],
          [
           "You (feat. Travis Scott)"
          ],
          [
           "You"
          ],
          [
           "You And Me Now"
          ],
          [
           "You Belong With Me (Taylor’s Version)"
          ],
          [
           "you broke me first - Gryffin Remix"
          ],
          [
           "You Don't Even Know Me"
          ],
          [
           "You Know You Like It - Tchami Remix"
          ],
          [
           "You Need To Calm Down"
          ],
          [
           "You Really Got Me - 2015 Remaster"
          ],
          [
           "You've Done Enough"
          ],
          [
           "Young Dumb & Broke"
          ],
          [
           "Young Harleezy"
          ],
          [
           "Your Love (9PM)"
          ],
          [
           "Your Love"
          ],
          [
           "YSL (feat. Playboi Carti)"
          ],
          [
           "zombie pop"
          ],
          [
           "Zoom"
          ],
          [
           "_WORLD"
          ]
         ],
         "hovertemplate": "x=%{x}<br>y=%{y}<br>Song Name=%{customdata[0]}<br>color=%{marker.color}<extra></extra>",
         "legendgroup": "",
         "marker": {
          "color": [
           0,
           1,
           2,
           3,
           4,
           5,
           6,
           7,
           8,
           9,
           10,
           11,
           12,
           13,
           14,
           15,
           16,
           17,
           18,
           19,
           20,
           21,
           22,
           23,
           24,
           25,
           26,
           27,
           28,
           29,
           30,
           31,
           32,
           33,
           34,
           35,
           36,
           37,
           38,
           39,
           40,
           41,
           42,
           43,
           44,
           45,
           46,
           47,
           48,
           49,
           50,
           51,
           52,
           53,
           54,
           55,
           56,
           57,
           58,
           59,
           60,
           61,
           62,
           63,
           64,
           65,
           66,
           67,
           68,
           69,
           70,
           71,
           72,
           73,
           74,
           75,
           76,
           77,
           78,
           79,
           80,
           81,
           82,
           83,
           84,
           85,
           86,
           87,
           88,
           89,
           90,
           91,
           92,
           93,
           94,
           95,
           96,
           97,
           98,
           99,
           100,
           101,
           102,
           103,
           104,
           105,
           106,
           107,
           108,
           109,
           110,
           111,
           112,
           113,
           114,
           115,
           116,
           117,
           118,
           119,
           120,
           121,
           122,
           123,
           124,
           125,
           126,
           127,
           128,
           129,
           130,
           131,
           132,
           133,
           134,
           135,
           136,
           137,
           138,
           139,
           140,
           141,
           142,
           143,
           144,
           145,
           146,
           147,
           148,
           149,
           150,
           151,
           152,
           153,
           154,
           155,
           156,
           157,
           158,
           159,
           160,
           161,
           162,
           163,
           164,
           165,
           166,
           167,
           168,
           169,
           170,
           171,
           172,
           173,
           174,
           175,
           176,
           177,
           178,
           179,
           180,
           181,
           182,
           183,
           184,
           185,
           186,
           187,
           188,
           189,
           190,
           191,
           192,
           193,
           194,
           195,
           196,
           197,
           198,
           199,
           200,
           201,
           202,
           203,
           204,
           205,
           206,
           207,
           208,
           209,
           210,
           211,
           212,
           213,
           214,
           215,
           216,
           217,
           218,
           219,
           220,
           221,
           222,
           223,
           224,
           225,
           226,
           227,
           228,
           229,
           230,
           231,
           232,
           233,
           234,
           235,
           236,
           237,
           238,
           239,
           240,
           241,
           242,
           243,
           244,
           245,
           246,
           247,
           248,
           249,
           250,
           251,
           252,
           253,
           254,
           255,
           256,
           257,
           258,
           259,
           260,
           261,
           262,
           263,
           264,
           265,
           266,
           267,
           268,
           269,
           270,
           271,
           272,
           273,
           274,
           275,
           276,
           277,
           278,
           279,
           280,
           281,
           282,
           283,
           284,
           285,
           286,
           287,
           288,
           289,
           290,
           291,
           292,
           293,
           294,
           295,
           296,
           297,
           298,
           299,
           300,
           301,
           302,
           303,
           304,
           305,
           306,
           307,
           308,
           309,
           310,
           311,
           312,
           313,
           314,
           315,
           316,
           317,
           318,
           319,
           320,
           321,
           322,
           323,
           324,
           325,
           326,
           327,
           328,
           329,
           330,
           331,
           332,
           333,
           334,
           335,
           336,
           337,
           338,
           339,
           340,
           341,
           342,
           343,
           344,
           345,
           346,
           347,
           348,
           349,
           350,
           351,
           352,
           353,
           354,
           355,
           356,
           357,
           358,
           359,
           360,
           361,
           362,
           363,
           364,
           365,
           366,
           367,
           368,
           369,
           370,
           371,
           372,
           373,
           374,
           375,
           376,
           377,
           378,
           379,
           380,
           381,
           382,
           383,
           384,
           385,
           386,
           387,
           388,
           389,
           390,
           391,
           392,
           393,
           394,
           395,
           396,
           397,
           398,
           399,
           400,
           401,
           402,
           403,
           404,
           405,
           406,
           407,
           408,
           409,
           410,
           411,
           412,
           413,
           414,
           415,
           416,
           417,
           418,
           419,
           420,
           421,
           422,
           423,
           424,
           425,
           426,
           427,
           428,
           429,
           430,
           431,
           432,
           433,
           434,
           435,
           436,
           437,
           438,
           439,
           440,
           441,
           442,
           443,
           444,
           445,
           446,
           447,
           448,
           449,
           450,
           451,
           452,
           453,
           454,
           455,
           456,
           457,
           458,
           459,
           460,
           461,
           462,
           463,
           464,
           465,
           466,
           467,
           468,
           469,
           470,
           471,
           472,
           473,
           474,
           475,
           476,
           477,
           478,
           479,
           480,
           481,
           482,
           483,
           484,
           485,
           486,
           487,
           488,
           489,
           490,
           491,
           492,
           493,
           494,
           495,
           496,
           497,
           498,
           499,
           500,
           501,
           502,
           503,
           504,
           505,
           506,
           507,
           508,
           509,
           510,
           511,
           512,
           513,
           514,
           515,
           516,
           517,
           518,
           519,
           520,
           521,
           522,
           523,
           524,
           525,
           526,
           527,
           528,
           529,
           530,
           531,
           532,
           533,
           534,
           535,
           536,
           537,
           538,
           539,
           540,
           541,
           542,
           543,
           544,
           545,
           546,
           547,
           548,
           549,
           550,
           551,
           552,
           553,
           554,
           555,
           556,
           557,
           558,
           559,
           560,
           561,
           562,
           563,
           564,
           565,
           566,
           567,
           568,
           569,
           570,
           571,
           572,
           573,
           574,
           575,
           576,
           577,
           578,
           579,
           580,
           581,
           582,
           583,
           584,
           585,
           586,
           587,
           588,
           589,
           590,
           591,
           592,
           593,
           594,
           595,
           596,
           597,
           598,
           599,
           600,
           601,
           602,
           603,
           604,
           605,
           606,
           607,
           608,
           609,
           610,
           611,
           612,
           613,
           614,
           615,
           616,
           617,
           618,
           619,
           620,
           621,
           622,
           623,
           624,
           625,
           626,
           627,
           628,
           629,
           630,
           631,
           632,
           633,
           634,
           635,
           636,
           637,
           638,
           639,
           640,
           641,
           642,
           643,
           644,
           645,
           646,
           647,
           648,
           649,
           650,
           651,
           652,
           653,
           654,
           655,
           656,
           657,
           658,
           659,
           660,
           661,
           662,
           663,
           664,
           665,
           666,
           667,
           668,
           669,
           670,
           671,
           672,
           673,
           674,
           675,
           676,
           677,
           678,
           679,
           680,
           681,
           682,
           683,
           684,
           685,
           686,
           687,
           688,
           689,
           690,
           691,
           692,
           693,
           694,
           695,
           696,
           697,
           698,
           699,
           700,
           701,
           702,
           703,
           704,
           705,
           706,
           707,
           708,
           709,
           710,
           711,
           712,
           713,
           714,
           715,
           716,
           717,
           718,
           719,
           720,
           721,
           722,
           723,
           724,
           725,
           726,
           727,
           728,
           729,
           730,
           731,
           732,
           733,
           734,
           735,
           736,
           737,
           738,
           739,
           740,
           741,
           742,
           743,
           744,
           745,
           746,
           747,
           748,
           749,
           750,
           751,
           752,
           753,
           754,
           755,
           756,
           757,
           758,
           759,
           760,
           761,
           762,
           763,
           764,
           765,
           766,
           767,
           768,
           769,
           770,
           771,
           772,
           773,
           774,
           775,
           776,
           777,
           778,
           779,
           780,
           781,
           782,
           783,
           784,
           785,
           786,
           787,
           788,
           789,
           790,
           791,
           792,
           793,
           794,
           795,
           796,
           797,
           798,
           799,
           800,
           801,
           802,
           803,
           804,
           805,
           806,
           807,
           808,
           809,
           810,
           811,
           812,
           813,
           814,
           815,
           816,
           817,
           818,
           819,
           820,
           821,
           822,
           823,
           824,
           825,
           826,
           827,
           828,
           829,
           830,
           831,
           832,
           833,
           834,
           835,
           836,
           837,
           838,
           839,
           840,
           841,
           842,
           843,
           844,
           845,
           846,
           847,
           848,
           849,
           850,
           851,
           852,
           853,
           854,
           855,
           856,
           857,
           858,
           859,
           860,
           861,
           862,
           863,
           864,
           865,
           866,
           867,
           868,
           869,
           870,
           871,
           872,
           873,
           874,
           875,
           876,
           877,
           878,
           879,
           880,
           881,
           882,
           883,
           884,
           885,
           886,
           887,
           888,
           889,
           890,
           891,
           892,
           893,
           894,
           895,
           896,
           897,
           898,
           899,
           900,
           901,
           902,
           903,
           904,
           905,
           906,
           907,
           908,
           909,
           910,
           911,
           912,
           913,
           914,
           915,
           916,
           917,
           918,
           919,
           920,
           921,
           922,
           923,
           924,
           925,
           926,
           927,
           928,
           929,
           930,
           931,
           932,
           933,
           934,
           935,
           936,
           937,
           938,
           939,
           940,
           941,
           942,
           943,
           944,
           945,
           946,
           947,
           948,
           949,
           950,
           951,
           952,
           953,
           954,
           955,
           956,
           957,
           958,
           959,
           960,
           961,
           962,
           963,
           964,
           965,
           966,
           967,
           968,
           969,
           970,
           971,
           972,
           973,
           974,
           975,
           976,
           977,
           978,
           979,
           980,
           981,
           982,
           983,
           984,
           985,
           986,
           987,
           988,
           989,
           990,
           991,
           992,
           993,
           994,
           995,
           996,
           997,
           998,
           999,
           1000,
           1001,
           1002,
           1003,
           1004,
           1005,
           1006,
           1007,
           1008,
           1009,
           1010,
           1011,
           1012,
           1013,
           1014,
           1015,
           1016,
           1017,
           1018,
           1019,
           1020,
           1021,
           1022,
           1023,
           1024,
           1025,
           1026,
           1027,
           1028,
           1029,
           1030,
           1031,
           1032,
           1033,
           1034,
           1035,
           1036,
           1037,
           1038,
           1039,
           1040,
           1041,
           1042,
           1043,
           1044,
           1045,
           1046,
           1047,
           1048,
           1049,
           1050,
           1051,
           1052,
           1053,
           1054,
           1055,
           1056,
           1057,
           1058,
           1059,
           1060,
           1061,
           1062,
           1063,
           1064,
           1065,
           1066,
           1067,
           1068,
           1069,
           1070,
           1071,
           1072,
           1073,
           1074,
           1075,
           1076,
           1077,
           1078,
           1079,
           1080,
           1081,
           1082,
           1083,
           1084,
           1085,
           1086,
           1087,
           1088,
           1089,
           1090,
           1091,
           1092,
           1093,
           1094,
           1095,
           1096,
           1097,
           1098,
           1099,
           1100,
           1101,
           1102,
           1103,
           1104,
           1105,
           1106,
           1107,
           1108,
           1109,
           1110,
           1111,
           1112,
           1113,
           1114,
           1115,
           1116,
           1117,
           1118,
           1119,
           1120,
           1121,
           1122,
           1123,
           1124,
           1125,
           1126,
           1127,
           1128,
           1129,
           1130,
           1131,
           1132,
           1133,
           1134,
           1135,
           1136,
           1137,
           1138,
           1139,
           1140,
           1141,
           1142,
           1143,
           1144,
           1145,
           1146,
           1147,
           1148,
           1149,
           1150,
           1151,
           1152,
           1153,
           1154,
           1155,
           1156,
           1157,
           1158,
           1159,
           1160,
           1161,
           1162,
           1163,
           1164,
           1165,
           1166,
           1167,
           1168,
           1169,
           1170,
           1171,
           1172,
           1173,
           1174,
           1175,
           1176,
           1177,
           1178,
           1179,
           1180,
           1181,
           1182,
           1183,
           1184,
           1185,
           1186,
           1187,
           1188,
           1189,
           1190,
           1191,
           1192,
           1193,
           1194,
           1195,
           1196,
           1197,
           1198,
           1199,
           1200,
           1201,
           1202,
           1203,
           1204,
           1205,
           1206,
           1207,
           1208,
           1209,
           1210,
           1211,
           1212,
           1213,
           1214,
           1215,
           1216,
           1217,
           1218,
           1219,
           1220,
           1221,
           1222,
           1223,
           1224,
           1225,
           1226,
           1227,
           1228,
           1229,
           1230,
           1231,
           1232,
           1233,
           1234,
           1235,
           1236,
           1237,
           1238,
           1239,
           1240,
           1241,
           1242,
           1243,
           1244,
           1245,
           1246,
           1247,
           1248,
           1249,
           1250,
           1251,
           1252,
           1253,
           1254,
           1255,
           1256,
           1257,
           1258,
           1259,
           1260,
           1261,
           1262,
           1263,
           1264,
           1265,
           1266,
           1267,
           1268,
           1269,
           1270,
           1271,
           1272,
           1273,
           1274,
           1275,
           1276,
           1277,
           1278,
           1279,
           1280,
           1281,
           1282,
           1283,
           1284,
           1285,
           1286,
           1287,
           1288,
           1289,
           1290,
           1291,
           1292,
           1293,
           1294,
           1295,
           1296,
           1297,
           1298,
           1299,
           1300,
           1301,
           1302,
           1303,
           1304,
           1305
          ],
          "coloraxis": "coloraxis",
          "symbol": "circle"
         },
         "mode": "markers",
         "name": "",
         "showlegend": false,
         "type": "scattergl",
         "x": [
          0.863,
          0.699,
          0.974,
          0.353,
          0.783,
          0.646,
          0.787,
          0.663,
          0.813,
          0.607,
          0.73,
          0.719,
          0.695,
          0.627,
          0.585,
          0.62,
          0.196,
          0.824,
          0.718,
          0.779,
          0.717,
          0.317,
          0.941,
          0.785,
          0.868,
          0.972,
          0.912,
          0.804,
          0.84,
          0.593,
          0.758,
          0.684,
          0.258,
          0.706,
          0.672,
          0.711,
          0.805,
          0.578,
          0.617,
          0.764,
          0.604,
          0.279,
          0.921,
          0.472,
          0.518,
          0.609,
          0.729,
          0.327,
          0.635,
          0.816,
          0.978,
          0.963,
          0.649,
          0.617,
          0.729,
          0.988,
          0.841,
          0.768,
          0.384,
          0.522,
          0.853,
          0.742,
          0.894,
          0.908,
          0.744,
          0.714,
          0.783,
          0.969,
          0.498,
          0.742,
          0.648,
          0.883,
          0.659,
          0.536,
          0.653,
          0.859,
          0.724,
          0.478,
          0.964,
          0.717,
          0.911,
          0.499,
          0.812,
          0.84,
          0.751,
          0.814,
          0.644,
          0.325,
          0.921,
          0.633,
          0.294,
          0.786,
          0.347,
          0.691,
          0.838,
          0.747,
          0.673,
          0.737,
          0.238,
          0.932,
          0.648,
          0.843,
          0.727,
          0.566,
          0.996,
          0.703,
          0.691,
          0.893,
          0.571,
          0.617,
          0.747,
          0.864,
          0.903,
          0.85,
          0.94,
          0.552,
          0.702,
          0.524,
          0.695,
          0.793,
          0.807,
          0.745,
          0.874,
          0.507,
          0.522,
          0.728,
          0.917,
          0.898,
          0.673,
          0.575,
          0.864,
          0.799,
          0.828,
          0.349,
          0.969,
          0.926,
          0.857,
          0.922,
          0.719,
          0.778,
          0.279,
          0.788,
          0.706,
          0.66,
          0.544,
          0.832,
          0.755,
          0.84,
          0.787,
          0.897,
          0.809,
          0.795,
          0.722,
          0.738,
          0.554,
          0.98,
          0.805,
          0.553,
          0.865,
          0.96,
          0.52,
          0.603,
          0.809,
          0.969,
          0.907,
          0.83,
          0.684,
          0.543,
          0.85,
          0.871,
          0.486,
          0.856,
          0.72,
          0.668,
          0.977,
          0.885,
          0.965,
          0.459,
          0.72,
          0.628,
          0.22,
          0.789,
          0.97,
          0.631,
          0.911,
          0.755,
          0.767,
          0.372,
          0.317,
          0.573,
          0.819,
          0.763,
          0.938,
          0.877,
          0.956,
          0.902,
          0.811,
          0.884,
          0.786,
          0.834,
          0.554,
          0.219,
          0.523,
          0.977,
          0.842,
          0.94,
          0.675,
          0.766,
          0.93,
          0.815,
          0.994,
          0.489,
          0.57,
          0.581,
          0.524,
          0.746,
          0.518,
          0.869,
          0.874,
          0.573,
          0.57,
          0.571,
          0.347,
          0.77,
          0.376,
          0.911,
          0.842,
          0.735,
          0.702,
          0.706,
          0.369,
          0.723,
          0.507,
          0.56,
          0.414,
          0.702,
          0.931,
          0.98,
          0.644,
          0.802,
          0.453,
          0.751,
          0.914,
          0.765,
          0.582,
          0.696,
          0.702,
          0.903,
          0.855,
          0.493,
          0.602,
          0.913,
          0.808,
          0.585,
          0.817,
          0.686,
          0.968,
          0.327,
          0.237,
          0.662,
          0.272,
          0.774,
          0.988,
          0.604,
          0.943,
          0.335,
          0.722,
          0.896,
          0.827,
          0.986,
          0.71,
          0.673,
          0.816,
          0.884,
          0.847,
          0.788,
          0.728,
          0.769,
          0.857,
          0.889,
          0.592,
          0.928,
          0.368,
          0.824,
          0.641,
          0.692,
          0.92,
          0.892,
          0.693,
          0.964,
          0.569,
          0.983,
          0.437,
          0.573,
          0.993,
          0.356,
          0.589,
          0.656,
          0.869,
          0.629,
          0.777,
          0.608,
          0.659,
          0.89,
          0.58,
          0.622,
          0.759,
          0.716,
          0.715,
          0.747,
          0.575,
          0.964,
          0.799,
          0.652,
          0.434,
          0.454,
          0.703,
          0.159,
          0.597,
          0.878,
          0.951,
          0.966,
          0.785,
          0.754,
          0.714,
          0.81,
          0.529,
          0.928,
          0.389,
          0.731,
          0.804,
          0.765,
          0.765,
          0.871,
          0.47,
          0.913,
          0.686,
          0.281,
          0.883,
          0.682,
          0.909,
          0.639,
          0.859,
          0.592,
          0.553,
          0.704,
          0.646,
          0.7,
          0.862,
          0.568,
          0.488,
          0.67,
          0.567,
          0.806,
          0.84,
          0.776,
          0.749,
          0.503,
          0.944,
          0.881,
          0.872,
          0.676,
          0.775,
          0.935,
          0.377,
          0.976,
          0.951,
          0.433,
          0.767,
          0.319,
          0.515,
          0.243,
          0.67,
          0.727,
          0.465,
          0.386,
          0.288,
          0.608,
          0.719,
          0.832,
          0.678,
          0.477,
          0.692,
          0.475,
          0.899,
          0.388,
          0.824,
          0.453,
          0.519,
          0.645,
          0.819,
          0.409,
          0.761,
          0.554,
          0.708,
          0.877,
          0.743,
          0.918,
          0.944,
          0.682,
          0.94,
          0.745,
          0.714,
          0.491,
          0.598,
          0.808,
          0.319,
          0.252,
          0.831,
          0.677,
          0.775,
          0.734,
          0.702,
          0.541,
          0.537,
          0.872,
          0.692,
          0.692,
          0.798,
          0.519,
          0.903,
          0.977,
          0.805,
          0.711,
          0.727,
          0.484,
          0.87,
          0.815,
          0.871,
          0.42,
          0.98,
          0.887,
          0.961,
          0.145,
          0.643,
          0.622,
          0.66,
          0.448,
          0.989,
          0.277,
          0.907,
          0.925,
          0.556,
          0.985,
          0.975,
          0.725,
          0.885,
          0.569,
          0.786,
          0.622,
          0.466,
          0.672,
          0.899,
          0.811,
          0.533,
          0.741,
          0.8,
          0.63,
          0.725,
          0.239,
          0.432,
          0.623,
          0.936,
          0.869,
          0.813,
          0.593,
          0.618,
          0.658,
          0.765,
          0.827,
          0.862,
          0.724,
          0.818,
          0.735,
          0.875,
          0.526,
          0.651,
          0.911,
          0.432,
          0.603,
          0.555,
          0.35,
          0.866,
          0.659,
          0.98,
          0.881,
          0.241,
          0.998,
          0.941,
          0.888,
          0.753,
          0.461,
          0.886,
          0.385,
          0.683,
          0.742,
          0.685,
          0.427,
          0.764,
          0.866,
          0.505,
          0.927,
          0.807,
          0.868,
          0.79,
          0.641,
          0.765,
          0.525,
          0.92,
          0.843,
          0.487,
          0.885,
          0.904,
          0.74,
          0.956,
          0.423,
          0.24,
          0.802,
          0.744,
          0.735,
          0.851,
          0.714,
          0.69,
          0.827,
          0.684,
          0.66,
          0.953,
          0.771,
          0.139,
          0.264,
          0.664,
          0.598,
          0.795,
          0.756,
          0.842,
          0.693,
          0.895,
          0.95,
          0.856,
          0.483,
          0.561,
          0.446,
          0.581,
          0.795,
          0.848,
          0.637,
          0.935,
          0.732,
          0.576,
          0.928,
          0.676,
          0.766,
          0.83,
          0.882,
          0.465,
          0.76,
          0.557,
          0.619,
          0.334,
          0.725,
          0.505,
          0.674,
          0.746,
          0.869,
          0.319,
          0.714,
          0.85,
          0.891,
          0.892,
          0.83,
          0.579,
          0.622,
          0.417,
          0.751,
          0.735,
          0.444,
          0.541,
          0.672,
          0.684,
          0.444,
          0.823,
          0.963,
          0.476,
          0.219,
          0.686,
          0.683,
          0.932,
          0.38,
          0.812,
          0.711,
          0.663,
          0.239,
          0.385,
          0.897,
          0.806,
          0.827,
          0.809,
          0.855,
          0.927,
          0.662,
          0.734,
          0.586,
          0.73,
          0.481,
          0.836,
          0.53,
          0.784,
          0.876,
          0.495,
          0.0999,
          0.328,
          0.498,
          0.769,
          0.486,
          0.929,
          0.695,
          0.727,
          0.819,
          0.679,
          0.301,
          0.776,
          0.893,
          0.377,
          0.841,
          0.545,
          0.801,
          0.571,
          0.831,
          0.704,
          0.982,
          0.735,
          0.701,
          0.903,
          0.658,
          0.775,
          0.712,
          0.424,
          0.889,
          0.865,
          0.866,
          0.88,
          0.428,
          0.805,
          0.851,
          0.81,
          0.899,
          0.695,
          0.405,
          0.638,
          0.537,
          0.968,
          0.919,
          0.592,
          0.637,
          0.657,
          0.557,
          0.62,
          0.435,
          0.878,
          0.82,
          0.78,
          0.825,
          0.541,
          0.594,
          0.69,
          0.515,
          0.579,
          0.93,
          0.756,
          0.491,
          0.568,
          0.845,
          0.465,
          0.355,
          0.601,
          0.366,
          0.736,
          0.449,
          0.887,
          0.698,
          0.402,
          0.795,
          0.535,
          0.501,
          0.72,
          0.983,
          0.748,
          0.868,
          0.737,
          0.537,
          0.418,
          0.852,
          0.594,
          0.487,
          0.67,
          0.465,
          0.624,
          0.634,
          0.712,
          0.294,
          0.597,
          0.79,
          0.79,
          0.378,
          0.793,
          0.785,
          0.558,
          0.56,
          0.609,
          0.522,
          0.4,
          0.83,
          0.456,
          0.353,
          0.88,
          0.582,
          0.853,
          0.669,
          0.497,
          0.719,
          0.87,
          0.505,
          0.26,
          0.828,
          0.357,
          0.83,
          0.45,
          0.651,
          0.667,
          0.569,
          0.782,
          0.842,
          0.808,
          0.364,
          0.685,
          0.531,
          0.943,
          0.94,
          0.668,
          0.632,
          0.592,
          0.472,
          0.537,
          0.894,
          0.634,
          0.625,
          0.385,
          0.778,
          0.502,
          0.568,
          0.953,
          0.624,
          0.657,
          0.57,
          0.781,
          0.786,
          0.871,
          0.681,
          0.601,
          0.758,
          0.464,
          0.241,
          0.338,
          0.911,
          0.841,
          0.995,
          0.306,
          0.943,
          0.621,
          0.927,
          0.702,
          0.79,
          0.432,
          0.805,
          0.621,
          0.429,
          0.876,
          0.964,
          0.454,
          0.272,
          0.553,
          0.85,
          0.71,
          0.779,
          0.897,
          0.488,
          0.963,
          0.573,
          0.852,
          0.651,
          0.63,
          0.691,
          0.552,
          0.588,
          0.631,
          0.752,
          0.696,
          0.972,
          0.713,
          0.764,
          0.284,
          0.412,
          0.532,
          0.382,
          0.472,
          0.704,
          0.982,
          0.571,
          0.569,
          0.969,
          0.674,
          0.326,
          0.625,
          0.877,
          0.725,
          0.756,
          0.353,
          0.636,
          0.771,
          0.91,
          0.731,
          0.941,
          0.779,
          0.883,
          0.862,
          0.593,
          0.573,
          0.82,
          0.402,
          0.655,
          0.877,
          0.808,
          0.709,
          0.834,
          0.59,
          0.617,
          0.766,
          0.564,
          0.98,
          0.739,
          0.636,
          0.591,
          0.83,
          0.845,
          0.746,
          0.854,
          0.956,
          0.62,
          0.533,
          0.454,
          0.51,
          0.408,
          0.77,
          0.439,
          0.701,
          0.736,
          0.756,
          0.76,
          0.885,
          0.448,
          0.82,
          0.611,
          0.566,
          0.594,
          0.803,
          0.379,
          0.863,
          0.497,
          0.785,
          0.672,
          0.629,
          0.408,
          0.586,
          0.519,
          0.642,
          0.394,
          0.902,
          0.806,
          0.632,
          0.802,
          0.323,
          0.478,
          0.533,
          0.786,
          0.907,
          0.239,
          0.619,
          0.977,
          0.895,
          0.602,
          0.805,
          0.686,
          0.78,
          0.928,
          0.37,
          0.942,
          0.559,
          0.988,
          0.932,
          0.977,
          0.847,
          0.413,
          0.808,
          0.855,
          0.642,
          0.621,
          0.822,
          0.896,
          0.621,
          0.924,
          0.242,
          0.89,
          0.487,
          0.801,
          0.978,
          0.909,
          0.909,
          0.905,
          0.971,
          0.428,
          0.729,
          0.733,
          0.751,
          0.722,
          0.634,
          0.449,
          0.719,
          0.927,
          0.771,
          0.912,
          0.617,
          0.714,
          0.763,
          0.532,
          0.628,
          0.886,
          0.157,
          0.481,
          0.751,
          0.75,
          0.307,
          0.581,
          0.988,
          0.812,
          0.855,
          0.753,
          0.685,
          0.863,
          0.914,
          0.855,
          0.706,
          0.954,
          0.571,
          0.727,
          0.869,
          0.863,
          0.937,
          0.61,
          0.213,
          0.702,
          0.796,
          0.825,
          0.822,
          0.666,
          0.768,
          0.529,
          0.978,
          0.631,
          0.678,
          0.557,
          0.686,
          0.739,
          0.506,
          0.841,
          0.862,
          0.588,
          0.614,
          0.726,
          0.123,
          0.826,
          0.841,
          0.446,
          0.905,
          0.583,
          0.548,
          0.937,
          0.249,
          0.681,
          0.805,
          0.652,
          0.644,
          0.478,
          0.796,
          0.892,
          0.907,
          0.649,
          0.712,
          0.431,
          0.291,
          0.665,
          0.349,
          0.766,
          0.736,
          0.909,
          0.792,
          0.823,
          0.741,
          0.88,
          0.689,
          0.265,
          0.881,
          0.929,
          0.968,
          0.795,
          0.694,
          0.974,
          0.676,
          0.711,
          0.624,
          0.959,
          0.874,
          0.912,
          0.964,
          0.957,
          0.551,
          0.735,
          0.52,
          0.847,
          0.595,
          0.461,
          0.878,
          0.349,
          0.763,
          0.56,
          0.201,
          0.635,
          0.76,
          0.984,
          0.71,
          0.946,
          0.616,
          0.839,
          0.606,
          0.806,
          0.45,
          0.828,
          0.809,
          0.67,
          0.72,
          0.716,
          0.716,
          0.754,
          0.273,
          0.498,
          0.569,
          0.734,
          0.493,
          0.795,
          0.902,
          0.754,
          0.922,
          0.731,
          0.697,
          0.637,
          0.497,
          0.449,
          0.45,
          0.956,
          0.788,
          0.322,
          0.662,
          0.552,
          0.856,
          0.61,
          0.595,
          0.861,
          0.77,
          0.583,
          0.878,
          0.817,
          0.34,
          0.946,
          0.727,
          0.869,
          0.72,
          0.894,
          0.655,
          0.952,
          0.919,
          0.817,
          0.709,
          0.578,
          0.666,
          0.662,
          0.705,
          0.629,
          0.952,
          0.746,
          0.766,
          0.983,
          0.663,
          0.972,
          0.657,
          0.731,
          0.44,
          0.817,
          0.907,
          0.521,
          0.401,
          0.825,
          0.916,
          0.565,
          0.459,
          0.928,
          0.703,
          0.629,
          0.64,
          0.592,
          0.654,
          0.712,
          0.56,
          0.621,
          0.289,
          0.63,
          0.706,
          0.62,
          0.872,
          0.73,
          0.964,
          0.72,
          0.926,
          0.912,
          0.586,
          0.753,
          0.788,
          0.442,
          0.936,
          0.692,
          0.835,
          0.945,
          0.795,
          0.81,
          0.886,
          0.987,
          0.959,
          0.548,
          0.775,
          0.902,
          0.366,
          0.584,
          0.812,
          0.625,
          0.811,
          0.955,
          0.511,
          0.445,
          0.862,
          0.377,
          0.964,
          0.869,
          0.958,
          0.697,
          0.94,
          0.659,
          0.914,
          0.908,
          0.82,
          0.836,
          0.582,
          0.912,
          0.406,
          0.616,
          0.819,
          0.778,
          0.613,
          0.609,
          0.838,
          0.362,
          0.361,
          0.66,
          0.471,
          0.82,
          0.791,
          0.249,
          0.618,
          0.916,
          0.839,
          0.745,
          0.825,
          0.514,
          0.743,
          0.835,
          0.561,
          0.826,
          0.828,
          0.62,
          0.725,
          0.345,
          0.208,
          0.924,
          0.452,
          0.956,
          0.662,
          0.885,
          0.905,
          0.856,
          0.609,
          0.282,
          0.888,
          0.508,
          0.717,
          0.795,
          0.962,
          0.574,
          0.925,
          0.652,
          0.406,
          0.756,
          0.902,
          0.961,
          0.608,
          0.625,
          0.912,
          0.783,
          0.783,
          0.814,
          0.945,
          0.939,
          0.865,
          0.73,
          0.664,
          0.68,
          0.966,
          0.802,
          0.671,
          0.295,
          0.846,
          0.558,
          0.559,
          0.816,
          0.582,
          0.686,
          0.646,
          0.739,
          0.756,
          0.917,
          0.969,
          0.668,
          0.732,
          0.463,
          0.685,
          0.67,
          0.371,
          0.911,
          0.784,
          0.815,
          0.512,
          0.745,
          0.909,
          0.75,
          0.639,
          0.453,
          0.592,
          0.638,
          0.434,
          0.791,
          0.337,
          0.756,
          0.945,
          0.902,
          0.868,
          0.683,
          0.806,
          0.703,
          0.67,
          0.488,
          0.712,
          0.599,
          0.92,
          0.534,
          0.788,
          0.824,
          0.475,
          0.536,
          0.756,
          0.401,
          0.791,
          0.775,
          0.528,
          0.453,
          0.916,
          0.773,
          0.797,
          0.903,
          0.84,
          0.671,
          0.946,
          0.791,
          0.539,
          0.566,
          0.784,
          0.937,
          0.611,
          0.687,
          0.993,
          0.809
         ],
         "xaxis": "x",
         "y": [
          -7.89,
          -5.745,
          -0.177,
          -9.931,
          -7.08,
          -5.12,
          -9.897,
          -6.688,
          -5.163,
          -6.109,
          -5.673,
          -4.765,
          -5.62,
          -4.59,
          -6.476,
          -8.13,
          -15.192,
          -3.287,
          -7.744,
          -5.412,
          -5.738,
          -10.732,
          -1.431,
          -4.165,
          -2.537,
          -3.615,
          -4.666,
          -3.808,
          -3.538,
          -7.65,
          -5.261,
          -6.868,
          -10.288,
          -6.882,
          -5.463,
          -6.829,
          -6.237,
          -6.786,
          -7.134,
          -4.277,
          -5.703,
          -10.279,
          -6.196,
          -12.824,
          -8.771,
          -7.803,
          -6.019,
          -7.494,
          -7.423,
          -4.115,
          -7.27,
          -0.263,
          -2.753,
          -8.082,
          -2.99,
          -2.042,
          -7.547,
          -4.961,
          -12.795,
          -5.687,
          -3.668,
          -6.46,
          -3.493,
          -5.014,
          -6.859,
          -6.414,
          -4.477,
          -1.533,
          -7.661,
          -3.554,
          -3.684,
          -2.297,
          -9.953,
          -6.501,
          -6.646,
          -5.237,
          -7.668,
          -9.142,
          0.124,
          -3.892,
          -6.416,
          -6.627,
          -2.453,
          -3.363,
          -3.539,
          -3.44,
          -6.931,
          -7.267,
          -3.752,
          -7.471,
          -13.019,
          -3.417,
          -8.227,
          -13.553,
          -6.838,
          -6.211,
          -4.302,
          -4.577,
          -14.325,
          -5.074,
          -8.113,
          -4.87,
          -5.968,
          -7.811,
          -1.703,
          -5.54,
          -5.971,
          -0.595,
          -6.054,
          -7.381,
          -6.335,
          -4.017,
          -3.187,
          -3.914,
          -5.119,
          -10.278,
          -4.564,
          -6.184,
          -4.925,
          -6.112,
          -4.601,
          -3.202,
          -0.36,
          -10.171,
          -5.603,
          -4.981,
          -6.006,
          -2.252,
          -6.099,
          -5.041,
          -7.842,
          -3.835,
          -5.373,
          -14.295,
          -1.428,
          -4.729,
          -4.078,
          -3.704,
          -5.469,
          -5.364,
          -11.776,
          -5.77,
          -1.93,
          -5.22,
          -8.112,
          -4.434,
          -6.891,
          -3.386,
          -3.909,
          -1.287,
          -8.254,
          -3.731,
          -6.367,
          -7.312,
          -5.29,
          -2.37,
          -3.925,
          -6.42,
          -4.359,
          -2.955,
          -10.143,
          -7.983,
          -3.333,
          -4.675,
          -2.498,
          -10.208,
          -7.364,
          -3.614,
          -3.325,
          -3.58,
          -8.342,
          -5.123,
          -9.18,
          -4.963,
          -1.631,
          -6.21,
          -1.351,
          -5.187,
          -4.194,
          -5.85,
          -11.006,
          -3.844,
          -4.938,
          -5.815,
          -4.977,
          -3.729,
          -2.788,
          -12.276,
          -14.075,
          -6.558,
          -3.325,
          -4.075,
          -3.442,
          -4.818,
          -1.164,
          -4.988,
          -5.746,
          -4.104,
          -5.735,
          -4.868,
          -8.859,
          -7.953,
          -10.753,
          -4.157,
          -4.288,
          -5.839,
          -6.761,
          -5.607,
          -2.061,
          -3.947,
          -0.38,
          -6.534,
          -6.437,
          -5.657,
          -5.599,
          -3.271,
          -8.066,
          -3.911,
          -4.219,
          -4.872,
          -5.123,
          -14.77,
          -10.265,
          -8.788,
          -11.913,
          -2.95,
          -4.159,
          -6.542,
          -5.13,
          -4.972,
          -12.683,
          -2.951,
          -8.058,
          -4.402,
          -14.011,
          -5.707,
          -1.472,
          -0.842,
          -5.697,
          -3.914,
          -8.322,
          -11.43,
          -3.87,
          -5.252,
          -7.653,
          -6.505,
          -10.155,
          -5.122,
          -5.936,
          -7.528,
          -5.369,
          -2.36,
          -5.042,
          -6.123,
          -3.071,
          -4.926,
          -2.803,
          -7.309,
          -14.109,
          -5.628,
          -13.763,
          -5.008,
          -0.319,
          -4.286,
          -1.601,
          -9.915,
          -5.453,
          -1.514,
          -7.745,
          -0.391,
          -3.015,
          -5.813,
          -4.353,
          -4.074,
          -11.036,
          -2.971,
          -5.381,
          -4.279,
          -3.9,
          -0.763,
          -7.777,
          -1.203,
          -9.533,
          -5.434,
          -5.957,
          -5.869,
          -3.246,
          -5.573,
          -5.943,
          -4.283,
          -6.725,
          -1.767,
          -6.641,
          -7.43,
          -1.343,
          -5.556,
          -8.64,
          -3.712,
          -5.093,
          -7.013,
          -6.154,
          -8.51,
          -5.589,
          -8.443,
          -6.166,
          -6.156,
          -5.584,
          -5.861,
          -4.656,
          -5.084,
          -8.184,
          -3.926,
          -5.661,
          -4.333,
          -11.163,
          -9.932,
          -5.672,
          -14.171,
          -7.333,
          -4.988,
          -4.866,
          -1.531,
          -3.297,
          -5.185,
          -5.058,
          -5.274,
          -5.763,
          -10.38,
          -8.247,
          -6.873,
          -3.177,
          -4.41,
          -4.41,
          -5.404,
          -8.935,
          -3.331,
          -7.665,
          -7.487,
          -7.989,
          -9.556,
          -5.999,
          -3.241,
          -6.19,
          -12.242,
          -3.546,
          -9.111,
          -1.788,
          -5.664,
          -6.666,
          -8.017,
          -7.664,
          -4.917,
          -4.652,
          -4.136,
          -5.768,
          -5.282,
          -6.389,
          -7.065,
          -6.506,
          -5.541,
          -4.874,
          -4.227,
          -4.767,
          -6.382,
          -9.8,
          -5.362,
          -1.894,
          -10.598,
          -4.567,
          -13.819,
          -10.265,
          -10.16,
          -5.072,
          -3.328,
          -8.545,
          -6.837,
          -11.857,
          -5.772,
          -4.515,
          -2.89,
          -8.206,
          -6.696,
          -4.96,
          -8.821,
          -4.132,
          -6.777,
          -5.997,
          -6.417,
          -8.494,
          -5.87,
          -5.189,
          -9.517,
          -4.966,
          -9.858,
          -3.833,
          -4.722,
          -6.123,
          -4.912,
          -2.995,
          -4.887,
          -3.682,
          -3.105,
          -3.516,
          -8.141,
          -7.962,
          -3.842,
          -8.152,
          -14.411,
          -5.039,
          -5.76,
          -4.832,
          -4.276,
          -5.18,
          -5.05,
          -6.456,
          -5.066,
          -4.985,
          -4.985,
          -4.162,
          -10.164,
          -6.042,
          -2.888,
          -5.639,
          -3.064,
          -6.969,
          -6.997,
          -4.083,
          -3.517,
          -6.797,
          -8.503,
          -5.515,
          -5.463,
          -1.575,
          -9.32,
          -7.691,
          -6.747,
          -4.646,
          -8.57,
          -2.77,
          -9.35,
          -1.12,
          -3.494,
          -7.041,
          -1.848,
          0.227,
          -8.439,
          -5.469,
          -3.436,
          -7.044,
          -5.114,
          -6.77,
          -4.557,
          -5.64,
          -2.712,
          -6.067,
          -5.569,
          -3.82,
          -8.277,
          -5.218,
          -11.314,
          -9.481,
          -5.55,
          -9.919,
          -5.996,
          -6.906,
          -5.484,
          -5.469,
          -5.934,
          -5.914,
          -4.407,
          -5.671,
          -5.533,
          -1.999,
          -3.857,
          -4.361,
          -8.167,
          -8.81,
          -3.447,
          -7.844,
          -5.416,
          -5.429,
          -7.194,
          -3.653,
          -7.429,
          -0.136,
          -4.249,
          -10.948,
          0.576,
          -3.807,
          -3.42,
          -2.943,
          -5.677,
          -4.335,
          -7.355,
          -6.629,
          -5.366,
          -5.93,
          -7.621,
          -4.641,
          -4.964,
          -12.479,
          -1.485,
          -6.491,
          -3.847,
          -5.353,
          -10.283,
          -4.449,
          -6.9,
          -2.843,
          -4.474,
          -9.53,
          -4.432,
          -2.729,
          -5.044,
          -2.775,
          -8.319,
          -15.639,
          -4.969,
          -3.605,
          -6.011,
          -5.632,
          -6.087,
          -5.171,
          -3.451,
          -7.347,
          -5.763,
          -3.075,
          -4.588,
          -16.339,
          -9.926,
          -5.71,
          -8.476,
          -4.039,
          -5.379,
          -3.956,
          -7.234,
          -2.888,
          -3.11,
          -6.84,
          -10.06,
          -6.569,
          -6.511,
          -5.029,
          -4.567,
          -3.667,
          -5.185,
          -3.43,
          -9.492,
          -4.796,
          -4.061,
          -5.041,
          -6.375,
          -5.157,
          -11.225,
          -8.166,
          -3.174,
          -6.371,
          -4.441,
          -11.314,
          -5.901,
          -7.621,
          -6.588,
          -2.566,
          -5.066,
          -12.85,
          -6.645,
          -4.417,
          -3.512,
          -3.186,
          -4.106,
          -7.733,
          -5.912,
          -5.401,
          -4.352,
          -7.572,
          -9.331,
          -8.818,
          -8.577,
          -6.717,
          -9.129,
          -4.197,
          -3.783,
          -7.979,
          -12.027,
          -5.508,
          -8.612,
          -10.068,
          -7.426,
          -4.326,
          -7.321,
          -4.448,
          -13.945,
          -8.35,
          -4.796,
          -4.75,
          -4.492,
          -3.21,
          -3.035,
          -7.327,
          -5.834,
          -5.948,
          -6.013,
          -6.724,
          -6.684,
          -3.323,
          -8.521,
          -4.139,
          -2.613,
          -6.264,
          -13.244,
          -11.579,
          -6.373,
          -5.379,
          -5.893,
          -3.214,
          -5.253,
          -8.073,
          -4.771,
          -10.042,
          -5.344,
          -6.343,
          -2.419,
          -7.907,
          -5.379,
          -7.924,
          -5.161,
          -7.539,
          -1.731,
          -3.146,
          -3.621,
          -5.747,
          -6.252,
          -0.949,
          -3.386,
          -6.446,
          -3.781,
          -9.579,
          -4.7,
          -5.708,
          -4.475,
          -5.722,
          -10.085,
          -3.3,
          -4.69,
          -3.789,
          -5.709,
          -4.849,
          -11.26,
          -6.416,
          -4.913,
          -3.178,
          -4.025,
          -4.898,
          -8.48,
          -6.434,
          -6.401,
          -5.348,
          -8.363,
          -5.478,
          -2.84,
          -4.768,
          -3.787,
          -7.909,
          -3.65,
          -4.939,
          -8.546,
          -5.425,
          -5.08,
          -2.567,
          -8.628,
          -5.477,
          -6.794,
          -8.163,
          -7.757,
          -6.113,
          -11.792,
          -6.566,
          -11.462,
          -2.682,
          -4.165,
          -4.63,
          -3.901,
          -6.715,
          -12.024,
          -5.991,
          -8.243,
          -6.524,
          -6.525,
          -6.781,
          -8.565,
          -4.617,
          -4.733,
          -6.2,
          -7.954,
          -8.179,
          -10.006,
          -4.206,
          -6.471,
          -4.388,
          -8.125,
          -6.633,
          -6.295,
          -4.302,
          -9.828,
          -3.871,
          -4.085,
          -4.911,
          -7.328,
          -5.64,
          -5.963,
          -7.981,
          -7.287,
          -9.324,
          -12.023,
          -4.819,
          -7.323,
          -8.321,
          -9.151,
          -6.606,
          -6.836,
          -2.589,
          -8.587,
          -17.341,
          -9.108,
          -8.843,
          -4.105,
          -8.543,
          -5.672,
          -3.443,
          -9.482,
          -7.426,
          -2.815,
          -7.04,
          -11.713,
          -8.259,
          -7.51,
          -6.87,
          -6.097,
          -7.713,
          -8.05,
          -12.857,
          -7.225,
          -5.638,
          -3.996,
          -7.8,
          -5.266,
          -9.676,
          -3.236,
          -4.045,
          -7.817,
          -4.276,
          -6.231,
          -10.002,
          -6.99,
          -3.265,
          -3.951,
          -7.006,
          -8.039,
          -7.453,
          -4.477,
          -8.74,
          -12.299,
          -10.054,
          -5.23,
          -1.212,
          0.936,
          -9.042,
          -3.375,
          -7.694,
          -4.212,
          -4.792,
          -8.412,
          -7.214,
          -5.618,
          -8.3,
          -7.726,
          -3.707,
          -3.275,
          -6.753,
          -14.201,
          -7.849,
          -3.696,
          -4.671,
          -4.316,
          -7.185,
          -6.278,
          0.182,
          -7.687,
          -3.703,
          -4.127,
          -6.126,
          -7.229,
          -5.423,
          -4.881,
          -5.169,
          -3.165,
          -5.656,
          -4.428,
          -5.507,
          -4.735,
          -8.285,
          -8.074,
          -7.146,
          -7.356,
          -7.001,
          -4.234,
          -0.35,
          -6.064,
          -6.068,
          -5.181,
          -4.533,
          -12.303,
          -7.472,
          -3.681,
          -5.271,
          -3.528,
          -13.477,
          -5.787,
          -4.067,
          -2.698,
          -6.574,
          -2.452,
          -2.966,
          -4.819,
          -3.24,
          -5.036,
          -5.408,
          -3.453,
          -5.786,
          -6.012,
          -6.403,
          -5.225,
          -5.681,
          -5.444,
          -7.608,
          -7.884,
          -6.875,
          -7.822,
          -5.419,
          -2.367,
          -6.162,
          -4.895,
          -3.236,
          -5.614,
          -5.255,
          -2.929,
          -1.369,
          -5.894,
          -7.861,
          -7.655,
          -10.148,
          -9.419,
          -3.738,
          -9.864,
          -4.649,
          -4.168,
          -4.828,
          -3.21,
          -7.189,
          -6.312,
          -4.502,
          -6.015,
          -4.461,
          -6.075,
          -4.673,
          -10.48,
          -2.9,
          -4.509,
          -5.154,
          -7.373,
          -9.298,
          -6.606,
          -6.086,
          -6.531,
          -5.218,
          -10.102,
          -4.216,
          -4.618,
          -8.916,
          -4.771,
          -12.006,
          -8.735,
          -5.648,
          -6.115,
          -4.063,
          -15.327,
          -5.581,
          -3.494,
          -3.707,
          -7.532,
          -5.352,
          -10.202,
          -5.596,
          -4.079,
          -7.441,
          -2.273,
          -5.545,
          -6.013,
          -2.485,
          -1.824,
          -2.526,
          -7.365,
          -5.067,
          -3.764,
          -6.257,
          -8.209,
          -5.137,
          -4.267,
          -8.253,
          -4.242,
          -11.692,
          -6.434,
          -8.44,
          -6.358,
          -2.078,
          -3.032,
          -3.032,
          -1.965,
          -3.622,
          -8.28,
          -4.495,
          -5.625,
          -4.258,
          -11.729,
          -6.395,
          -8.065,
          -5.03,
          -3.633,
          -4.821,
          -3.753,
          -12.931,
          -6.055,
          -4.068,
          -9.119,
          -4.692,
          -2.512,
          -11.953,
          -6.461,
          -7.26,
          -4.496,
          -8.543,
          -7.078,
          -2.645,
          -5.782,
          -2.429,
          -4.074,
          -5.019,
          -6.395,
          -3.816,
          -1.254,
          -4.902,
          -1.559,
          -6.291,
          -4.815,
          -4.284,
          -2.562,
          -6.269,
          -7.34,
          -11.386,
          -6.423,
          -8.563,
          -4.645,
          -6.373,
          -7.915,
          -6.374,
          -10.511,
          -1.675,
          -5.082,
          -3.525,
          -7.398,
          -4.252,
          -5.74,
          -10.119,
          -4.921,
          -6.907,
          -6.292,
          -7.446,
          -6.12,
          -13.959,
          -2.489,
          -3.955,
          -7.807,
          -5.653,
          -5.562,
          -6.049,
          -5.502,
          -8.136,
          -4.675,
          -5.707,
          -3.183,
          -2.534,
          -7.503,
          -4.499,
          -4.724,
          -3.063,
          -8.433,
          -5.996,
          -6.732,
          -10.009,
          -5.779,
          -11.329,
          -6.175,
          -5.84,
          -3.378,
          -3.302,
          -4.195,
          -5.406,
          -6.117,
          -5.022,
          -12.782,
          -7.987,
          -6.729,
          -1.918,
          -3.299,
          -7.299,
          -3.866,
          -8.377,
          -4.512,
          -6.666,
          -2.096,
          -0.137,
          -4.556,
          -4.26,
          -1.621,
          -7.231,
          -4.833,
          -7.985,
          -5.489,
          -7.649,
          -8.401,
          -2.352,
          -5.315,
          -2.237,
          -9.707,
          -13.044,
          -6.769,
          -3.669,
          -2.408,
          -5.979,
          -3.85,
          -11.139,
          -3.877,
          -4.252,
          -4.751,
          -7.174,
          -5.648,
          -4.389,
          -4.993,
          -5.511,
          -2.457,
          -2.457,
          -5.433,
          -10.889,
          -8.499,
          -9.205,
          -5.627,
          -11.548,
          -3.293,
          -3.577,
          -6.684,
          -0.821,
          -6.347,
          -7.429,
          -5.677,
          -5.484,
          -7.423,
          -6.658,
          -1.758,
          -7.055,
          -9.756,
          -6.482,
          -7.571,
          -3.556,
          -7.609,
          -7.52,
          -8.846,
          -4.502,
          -9.111,
          -2.565,
          -6.018,
          -8.617,
          -1.507,
          -5.161,
          -11.481,
          -4.475,
          -3.138,
          -7.127,
          -5.321,
          -4.679,
          -4.253,
          -2.871,
          -5.245,
          -3.757,
          -5.239,
          -5.201,
          -4.581,
          -0.684,
          -5.68,
          -5.023,
          -4.098,
          -8.821,
          -0.302,
          -3.9,
          -4.054,
          -7.699,
          -5.595,
          -4.086,
          -4.128,
          -7.49,
          -5.504,
          -1.446,
          -3.964,
          -6.488,
          -5.812,
          -8.111,
          -5.985,
          -4.466,
          -6.452,
          -5.634,
          -4.012,
          -4.961,
          -4.676,
          -9.918,
          -5.854,
          -9.803,
          -7.079,
          -6.309,
          -6.407,
          -4.441,
          -3.797,
          -5.857,
          -3.881,
          -6.946,
          -8.937,
          -7.142,
          -8.558,
          -3.451,
          -6.145,
          -5.298,
          -4.585,
          -4.021,
          -5.976,
          -5.071,
          0.427,
          -4.04,
          -6.288,
          -4.767,
          -2.703,
          -9.405,
          -5.056,
          -2.852,
          -7.114,
          -4.063,
          -2.142,
          -3.466,
          -6.061,
          -4.247,
          -6.213,
          -6.654,
          -5.214,
          -3.38,
          -4.896,
          -3.038,
          -6.522,
          -0.105,
          -3.793,
          -5.855,
          -6.075,
          -4.141,
          -4.937,
          -9.41,
          -8.245,
          -4.329,
          -7.161,
          -9.803,
          -9.426,
          -3.914,
          -10.055,
          -10.057,
          -4.86,
          -8.184,
          -4.091,
          -4.912,
          -14.239,
          -4.356,
          -5.227,
          -6.677,
          -5.49,
          -6.175,
          -9.759,
          -4.262,
          -4.619,
          -6.653,
          -3.106,
          -4.603,
          -6.664,
          -4.862,
          -13.496,
          -13.858,
          -2.312,
          -8.298,
          -3.178,
          -6.455,
          -5.288,
          -4.046,
          -6.829,
          -7.223,
          -9.873,
          -2.571,
          -6.973,
          -4.841,
          -4.854,
          -1.892,
          -6.209,
          -6.119,
          -2.708,
          -8.89,
          -5.272,
          -5.712,
          -2.749,
          -4.514,
          -5.932,
          -3.594,
          -5.697,
          -5.697,
          -5.146,
          -0.659,
          -2.449,
          -5.131,
          -10.613,
          -4.926,
          -5.508,
          -4.28,
          -4.836,
          -6.426,
          -7.628,
          -4.597,
          -4.329,
          -5.216,
          -4.209,
          -8.357,
          -6.139,
          -8.334,
          -6.131,
          -4.45,
          -5.091,
          -3.588,
          -6.29,
          -5.028,
          -7.828,
          -3.035,
          -5.915,
          -9.017,
          -5.414,
          -2.972,
          -6.677,
          -6.871,
          -6.149,
          -4.236,
          -4.781,
          -6.239,
          -6.941,
          -6.498,
          -4.37,
          -9.178,
          -6.013,
          -8,
          -7.653,
          -4.469,
          -11.6,
          -5.762,
          -5.099,
          -3.816,
          -6.745,
          -7.289,
          -7.05,
          -6.879,
          -5.551,
          -6.231,
          -6.238,
          -3.788,
          -1,
          -8.642,
          -8.215,
          -7.026,
          -10.067,
          -4.699,
          -6.614,
          -6.035,
          -8.264,
          -5.684,
          -4.856,
          -5.514,
          -0.484,
          -4.331,
          -5.617,
          -5.978,
          -6.628,
          -6.351,
          -5.501,
          -5.603,
          -2.682,
          -8.442,
          -7.794,
          -2.301,
          -3.198
         ],
         "yaxis": "y"
        }
       ],
       "layout": {
        "coloraxis": {
         "colorbar": {
          "title": {
           "text": "color"
          }
         },
         "colorscale": [
          [
           0,
           "#440154"
          ],
          [
           0.1111111111111111,
           "#482878"
          ],
          [
           0.2222222222222222,
           "#3e4989"
          ],
          [
           0.3333333333333333,
           "#31688e"
          ],
          [
           0.4444444444444444,
           "#26828e"
          ],
          [
           0.5555555555555556,
           "#1f9e89"
          ],
          [
           0.6666666666666666,
           "#35b779"
          ],
          [
           0.7777777777777778,
           "#6ece58"
          ],
          [
           0.8888888888888888,
           "#b5de2b"
          ],
          [
           1,
           "#fde725"
          ]
         ]
        },
        "legend": {
         "tracegroupgap": 0
        },
        "margin": {
         "t": 60
        },
        "template": {
         "data": {
          "bar": [
           {
            "error_x": {
             "color": "#2a3f5f"
            },
            "error_y": {
             "color": "#2a3f5f"
            },
            "marker": {
             "line": {
              "color": "#E5ECF6",
              "width": 0.5
             },
             "pattern": {
              "fillmode": "overlay",
              "size": 10,
              "solidity": 0.2
             }
            },
            "type": "bar"
           }
          ],
          "barpolar": [
           {
            "marker": {
             "line": {
              "color": "#E5ECF6",
              "width": 0.5
             },
             "pattern": {
              "fillmode": "overlay",
              "size": 10,
              "solidity": 0.2
             }
            },
            "type": "barpolar"
           }
          ],
          "carpet": [
           {
            "aaxis": {
             "endlinecolor": "#2a3f5f",
             "gridcolor": "white",
             "linecolor": "white",
             "minorgridcolor": "white",
             "startlinecolor": "#2a3f5f"
            },
            "baxis": {
             "endlinecolor": "#2a3f5f",
             "gridcolor": "white",
             "linecolor": "white",
             "minorgridcolor": "white",
             "startlinecolor": "#2a3f5f"
            },
            "type": "carpet"
           }
          ],
          "choropleth": [
           {
            "colorbar": {
             "outlinewidth": 0,
             "ticks": ""
            },
            "type": "choropleth"
           }
          ],
          "contour": [
           {
            "colorbar": {
             "outlinewidth": 0,
             "ticks": ""
            },
            "colorscale": [
             [
              0,
              "#0d0887"
             ],
             [
              0.1111111111111111,
              "#46039f"
             ],
             [
              0.2222222222222222,
              "#7201a8"
             ],
             [
              0.3333333333333333,
              "#9c179e"
             ],
             [
              0.4444444444444444,
              "#bd3786"
             ],
             [
              0.5555555555555556,
              "#d8576b"
             ],
             [
              0.6666666666666666,
              "#ed7953"
             ],
             [
              0.7777777777777778,
              "#fb9f3a"
             ],
             [
              0.8888888888888888,
              "#fdca26"
             ],
             [
              1,
              "#f0f921"
             ]
            ],
            "type": "contour"
           }
          ],
          "contourcarpet": [
           {
            "colorbar": {
             "outlinewidth": 0,
             "ticks": ""
            },
            "type": "contourcarpet"
           }
          ],
          "heatmap": [
           {
            "colorbar": {
             "outlinewidth": 0,
             "ticks": ""
            },
            "colorscale": [
             [
              0,
              "#0d0887"
             ],
             [
              0.1111111111111111,
              "#46039f"
             ],
             [
              0.2222222222222222,
              "#7201a8"
             ],
             [
              0.3333333333333333,
              "#9c179e"
             ],
             [
              0.4444444444444444,
              "#bd3786"
             ],
             [
              0.5555555555555556,
              "#d8576b"
             ],
             [
              0.6666666666666666,
              "#ed7953"
             ],
             [
              0.7777777777777778,
              "#fb9f3a"
             ],
             [
              0.8888888888888888,
              "#fdca26"
             ],
             [
              1,
              "#f0f921"
             ]
            ],
            "type": "heatmap"
           }
          ],
          "heatmapgl": [
           {
            "colorbar": {
             "outlinewidth": 0,
             "ticks": ""
            },
            "colorscale": [
             [
              0,
              "#0d0887"
             ],
             [
              0.1111111111111111,
              "#46039f"
             ],
             [
              0.2222222222222222,
              "#7201a8"
             ],
             [
              0.3333333333333333,
              "#9c179e"
             ],
             [
              0.4444444444444444,
              "#bd3786"
             ],
             [
              0.5555555555555556,
              "#d8576b"
             ],
             [
              0.6666666666666666,
              "#ed7953"
             ],
             [
              0.7777777777777778,
              "#fb9f3a"
             ],
             [
              0.8888888888888888,
              "#fdca26"
             ],
             [
              1,
              "#f0f921"
             ]
            ],
            "type": "heatmapgl"
           }
          ],
          "histogram": [
           {
            "marker": {
             "pattern": {
              "fillmode": "overlay",
              "size": 10,
              "solidity": 0.2
             }
            },
            "type": "histogram"
           }
          ],
          "histogram2d": [
           {
            "colorbar": {
             "outlinewidth": 0,
             "ticks": ""
            },
            "colorscale": [
             [
              0,
              "#0d0887"
             ],
             [
              0.1111111111111111,
              "#46039f"
             ],
             [
              0.2222222222222222,
              "#7201a8"
             ],
             [
              0.3333333333333333,
              "#9c179e"
             ],
             [
              0.4444444444444444,
              "#bd3786"
             ],
             [
              0.5555555555555556,
              "#d8576b"
             ],
             [
              0.6666666666666666,
              "#ed7953"
             ],
             [
              0.7777777777777778,
              "#fb9f3a"
             ],
             [
              0.8888888888888888,
              "#fdca26"
             ],
             [
              1,
              "#f0f921"
             ]
            ],
            "type": "histogram2d"
           }
          ],
          "histogram2dcontour": [
           {
            "colorbar": {
             "outlinewidth": 0,
             "ticks": ""
            },
            "colorscale": [
             [
              0,
              "#0d0887"
             ],
             [
              0.1111111111111111,
              "#46039f"
             ],
             [
              0.2222222222222222,
              "#7201a8"
             ],
             [
              0.3333333333333333,
              "#9c179e"
             ],
             [
              0.4444444444444444,
              "#bd3786"
             ],
             [
              0.5555555555555556,
              "#d8576b"
             ],
             [
              0.6666666666666666,
              "#ed7953"
             ],
             [
              0.7777777777777778,
              "#fb9f3a"
             ],
             [
              0.8888888888888888,
              "#fdca26"
             ],
             [
              1,
              "#f0f921"
             ]
            ],
            "type": "histogram2dcontour"
           }
          ],
          "mesh3d": [
           {
            "colorbar": {
             "outlinewidth": 0,
             "ticks": ""
            },
            "type": "mesh3d"
           }
          ],
          "parcoords": [
           {
            "line": {
             "colorbar": {
              "outlinewidth": 0,
              "ticks": ""
             }
            },
            "type": "parcoords"
           }
          ],
          "pie": [
           {
            "automargin": true,
            "type": "pie"
           }
          ],
          "scatter": [
           {
            "fillpattern": {
             "fillmode": "overlay",
             "size": 10,
             "solidity": 0.2
            },
            "type": "scatter"
           }
          ],
          "scatter3d": [
           {
            "line": {
             "colorbar": {
              "outlinewidth": 0,
              "ticks": ""
             }
            },
            "marker": {
             "colorbar": {
              "outlinewidth": 0,
              "ticks": ""
             }
            },
            "type": "scatter3d"
           }
          ],
          "scattercarpet": [
           {
            "marker": {
             "colorbar": {
              "outlinewidth": 0,
              "ticks": ""
             }
            },
            "type": "scattercarpet"
           }
          ],
          "scattergeo": [
           {
            "marker": {
             "colorbar": {
              "outlinewidth": 0,
              "ticks": ""
             }
            },
            "type": "scattergeo"
           }
          ],
          "scattergl": [
           {
            "marker": {
             "colorbar": {
              "outlinewidth": 0,
              "ticks": ""
             }
            },
            "type": "scattergl"
           }
          ],
          "scattermapbox": [
           {
            "marker": {
             "colorbar": {
              "outlinewidth": 0,
              "ticks": ""
             }
            },
            "type": "scattermapbox"
           }
          ],
          "scatterpolar": [
           {
            "marker": {
             "colorbar": {
              "outlinewidth": 0,
              "ticks": ""
             }
            },
            "type": "scatterpolar"
           }
          ],
          "scatterpolargl": [
           {
            "marker": {
             "colorbar": {
              "outlinewidth": 0,
              "ticks": ""
             }
            },
            "type": "scatterpolargl"
           }
          ],
          "scatterternary": [
           {
            "marker": {
             "colorbar": {
              "outlinewidth": 0,
              "ticks": ""
             }
            },
            "type": "scatterternary"
           }
          ],
          "surface": [
           {
            "colorbar": {
             "outlinewidth": 0,
             "ticks": ""
            },
            "colorscale": [
             [
              0,
              "#0d0887"
             ],
             [
              0.1111111111111111,
              "#46039f"
             ],
             [
              0.2222222222222222,
              "#7201a8"
             ],
             [
              0.3333333333333333,
              "#9c179e"
             ],
             [
              0.4444444444444444,
              "#bd3786"
             ],
             [
              0.5555555555555556,
              "#d8576b"
             ],
             [
              0.6666666666666666,
              "#ed7953"
             ],
             [
              0.7777777777777778,
              "#fb9f3a"
             ],
             [
              0.8888888888888888,
              "#fdca26"
             ],
             [
              1,
              "#f0f921"
             ]
            ],
            "type": "surface"
           }
          ],
          "table": [
           {
            "cells": {
             "fill": {
              "color": "#EBF0F8"
             },
             "line": {
              "color": "white"
             }
            },
            "header": {
             "fill": {
              "color": "#C8D4E3"
             },
             "line": {
              "color": "white"
             }
            },
            "type": "table"
           }
          ]
         },
         "layout": {
          "annotationdefaults": {
           "arrowcolor": "#2a3f5f",
           "arrowhead": 0,
           "arrowwidth": 1
          },
          "autotypenumbers": "strict",
          "coloraxis": {
           "colorbar": {
            "outlinewidth": 0,
            "ticks": ""
           }
          },
          "colorscale": {
           "diverging": [
            [
             0,
             "#8e0152"
            ],
            [
             0.1,
             "#c51b7d"
            ],
            [
             0.2,
             "#de77ae"
            ],
            [
             0.3,
             "#f1b6da"
            ],
            [
             0.4,
             "#fde0ef"
            ],
            [
             0.5,
             "#f7f7f7"
            ],
            [
             0.6,
             "#e6f5d0"
            ],
            [
             0.7,
             "#b8e186"
            ],
            [
             0.8,
             "#7fbc41"
            ],
            [
             0.9,
             "#4d9221"
            ],
            [
             1,
             "#276419"
            ]
           ],
           "sequential": [
            [
             0,
             "#0d0887"
            ],
            [
             0.1111111111111111,
             "#46039f"
            ],
            [
             0.2222222222222222,
             "#7201a8"
            ],
            [
             0.3333333333333333,
             "#9c179e"
            ],
            [
             0.4444444444444444,
             "#bd3786"
            ],
            [
             0.5555555555555556,
             "#d8576b"
            ],
            [
             0.6666666666666666,
             "#ed7953"
            ],
            [
             0.7777777777777778,
             "#fb9f3a"
            ],
            [
             0.8888888888888888,
             "#fdca26"
            ],
            [
             1,
             "#f0f921"
            ]
           ],
           "sequentialminus": [
            [
             0,
             "#0d0887"
            ],
            [
             0.1111111111111111,
             "#46039f"
            ],
            [
             0.2222222222222222,
             "#7201a8"
            ],
            [
             0.3333333333333333,
             "#9c179e"
            ],
            [
             0.4444444444444444,
             "#bd3786"
            ],
            [
             0.5555555555555556,
             "#d8576b"
            ],
            [
             0.6666666666666666,
             "#ed7953"
            ],
            [
             0.7777777777777778,
             "#fb9f3a"
            ],
            [
             0.8888888888888888,
             "#fdca26"
            ],
            [
             1,
             "#f0f921"
            ]
           ]
          },
          "colorway": [
           "#636efa",
           "#EF553B",
           "#00cc96",
           "#ab63fa",
           "#FFA15A",
           "#19d3f3",
           "#FF6692",
           "#B6E880",
           "#FF97FF",
           "#FECB52"
          ],
          "font": {
           "color": "#2a3f5f"
          },
          "geo": {
           "bgcolor": "white",
           "lakecolor": "white",
           "landcolor": "#E5ECF6",
           "showlakes": true,
           "showland": true,
           "subunitcolor": "white"
          },
          "hoverlabel": {
           "align": "left"
          },
          "hovermode": "closest",
          "mapbox": {
           "style": "light"
          },
          "paper_bgcolor": "white",
          "plot_bgcolor": "#E5ECF6",
          "polar": {
           "angularaxis": {
            "gridcolor": "white",
            "linecolor": "white",
            "ticks": ""
           },
           "bgcolor": "#E5ECF6",
           "radialaxis": {
            "gridcolor": "white",
            "linecolor": "white",
            "ticks": ""
           }
          },
          "scene": {
           "xaxis": {
            "backgroundcolor": "#E5ECF6",
            "gridcolor": "white",
            "gridwidth": 2,
            "linecolor": "white",
            "showbackground": true,
            "ticks": "",
            "zerolinecolor": "white"
           },
           "yaxis": {
            "backgroundcolor": "#E5ECF6",
            "gridcolor": "white",
            "gridwidth": 2,
            "linecolor": "white",
            "showbackground": true,
            "ticks": "",
            "zerolinecolor": "white"
           },
           "zaxis": {
            "backgroundcolor": "#E5ECF6",
            "gridcolor": "white",
            "gridwidth": 2,
            "linecolor": "white",
            "showbackground": true,
            "ticks": "",
            "zerolinecolor": "white"
           }
          },
          "shapedefaults": {
           "line": {
            "color": "#2a3f5f"
           }
          },
          "ternary": {
           "aaxis": {
            "gridcolor": "white",
            "linecolor": "white",
            "ticks": ""
           },
           "baxis": {
            "gridcolor": "white",
            "linecolor": "white",
            "ticks": ""
           },
           "bgcolor": "#E5ECF6",
           "caxis": {
            "gridcolor": "white",
            "linecolor": "white",
            "ticks": ""
           }
          },
          "title": {
           "x": 0.05
          },
          "xaxis": {
           "automargin": true,
           "gridcolor": "white",
           "linecolor": "white",
           "ticks": "",
           "title": {
            "standoff": 15
           },
           "zerolinecolor": "white",
           "zerolinewidth": 2
          },
          "yaxis": {
           "automargin": true,
           "gridcolor": "white",
           "linecolor": "white",
           "ticks": "",
           "title": {
            "standoff": 15
           },
           "zerolinecolor": "white",
           "zerolinewidth": 2
          }
         }
        },
        "title": {
         "text": "Data Visualization (Energy vs Loudness)"
        },
        "xaxis": {
         "anchor": "y",
         "domain": [
          0,
          1
         ],
         "title": {
          "text": "Energy"
         }
        },
        "yaxis": {
         "anchor": "x",
         "domain": [
          0,
          1
         ],
         "title": {
          "text": "Loudness"
         }
        }
       }
      }
     },
     "metadata": {},
     "output_type": "display_data"
    }
   ],
   "source": [
    "#creates 2d interactive plot using 2 features, cannot portray more than 2d\n",
    "#hover over points for info\n",
    "fig = px.scatter(\n",
    "    x=X['energy'], #liveness\n",
    "    y=X['loudness'],  #danceability\n",
    "    color_continuous_scale='viridis', \n",
    "    hover_data={'Song Name': df['Song Name']}  #, 'genre': df['genre']} \n",
    ")\n",
    "\n",
    "#set labels here\n",
    "fig.update_layout(\n",
    "    title='Data Visualization (Energy vs Loudness)',\n",
    "    xaxis_title='Energy',\n",
    "    yaxis_title='Loudness'\n",
    ")\n",
    "\n",
    "fig.show()\n",
    "fig.write_html(\"int_scatter.html\")"
   ]
  },
  {
   "cell_type": "code",
   "execution_count": null,
   "metadata": {},
   "outputs": [
    {
     "data": {
      "application/vnd.plotly.v1+json": {
       "config": {
        "plotlyServerURL": "https://plot.ly"
       },
       "data": [
        {
         "hovertemplate": "<b>%{hovertext}</b><br><br>Energy=%{x}<br>Loudness=%{y}<br>Valence=%{z}<br>color=%{marker.color}<extra></extra>",
         "hovertext": [
          "(I Can't Get No) Satisfaction - Mono Version",
          "...Baby One More Time",
          "1 On 1 - Dubscribe Remix",
          "10 Freaky Girls (with 21 Savage)",
          "100 Ways",
          "1942 (feat. Yo Gotti & YBN Nahmir)",
          "1979 - Remastered 2012",
          "2 soon",
          "2 Things",
          "2020",
          "21",
          "21 Guns",
          "22 (Taylor's Version)",
          "3:15 (Breathe)",
          "34+35",
          "360",
          "3AM in Oakland (Lo’ N Slo’)",
          "3D (feat. Jack Harlow)",
          "44 (Forget Forever)",
          "500lbs",
          "679 (feat. Remy Boyz)",
          "7 rings",
          "7HEAVEN",
          "Action! (Feat. GRAY)",
          "Addicted",
          "After All - Habstrakt Remix",
          "After All",
          "After You (feat. Calle Lehmann)",
          "Afterlife",
          "Ain't About You (feat. Kiiara)",
          "Alibi (Far Out Remix)",
          "ALIEN PARTY",
          "Alive (Acoustic)",
          "Alive (The Edge) [feat. ROOKIES] - DJ Licious Remix",
          "Alive (Trivecta Remix)",
          "Alive - Kumarion Remix",
          "All Along the Watchtower",
          "All I Got",
          "ALL MAJOR",
          "All My Friends",
          "All My Life",
          "ALL MY LOVE",
          "All Nighter",
          "All Right Now",
          "All Too Well (10 Minute Version) (Taylor's Version) (From The Vault)",
          "All Too Well",
          "All You Need To Know (feat. Calle Lehmann)",
          "Almost Is Never Enough",
          "Aloha",
          "Alone (tofû remix)",
          "Alone + Easy Target",
          "Alone - Sullivan King Remix",
          "Already Know",
          "alright",
          "American Boy",
          "American Idiot",
          "American Woman - 7\" Single Version",
          "Amsterdam",
          "And This Is Just The Intro (Live)",
          "Angel 2 Me",
          "Animal I Have Become",
          "Animals",
          "Another Me (with Dylan Matthew)",
          "Anything",
          "AP - Music from the film Boogie",
          "Apologize",
          "APT.",
          "Assault",
          "ATM",
          "Atoms - Said the Sky Remix",
          "Attention",
          "Automatic",
          "Away - TWO LANES Remix",
          "B.E.D.",
          "B.Y.S.",
          "Baby",
          "Baby again..",
          "Baby Boy (feat. Sean Paul)",
          "Back To Back",
          "Back to Life",
          "Back To U - Control Freak Remix",
          "Back To U",
          "BAD (Feat. KIMMUSEUM)",
          "Bad Alive - English Version",
          "Bad At Love",
          "Bad Bitches (feat. Megan Thee Stallion)",
          "Bad Blood (feat. Kendrick Lamar) (Taylor's Version)",
          "Bad Habits",
          "Bad Romance",
          "ball w/o you",
          "bandaids",
          "Bang Bang",
          "Bank Account",
          "Barracuda",
          "Bass Inside",
          "bb u ok?",
          "BBB",
          "Be My Lover - Toby Green Remix",
          "be my somebody new",
          "Be The One",
          "Beautiful People (feat. Khalid)",
          "Beauty And A Beat",
          "Bed Chem",
          "Bed Peace",
          "Beef With Me",
          "Beg for It",
          "Beggin'",
          "Behemoth",
          "beibs in the trap",
          "Bent",
          "beside you",
          "Best For You (feat. Selah Ford)",
          "Best Is Yet To Come (with Kyle Reynolds) - Cheyenne Giles Remix",
          "Best Is Yet To Come (with Kyle Reynolds)",
          "Best of You",
          "Better",
          "Better Apart (feat. Dresage)",
          "Better Off",
          "Better Off Lonely",
          "Better Than Heaven",
          "BHZ",
          "Big Dawgs",
          "Bipolar",
          "BIRDS OF A FEATHER",
          "Birthday Sex",
          "Bitch Better Have My Money",
          "Bitter Sweet Symphony - Remastered 2016",
          "Bittersweet Goodbye - Tiësto’s Hardcore Remix",
          "Bittersweet Melody - Nurko Remix",
          "black and white",
          "Black Dog - Remaster",
          "Black Eye",
          "Black Hole Sun",
          "Black Magic Woman - Single Version",
          "Blah Blah",
          "blah blah blah",
          "Blame (feat. John Newman)",
          "Blame Myself - ILLENIUM and Virtual Riot Remix",
          "Blank Space (Taylor's Version)",
          "bleach",
          "Blind",
          "Blink & You Will Cry",
          "Blood On Me",
          "Bloom (Nurko Remix)",
          "Blueberry Faygo",
          "Body Back (feat. Maia Wright)",
          "Boom",
          "BOOM",
          "BOP",
          "Boss (Kai Wachi Remix)",
          "Boy's a liar Pt. 2",
          "boyfriend (with Social House)",
          "Break It Down",
          "Break The Silence (feat. RBBTS)",
          "break up with your girlfriend, i'm bored",
          "Break Your Neck - Pt. 2 VIP",
          "Breakdown",
          "Breakfast",
          "Breaking the Habit",
          "Breathe (feat HALIENE & Matthew Steeper)",
          "Breathe",
          "Breathe 2.0",
          "Breathe Without",
          "Breed",
          "Bring it on (English ver.)",
          "Broken",
          "Broken Clocks",
          "Broken Love",
          "Broken Melodies - JVKE Remix",
          "Brought The Heat Back",
          "Brown Sugar",
          "Bubblegum Bitch",
          "Bullet With Butterfly Wings - Remastered 2012",
          "Bulletproof",
          "Bunker Buster",
          "BURN",
          "Bussback",
          "Butter",
          "Butterflies",
          "BUTTERFLY EFFECT",
          "Buyer's Remorse (feat. Omar Apollo)",
          "By My Side",
          "By the Way",
          "California (feat. Warren Hue)",
          "California Dreamin' (feat. High Jinx)",
          "California Gurls",
          "Californication",
          "Call",
          "Call Me",
          "Call Me Maybe",
          "Can You See It",
          "can't slow down",
          "Can't Stop",
          "Can't Stop Us Now",
          "Candy Flip",
          "Can’t Fight The Feeling",
          "CARNIVAL",
          "Carry Me Home (feat. Jake Reese)",
          "Carry on Wayward Son",
          "Castle on the Hill",
          "catching feelings",
          "Chameleon",
          "Change",
          "CHAOS",
          "Chasing That Feeling",
          "Check Me Out",
          "Check Out",
          "Cheese & Wine",
          "Chemical Bond",
          "Chicken Soup",
          "Chunky",
          "Close to Me",
          "close with desires (feat. thuy)",
          "Close your eyes",
          "Closer",
          "cloud 11",
          "CLOUT CHASER",
          "Club Can't Handle Me (feat. David Guetta)",
          "Cold Skin - MitiS Remix",
          "Collard Greens",
          "Colorblind (feat. Dayseeker)",
          "Come & Talk To Me",
          "Come and See Me (feat. Drake)",
          "Come Out and Play",
          "Come Together - Remastered 2009",
          "Consequences",
          "Constellation",
          "Corte Madera, CA",
          "cough drops",
          "Counting Stars",
          "CPR",
          "Crawl Outta Love",
          "Crazy Times",
          "Criminals",
          "Crown Of Thorns",
          "Cruel Summer",
          "Crunk Ain't Dead",
          "Crusade",
          "Crushes",
          "Cry (with John Martin)",
          "cry.",
          "curious/furious",
          "Cutting Shapes",
          "D (Half Moon)",
          "Daisies",
          "Damage",
          "Dance Monkey",
          "Dance No More (with Kaleena Zanders)",
          "Danger Days",
          "Dangerous (feat. Jeremih and PnB Rock)",
          "Dangerous Woman",
          "Dani California",
          "Danza Kuduro - Tiësto Remix",
          "Dark Horse",
          "Dark Knight Dummo (feat. Travis Scott)",
          "Darl+ing",
          "dashstar* - VIP",
          "Day That I Died",
          "Daylight",
          "DAYLIGHT",
          "DEAD MAN WALKING",
          "Dead or Alive",
          "DEATHMATCH",
          "Debut",
          "Decimate",
          "Deep",
          "Deep Blue",
          "Deep Down Low",
          "Delilah (pull me out of this)",
          "Demisaur",
          "Demons",
          "demons",
          "Despacito - Remix",
          "Destination",
          "Detroit Rock City",
          "Diamond (with Gloria Kim)",
          "Diamonds (feat. Micky Blue)",
          "Diamonds",
          "Die For You - Dabin Remix",
          "Die For You",
          "Die With A Smile",
          "Dimension",
          "Distance",
          "Distance - Volac Remix",
          "Ditto",
          "DO IT",
          "Do It Like That",
          "Do It To It - Tiësto Remix",
          "Do Not Disturb",
          "Do or Die",
          "do u really?",
          "Do You Like Bass?",
          "Does She",
          "Doja",
          "DOMINATION",
          "Don't",
          "Don't Cry (Original)",
          "Don't Let Me Down (feat. Daya) - Illenium Remix",
          "Don't Let Me Down",
          "Don't Look Down",
          "Don't Run",
          "Don't Stop",
          "Don't Stop The Music",
          "Don't Sweat The Technique",
          "Don't Wanna Fall",
          "Don't Wanna Know",
          "Done With Love",
          "Don’t Leave",
          "Don’t Let Me Let Go (with ILLENIUM & EVAN GIIA)",
          "Don’t Wake Me Up",
          "Dopamine",
          "DOPE",
          "Dope Lovers",
          "Double Life - From \"Despicable Me 4\"",
          "double take",
          "Down Below",
          "Drag Me Down",
          "Dream",
          "Dreams, Fairytales, Fantasies (feat. Brent Faiyaz & Salaam Remi)",
          "Drift",
          "Drifting",
          "DROP IT",
          "Drown (Effin Remix)",
          "Drown",
          "Drown the Sky",
          "Drowning (feat. Kodak Black)",
          "Drugs",
          "Drugs From Amsterdam",
          "drunk",
          "DUCKWORTH.",
          "Dynamite",
          "Dynamite",
          "Dynamite",
          "E.T.",
          "Each Other",
          "Earth, Wind & Fire (English Ver.)",
          "Eastside (with Halsey & Khalid)",
          "Easy",
          "Eat Your Man (with Nelly Furtado)",
          "Edge",
          "Edge of Seventeen",
          "Eenie Meenie",
          "Electricity",
          "Elements Of A New Life",
          "Enchanted (Taylor's Version)",
          "Encore",
          "End Of The World",
          "End of Time",
          "Enough",
          "Entertainer",
          "Envy Me",
          "Enzo (with Sheck Wes, feat. Offset, 21 Savage & Gucci Mane) - Malaa Remix",
          "Erase You",
          "escape",
          "Escape - John Summit Remix",
          "Espresso",
          "ETA",
          "eternal sunshine",
          "Even Flow",
          "Everlong",
          "Every Step",
          "Every Summertime",
          "Everybody Feels (feat. Zack Gray)",
          "Everything You Have Done",
          "Everytime",
          "Everytime We Touch",
          "Evolution",
          "Exchange",
          "Exile",
          "eyes of live",
          "F.N",
          "faded",
          "Faded - ODESZA Remix",
          "Fading Out",
          "Fair Trade (with Travis Scott)",
          "fairy",
          "fairy godmother",
          "Faith",
          "FAKE LOVE",
          "Fall In Love Again",
          "Fallen (feat. Desiree Dawson) (WILLIAM BLACK Remix)",
          "Fallin' All In You",
          "Falling Apart",
          "Falling In Love",
          "Fallin’ (Adrenaline) - AB6IX Remix",
          "Falls (Reprise)",
          "FANCY",
          "Far Away (Feat. H:SEAN, SWRY) (Prod. Liam K)",
          "Far Away",
          "Farewell, Neverland",
          "Fashion Killa",
          "Favorite Mistake",
          "Feedback",
          "Feel It",
          "Feel Like",
          "Feel Something (With I Prevail)",
          "Feel the POP",
          "Feel The Volume",
          "feel U luv Me",
          "Feelin' Like",
          "FEELING GUD",
          "Feels (feat. Pharrell Williams, Katy Perry & Big Sean)",
          "Feels Right (feat. RUNN)",
          "Figure You Out",
          "find your way",
          "Fine Day Anthem",
          "Finesse",
          "Fire & Desire",
          "Firework",
          "First Time (feat. Dylan Matthew)",
          "Flatline",
          "Flatline - Reprise",
          "Floating (feat. Khalid) [Ekali Remix]",
          "Flocky Flocky (feat. Travis Scott)",
          "Flowering",
          "Fly Away",
          "Fly Kicks - Wax Motif Remix",
          "Fly Kicks - Wax Motif Remix",
          "Followers",
          "For What It's Worth",
          "Forget It",
          "Formula",
          "Fortress",
          "Fractures (feat. Nevve)",
          "Frame of Mind",
          "FRANCE FREESTYLE",
          "Freak - VIP Remix Edit",
          "FREAK",
          "Freak Hoe",
          "FREAK IN YOU",
          "Free (with Ellie Goulding)",
          "Free (with Ellie Goulding) - Joel Corry Remix",
          "Free Fall (Kompany Remix)",
          "Friends",
          "Fuego",
          "fukumean",
          "Funny",
          "Futsal Shuffle 2020 - Bonus Track",
          "G Shit (Badklaat Remix)",
          "Gang Over Luv",
          "Gangsta Gangsta",
          "Gasoline",
          "Gaspar Yanga",
          "Gassed Up",
          "Gates Of Hell",
          "Gece Terörü - VOLB3X Remix",
          "Gecko (Overdrive) - Radio Edit",
          "Geekin’",
          "GERONIMO!",
          "Get A Guitar (English Version)",
          "Get Along Better",
          "Get Away",
          "Get U There",
          "Getting Late (feat. Danni Carra)",
          "GHOST",
          "Ghost",
          "Ghost Town",
          "Gimme Shelter",
          "Gimme Some Keys",
          "Girl With The Tattoo Enter.lewd",
          "Girls Need Love (with Drake) - Remix",
          "Gist",
          "Give It Away",
          "Give It To Me - Full Vocal Mix",
          "glhf<3",
          "Go Down (feat. TisaKorean)",
          "God Damnit (with Call Me Karizma)",
          "God is a woman",
          "GODS",
          "Godspell (feat. Taiki Nulight)",
          "Godzilla",
          "Going",
          "Going Nowhere",
          "Gold (Stupid Love)",
          "Gone",
          "Good Care",
          "Good Days",
          "Good Girls",
          "Good Riddance (Time of Your Life)",
          "Good Things Fall Apart (with Jon Bellion)",
          "Good Things Fall Apart vs. Sad Songs (With Said The Sky feat. Annika Wells)",
          "Goodbye To A World",
          "Goodies",
          "Goosebumps",
          "Gore On The Dancefloor",
          "Gorgeous (with Blanke & Bipolar Sunshine)",
          "Green Tea & Honey",
          "Grime Rate",
          "Griztronics",
          "Guap",
          "guidance",
          "gun smoke",
          "Hallucinogen",
          "Happier",
          "Happily Ever After",
          "Happy Fools (feat. Coi Leray)",
          "Happy Where We Are",
          "HARD KNOCK LULLABY",
          "Hard To Say Goodbye (feat. Chloe Angelides)",
          "Head & Heart (feat. MNEK) - Tiësto Remix",
          "HEAD OVER HEELS",
          "HEADSPACE",
          "Heal Me - Biscits Remix",
          "Heart",
          "Heart of Stone (feat. Nevve)",
          "Heart-Shaped Box",
          "Hearts on Fire",
          "Heat Waves",
          "Hell on Earth",
          "Hello, Goodbye (feat. Heather Sommer)",
          "Her Way",
          "Hey, Soul Sister",
          "High Hopes",
          "Highway to Heaven - English Version",
          "Hitta (feat. Juicy J)",
          "Hola",
          "hold me, never let go",
          "Hold On (feat. Cheat Codes) - 2020 Edit",
          "Hold On (with Georgia Ku)",
          "Hold Onto Your Love",
          "Holding On (Rome In Silver Remix)",
          "Holding On (yetep Remix)",
          "Holding On",
          "Holiday / Boulevard of Broken Dreams",
          "Holiday",
          "Home",
          "Home - Spag Heddy Remix",
          "Honest",
          "Honesty",
          "Honey",
          "Honey!",
          "Hoodie (feat. BSlime & Lil Gotit)",
          "HOP OUT THE VAN",
          "Horizon",
          "Hot N Cold",
          "House of Gold",
          "How Sweet",
          "how2fly",
          "Human (feat. Echoes)",
          "Hundred",
          "Hurricane",
          "Hurt",
          "Hurting Too",
          "Hurts Like This",
          "Hush",
          "HVN ON EARTH (with Kodak Black)",
          "Hype Boy",
          "Hypnocurrency",
          "I Admit It (feat. 24kGoldn)",
          "I Can't Escape - MUST DIE! Remix",
          "I Don't Care (with Justin Bieber)",
          "I Gotta Feeling",
          "I Hate Everything About You",
          "I Hate Myself for Loving You",
          "I Hope",
          "I Kissed A Girl",
          "I Knew You Were Trouble (Taylor's Version)",
          "I KNOW ?",
          "I Know",
          "I Know",
          "I Like Me Better",
          "I Love It",
          "I Love You.",
          "I Need Your Love (feat. Ellie Goulding)",
          "i swear i'll never leave again",
          "I Took A Pill In Ibiza - Seeb Remix",
          "I Wanna Know",
          "I WARE HOUSE",
          "I Was Made For Lovin' You (feat. Nile Rodgers & House Gospel Choir)",
          "I Write Sins Not Tragedies",
          "I'll Go",
          "I'm Dreaming",
          "I'm Fine",
          "I'm Not Sorry",
          "i'm so tired...",
          "I'm Yours",
          "I.Crawl",
          "IDGAF (feat. Yeat)",
          "Idontwannaknowyou!",
          "If I Ain't Got You",
          "If I Can't Have You",
          "If I'm Wrong",
          "If It Isn't You",
          "if it's not you",
          "If Only (Mega Collab)",
          "If You Let Me",
          "Immigrant Song - Remaster",
          "imperfect for you",
          "Impossible",
          "In My Blood",
          "In My Mind",
          "In The Air Tonight - 2015 Remastered",
          "In The Bible (with Lil Durk & Giveon)",
          "In The Yuma (feat. Aatig)",
          "In Your Arms (with X Ambassadors)",
          "Infected",
          "Infinite",
          "International Love (feat. Chris Brown)",
          "Interstate Love Song - 2019 Remaster",
          "Into You (feat. Karra)",
          "Into You",
          "Invisible (feat. ROSIE)",
          "IRATE (Freestyle)",
          "Is You Down",
          "Island (feat. Nevve)",
          "It Won't Kill Ya",
          "It's All on U (T-Mass & LZRD Remix)",
          "It's Alright",
          "It's gotta be you",
          "IT'S NOT THAT SERIOUS",
          "IT'S YOU (feat. keshi)",
          "It's You (Feat. ZICO)",
          "Jam & Butterfly",
          "Jasmine",
          "Jesus of Suburbia",
          "Johnny Dang (with Paul Wall & DRODi)",
          "Jungle",
          "jupiter",
          "JUS NOT THAT",
          "just a boy",
          "Just For A Moment (feat. Iselin)",
          "Just Like You",
          "Just Might (with PARTYNEXTDOOR)",
          "Just the Way You Are",
          "Just Wanna Rock",
          "KAMIKAZE",
          "Kamikaze",
          "KARMA",
          "Keep You",
          "Kickstart My Heart",
          "Kill Bill",
          "Kill Me With Your Love",
          "Killin' Me Good (English Ver.)",
          "Kiss Kiss (feat. T-Pain)",
          "KISS ME",
          "Kiss Me Thru The Phone",
          "Knife Talk (with 21 Savage ft. Project Pat)",
          "Know Me (Feat. DEAN)",
          "Kryptonite",
          "Kung Fu",
          "La Danza",
          "la trains",
          "Lambo - RUVLO Remix",
          "Last Chance",
          "Last Friday Night (T.G.I.F.)",
          "Last Nite",
          "Last Of Me - Arknights Soundtrack",
          "late at night",
          "Late Night",
          "Lay It Down",
          "Lean",
          "Learn to Fly",
          "Left and Right (Feat. Jung Kook of BTS)",
          "Lego House",
          "Lemon (feat. Drake) - Drake Remix",
          "Let It Die",
          "Let Light Out (feat. Sunnie Williams)",
          "Let Me Love You",
          "Let Me Love You - DAZZ Remix",
          "Let Me Love You - R3hab Remix",
          "letstalkaboutit",
          "Levitating (feat. DaBaby)",
          "Life Goes On",
          "Lifeline",
          "lift me from the ground",
          "Light It Up",
          "Lights",
          "Lights Down Low",
          "Lights Out",
          "Like A Fool",
          "Like a Stone",
          "Like Gold",
          "like i need u",
          "Like I Want You",
          "Like Me",
          "LIMBO",
          "LMLY",
          "Location",
          "Lockdown",
          "Locked out of Heaven",
          "Lonely (with Chandler Leighton)",
          "Long Way Home",
          "Look At My",
          "LOOK SO PRETTY",
          "Lord Pretty Flacko Jodye 2 (LPFJ2)",
          "Lose My Mind",
          "Losing Control",
          "Lost",
          "Lost In Japan",
          "LOT OF ME",
          "LOVE",
          "Love Again (feat. WAVZ)",
          "Love Galore (feat. Travis Scott)",
          "Love in This Club, Pt. II (feat. Beyoncé & Lil' Wayne)",
          "Love Is Gone - R3HAB Remix",
          "Love Is Gone",
          "Love Is Gone - Synymata Remix",
          "Love Me",
          "Love Me Harder",
          "Love Me Like That",
          "Love Me Like You Do",
          "Love Somebody",
          "Love Story (Taylor’s Version)",
          "Love Yourself",
          "Lovers In A Past Life (with Rag'n'Bone Man)",
          "Lovers In The Night",
          "Lovin On Me",
          "Lovin' Every Minute",
          "Low (feat. T-Pain)",
          "Loyal (feat. Lil Wayne & Tyga)",
          "LUNCH",
          "Lune - Manila Killa Remix",
          "Lying To You",
          "MADE UP YOUR MIND",
          "Magic",
          "Magnolia",
          "Make It Happen - Dom Dolla Remix",
          "Make Me Feel",
          "Make Up (Feat. Crush)",
          "Malibu (feat. Polo G)",
          "Malice",
          "Mama's Glizzy",
          "Marvins Room",
          "Master of Puppets (Remastered)",
          "May I Ask",
          "ME! (feat. Brendon Urie of Panic! At The Disco)",
          "Mean It",
          "Memories",
          "Memories Of You",
          "Memory",
          "Menace",
          "Mercy",
          "Message In A Bottle",
          "MIDDLE CHILD",
          "Midnight Cowboy",
          "Millions",
          "Miracle (with Ellie Goulding) - Mau P Remix",
          "Miracle Maker",
          "Mirror",
          "Mirrors",
          "MISS HOLLYWOOD",
          "Miss You",
          "Missed call (Feat. Chancellor)",
          "Missing You (feat. AC Slater & Kaleem Taylor)",
          "Mistakes",
          "Mo Bamba",
          "Molly",
          "Moments",
          "Money In The Grave (Drake ft. Rick Ross)",
          "Money Longer",
          "Monkey Wrench",
          "MONTA",
          "Moon (And It Went Like)",
          "Moon Rider (feat. Wrabel)",
          "MOONLIGHT SUNRISE",
          "Moonlit Floor (Kiss Me)",
          "More Baby",
          "More Than a Feeling",
          "Mother Tongue (Live Performance) [Alex Kade Edit]",
          "Moves Like Jagger - Studio Recording From \"The Voice\" Performance",
          "Movies",
          "Moving Slower",
          "Mr. Blue Sky",
          "Mr. Brightside",
          "Mula",
          "MURDER",
          "My Ceiling Disappeared",
          "My City (feat. Katy Tiz)",
          "MY EYES",
          "My Hero",
          "My House",
          "My Humps",
          "My Luv (feat. Bibi Bourelly)",
          "My Place (feat. Reece)",
          "My Shit",
          "N 2 Deep",
          "Nakamura",
          "Nasty",
          "Nephew (feat. Lil Pump)",
          "Never Came Through",
          "Never Gets You Back",
          "New Blood (with Boy Matthews)",
          "New Blood (with Boy Matthews) - Myon Summer Of Love Mix",
          "New Blood (with Boy Matthews) - Riot Ten Remix",
          "New Gold (feat. Tame Impala and Bootie Brown) - Dom Dolla Remix",
          "next door (feat. ASTN)",
          "Next Level",
          "Nice & Slow - Ryan James Carr Remake",
          "Nice Guy (English Ver.)",
          "Nightlight",
          "No Blueberries",
          "No Diggity",
          "No One",
          "No One Knows",
          "No Pole",
          "NO PROBLEM (Feat. Felix of Stray Kids)",
          "No Silhouette",
          "No Son Of Mine",
          "no tears left to cry",
          "Nobody Compares To You (feat. Katie Pearlman)",
          "Nobody Gets Me",
          "Nonstop",
          "Normal Girl",
          "North Face",
          "Not Like Us",
          "Nothing Left (feat. RUNN)",
          "Nothing's Left",
          "Notorious",
          "Notorious",
          "Number 1",
          "NVMD",
          "Oakland Pt. 2",
          "Oceans & Galaxies",
          "Oceans",
          "OH GIRL",
          "Oh my god - English Version",
          "Oh, the Moon!",
          "OK Not To Be OK - Duke & Jones Remix",
          "OMG",
          "ON FIRE",
          "On My Mind",
          "On My Mind - Radio Edit",
          "On My Own",
          "Once Again",
          "One Kiss (with Dua Lipa)",
          "One Last Time",
          "One More Day",
          "One More Night",
          "One Night Only",
          "One That Got Away (with Dylan Matthew)",
          "One Way Or Another - Remastered 2001",
          "Only Now (feat. Tyler Graves)",
          "onoffonoff",
          "Oops!...I Did It Again",
          "Open Arms (feat. Travis Scott)",
          "Opps On Fire",
          "options",
          "ORANGE SODA",
          "Orpheus",
          "Our Fire",
          "Out Of Love (feat. Internet Money)",
          "OUT WEST (feat. Young Thug)",
          "Outta Here",
          "Over",
          "Over Getting Over You",
          "Over You (feat. Lena Leon)",
          "Overkill",
          "Oxygen",
          "p angels",
          "Paper Cuts (feat. New Vaticans)",
          "Parachute",
          "Paris in the Rain",
          "Part-Time Lover",
          "Party Girl",
          "Party In The U.S.A.",
          "Party Rock Anthem",
          "Payphone",
          "Peace - Kaivon Remix",
          "Pegasus",
          "Perfect",
          "Perfect Night",
          "Petals from a Rose",
          "Phase Me",
          "Phoenix (Blanke Remix)",
          "PHONKY TOWN",
          "Photograph",
          "Piece Of Me (with LOVA)",
          "Pink cheeks",
          "Pink Friday Girls",
          "Pins & Needles - Xan Griffin Remix",
          "Play Pretend",
          "Playing Games (with Bryson Tiller) - Extended Version",
          "Please Please Please",
          "Plug Walk",
          "Poison (With Paris Shadows)",
          "Poison",
          "Pokemon Ü",
          "Poker Face",
          "Porsches In The Rain",
          "positions",
          "Potions",
          "Pour It Up",
          "pov",
          "POV",
          "Power",
          "Practice",
          "Pray (feat. Kameron) [Blanke Remix]",
          "Prayer Of The Refugee",
          "Pretty Fly (For A White Guy)",
          "Privileged Rappers",
          "Problem",
          "PROJECT - 2021",
          "Psy Ops",
          "Psyclone",
          "Pull Up (feat. NAV)",
          "Pump It Louder",
          "Pure Water (with Migos)",
          "Push To Start (feat. No/Me)",
          "Put Yo Hands Up",
          "PYRO",
          "Queen of Hearts",
          "Quit (feat. Ariana Grande)",
          "Rail Breaker (feat. Rico Act)",
          "Rain On Me (with Ariana Grande)",
          "Ransom",
          "Raver",
          "Ray Of Solar",
          "Red",
          "red sky",
          "REDLIGHT - Holy Goof Remix",
          "Rehab (Winter In Paris)",
          "Remember (feat. Stevie Appleton)",
          "reminders",
          "Replace You",
          "REPLAY (with Shiah Maisel)",
          "Returning To You (feat. Alison May) - Kill The Noise Remix",
          "Returning To You (feat. Alison May) - Kill The Noise Remix",
          "Revolt",
          "Revolution Radio",
          "Ric Flair Drip (with Metro Boomin)",
          "Rich Baby Daddy (feat. Sexyy Red & SZA)",
          "Rich Nigga Shit (feat. Young Thug)",
          "Ride It",
          "Riders on the Storm",
          "Right Here Right Now (Feat. LOCO & JAY PARK)",
          "Right My Wrongs",
          "Riptide",
          "Rise Up (feat. Vamero)",
          "Roar",
          "Rock Ur World",
          "Rock You Like A Hurricane",
          "Rock Your Body",
          "Rockabye (feat. Sean Paul & Anne-Marie)",
          "Rocket Man (I Think It's Going To Be A Long, Long Time)",
          "Rockstar",
          "Rolex",
          "Rose",
          "Roses",
          "Rubbin off the Paint",
          "Rude Boy",
          "Run - Acoustic",
          "Run",
          "Run Free (Countdown)",
          "Running Away",
          "Running To You",
          "Rush Over Me",
          "S&M",
          "SAD",
          "Sad Boy (feat. Ava Max & Kylie Cantrall) - Club Remix",
          "Sad B*tch",
          "Sad Machine",
          "SAD SONG (English Version)",
          "Sad Songs (with Said The Sky & Annika Wells)",
          "Sail Away (feat. Jay Mason)",
          "Saint Cecilia",
          "Salvation",
          "San Frandisco",
          "Sativa",
          "Saturn",
          "Save Me",
          "Save Me From Myself",
          "Save Your Tears (with Ariana Grande) (Remix)",
          "Saving Up",
          "Say",
          "Say Hello - AVAO Radio Edit",
          "Say It",
          "Say Less - Eptic Remix",
          "SAY MY GRACE (feat. Travis Scott)",
          "Say My Name",
          "Say You Won't Let Go",
          "Scaredy Cat",
          "Scars To Your Beautiful",
          "Schönefeld",
          "SECRETS",
          "See In Color",
          "See You Again",
          "sentimental (feat. Swervy)",
          "September - MENTIS Remix",
          "Session 32",
          "SET ME FREE (ENG)",
          "Seven (feat. Latto)",
          "Seven Nation Army",
          "Sex on Fire",
          "SexyBack (feat. Timbaland)",
          "Señorita",
          "Shadow of the Season",
          "Shadows - Acoustic",
          "Shadows",
          "Shake It Off (Taylor's Version)",
          "Shape of You",
          "Shattered (feat. RUNN)",
          "She Don't (feat. Ty Dolla $Ign)",
          "Shelter",
          "Shenanigans (feat. Yung Bans)",
          "Shivering",
          "Shoota (feat. Lil Uzi Vert)",
          "SHOOTING STAR",
          "Shotta Flow",
          "Shouldn't Be",
          "Show Me Love - EDX Remix / Radio Edit",
          "Sick and Tired",
          "Side Effects (feat. SATICA)",
          "Side To Side",
          "Sideways (feat. Valerie Broussard) - Laidback Luke Remix",
          "Sideways",
          "Silver Lining (feat. KARRA)",
          "Since U Been Gone",
          "SIRENS",
          "SkeeYee",
          "skeletons",
          "Skinny Loser",
          "Sleep Now In the Fire",
          "Slew Dem",
          "Slide (feat. Frank Ocean & Migos)",
          "SLIDE FOR ME",
          "Slither",
          "Slow Motion",
          "Slowly",
          "SLUT ME OUT 2",
          "SMACK TALK",
          "Smack Up (Svdden Death Remix)",
          "Smells Like Teen Spirit",
          "Smooth Criminal",
          "Snakes",
          "Snooze",
          "So Beautiful",
          "So Far Away (feat. Jamie Scott & Romy Dya)",
          "Sober",
          "Soft Spot",
          "SOMEBODY",
          "Somebody To Love (feat. GLNNA)",
          "Someone Else",
          "Someone Else",
          "Something Comforting",
          "Something In The Way",
          "Something Just Like This",
          "Sorry",
          "SouthSide - Yultron Remix",
          "Souvenir",
          "Spectrum (Say My Name) - Calvin Harris Remix",
          "Spectrum",
          "SPEED TRAP",
          "Spin Again",
          "Spiritual (Mriya) [feat. Brooke Tomlinson]",
          "SPLAT",
          "Spotless",
          "Standing Next to You",
          "Starbright",
          "Starlight",
          "Starships",
          "Starships",
          "Start Again (feat. Fiora)",
          "Starting To",
          "Statues",
          "stay (with Lydia Ganada)",
          "Stay",
          "Stay Ready (What A Life)",
          "Stereo Hearts (feat. Adam Levine)",
          "Still Breathing",
          "Stitches",
          "Story Of My Life (feat. Sueco and Trippie Redd) - RIOT Remix",
          "Stranger in the Dark",
          "Strangers",
          "Stressed Out",
          "Strip That Down",
          "Stuck On You",
          "Stuck with U (with Justin Bieber)",
          "Suffer (feat. Elle Vee)",
          "Sugar",
          "Sugarplum Elegy",
          "Suge",
          "Sum 2 Prove",
          "Summer",
          "summer",
          "Summertime - Live",
          "SUMO | ZUMO",
          "Sun Comes Up On You (feat. Amidy)",
          "Sun Is Dark",
          "Super Freaky Girl",
          "Super Shy",
          "Superhero",
          "Superhuman (Spag Heddy Remix) [feat. Eric Leva]",
          "Surp On The Surp",
          "Swallow My Pride",
          "Swan",
          "SWEAT",
          "Sweater Weather",
          "Sweet Child O' Mine",
          "Sweet Disposition - John Summit & Silver Panda Remix",
          "Sweet Dreams",
          "Sweet Juice",
          "sweet sweet",
          "Sweet Venom (English Ver.)",
          "Swervin (feat. 6ix9ine)",
          "Swish Swish",
          "Symphony (feat. Zara Larsson)",
          "System Failure",
          "Take Cover - Manila Killa Remix",
          "Take Me - Not Your Dope Remix",
          "Take Me Away",
          "Take Me Out",
          "Take Ya Head Off",
          "Take You Down",
          "Take You Down - Nurko Remix",
          "Take Your Time (feat. Satellite Empire)",
          "Talk talk featuring troye sivan",
          "Taste",
          "Tattooed Heart",
          "Tattoos Together",
          "TECHNO + TEQUILA (feat. Morgan Harvill)",
          "Teenage Dream",
          "TELL ME",
          "Tell Me It's Over (feat. Summer Walker & 6LACK)",
          "Tell Me Why - MEDUZA Remix",
          "Temptation (feat. Poppy Baskcomb)",
          "Texas",
          "Texas Cyclone",
          "Text Me",
          "thank u, next",
          "That Fiya",
          "That's What I Like",
          "That’s Why (with GOLDN)",
          "The A Team",
          "the boy is mine",
          "The Boys Are Back In Town",
          "The Business",
          "The Calling",
          "The Deep",
          "The Diary of Jane - Single Version",
          "The Girl",
          "The Keeper",
          "The Kill",
          "The London (feat. J. Cole & Travis Scott)",
          "The Man Who Sold The World - Live",
          "The Motion",
          "The Motto",
          "The Music Began To Play",
          "The Night Is Still Young",
          "The Nights",
          "The One - NGHTMRE Remix",
          "The One That Got Away",
          "The Only Way Is Up - Radio Edit",
          "The Parade",
          "The People - Dimatik Remix",
          "The Pretender",
          "The Race - Remix",
          "The Thrill",
          "The Universe Is Yours (feat. Micah Martin)",
          "The Weekend",
          "Then",
          "There x2",
          "There's No Way (feat. Julia Michaels)",
          "There's Nothing Holdin' Me Back",
          "Thicc Boi",
          "THINK ABOUT YOU",
          "Thinking out Loud",
          "thirst",
          "This City",
          "This Is a Call",
          "This Is Goodbye (feat. Azuria Sky)",
          "This Is House",
          "this is what forever feels like (with Nick Jonas)",
          "Throwin' Elbows",
          "TIL FURTHER NOTICE (feat. James Blake & 21 Savage)",
          "Time Stood Still",
          "Times Like These",
          "Tiptoe",
          "To Myself",
          "TOES (feat. Lil Baby & Moneybagg Yo)",
          "Tokyo",
          "Too Good",
          "Topanga",
          "TORE UP",
          "Touch & Go (Remix)",
          "TOUCH",
          "Touch Me - PAX & Rui Da Silva Version",
          "Toxic",
          "Traingazing",
          "Traingazing",
          "Transportin'",
          "Treading Water",
          "Treat You Better",
          "Tripping Over Air",
          "tsunAmi",
          "Turks (with Gunna & ft. Travis Scott)",
          "Turn Back Time",
          "Turn off the Lights - Cages Remix",
          "Turn off the Lights",
          "Turn On The Lights again.. (feat. Future & Fred again..) - Anyma Remix",
          "Twisted",
          "Typical (feat. Lars Martin)",
          "U GOT ME",
          "U Say (feat. 6LACK)",
          "Ultimate",
          "Umbrella",
          "Uncle M",
          "Unconditionally",
          "Under the Bridge",
          "UNDERSTAND",
          "Universally Speaking",
          "universe",
          "Untouchable - Extended Mix",
          "Unz Unz",
          "Up In Arms",
          "Uprising",
          "Upside Down",
          "Uptown Funk (feat. Bruno Mars)",
          "us",
          "Us",
          "Used to Me",
          "VALENTINO",
          "VALENTINO - Imanbek Remix",
          "Vault",
          "Versace on the Floor",
          "VHS RAVE",
          "VIBEZ",
          "Villain",
          "VIRUS - Odd Mob Remix",
          "Visionaries (Remix)",
          "Volcano Girls",
          "Wait (feat. A Boogie Wit da Hoodie)",
          "Wait",
          "Wait Another Day",
          "Wake Me Up",
          "Wake Me Up",
          "Wake Me up When September Ends",
          "Wake Up - 12th Planet Remix",
          "Wake Up",
          "Walk",
          "Walk This Way",
          "Walk Thru Fire",
          "Want to Want Me",
          "Want You Bad",
          "War Game",
          "War With Heaven",
          "warm - English Version",
          "Wassup",
          "Wasteland - Wooli Remix",
          "Watch (feat. Lil Uzi Vert & Kanye West)",
          "Watermelon Sugar",
          "Way Out (feat. Big Sean)",
          "We Are Never Ever Getting Back Together (Taylor's Version)",
          "we can't be friends (wait for your love)",
          "We Could Be Love",
          "We Found Love",
          "Welcome To The People",
          "Welcome to the Playhouse",
          "WET",
          "What A Life (feat. Stevie Appleton)",
          "What A Shame",
          "What About You",
          "What This Could Be",
          "What You Heard",
          "What You've Done To Me (feat. Bemendé)",
          "What's My Name?",
          "What's The Time Where You Are?",
          "Whatever She Wants",
          "What’s Done Is Done",
          "When I Come Around",
          "When I'm With You (feat. neverwaves)",
          "When This Is Over",
          "Where Ya At (feat. Drake)",
          "Where You Want",
          "Where'd U Go",
          "wherever u r (ft. V of BTS)",
          "While We're Young",
          "Who",
          "Who You Foolin",
          "Whole Lotta Drugs",
          "Whole Lotta Love - 1990 Remaster",
          "Wicked Game",
          "Wide Awake",
          "Wild And Broken (feat. RBBTS)",
          "Wild Ones",
          "Wildest Dreams (Taylor's Version)",
          "Without Me",
          "Without You",
          "Woah",
          "Won't Get Fooled Again - Original Album Version",
          "Work",
          "Worth It",
          "Written",
          "wRoNg (feat. Kehlani)",
          "Wus Good / Curious",
          "XO (Only If You Say Yes) (English Ver.) Feat. JVKE",
          "xoxosos",
          "Yeah! (feat. Lil Jon & Ludacris)",
          "yes, and?",
          "You (feat. Travis Scott)",
          "You",
          "You And Me Now",
          "You Belong With Me (Taylor’s Version)",
          "you broke me first - Gryffin Remix",
          "You Don't Even Know Me",
          "You Know You Like It - Tchami Remix",
          "You Need To Calm Down",
          "You Really Got Me - 2015 Remaster",
          "You've Done Enough",
          "Young Dumb & Broke",
          "Young Harleezy",
          "Your Love (9PM)",
          "Your Love",
          "YSL (feat. Playboi Carti)",
          "zombie pop",
          "Zoom",
          "_WORLD"
         ],
         "legendgroup": "",
         "marker": {
          "color": [
           0,
           1,
           2,
           3,
           4,
           5,
           6,
           7,
           8,
           9,
           10,
           11,
           12,
           13,
           14,
           15,
           16,
           17,
           18,
           19,
           20,
           21,
           22,
           23,
           24,
           25,
           26,
           27,
           28,
           29,
           30,
           31,
           32,
           33,
           34,
           35,
           36,
           37,
           38,
           39,
           40,
           41,
           42,
           43,
           44,
           45,
           46,
           47,
           48,
           49,
           50,
           51,
           52,
           53,
           54,
           55,
           56,
           57,
           58,
           59,
           60,
           61,
           62,
           63,
           64,
           65,
           66,
           67,
           68,
           69,
           70,
           71,
           72,
           73,
           74,
           75,
           76,
           77,
           78,
           79,
           80,
           81,
           82,
           83,
           84,
           85,
           86,
           87,
           88,
           89,
           90,
           91,
           92,
           93,
           94,
           95,
           96,
           97,
           98,
           99,
           100,
           101,
           102,
           103,
           104,
           105,
           106,
           107,
           108,
           109,
           110,
           111,
           112,
           113,
           114,
           115,
           116,
           117,
           118,
           119,
           120,
           121,
           122,
           123,
           124,
           125,
           126,
           127,
           128,
           129,
           130,
           131,
           132,
           133,
           134,
           135,
           136,
           137,
           138,
           139,
           140,
           141,
           142,
           143,
           144,
           145,
           146,
           147,
           148,
           149,
           150,
           151,
           152,
           153,
           154,
           155,
           156,
           157,
           158,
           159,
           160,
           161,
           162,
           163,
           164,
           165,
           166,
           167,
           168,
           169,
           170,
           171,
           172,
           173,
           174,
           175,
           176,
           177,
           178,
           179,
           180,
           181,
           182,
           183,
           184,
           185,
           186,
           187,
           188,
           189,
           190,
           191,
           192,
           193,
           194,
           195,
           196,
           197,
           198,
           199,
           200,
           201,
           202,
           203,
           204,
           205,
           206,
           207,
           208,
           209,
           210,
           211,
           212,
           213,
           214,
           215,
           216,
           217,
           218,
           219,
           220,
           221,
           222,
           223,
           224,
           225,
           226,
           227,
           228,
           229,
           230,
           231,
           232,
           233,
           234,
           235,
           236,
           237,
           238,
           239,
           240,
           241,
           242,
           243,
           244,
           245,
           246,
           247,
           248,
           249,
           250,
           251,
           252,
           253,
           254,
           255,
           256,
           257,
           258,
           259,
           260,
           261,
           262,
           263,
           264,
           265,
           266,
           267,
           268,
           269,
           270,
           271,
           272,
           273,
           274,
           275,
           276,
           277,
           278,
           279,
           280,
           281,
           282,
           283,
           284,
           285,
           286,
           287,
           288,
           289,
           290,
           291,
           292,
           293,
           294,
           295,
           296,
           297,
           298,
           299,
           300,
           301,
           302,
           303,
           304,
           305,
           306,
           307,
           308,
           309,
           310,
           311,
           312,
           313,
           314,
           315,
           316,
           317,
           318,
           319,
           320,
           321,
           322,
           323,
           324,
           325,
           326,
           327,
           328,
           329,
           330,
           331,
           332,
           333,
           334,
           335,
           336,
           337,
           338,
           339,
           340,
           341,
           342,
           343,
           344,
           345,
           346,
           347,
           348,
           349,
           350,
           351,
           352,
           353,
           354,
           355,
           356,
           357,
           358,
           359,
           360,
           361,
           362,
           363,
           364,
           365,
           366,
           367,
           368,
           369,
           370,
           371,
           372,
           373,
           374,
           375,
           376,
           377,
           378,
           379,
           380,
           381,
           382,
           383,
           384,
           385,
           386,
           387,
           388,
           389,
           390,
           391,
           392,
           393,
           394,
           395,
           396,
           397,
           398,
           399,
           400,
           401,
           402,
           403,
           404,
           405,
           406,
           407,
           408,
           409,
           410,
           411,
           412,
           413,
           414,
           415,
           416,
           417,
           418,
           419,
           420,
           421,
           422,
           423,
           424,
           425,
           426,
           427,
           428,
           429,
           430,
           431,
           432,
           433,
           434,
           435,
           436,
           437,
           438,
           439,
           440,
           441,
           442,
           443,
           444,
           445,
           446,
           447,
           448,
           449,
           450,
           451,
           452,
           453,
           454,
           455,
           456,
           457,
           458,
           459,
           460,
           461,
           462,
           463,
           464,
           465,
           466,
           467,
           468,
           469,
           470,
           471,
           472,
           473,
           474,
           475,
           476,
           477,
           478,
           479,
           480,
           481,
           482,
           483,
           484,
           485,
           486,
           487,
           488,
           489,
           490,
           491,
           492,
           493,
           494,
           495,
           496,
           497,
           498,
           499,
           500,
           501,
           502,
           503,
           504,
           505,
           506,
           507,
           508,
           509,
           510,
           511,
           512,
           513,
           514,
           515,
           516,
           517,
           518,
           519,
           520,
           521,
           522,
           523,
           524,
           525,
           526,
           527,
           528,
           529,
           530,
           531,
           532,
           533,
           534,
           535,
           536,
           537,
           538,
           539,
           540,
           541,
           542,
           543,
           544,
           545,
           546,
           547,
           548,
           549,
           550,
           551,
           552,
           553,
           554,
           555,
           556,
           557,
           558,
           559,
           560,
           561,
           562,
           563,
           564,
           565,
           566,
           567,
           568,
           569,
           570,
           571,
           572,
           573,
           574,
           575,
           576,
           577,
           578,
           579,
           580,
           581,
           582,
           583,
           584,
           585,
           586,
           587,
           588,
           589,
           590,
           591,
           592,
           593,
           594,
           595,
           596,
           597,
           598,
           599,
           600,
           601,
           602,
           603,
           604,
           605,
           606,
           607,
           608,
           609,
           610,
           611,
           612,
           613,
           614,
           615,
           616,
           617,
           618,
           619,
           620,
           621,
           622,
           623,
           624,
           625,
           626,
           627,
           628,
           629,
           630,
           631,
           632,
           633,
           634,
           635,
           636,
           637,
           638,
           639,
           640,
           641,
           642,
           643,
           644,
           645,
           646,
           647,
           648,
           649,
           650,
           651,
           652,
           653,
           654,
           655,
           656,
           657,
           658,
           659,
           660,
           661,
           662,
           663,
           664,
           665,
           666,
           667,
           668,
           669,
           670,
           671,
           672,
           673,
           674,
           675,
           676,
           677,
           678,
           679,
           680,
           681,
           682,
           683,
           684,
           685,
           686,
           687,
           688,
           689,
           690,
           691,
           692,
           693,
           694,
           695,
           696,
           697,
           698,
           699,
           700,
           701,
           702,
           703,
           704,
           705,
           706,
           707,
           708,
           709,
           710,
           711,
           712,
           713,
           714,
           715,
           716,
           717,
           718,
           719,
           720,
           721,
           722,
           723,
           724,
           725,
           726,
           727,
           728,
           729,
           730,
           731,
           732,
           733,
           734,
           735,
           736,
           737,
           738,
           739,
           740,
           741,
           742,
           743,
           744,
           745,
           746,
           747,
           748,
           749,
           750,
           751,
           752,
           753,
           754,
           755,
           756,
           757,
           758,
           759,
           760,
           761,
           762,
           763,
           764,
           765,
           766,
           767,
           768,
           769,
           770,
           771,
           772,
           773,
           774,
           775,
           776,
           777,
           778,
           779,
           780,
           781,
           782,
           783,
           784,
           785,
           786,
           787,
           788,
           789,
           790,
           791,
           792,
           793,
           794,
           795,
           796,
           797,
           798,
           799,
           800,
           801,
           802,
           803,
           804,
           805,
           806,
           807,
           808,
           809,
           810,
           811,
           812,
           813,
           814,
           815,
           816,
           817,
           818,
           819,
           820,
           821,
           822,
           823,
           824,
           825,
           826,
           827,
           828,
           829,
           830,
           831,
           832,
           833,
           834,
           835,
           836,
           837,
           838,
           839,
           840,
           841,
           842,
           843,
           844,
           845,
           846,
           847,
           848,
           849,
           850,
           851,
           852,
           853,
           854,
           855,
           856,
           857,
           858,
           859,
           860,
           861,
           862,
           863,
           864,
           865,
           866,
           867,
           868,
           869,
           870,
           871,
           872,
           873,
           874,
           875,
           876,
           877,
           878,
           879,
           880,
           881,
           882,
           883,
           884,
           885,
           886,
           887,
           888,
           889,
           890,
           891,
           892,
           893,
           894,
           895,
           896,
           897,
           898,
           899,
           900,
           901,
           902,
           903,
           904,
           905,
           906,
           907,
           908,
           909,
           910,
           911,
           912,
           913,
           914,
           915,
           916,
           917,
           918,
           919,
           920,
           921,
           922,
           923,
           924,
           925,
           926,
           927,
           928,
           929,
           930,
           931,
           932,
           933,
           934,
           935,
           936,
           937,
           938,
           939,
           940,
           941,
           942,
           943,
           944,
           945,
           946,
           947,
           948,
           949,
           950,
           951,
           952,
           953,
           954,
           955,
           956,
           957,
           958,
           959,
           960,
           961,
           962,
           963,
           964,
           965,
           966,
           967,
           968,
           969,
           970,
           971,
           972,
           973,
           974,
           975,
           976,
           977,
           978,
           979,
           980,
           981,
           982,
           983,
           984,
           985,
           986,
           987,
           988,
           989,
           990,
           991,
           992,
           993,
           994,
           995,
           996,
           997,
           998,
           999,
           1000,
           1001,
           1002,
           1003,
           1004,
           1005,
           1006,
           1007,
           1008,
           1009,
           1010,
           1011,
           1012,
           1013,
           1014,
           1015,
           1016,
           1017,
           1018,
           1019,
           1020,
           1021,
           1022,
           1023,
           1024,
           1025,
           1026,
           1027,
           1028,
           1029,
           1030,
           1031,
           1032,
           1033,
           1034,
           1035,
           1036,
           1037,
           1038,
           1039,
           1040,
           1041,
           1042,
           1043,
           1044,
           1045,
           1046,
           1047,
           1048,
           1049,
           1050,
           1051,
           1052,
           1053,
           1054,
           1055,
           1056,
           1057,
           1058,
           1059,
           1060,
           1061,
           1062,
           1063,
           1064,
           1065,
           1066,
           1067,
           1068,
           1069,
           1070,
           1071,
           1072,
           1073,
           1074,
           1075,
           1076,
           1077,
           1078,
           1079,
           1080,
           1081,
           1082,
           1083,
           1084,
           1085,
           1086,
           1087,
           1088,
           1089,
           1090,
           1091,
           1092,
           1093,
           1094,
           1095,
           1096,
           1097,
           1098,
           1099,
           1100,
           1101,
           1102,
           1103,
           1104,
           1105,
           1106,
           1107,
           1108,
           1109,
           1110,
           1111,
           1112,
           1113,
           1114,
           1115,
           1116,
           1117,
           1118,
           1119,
           1120,
           1121,
           1122,
           1123,
           1124,
           1125,
           1126,
           1127,
           1128,
           1129,
           1130,
           1131,
           1132,
           1133,
           1134,
           1135,
           1136,
           1137,
           1138,
           1139,
           1140,
           1141,
           1142,
           1143,
           1144,
           1145,
           1146,
           1147,
           1148,
           1149,
           1150,
           1151,
           1152,
           1153,
           1154,
           1155,
           1156,
           1157,
           1158,
           1159,
           1160,
           1161,
           1162,
           1163,
           1164,
           1165,
           1166,
           1167,
           1168,
           1169,
           1170,
           1171,
           1172,
           1173,
           1174,
           1175,
           1176,
           1177,
           1178,
           1179,
           1180,
           1181,
           1182,
           1183,
           1184,
           1185,
           1186,
           1187,
           1188,
           1189,
           1190,
           1191,
           1192,
           1193,
           1194,
           1195,
           1196,
           1197,
           1198,
           1199,
           1200,
           1201,
           1202,
           1203,
           1204,
           1205,
           1206,
           1207,
           1208,
           1209,
           1210,
           1211,
           1212,
           1213,
           1214,
           1215,
           1216,
           1217,
           1218,
           1219,
           1220,
           1221,
           1222,
           1223,
           1224,
           1225,
           1226,
           1227,
           1228,
           1229,
           1230,
           1231,
           1232,
           1233,
           1234,
           1235,
           1236,
           1237,
           1238,
           1239,
           1240,
           1241,
           1242,
           1243,
           1244,
           1245,
           1246,
           1247,
           1248,
           1249,
           1250,
           1251,
           1252,
           1253,
           1254,
           1255,
           1256,
           1257,
           1258,
           1259,
           1260,
           1261,
           1262,
           1263,
           1264,
           1265,
           1266,
           1267,
           1268,
           1269,
           1270,
           1271,
           1272,
           1273,
           1274,
           1275,
           1276,
           1277,
           1278,
           1279,
           1280,
           1281,
           1282,
           1283,
           1284,
           1285,
           1286,
           1287,
           1288,
           1289,
           1290,
           1291,
           1292,
           1293,
           1294,
           1295,
           1296,
           1297,
           1298,
           1299,
           1300,
           1301,
           1302,
           1303,
           1304,
           1305
          ],
          "coloraxis": "coloraxis",
          "symbol": "circle"
         },
         "mode": "markers",
         "name": "",
         "scene": "scene",
         "showlegend": false,
         "type": "scatter3d",
         "x": [
          0.863,
          0.699,
          0.974,
          0.353,
          0.783,
          0.646,
          0.787,
          0.663,
          0.813,
          0.607,
          0.73,
          0.719,
          0.695,
          0.627,
          0.585,
          0.62,
          0.196,
          0.824,
          0.718,
          0.779,
          0.717,
          0.317,
          0.941,
          0.785,
          0.868,
          0.972,
          0.912,
          0.804,
          0.84,
          0.593,
          0.758,
          0.684,
          0.258,
          0.706,
          0.672,
          0.711,
          0.805,
          0.578,
          0.617,
          0.764,
          0.604,
          0.279,
          0.921,
          0.472,
          0.518,
          0.609,
          0.729,
          0.327,
          0.635,
          0.816,
          0.978,
          0.963,
          0.649,
          0.617,
          0.729,
          0.988,
          0.841,
          0.768,
          0.384,
          0.522,
          0.853,
          0.742,
          0.894,
          0.908,
          0.744,
          0.714,
          0.783,
          0.969,
          0.498,
          0.742,
          0.648,
          0.883,
          0.659,
          0.536,
          0.653,
          0.859,
          0.724,
          0.478,
          0.964,
          0.717,
          0.911,
          0.499,
          0.812,
          0.84,
          0.751,
          0.814,
          0.644,
          0.325,
          0.921,
          0.633,
          0.294,
          0.786,
          0.347,
          0.691,
          0.838,
          0.747,
          0.673,
          0.737,
          0.238,
          0.932,
          0.648,
          0.843,
          0.727,
          0.566,
          0.996,
          0.703,
          0.691,
          0.893,
          0.571,
          0.617,
          0.747,
          0.864,
          0.903,
          0.85,
          0.94,
          0.552,
          0.702,
          0.524,
          0.695,
          0.793,
          0.807,
          0.745,
          0.874,
          0.507,
          0.522,
          0.728,
          0.917,
          0.898,
          0.673,
          0.575,
          0.864,
          0.799,
          0.828,
          0.349,
          0.969,
          0.926,
          0.857,
          0.922,
          0.719,
          0.778,
          0.279,
          0.788,
          0.706,
          0.66,
          0.544,
          0.832,
          0.755,
          0.84,
          0.787,
          0.897,
          0.809,
          0.795,
          0.722,
          0.738,
          0.554,
          0.98,
          0.805,
          0.553,
          0.865,
          0.96,
          0.52,
          0.603,
          0.809,
          0.969,
          0.907,
          0.83,
          0.684,
          0.543,
          0.85,
          0.871,
          0.486,
          0.856,
          0.72,
          0.668,
          0.977,
          0.885,
          0.965,
          0.459,
          0.72,
          0.628,
          0.22,
          0.789,
          0.97,
          0.631,
          0.911,
          0.755,
          0.767,
          0.372,
          0.317,
          0.573,
          0.819,
          0.763,
          0.938,
          0.877,
          0.956,
          0.902,
          0.811,
          0.884,
          0.786,
          0.834,
          0.554,
          0.219,
          0.523,
          0.977,
          0.842,
          0.94,
          0.675,
          0.766,
          0.93,
          0.815,
          0.994,
          0.489,
          0.57,
          0.581,
          0.524,
          0.746,
          0.518,
          0.869,
          0.874,
          0.573,
          0.57,
          0.571,
          0.347,
          0.77,
          0.376,
          0.911,
          0.842,
          0.735,
          0.702,
          0.706,
          0.369,
          0.723,
          0.507,
          0.56,
          0.414,
          0.702,
          0.931,
          0.98,
          0.644,
          0.802,
          0.453,
          0.751,
          0.914,
          0.765,
          0.582,
          0.696,
          0.702,
          0.903,
          0.855,
          0.493,
          0.602,
          0.913,
          0.808,
          0.585,
          0.817,
          0.686,
          0.968,
          0.327,
          0.237,
          0.662,
          0.272,
          0.774,
          0.988,
          0.604,
          0.943,
          0.335,
          0.722,
          0.896,
          0.827,
          0.986,
          0.71,
          0.673,
          0.816,
          0.884,
          0.847,
          0.788,
          0.728,
          0.769,
          0.857,
          0.889,
          0.592,
          0.928,
          0.368,
          0.824,
          0.641,
          0.692,
          0.92,
          0.892,
          0.693,
          0.964,
          0.569,
          0.983,
          0.437,
          0.573,
          0.993,
          0.356,
          0.589,
          0.656,
          0.869,
          0.629,
          0.777,
          0.608,
          0.659,
          0.89,
          0.58,
          0.622,
          0.759,
          0.716,
          0.715,
          0.747,
          0.575,
          0.964,
          0.799,
          0.652,
          0.434,
          0.454,
          0.703,
          0.159,
          0.597,
          0.878,
          0.951,
          0.966,
          0.785,
          0.754,
          0.714,
          0.81,
          0.529,
          0.928,
          0.389,
          0.731,
          0.804,
          0.765,
          0.765,
          0.871,
          0.47,
          0.913,
          0.686,
          0.281,
          0.883,
          0.682,
          0.909,
          0.639,
          0.859,
          0.592,
          0.553,
          0.704,
          0.646,
          0.7,
          0.862,
          0.568,
          0.488,
          0.67,
          0.567,
          0.806,
          0.84,
          0.776,
          0.749,
          0.503,
          0.944,
          0.881,
          0.872,
          0.676,
          0.775,
          0.935,
          0.377,
          0.976,
          0.951,
          0.433,
          0.767,
          0.319,
          0.515,
          0.243,
          0.67,
          0.727,
          0.465,
          0.386,
          0.288,
          0.608,
          0.719,
          0.832,
          0.678,
          0.477,
          0.692,
          0.475,
          0.899,
          0.388,
          0.824,
          0.453,
          0.519,
          0.645,
          0.819,
          0.409,
          0.761,
          0.554,
          0.708,
          0.877,
          0.743,
          0.918,
          0.944,
          0.682,
          0.94,
          0.745,
          0.714,
          0.491,
          0.598,
          0.808,
          0.319,
          0.252,
          0.831,
          0.677,
          0.775,
          0.734,
          0.702,
          0.541,
          0.537,
          0.872,
          0.692,
          0.692,
          0.798,
          0.519,
          0.903,
          0.977,
          0.805,
          0.711,
          0.727,
          0.484,
          0.87,
          0.815,
          0.871,
          0.42,
          0.98,
          0.887,
          0.961,
          0.145,
          0.643,
          0.622,
          0.66,
          0.448,
          0.989,
          0.277,
          0.907,
          0.925,
          0.556,
          0.985,
          0.975,
          0.725,
          0.885,
          0.569,
          0.786,
          0.622,
          0.466,
          0.672,
          0.899,
          0.811,
          0.533,
          0.741,
          0.8,
          0.63,
          0.725,
          0.239,
          0.432,
          0.623,
          0.936,
          0.869,
          0.813,
          0.593,
          0.618,
          0.658,
          0.765,
          0.827,
          0.862,
          0.724,
          0.818,
          0.735,
          0.875,
          0.526,
          0.651,
          0.911,
          0.432,
          0.603,
          0.555,
          0.35,
          0.866,
          0.659,
          0.98,
          0.881,
          0.241,
          0.998,
          0.941,
          0.888,
          0.753,
          0.461,
          0.886,
          0.385,
          0.683,
          0.742,
          0.685,
          0.427,
          0.764,
          0.866,
          0.505,
          0.927,
          0.807,
          0.868,
          0.79,
          0.641,
          0.765,
          0.525,
          0.92,
          0.843,
          0.487,
          0.885,
          0.904,
          0.74,
          0.956,
          0.423,
          0.24,
          0.802,
          0.744,
          0.735,
          0.851,
          0.714,
          0.69,
          0.827,
          0.684,
          0.66,
          0.953,
          0.771,
          0.139,
          0.264,
          0.664,
          0.598,
          0.795,
          0.756,
          0.842,
          0.693,
          0.895,
          0.95,
          0.856,
          0.483,
          0.561,
          0.446,
          0.581,
          0.795,
          0.848,
          0.637,
          0.935,
          0.732,
          0.576,
          0.928,
          0.676,
          0.766,
          0.83,
          0.882,
          0.465,
          0.76,
          0.557,
          0.619,
          0.334,
          0.725,
          0.505,
          0.674,
          0.746,
          0.869,
          0.319,
          0.714,
          0.85,
          0.891,
          0.892,
          0.83,
          0.579,
          0.622,
          0.417,
          0.751,
          0.735,
          0.444,
          0.541,
          0.672,
          0.684,
          0.444,
          0.823,
          0.963,
          0.476,
          0.219,
          0.686,
          0.683,
          0.932,
          0.38,
          0.812,
          0.711,
          0.663,
          0.239,
          0.385,
          0.897,
          0.806,
          0.827,
          0.809,
          0.855,
          0.927,
          0.662,
          0.734,
          0.586,
          0.73,
          0.481,
          0.836,
          0.53,
          0.784,
          0.876,
          0.495,
          0.0999,
          0.328,
          0.498,
          0.769,
          0.486,
          0.929,
          0.695,
          0.727,
          0.819,
          0.679,
          0.301,
          0.776,
          0.893,
          0.377,
          0.841,
          0.545,
          0.801,
          0.571,
          0.831,
          0.704,
          0.982,
          0.735,
          0.701,
          0.903,
          0.658,
          0.775,
          0.712,
          0.424,
          0.889,
          0.865,
          0.866,
          0.88,
          0.428,
          0.805,
          0.851,
          0.81,
          0.899,
          0.695,
          0.405,
          0.638,
          0.537,
          0.968,
          0.919,
          0.592,
          0.637,
          0.657,
          0.557,
          0.62,
          0.435,
          0.878,
          0.82,
          0.78,
          0.825,
          0.541,
          0.594,
          0.69,
          0.515,
          0.579,
          0.93,
          0.756,
          0.491,
          0.568,
          0.845,
          0.465,
          0.355,
          0.601,
          0.366,
          0.736,
          0.449,
          0.887,
          0.698,
          0.402,
          0.795,
          0.535,
          0.501,
          0.72,
          0.983,
          0.748,
          0.868,
          0.737,
          0.537,
          0.418,
          0.852,
          0.594,
          0.487,
          0.67,
          0.465,
          0.624,
          0.634,
          0.712,
          0.294,
          0.597,
          0.79,
          0.79,
          0.378,
          0.793,
          0.785,
          0.558,
          0.56,
          0.609,
          0.522,
          0.4,
          0.83,
          0.456,
          0.353,
          0.88,
          0.582,
          0.853,
          0.669,
          0.497,
          0.719,
          0.87,
          0.505,
          0.26,
          0.828,
          0.357,
          0.83,
          0.45,
          0.651,
          0.667,
          0.569,
          0.782,
          0.842,
          0.808,
          0.364,
          0.685,
          0.531,
          0.943,
          0.94,
          0.668,
          0.632,
          0.592,
          0.472,
          0.537,
          0.894,
          0.634,
          0.625,
          0.385,
          0.778,
          0.502,
          0.568,
          0.953,
          0.624,
          0.657,
          0.57,
          0.781,
          0.786,
          0.871,
          0.681,
          0.601,
          0.758,
          0.464,
          0.241,
          0.338,
          0.911,
          0.841,
          0.995,
          0.306,
          0.943,
          0.621,
          0.927,
          0.702,
          0.79,
          0.432,
          0.805,
          0.621,
          0.429,
          0.876,
          0.964,
          0.454,
          0.272,
          0.553,
          0.85,
          0.71,
          0.779,
          0.897,
          0.488,
          0.963,
          0.573,
          0.852,
          0.651,
          0.63,
          0.691,
          0.552,
          0.588,
          0.631,
          0.752,
          0.696,
          0.972,
          0.713,
          0.764,
          0.284,
          0.412,
          0.532,
          0.382,
          0.472,
          0.704,
          0.982,
          0.571,
          0.569,
          0.969,
          0.674,
          0.326,
          0.625,
          0.877,
          0.725,
          0.756,
          0.353,
          0.636,
          0.771,
          0.91,
          0.731,
          0.941,
          0.779,
          0.883,
          0.862,
          0.593,
          0.573,
          0.82,
          0.402,
          0.655,
          0.877,
          0.808,
          0.709,
          0.834,
          0.59,
          0.617,
          0.766,
          0.564,
          0.98,
          0.739,
          0.636,
          0.591,
          0.83,
          0.845,
          0.746,
          0.854,
          0.956,
          0.62,
          0.533,
          0.454,
          0.51,
          0.408,
          0.77,
          0.439,
          0.701,
          0.736,
          0.756,
          0.76,
          0.885,
          0.448,
          0.82,
          0.611,
          0.566,
          0.594,
          0.803,
          0.379,
          0.863,
          0.497,
          0.785,
          0.672,
          0.629,
          0.408,
          0.586,
          0.519,
          0.642,
          0.394,
          0.902,
          0.806,
          0.632,
          0.802,
          0.323,
          0.478,
          0.533,
          0.786,
          0.907,
          0.239,
          0.619,
          0.977,
          0.895,
          0.602,
          0.805,
          0.686,
          0.78,
          0.928,
          0.37,
          0.942,
          0.559,
          0.988,
          0.932,
          0.977,
          0.847,
          0.413,
          0.808,
          0.855,
          0.642,
          0.621,
          0.822,
          0.896,
          0.621,
          0.924,
          0.242,
          0.89,
          0.487,
          0.801,
          0.978,
          0.909,
          0.909,
          0.905,
          0.971,
          0.428,
          0.729,
          0.733,
          0.751,
          0.722,
          0.634,
          0.449,
          0.719,
          0.927,
          0.771,
          0.912,
          0.617,
          0.714,
          0.763,
          0.532,
          0.628,
          0.886,
          0.157,
          0.481,
          0.751,
          0.75,
          0.307,
          0.581,
          0.988,
          0.812,
          0.855,
          0.753,
          0.685,
          0.863,
          0.914,
          0.855,
          0.706,
          0.954,
          0.571,
          0.727,
          0.869,
          0.863,
          0.937,
          0.61,
          0.213,
          0.702,
          0.796,
          0.825,
          0.822,
          0.666,
          0.768,
          0.529,
          0.978,
          0.631,
          0.678,
          0.557,
          0.686,
          0.739,
          0.506,
          0.841,
          0.862,
          0.588,
          0.614,
          0.726,
          0.123,
          0.826,
          0.841,
          0.446,
          0.905,
          0.583,
          0.548,
          0.937,
          0.249,
          0.681,
          0.805,
          0.652,
          0.644,
          0.478,
          0.796,
          0.892,
          0.907,
          0.649,
          0.712,
          0.431,
          0.291,
          0.665,
          0.349,
          0.766,
          0.736,
          0.909,
          0.792,
          0.823,
          0.741,
          0.88,
          0.689,
          0.265,
          0.881,
          0.929,
          0.968,
          0.795,
          0.694,
          0.974,
          0.676,
          0.711,
          0.624,
          0.959,
          0.874,
          0.912,
          0.964,
          0.957,
          0.551,
          0.735,
          0.52,
          0.847,
          0.595,
          0.461,
          0.878,
          0.349,
          0.763,
          0.56,
          0.201,
          0.635,
          0.76,
          0.984,
          0.71,
          0.946,
          0.616,
          0.839,
          0.606,
          0.806,
          0.45,
          0.828,
          0.809,
          0.67,
          0.72,
          0.716,
          0.716,
          0.754,
          0.273,
          0.498,
          0.569,
          0.734,
          0.493,
          0.795,
          0.902,
          0.754,
          0.922,
          0.731,
          0.697,
          0.637,
          0.497,
          0.449,
          0.45,
          0.956,
          0.788,
          0.322,
          0.662,
          0.552,
          0.856,
          0.61,
          0.595,
          0.861,
          0.77,
          0.583,
          0.878,
          0.817,
          0.34,
          0.946,
          0.727,
          0.869,
          0.72,
          0.894,
          0.655,
          0.952,
          0.919,
          0.817,
          0.709,
          0.578,
          0.666,
          0.662,
          0.705,
          0.629,
          0.952,
          0.746,
          0.766,
          0.983,
          0.663,
          0.972,
          0.657,
          0.731,
          0.44,
          0.817,
          0.907,
          0.521,
          0.401,
          0.825,
          0.916,
          0.565,
          0.459,
          0.928,
          0.703,
          0.629,
          0.64,
          0.592,
          0.654,
          0.712,
          0.56,
          0.621,
          0.289,
          0.63,
          0.706,
          0.62,
          0.872,
          0.73,
          0.964,
          0.72,
          0.926,
          0.912,
          0.586,
          0.753,
          0.788,
          0.442,
          0.936,
          0.692,
          0.835,
          0.945,
          0.795,
          0.81,
          0.886,
          0.987,
          0.959,
          0.548,
          0.775,
          0.902,
          0.366,
          0.584,
          0.812,
          0.625,
          0.811,
          0.955,
          0.511,
          0.445,
          0.862,
          0.377,
          0.964,
          0.869,
          0.958,
          0.697,
          0.94,
          0.659,
          0.914,
          0.908,
          0.82,
          0.836,
          0.582,
          0.912,
          0.406,
          0.616,
          0.819,
          0.778,
          0.613,
          0.609,
          0.838,
          0.362,
          0.361,
          0.66,
          0.471,
          0.82,
          0.791,
          0.249,
          0.618,
          0.916,
          0.839,
          0.745,
          0.825,
          0.514,
          0.743,
          0.835,
          0.561,
          0.826,
          0.828,
          0.62,
          0.725,
          0.345,
          0.208,
          0.924,
          0.452,
          0.956,
          0.662,
          0.885,
          0.905,
          0.856,
          0.609,
          0.282,
          0.888,
          0.508,
          0.717,
          0.795,
          0.962,
          0.574,
          0.925,
          0.652,
          0.406,
          0.756,
          0.902,
          0.961,
          0.608,
          0.625,
          0.912,
          0.783,
          0.783,
          0.814,
          0.945,
          0.939,
          0.865,
          0.73,
          0.664,
          0.68,
          0.966,
          0.802,
          0.671,
          0.295,
          0.846,
          0.558,
          0.559,
          0.816,
          0.582,
          0.686,
          0.646,
          0.739,
          0.756,
          0.917,
          0.969,
          0.668,
          0.732,
          0.463,
          0.685,
          0.67,
          0.371,
          0.911,
          0.784,
          0.815,
          0.512,
          0.745,
          0.909,
          0.75,
          0.639,
          0.453,
          0.592,
          0.638,
          0.434,
          0.791,
          0.337,
          0.756,
          0.945,
          0.902,
          0.868,
          0.683,
          0.806,
          0.703,
          0.67,
          0.488,
          0.712,
          0.599,
          0.92,
          0.534,
          0.788,
          0.824,
          0.475,
          0.536,
          0.756,
          0.401,
          0.791,
          0.775,
          0.528,
          0.453,
          0.916,
          0.773,
          0.797,
          0.903,
          0.84,
          0.671,
          0.946,
          0.791,
          0.539,
          0.566,
          0.784,
          0.937,
          0.611,
          0.687,
          0.993,
          0.809
         ],
         "y": [
          -7.89,
          -5.745,
          -0.177,
          -9.931,
          -7.08,
          -5.12,
          -9.897,
          -6.688,
          -5.163,
          -6.109,
          -5.673,
          -4.765,
          -5.62,
          -4.59,
          -6.476,
          -8.13,
          -15.192,
          -3.287,
          -7.744,
          -5.412,
          -5.738,
          -10.732,
          -1.431,
          -4.165,
          -2.537,
          -3.615,
          -4.666,
          -3.808,
          -3.538,
          -7.65,
          -5.261,
          -6.868,
          -10.288,
          -6.882,
          -5.463,
          -6.829,
          -6.237,
          -6.786,
          -7.134,
          -4.277,
          -5.703,
          -10.279,
          -6.196,
          -12.824,
          -8.771,
          -7.803,
          -6.019,
          -7.494,
          -7.423,
          -4.115,
          -7.27,
          -0.263,
          -2.753,
          -8.082,
          -2.99,
          -2.042,
          -7.547,
          -4.961,
          -12.795,
          -5.687,
          -3.668,
          -6.46,
          -3.493,
          -5.014,
          -6.859,
          -6.414,
          -4.477,
          -1.533,
          -7.661,
          -3.554,
          -3.684,
          -2.297,
          -9.953,
          -6.501,
          -6.646,
          -5.237,
          -7.668,
          -9.142,
          0.124,
          -3.892,
          -6.416,
          -6.627,
          -2.453,
          -3.363,
          -3.539,
          -3.44,
          -6.931,
          -7.267,
          -3.752,
          -7.471,
          -13.019,
          -3.417,
          -8.227,
          -13.553,
          -6.838,
          -6.211,
          -4.302,
          -4.577,
          -14.325,
          -5.074,
          -8.113,
          -4.87,
          -5.968,
          -7.811,
          -1.703,
          -5.54,
          -5.971,
          -0.595,
          -6.054,
          -7.381,
          -6.335,
          -4.017,
          -3.187,
          -3.914,
          -5.119,
          -10.278,
          -4.564,
          -6.184,
          -4.925,
          -6.112,
          -4.601,
          -3.202,
          -0.36,
          -10.171,
          -5.603,
          -4.981,
          -6.006,
          -2.252,
          -6.099,
          -5.041,
          -7.842,
          -3.835,
          -5.373,
          -14.295,
          -1.428,
          -4.729,
          -4.078,
          -3.704,
          -5.469,
          -5.364,
          -11.776,
          -5.77,
          -1.93,
          -5.22,
          -8.112,
          -4.434,
          -6.891,
          -3.386,
          -3.909,
          -1.287,
          -8.254,
          -3.731,
          -6.367,
          -7.312,
          -5.29,
          -2.37,
          -3.925,
          -6.42,
          -4.359,
          -2.955,
          -10.143,
          -7.983,
          -3.333,
          -4.675,
          -2.498,
          -10.208,
          -7.364,
          -3.614,
          -3.325,
          -3.58,
          -8.342,
          -5.123,
          -9.18,
          -4.963,
          -1.631,
          -6.21,
          -1.351,
          -5.187,
          -4.194,
          -5.85,
          -11.006,
          -3.844,
          -4.938,
          -5.815,
          -4.977,
          -3.729,
          -2.788,
          -12.276,
          -14.075,
          -6.558,
          -3.325,
          -4.075,
          -3.442,
          -4.818,
          -1.164,
          -4.988,
          -5.746,
          -4.104,
          -5.735,
          -4.868,
          -8.859,
          -7.953,
          -10.753,
          -4.157,
          -4.288,
          -5.839,
          -6.761,
          -5.607,
          -2.061,
          -3.947,
          -0.38,
          -6.534,
          -6.437,
          -5.657,
          -5.599,
          -3.271,
          -8.066,
          -3.911,
          -4.219,
          -4.872,
          -5.123,
          -14.77,
          -10.265,
          -8.788,
          -11.913,
          -2.95,
          -4.159,
          -6.542,
          -5.13,
          -4.972,
          -12.683,
          -2.951,
          -8.058,
          -4.402,
          -14.011,
          -5.707,
          -1.472,
          -0.842,
          -5.697,
          -3.914,
          -8.322,
          -11.43,
          -3.87,
          -5.252,
          -7.653,
          -6.505,
          -10.155,
          -5.122,
          -5.936,
          -7.528,
          -5.369,
          -2.36,
          -5.042,
          -6.123,
          -3.071,
          -4.926,
          -2.803,
          -7.309,
          -14.109,
          -5.628,
          -13.763,
          -5.008,
          -0.319,
          -4.286,
          -1.601,
          -9.915,
          -5.453,
          -1.514,
          -7.745,
          -0.391,
          -3.015,
          -5.813,
          -4.353,
          -4.074,
          -11.036,
          -2.971,
          -5.381,
          -4.279,
          -3.9,
          -0.763,
          -7.777,
          -1.203,
          -9.533,
          -5.434,
          -5.957,
          -5.869,
          -3.246,
          -5.573,
          -5.943,
          -4.283,
          -6.725,
          -1.767,
          -6.641,
          -7.43,
          -1.343,
          -5.556,
          -8.64,
          -3.712,
          -5.093,
          -7.013,
          -6.154,
          -8.51,
          -5.589,
          -8.443,
          -6.166,
          -6.156,
          -5.584,
          -5.861,
          -4.656,
          -5.084,
          -8.184,
          -3.926,
          -5.661,
          -4.333,
          -11.163,
          -9.932,
          -5.672,
          -14.171,
          -7.333,
          -4.988,
          -4.866,
          -1.531,
          -3.297,
          -5.185,
          -5.058,
          -5.274,
          -5.763,
          -10.38,
          -8.247,
          -6.873,
          -3.177,
          -4.41,
          -4.41,
          -5.404,
          -8.935,
          -3.331,
          -7.665,
          -7.487,
          -7.989,
          -9.556,
          -5.999,
          -3.241,
          -6.19,
          -12.242,
          -3.546,
          -9.111,
          -1.788,
          -5.664,
          -6.666,
          -8.017,
          -7.664,
          -4.917,
          -4.652,
          -4.136,
          -5.768,
          -5.282,
          -6.389,
          -7.065,
          -6.506,
          -5.541,
          -4.874,
          -4.227,
          -4.767,
          -6.382,
          -9.8,
          -5.362,
          -1.894,
          -10.598,
          -4.567,
          -13.819,
          -10.265,
          -10.16,
          -5.072,
          -3.328,
          -8.545,
          -6.837,
          -11.857,
          -5.772,
          -4.515,
          -2.89,
          -8.206,
          -6.696,
          -4.96,
          -8.821,
          -4.132,
          -6.777,
          -5.997,
          -6.417,
          -8.494,
          -5.87,
          -5.189,
          -9.517,
          -4.966,
          -9.858,
          -3.833,
          -4.722,
          -6.123,
          -4.912,
          -2.995,
          -4.887,
          -3.682,
          -3.105,
          -3.516,
          -8.141,
          -7.962,
          -3.842,
          -8.152,
          -14.411,
          -5.039,
          -5.76,
          -4.832,
          -4.276,
          -5.18,
          -5.05,
          -6.456,
          -5.066,
          -4.985,
          -4.985,
          -4.162,
          -10.164,
          -6.042,
          -2.888,
          -5.639,
          -3.064,
          -6.969,
          -6.997,
          -4.083,
          -3.517,
          -6.797,
          -8.503,
          -5.515,
          -5.463,
          -1.575,
          -9.32,
          -7.691,
          -6.747,
          -4.646,
          -8.57,
          -2.77,
          -9.35,
          -1.12,
          -3.494,
          -7.041,
          -1.848,
          0.227,
          -8.439,
          -5.469,
          -3.436,
          -7.044,
          -5.114,
          -6.77,
          -4.557,
          -5.64,
          -2.712,
          -6.067,
          -5.569,
          -3.82,
          -8.277,
          -5.218,
          -11.314,
          -9.481,
          -5.55,
          -9.919,
          -5.996,
          -6.906,
          -5.484,
          -5.469,
          -5.934,
          -5.914,
          -4.407,
          -5.671,
          -5.533,
          -1.999,
          -3.857,
          -4.361,
          -8.167,
          -8.81,
          -3.447,
          -7.844,
          -5.416,
          -5.429,
          -7.194,
          -3.653,
          -7.429,
          -0.136,
          -4.249,
          -10.948,
          0.576,
          -3.807,
          -3.42,
          -2.943,
          -5.677,
          -4.335,
          -7.355,
          -6.629,
          -5.366,
          -5.93,
          -7.621,
          -4.641,
          -4.964,
          -12.479,
          -1.485,
          -6.491,
          -3.847,
          -5.353,
          -10.283,
          -4.449,
          -6.9,
          -2.843,
          -4.474,
          -9.53,
          -4.432,
          -2.729,
          -5.044,
          -2.775,
          -8.319,
          -15.639,
          -4.969,
          -3.605,
          -6.011,
          -5.632,
          -6.087,
          -5.171,
          -3.451,
          -7.347,
          -5.763,
          -3.075,
          -4.588,
          -16.339,
          -9.926,
          -5.71,
          -8.476,
          -4.039,
          -5.379,
          -3.956,
          -7.234,
          -2.888,
          -3.11,
          -6.84,
          -10.06,
          -6.569,
          -6.511,
          -5.029,
          -4.567,
          -3.667,
          -5.185,
          -3.43,
          -9.492,
          -4.796,
          -4.061,
          -5.041,
          -6.375,
          -5.157,
          -11.225,
          -8.166,
          -3.174,
          -6.371,
          -4.441,
          -11.314,
          -5.901,
          -7.621,
          -6.588,
          -2.566,
          -5.066,
          -12.85,
          -6.645,
          -4.417,
          -3.512,
          -3.186,
          -4.106,
          -7.733,
          -5.912,
          -5.401,
          -4.352,
          -7.572,
          -9.331,
          -8.818,
          -8.577,
          -6.717,
          -9.129,
          -4.197,
          -3.783,
          -7.979,
          -12.027,
          -5.508,
          -8.612,
          -10.068,
          -7.426,
          -4.326,
          -7.321,
          -4.448,
          -13.945,
          -8.35,
          -4.796,
          -4.75,
          -4.492,
          -3.21,
          -3.035,
          -7.327,
          -5.834,
          -5.948,
          -6.013,
          -6.724,
          -6.684,
          -3.323,
          -8.521,
          -4.139,
          -2.613,
          -6.264,
          -13.244,
          -11.579,
          -6.373,
          -5.379,
          -5.893,
          -3.214,
          -5.253,
          -8.073,
          -4.771,
          -10.042,
          -5.344,
          -6.343,
          -2.419,
          -7.907,
          -5.379,
          -7.924,
          -5.161,
          -7.539,
          -1.731,
          -3.146,
          -3.621,
          -5.747,
          -6.252,
          -0.949,
          -3.386,
          -6.446,
          -3.781,
          -9.579,
          -4.7,
          -5.708,
          -4.475,
          -5.722,
          -10.085,
          -3.3,
          -4.69,
          -3.789,
          -5.709,
          -4.849,
          -11.26,
          -6.416,
          -4.913,
          -3.178,
          -4.025,
          -4.898,
          -8.48,
          -6.434,
          -6.401,
          -5.348,
          -8.363,
          -5.478,
          -2.84,
          -4.768,
          -3.787,
          -7.909,
          -3.65,
          -4.939,
          -8.546,
          -5.425,
          -5.08,
          -2.567,
          -8.628,
          -5.477,
          -6.794,
          -8.163,
          -7.757,
          -6.113,
          -11.792,
          -6.566,
          -11.462,
          -2.682,
          -4.165,
          -4.63,
          -3.901,
          -6.715,
          -12.024,
          -5.991,
          -8.243,
          -6.524,
          -6.525,
          -6.781,
          -8.565,
          -4.617,
          -4.733,
          -6.2,
          -7.954,
          -8.179,
          -10.006,
          -4.206,
          -6.471,
          -4.388,
          -8.125,
          -6.633,
          -6.295,
          -4.302,
          -9.828,
          -3.871,
          -4.085,
          -4.911,
          -7.328,
          -5.64,
          -5.963,
          -7.981,
          -7.287,
          -9.324,
          -12.023,
          -4.819,
          -7.323,
          -8.321,
          -9.151,
          -6.606,
          -6.836,
          -2.589,
          -8.587,
          -17.341,
          -9.108,
          -8.843,
          -4.105,
          -8.543,
          -5.672,
          -3.443,
          -9.482,
          -7.426,
          -2.815,
          -7.04,
          -11.713,
          -8.259,
          -7.51,
          -6.87,
          -6.097,
          -7.713,
          -8.05,
          -12.857,
          -7.225,
          -5.638,
          -3.996,
          -7.8,
          -5.266,
          -9.676,
          -3.236,
          -4.045,
          -7.817,
          -4.276,
          -6.231,
          -10.002,
          -6.99,
          -3.265,
          -3.951,
          -7.006,
          -8.039,
          -7.453,
          -4.477,
          -8.74,
          -12.299,
          -10.054,
          -5.23,
          -1.212,
          0.936,
          -9.042,
          -3.375,
          -7.694,
          -4.212,
          -4.792,
          -8.412,
          -7.214,
          -5.618,
          -8.3,
          -7.726,
          -3.707,
          -3.275,
          -6.753,
          -14.201,
          -7.849,
          -3.696,
          -4.671,
          -4.316,
          -7.185,
          -6.278,
          0.182,
          -7.687,
          -3.703,
          -4.127,
          -6.126,
          -7.229,
          -5.423,
          -4.881,
          -5.169,
          -3.165,
          -5.656,
          -4.428,
          -5.507,
          -4.735,
          -8.285,
          -8.074,
          -7.146,
          -7.356,
          -7.001,
          -4.234,
          -0.35,
          -6.064,
          -6.068,
          -5.181,
          -4.533,
          -12.303,
          -7.472,
          -3.681,
          -5.271,
          -3.528,
          -13.477,
          -5.787,
          -4.067,
          -2.698,
          -6.574,
          -2.452,
          -2.966,
          -4.819,
          -3.24,
          -5.036,
          -5.408,
          -3.453,
          -5.786,
          -6.012,
          -6.403,
          -5.225,
          -5.681,
          -5.444,
          -7.608,
          -7.884,
          -6.875,
          -7.822,
          -5.419,
          -2.367,
          -6.162,
          -4.895,
          -3.236,
          -5.614,
          -5.255,
          -2.929,
          -1.369,
          -5.894,
          -7.861,
          -7.655,
          -10.148,
          -9.419,
          -3.738,
          -9.864,
          -4.649,
          -4.168,
          -4.828,
          -3.21,
          -7.189,
          -6.312,
          -4.502,
          -6.015,
          -4.461,
          -6.075,
          -4.673,
          -10.48,
          -2.9,
          -4.509,
          -5.154,
          -7.373,
          -9.298,
          -6.606,
          -6.086,
          -6.531,
          -5.218,
          -10.102,
          -4.216,
          -4.618,
          -8.916,
          -4.771,
          -12.006,
          -8.735,
          -5.648,
          -6.115,
          -4.063,
          -15.327,
          -5.581,
          -3.494,
          -3.707,
          -7.532,
          -5.352,
          -10.202,
          -5.596,
          -4.079,
          -7.441,
          -2.273,
          -5.545,
          -6.013,
          -2.485,
          -1.824,
          -2.526,
          -7.365,
          -5.067,
          -3.764,
          -6.257,
          -8.209,
          -5.137,
          -4.267,
          -8.253,
          -4.242,
          -11.692,
          -6.434,
          -8.44,
          -6.358,
          -2.078,
          -3.032,
          -3.032,
          -1.965,
          -3.622,
          -8.28,
          -4.495,
          -5.625,
          -4.258,
          -11.729,
          -6.395,
          -8.065,
          -5.03,
          -3.633,
          -4.821,
          -3.753,
          -12.931,
          -6.055,
          -4.068,
          -9.119,
          -4.692,
          -2.512,
          -11.953,
          -6.461,
          -7.26,
          -4.496,
          -8.543,
          -7.078,
          -2.645,
          -5.782,
          -2.429,
          -4.074,
          -5.019,
          -6.395,
          -3.816,
          -1.254,
          -4.902,
          -1.559,
          -6.291,
          -4.815,
          -4.284,
          -2.562,
          -6.269,
          -7.34,
          -11.386,
          -6.423,
          -8.563,
          -4.645,
          -6.373,
          -7.915,
          -6.374,
          -10.511,
          -1.675,
          -5.082,
          -3.525,
          -7.398,
          -4.252,
          -5.74,
          -10.119,
          -4.921,
          -6.907,
          -6.292,
          -7.446,
          -6.12,
          -13.959,
          -2.489,
          -3.955,
          -7.807,
          -5.653,
          -5.562,
          -6.049,
          -5.502,
          -8.136,
          -4.675,
          -5.707,
          -3.183,
          -2.534,
          -7.503,
          -4.499,
          -4.724,
          -3.063,
          -8.433,
          -5.996,
          -6.732,
          -10.009,
          -5.779,
          -11.329,
          -6.175,
          -5.84,
          -3.378,
          -3.302,
          -4.195,
          -5.406,
          -6.117,
          -5.022,
          -12.782,
          -7.987,
          -6.729,
          -1.918,
          -3.299,
          -7.299,
          -3.866,
          -8.377,
          -4.512,
          -6.666,
          -2.096,
          -0.137,
          -4.556,
          -4.26,
          -1.621,
          -7.231,
          -4.833,
          -7.985,
          -5.489,
          -7.649,
          -8.401,
          -2.352,
          -5.315,
          -2.237,
          -9.707,
          -13.044,
          -6.769,
          -3.669,
          -2.408,
          -5.979,
          -3.85,
          -11.139,
          -3.877,
          -4.252,
          -4.751,
          -7.174,
          -5.648,
          -4.389,
          -4.993,
          -5.511,
          -2.457,
          -2.457,
          -5.433,
          -10.889,
          -8.499,
          -9.205,
          -5.627,
          -11.548,
          -3.293,
          -3.577,
          -6.684,
          -0.821,
          -6.347,
          -7.429,
          -5.677,
          -5.484,
          -7.423,
          -6.658,
          -1.758,
          -7.055,
          -9.756,
          -6.482,
          -7.571,
          -3.556,
          -7.609,
          -7.52,
          -8.846,
          -4.502,
          -9.111,
          -2.565,
          -6.018,
          -8.617,
          -1.507,
          -5.161,
          -11.481,
          -4.475,
          -3.138,
          -7.127,
          -5.321,
          -4.679,
          -4.253,
          -2.871,
          -5.245,
          -3.757,
          -5.239,
          -5.201,
          -4.581,
          -0.684,
          -5.68,
          -5.023,
          -4.098,
          -8.821,
          -0.302,
          -3.9,
          -4.054,
          -7.699,
          -5.595,
          -4.086,
          -4.128,
          -7.49,
          -5.504,
          -1.446,
          -3.964,
          -6.488,
          -5.812,
          -8.111,
          -5.985,
          -4.466,
          -6.452,
          -5.634,
          -4.012,
          -4.961,
          -4.676,
          -9.918,
          -5.854,
          -9.803,
          -7.079,
          -6.309,
          -6.407,
          -4.441,
          -3.797,
          -5.857,
          -3.881,
          -6.946,
          -8.937,
          -7.142,
          -8.558,
          -3.451,
          -6.145,
          -5.298,
          -4.585,
          -4.021,
          -5.976,
          -5.071,
          0.427,
          -4.04,
          -6.288,
          -4.767,
          -2.703,
          -9.405,
          -5.056,
          -2.852,
          -7.114,
          -4.063,
          -2.142,
          -3.466,
          -6.061,
          -4.247,
          -6.213,
          -6.654,
          -5.214,
          -3.38,
          -4.896,
          -3.038,
          -6.522,
          -0.105,
          -3.793,
          -5.855,
          -6.075,
          -4.141,
          -4.937,
          -9.41,
          -8.245,
          -4.329,
          -7.161,
          -9.803,
          -9.426,
          -3.914,
          -10.055,
          -10.057,
          -4.86,
          -8.184,
          -4.091,
          -4.912,
          -14.239,
          -4.356,
          -5.227,
          -6.677,
          -5.49,
          -6.175,
          -9.759,
          -4.262,
          -4.619,
          -6.653,
          -3.106,
          -4.603,
          -6.664,
          -4.862,
          -13.496,
          -13.858,
          -2.312,
          -8.298,
          -3.178,
          -6.455,
          -5.288,
          -4.046,
          -6.829,
          -7.223,
          -9.873,
          -2.571,
          -6.973,
          -4.841,
          -4.854,
          -1.892,
          -6.209,
          -6.119,
          -2.708,
          -8.89,
          -5.272,
          -5.712,
          -2.749,
          -4.514,
          -5.932,
          -3.594,
          -5.697,
          -5.697,
          -5.146,
          -0.659,
          -2.449,
          -5.131,
          -10.613,
          -4.926,
          -5.508,
          -4.28,
          -4.836,
          -6.426,
          -7.628,
          -4.597,
          -4.329,
          -5.216,
          -4.209,
          -8.357,
          -6.139,
          -8.334,
          -6.131,
          -4.45,
          -5.091,
          -3.588,
          -6.29,
          -5.028,
          -7.828,
          -3.035,
          -5.915,
          -9.017,
          -5.414,
          -2.972,
          -6.677,
          -6.871,
          -6.149,
          -4.236,
          -4.781,
          -6.239,
          -6.941,
          -6.498,
          -4.37,
          -9.178,
          -6.013,
          -8,
          -7.653,
          -4.469,
          -11.6,
          -5.762,
          -5.099,
          -3.816,
          -6.745,
          -7.289,
          -7.05,
          -6.879,
          -5.551,
          -6.231,
          -6.238,
          -3.788,
          -1,
          -8.642,
          -8.215,
          -7.026,
          -10.067,
          -4.699,
          -6.614,
          -6.035,
          -8.264,
          -5.684,
          -4.856,
          -5.514,
          -0.484,
          -4.331,
          -5.617,
          -5.978,
          -6.628,
          -6.351,
          -5.501,
          -5.603,
          -2.682,
          -8.442,
          -7.794,
          -2.301,
          -3.198
         ],
         "z": [
          0.931,
          0.907,
          0.31,
          0.0731,
          0.613,
          0.835,
          0.964,
          0.146,
          0.165,
          0.121,
          0.576,
          0.419,
          0.642,
          0.77,
          0.485,
          0.796,
          0.0821,
          0.888,
          0.136,
          0.53,
          0.603,
          0.33,
          0.753,
          0.933,
          0.0624,
          0.168,
          0.399,
          0.484,
          0.123,
          0.926,
          0.156,
          0.166,
          0.188,
          0.313,
          0.316,
          0.382,
          0.564,
          0.102,
          0.495,
          0.685,
          0.637,
          0.234,
          0.384,
          0.824,
          0.205,
          0.337,
          0.219,
          0.335,
          0.365,
          0.196,
          0.137,
          0.174,
          0.272,
          0.362,
          0.521,
          0.769,
          0.881,
          0.206,
          0.114,
          0.654,
          0.506,
          0.328,
          0.297,
          0.423,
          0.634,
          0.457,
          0.939,
          0.0745,
          0.351,
          0.246,
          0.695,
          0.818,
          0.183,
          0.193,
          0.355,
          0.535,
          0.326,
          0.774,
          0.405,
          0.0795,
          0.0617,
          0.272,
          0.732,
          0.575,
          0.612,
          0.464,
          0.197,
          0.356,
          0.714,
          0.459,
          0.311,
          0.751,
          0.376,
          0.667,
          0.464,
          0.449,
          0.759,
          0.327,
          0.408,
          0.578,
          0.548,
          0.534,
          0.676,
          0.299,
          0.188,
          0.298,
          0.715,
          0.555,
          0.495,
          0.258,
          0.852,
          0.217,
          0.0624,
          0.551,
          0.369,
          0.112,
          0.259,
          0.397,
          0.201,
          0.181,
          0.592,
          0.262,
          0.208,
          0.438,
          0.445,
          0.395,
          0.518,
          0.167,
          0.144,
          0.188,
          0.749,
          0.62,
          0.147,
          0.622,
          0.538,
          0.825,
          0.348,
          0.317,
          0.71,
          0.789,
          0.599,
          0.305,
          0.346,
          0.277,
          0.327,
          0.448,
          0.716,
          0.203,
          0.836,
          0.357,
          0.857,
          0.702,
          0.479,
          0.172,
          0.335,
          0.206,
          0.174,
          0.486,
          0.587,
          0.516,
          0.0775,
          0.498,
          0.2,
          0.263,
          0.751,
          0.299,
          0.406,
          0.639,
          0.354,
          0.896,
          0.579,
          0.609,
          0.475,
          0.331,
          0.287,
          0.736,
          0.388,
          0.695,
          0.263,
          0.193,
          0.164,
          0.151,
          0.198,
          0.428,
          0.351,
          0.426,
          0.328,
          0.206,
          0.29,
          0.658,
          0.505,
          0.976,
          0.875,
          0.909,
          0.546,
          0.726,
          0.311,
          0.484,
          0.793,
          0.471,
          0.537,
          0.131,
          0.235,
          0.183,
          0.626,
          0.364,
          0.776,
          0.737,
          0.0688,
          0.474,
          0.265,
          0.163,
          0.238,
          0.563,
          0.661,
          0.521,
          0.455,
          0.473,
          0.166,
          0.66,
          0.266,
          0.84,
          0.0583,
          0.921,
          0.188,
          0.291,
          0.33,
          0.804,
          0.785,
          0.474,
          0.141,
          0.167,
          0.17,
          0.129,
          0.458,
          0.564,
          0.474,
          0.488,
          0.706,
          0.51,
          0.579,
          0.693,
          0.565,
          0.519,
          0.206,
          0.18,
          0.423,
          0.796,
          0.351,
          0.562,
          0.289,
          0.73,
          0.486,
          0.353,
          0.257,
          0.483,
          0.0599,
          0.262,
          0.183,
          0.408,
          0.435,
          0.407,
          0.134,
          0.714,
          0.164,
          0.419,
          0.244,
          0.5,
          0.586,
          0.226,
          0.419,
          0.703,
          0.816,
          0.356,
          0.318,
          0.382,
          0.253,
          0.158,
          0.292,
          0.361,
          0.535,
          0.227,
          0.607,
          0.463,
          0.183,
          0.629,
          0.842,
          0.456,
          0.454,
          0.268,
          0.587,
          0.146,
          0.599,
          0.972,
          0.47,
          0.189,
          0.254,
          0.355,
          0.425,
          0.282,
          0.447,
          0.48,
          0.539,
          0.809,
          0.174,
          0.432,
          0.129,
          0.386,
          0.397,
          0.426,
          0.654,
          0.178,
          0.805,
          0.696,
          0.223,
          0.34,
          0.595,
          0.167,
          0.449,
          0.331,
          0.376,
          0.381,
          0.0592,
          0.281,
          0.242,
          0.814,
          0.231,
          0.631,
          0.306,
          0.632,
          0.818,
          0.737,
          0.737,
          0.69,
          0.174,
          0.528,
          0.329,
          0.237,
          0.651,
          0.352,
          0.351,
          0.836,
          0.4,
          0.041,
          0.227,
          0.263,
          0.237,
          0.193,
          0.913,
          0.502,
          0.584,
          0.494,
          0.113,
          0.193,
          0.113,
          0.708,
          0.841,
          0.347,
          0.265,
          0.364,
          0.372,
          0.723,
          0.159,
          0.477,
          0.14,
          0.493,
          0.144,
          0.276,
          0.312,
          0.216,
          0.321,
          0.382,
          0.629,
          0.206,
          0.292,
          0.342,
          0.308,
          0.371,
          0.345,
          0.808,
          0.237,
          0.801,
          0.197,
          0.146,
          0.224,
          0.242,
          0.299,
          0.395,
          0.452,
          0.787,
          0.811,
          0.138,
          0.396,
          0.152,
          0.49,
          0.113,
          0.807,
          0.201,
          0.287,
          0.861,
          0.334,
          0.872,
          0.225,
          0.537,
          0.394,
          0.527,
          0.299,
          0.275,
          0.649,
          0.146,
          0.226,
          0.163,
          0.276,
          0.194,
          0.564,
          0.735,
          0.607,
          0.607,
          0.347,
          0.822,
          0.344,
          0.043,
          0.455,
          0.266,
          0.399,
          0.277,
          0.269,
          0.813,
          0.729,
          0.121,
          0.05,
          0.263,
          0.185,
          0.321,
          0.325,
          0.22,
          0.355,
          0.278,
          0.212,
          0.302,
          0.417,
          0.364,
          0.517,
          0.182,
          0.409,
          0.0363,
          0.76,
          0.481,
          0.679,
          0.854,
          0.338,
          0.322,
          0.488,
          0.238,
          0.467,
          0.441,
          0.627,
          0.489,
          0.864,
          0.127,
          0.0897,
          0.512,
          0.776,
          0.726,
          0.674,
          0.411,
          0.366,
          0.268,
          0.492,
          0.191,
          0.579,
          0.397,
          0.403,
          0.0721,
          0.153,
          0.741,
          0.383,
          0.759,
          0.648,
          0.42,
          0.267,
          0.0973,
          0.675,
          0.439,
          0.4,
          0.291,
          0.799,
          0.199,
          0.521,
          0.154,
          0.453,
          0.325,
          0.553,
          0.236,
          0.528,
          0.545,
          0.146,
          0.103,
          0.355,
          0.663,
          0.608,
          0.203,
          0.635,
          0.0869,
          0.332,
          0.382,
          0.241,
          0.531,
          0.285,
          0.257,
          0.119,
          0.768,
          0.681,
          0.497,
          0.375,
          0.729,
          0.095,
          0.764,
          0.396,
          0.0704,
          0.132,
          0.154,
          0.284,
          0.45,
          0.347,
          0.344,
          0.341,
          0.41,
          0.312,
          0.323,
          0.529,
          0.222,
          0.308,
          0.116,
          0.861,
          0.851,
          0.757,
          0.0467,
          0.233,
          0.479,
          0.351,
          0.567,
          0.292,
          0.415,
          0.198,
          0.215,
          0.783,
          0.0324,
          0.0769,
          0.238,
          0.843,
          0.61,
          0.453,
          0.605,
          0.179,
          0.696,
          0.767,
          0.817,
          0.267,
          0.127,
          0.419,
          0.366,
          0.0387,
          0.58,
          0.32,
          0.71,
          0.109,
          0.3,
          0.752,
          0.609,
          0.0587,
          0.0614,
          0.563,
          0.506,
          0.498,
          0.712,
          0.335,
          0.14,
          0.517,
          0.166,
          0.87,
          0.558,
          0.125,
          0.211,
          0.119,
          0.457,
          0.619,
          0.251,
          0.795,
          0.487,
          0.233,
          0.298,
          0.147,
          0.936,
          0.112,
          0.182,
          0.369,
          0.648,
          0.49,
          0.104,
          0.37,
          0.397,
          0.304,
          0.937,
          0.248,
          0.12,
          0.41,
          0.79,
          0.305,
          0.143,
          0.446,
          0.809,
          0.661,
          0.397,
          0.59,
          0.696,
          0.397,
          0.934,
          0.288,
          0.508,
          0.414,
          0.175,
          0.18,
          0.424,
          0.0385,
          0.198,
          0.556,
          0.343,
          0.626,
          0.275,
          0.418,
          0.306,
          0.603,
          0.551,
          0.703,
          0.794,
          0.153,
          0.379,
          0.543,
          0.703,
          0.357,
          0.426,
          0.12,
          0.171,
          0.732,
          0.79,
          0.0763,
          0.141,
          0.414,
          0.118,
          0.63,
          0.537,
          0.719,
          0.565,
          0.245,
          0.314,
          0.147,
          0.0781,
          0.389,
          0.536,
          0.555,
          0.915,
          0.387,
          0.0383,
          0.345,
          0.351,
          0.131,
          0.806,
          0.118,
          0.5,
          0.516,
          0.694,
          0.412,
          0.438,
          0.849,
          0.0841,
          0.717,
          0.326,
          0.196,
          0.867,
          0.129,
          0.415,
          0.236,
          0.542,
          0.0471,
          0.108,
          0.254,
          0.491,
          0.42,
          0.7,
          0.451,
          0.36,
          0.409,
          0.507,
          0.299,
          0.0832,
          0.0633,
          0.497,
          0.244,
          0.461,
          0.323,
          0.423,
          0.416,
          0.515,
          0.725,
          0.5,
          0.606,
          0.647,
          0.304,
          0.616,
          0.945,
          0.146,
          0.783,
          0.953,
          0.51,
          0.443,
          0.241,
          0.435,
          0.646,
          0.859,
          0.326,
          0.71,
          0.312,
          0.562,
          0.347,
          0.728,
          0.329,
          0.895,
          0.0644,
          0.896,
          0.629,
          0.15,
          0.869,
          0.463,
          0.479,
          0.74,
          0.44,
          0.238,
          0.335,
          0.277,
          0.844,
          0.0526,
          0.682,
          0.679,
          0.264,
          0.261,
          0.742,
          0.182,
          0.101,
          0.478,
          0.555,
          0.0518,
          0.0584,
          0.279,
          0.606,
          0.672,
          0.967,
          0.285,
          0.135,
          0.62,
          0.189,
          0.251,
          0.478,
          0.236,
          0.188,
          0.383,
          0.571,
          0.195,
          0.28,
          0.311,
          0.74,
          0.587,
          0.213,
          0.331,
          0.847,
          0.0744,
          0.38,
          0.0558,
          0.675,
          0.316,
          0.222,
          0.319,
          0.411,
          0.261,
          0.358,
          0.631,
          0.0649,
          0.798,
          0.687,
          0.162,
          0.908,
          0.33,
          0.152,
          0.637,
          0.382,
          0.899,
          0.452,
          0.436,
          0.354,
          0.331,
          0.276,
          0.423,
          0.362,
          0.581,
          0.214,
          0.142,
          0.211,
          0.167,
          0.18,
          0.251,
          0.424,
          0.243,
          0.297,
          0.0904,
          0.594,
          0.518,
          0.532,
          0.383,
          0.739,
          0.596,
          0.635,
          0.274,
          0.103,
          0.0809,
          0.592,
          0.104,
          0.101,
          0.613,
          0.764,
          0.164,
          0.896,
          0.195,
          0.399,
          0.894,
          0.216,
          0.782,
          0.728,
          0.107,
          0.0586,
          0.0666,
          0.358,
          0.309,
          0.137,
          0.45,
          0.356,
          0.206,
          0.103,
          0.148,
          0.392,
          0.179,
          0.279,
          0.525,
          0.358,
          0.615,
          0.436,
          0.355,
          0.523,
          0.339,
          0.382,
          0.168,
          0.502,
          0.246,
          0.651,
          0.139,
          0.339,
          0.201,
          0.374,
          0.705,
          0.192,
          0.229,
          0.161,
          0.459,
          0.621,
          0.154,
          0.0491,
          0.382,
          0.141,
          0.774,
          0.474,
          0.682,
          0.193,
          0.39,
          0.165,
          0.679,
          0.21,
          0.31,
          0.347,
          0.39,
          0.963,
          0.65,
          0.625,
          0.112,
          0.431,
          0.0464,
          0.549,
          0.543,
          0.135,
          0.671,
          0.244,
          0.259,
          0.815,
          0.141,
          0.0784,
          0.646,
          0.226,
          0.166,
          0.0382,
          0.641,
          0.396,
          0.686,
          0.286,
          0.328,
          0.401,
          0.105,
          0.391,
          0.295,
          0.295,
          0.337,
          0.677,
          0.333,
          0.141,
          0.62,
          0.884,
          0.716,
          0.42,
          0.29,
          0.121,
          0.361,
          0.436,
          0.289,
          0.718,
          0.817,
          0.742,
          0.342,
          0.568,
          0.789,
          0.15,
          0.584,
          0.56,
          0.812,
          0.2,
          0.216,
          0.192,
          0.151,
          0.0909,
          0.254,
          0.836,
          0.3,
          0.532,
          0.549,
          0.327,
          0.955,
          0.475,
          0.282,
          0.513,
          0.279,
          0.49,
          0.72,
          0.247,
          0.215,
          0.126,
          0.593,
          0.578,
          0.658,
          0.0669,
          0.248,
          0.656,
          0.433,
          0.734,
          0.494,
          0.885,
          0.451,
          0.38,
          0.672,
          0.548,
          0.0382,
          0.391,
          0.43,
          0.117,
          0.731,
          0.904,
          0.278,
          0.374,
          0.964,
          0.75,
          0.413,
          0.426,
          0.077,
          0.903,
          0.931,
          0.05,
          0.151,
          0.26,
          0.84,
          0.244,
          0.47,
          0.398,
          0.447,
          0.302,
          0.677,
          0.687,
          0.8,
          0.612,
          0.276,
          0.31,
          0.174,
          0.404,
          0.242,
          0.65,
          0.273,
          0.4,
          0.539,
          0.346,
          0.511,
          0.58,
          0.275,
          0.293,
          0.33,
          0.456,
          0.183,
          0.557,
          0.72,
          0.872,
          0.0789,
          0.392,
          0.788,
          0.13,
          0.341,
          0.708,
          0.487,
          0.365,
          0.246,
          0.218,
          0.29,
          0.0668,
          0.446,
          0.409,
          0.0708,
          0.0628,
          0.588,
          0.483,
          0.104,
          0.0669,
          0.205,
          0.515,
          0.0605,
          0.816,
          0.107,
          0.119,
          0.751,
          0.751,
          0.0895,
          0.336,
          0.509,
          0.967,
          0.0714,
          0.308,
          0.796,
          0.692,
          0.755,
          0.301,
          0.446,
          0.49,
          0.648,
          0.542,
          0.143,
          0.537,
          0.0361,
          0.884,
          0.131,
          0.844,
          0.408,
          0.743,
          0.384,
          0.179,
          0.548,
          0.426,
          0.326,
          0.923,
          0.515,
          0.418,
          0.239,
          0.308,
          0.193,
          0.213,
          0.757,
          0.657,
          0.624,
          0.0745,
          0.43,
          0.723,
          0.447,
          0.905,
          0.434,
          0.583,
          0.457,
          0.338,
          0.417,
          0.475,
          0.744,
          0.527,
          0.167,
          0.219,
          0.248,
          0.0584,
          0.661,
          0.721,
          0.314,
          0.606,
          0.567,
          0.809,
          0.17,
          0.441,
          0.182,
          0.819,
          0.351,
          0.364,
          0.757,
          0.411,
          0.22,
          0.86,
          0.178,
          0.407,
          0.447,
          0.768,
          0.235,
          0.363,
          0.18,
          0.269,
          0.428,
          0.418,
          0.289,
          0.179,
          0.42,
          0.544,
          0.39,
          0.27,
          0.694,
          0.654,
          0.37,
          0.876,
          0.173,
          0.285,
          0.164,
          0.365,
          0.377,
          0.806,
          0.225,
          0.161,
          0.52,
          0.391,
          0.374,
          0.969,
          0.0765,
          0.349,
          0.591,
          0.839,
          0.519,
          0.326,
          0.0381,
          0.464,
          0.306,
          0.362,
          0.154,
          0.147,
          0.266,
          0.251,
          0.708,
          0.542,
          0.297,
          0.507,
          0.0388,
          0.0806,
          0.638,
          0.314,
          0.177,
          0.924,
          0.562,
          0.553,
          0.257,
          0.312,
          0.771,
          0.523,
          0.445,
          0.379,
          0.252,
          0.337,
          0.888,
          0.0451,
          0.822,
          0.306,
          0.435,
          0.243,
          0.75,
          0.584,
          0.266,
          0.353,
          0.458,
          0.163,
          0.344,
          0.0678,
          0.22,
          0.924,
          0.178,
          0.411,
          0.0531,
          0.928,
          0.296,
          0.331,
          0.692,
          0.523,
          0.963,
          0.147,
          0.301,
          0.282,
          0.777,
          0.671,
          0.407,
          0.0566,
          0.567,
          0.414,
          0.118,
          0.671,
          0.643,
          0.643,
          0.146,
          0.0646,
          0.391,
          0.194,
          0.894,
          0.351,
          0.656,
          0.614,
          0.398,
          0.572,
          0.464,
          0.599,
          0.0701,
          0.252,
          0.557,
          0.907,
          0.716,
          0.295,
          0.301,
          0.6,
          0.751,
          0.212,
          0.2,
          0.242,
          0.565,
          0.614,
          0.441,
          0.135,
          0.545,
          0.563,
          0.341,
          0.435,
          0.193,
          0.814,
          0.187,
          0.435,
          0.191,
          0.485,
          0.278,
          0.484,
          0.811,
          0.0982,
          0.756,
          0.253,
          0.422,
          0.24,
          0.572,
          0.222,
          0.387,
          0.498,
          0.533,
          0.615,
          0.413,
          0.225,
          0.551,
          0.5,
          0.615,
          0.422,
          0.456,
          0.422,
          0.257,
          0.583,
          0.787,
          0.389,
          0.335,
          0.339,
          0.474,
          0.227,
          0.0406,
          0.587,
          0.714,
          0.647,
          0.539,
          0.394,
          0.269,
          0.517,
          0.512,
          0.565,
          0.88,
          0.337,
          0.788
         ]
        }
       ],
       "layout": {
        "coloraxis": {
         "colorbar": {
          "title": {
           "text": "color"
          }
         },
         "colorscale": [
          [
           0,
           "#440154"
          ],
          [
           0.1111111111111111,
           "#482878"
          ],
          [
           0.2222222222222222,
           "#3e4989"
          ],
          [
           0.3333333333333333,
           "#31688e"
          ],
          [
           0.4444444444444444,
           "#26828e"
          ],
          [
           0.5555555555555556,
           "#1f9e89"
          ],
          [
           0.6666666666666666,
           "#35b779"
          ],
          [
           0.7777777777777778,
           "#6ece58"
          ],
          [
           0.8888888888888888,
           "#b5de2b"
          ],
          [
           1,
           "#fde725"
          ]
         ]
        },
        "legend": {
         "tracegroupgap": 0
        },
        "margin": {
         "t": 60
        },
        "scene": {
         "domain": {
          "x": [
           0,
           1
          ],
          "y": [
           0,
           1
          ]
         },
         "xaxis": {
          "title": {
           "text": "Energy"
          }
         },
         "yaxis": {
          "title": {
           "text": "Loudness"
          }
         },
         "zaxis": {
          "title": {
           "text": "Valence"
          }
         }
        },
        "template": {
         "data": {
          "bar": [
           {
            "error_x": {
             "color": "#2a3f5f"
            },
            "error_y": {
             "color": "#2a3f5f"
            },
            "marker": {
             "line": {
              "color": "#E5ECF6",
              "width": 0.5
             },
             "pattern": {
              "fillmode": "overlay",
              "size": 10,
              "solidity": 0.2
             }
            },
            "type": "bar"
           }
          ],
          "barpolar": [
           {
            "marker": {
             "line": {
              "color": "#E5ECF6",
              "width": 0.5
             },
             "pattern": {
              "fillmode": "overlay",
              "size": 10,
              "solidity": 0.2
             }
            },
            "type": "barpolar"
           }
          ],
          "carpet": [
           {
            "aaxis": {
             "endlinecolor": "#2a3f5f",
             "gridcolor": "white",
             "linecolor": "white",
             "minorgridcolor": "white",
             "startlinecolor": "#2a3f5f"
            },
            "baxis": {
             "endlinecolor": "#2a3f5f",
             "gridcolor": "white",
             "linecolor": "white",
             "minorgridcolor": "white",
             "startlinecolor": "#2a3f5f"
            },
            "type": "carpet"
           }
          ],
          "choropleth": [
           {
            "colorbar": {
             "outlinewidth": 0,
             "ticks": ""
            },
            "type": "choropleth"
           }
          ],
          "contour": [
           {
            "colorbar": {
             "outlinewidth": 0,
             "ticks": ""
            },
            "colorscale": [
             [
              0,
              "#0d0887"
             ],
             [
              0.1111111111111111,
              "#46039f"
             ],
             [
              0.2222222222222222,
              "#7201a8"
             ],
             [
              0.3333333333333333,
              "#9c179e"
             ],
             [
              0.4444444444444444,
              "#bd3786"
             ],
             [
              0.5555555555555556,
              "#d8576b"
             ],
             [
              0.6666666666666666,
              "#ed7953"
             ],
             [
              0.7777777777777778,
              "#fb9f3a"
             ],
             [
              0.8888888888888888,
              "#fdca26"
             ],
             [
              1,
              "#f0f921"
             ]
            ],
            "type": "contour"
           }
          ],
          "contourcarpet": [
           {
            "colorbar": {
             "outlinewidth": 0,
             "ticks": ""
            },
            "type": "contourcarpet"
           }
          ],
          "heatmap": [
           {
            "colorbar": {
             "outlinewidth": 0,
             "ticks": ""
            },
            "colorscale": [
             [
              0,
              "#0d0887"
             ],
             [
              0.1111111111111111,
              "#46039f"
             ],
             [
              0.2222222222222222,
              "#7201a8"
             ],
             [
              0.3333333333333333,
              "#9c179e"
             ],
             [
              0.4444444444444444,
              "#bd3786"
             ],
             [
              0.5555555555555556,
              "#d8576b"
             ],
             [
              0.6666666666666666,
              "#ed7953"
             ],
             [
              0.7777777777777778,
              "#fb9f3a"
             ],
             [
              0.8888888888888888,
              "#fdca26"
             ],
             [
              1,
              "#f0f921"
             ]
            ],
            "type": "heatmap"
           }
          ],
          "heatmapgl": [
           {
            "colorbar": {
             "outlinewidth": 0,
             "ticks": ""
            },
            "colorscale": [
             [
              0,
              "#0d0887"
             ],
             [
              0.1111111111111111,
              "#46039f"
             ],
             [
              0.2222222222222222,
              "#7201a8"
             ],
             [
              0.3333333333333333,
              "#9c179e"
             ],
             [
              0.4444444444444444,
              "#bd3786"
             ],
             [
              0.5555555555555556,
              "#d8576b"
             ],
             [
              0.6666666666666666,
              "#ed7953"
             ],
             [
              0.7777777777777778,
              "#fb9f3a"
             ],
             [
              0.8888888888888888,
              "#fdca26"
             ],
             [
              1,
              "#f0f921"
             ]
            ],
            "type": "heatmapgl"
           }
          ],
          "histogram": [
           {
            "marker": {
             "pattern": {
              "fillmode": "overlay",
              "size": 10,
              "solidity": 0.2
             }
            },
            "type": "histogram"
           }
          ],
          "histogram2d": [
           {
            "colorbar": {
             "outlinewidth": 0,
             "ticks": ""
            },
            "colorscale": [
             [
              0,
              "#0d0887"
             ],
             [
              0.1111111111111111,
              "#46039f"
             ],
             [
              0.2222222222222222,
              "#7201a8"
             ],
             [
              0.3333333333333333,
              "#9c179e"
             ],
             [
              0.4444444444444444,
              "#bd3786"
             ],
             [
              0.5555555555555556,
              "#d8576b"
             ],
             [
              0.6666666666666666,
              "#ed7953"
             ],
             [
              0.7777777777777778,
              "#fb9f3a"
             ],
             [
              0.8888888888888888,
              "#fdca26"
             ],
             [
              1,
              "#f0f921"
             ]
            ],
            "type": "histogram2d"
           }
          ],
          "histogram2dcontour": [
           {
            "colorbar": {
             "outlinewidth": 0,
             "ticks": ""
            },
            "colorscale": [
             [
              0,
              "#0d0887"
             ],
             [
              0.1111111111111111,
              "#46039f"
             ],
             [
              0.2222222222222222,
              "#7201a8"
             ],
             [
              0.3333333333333333,
              "#9c179e"
             ],
             [
              0.4444444444444444,
              "#bd3786"
             ],
             [
              0.5555555555555556,
              "#d8576b"
             ],
             [
              0.6666666666666666,
              "#ed7953"
             ],
             [
              0.7777777777777778,
              "#fb9f3a"
             ],
             [
              0.8888888888888888,
              "#fdca26"
             ],
             [
              1,
              "#f0f921"
             ]
            ],
            "type": "histogram2dcontour"
           }
          ],
          "mesh3d": [
           {
            "colorbar": {
             "outlinewidth": 0,
             "ticks": ""
            },
            "type": "mesh3d"
           }
          ],
          "parcoords": [
           {
            "line": {
             "colorbar": {
              "outlinewidth": 0,
              "ticks": ""
             }
            },
            "type": "parcoords"
           }
          ],
          "pie": [
           {
            "automargin": true,
            "type": "pie"
           }
          ],
          "scatter": [
           {
            "fillpattern": {
             "fillmode": "overlay",
             "size": 10,
             "solidity": 0.2
            },
            "type": "scatter"
           }
          ],
          "scatter3d": [
           {
            "line": {
             "colorbar": {
              "outlinewidth": 0,
              "ticks": ""
             }
            },
            "marker": {
             "colorbar": {
              "outlinewidth": 0,
              "ticks": ""
             }
            },
            "type": "scatter3d"
           }
          ],
          "scattercarpet": [
           {
            "marker": {
             "colorbar": {
              "outlinewidth": 0,
              "ticks": ""
             }
            },
            "type": "scattercarpet"
           }
          ],
          "scattergeo": [
           {
            "marker": {
             "colorbar": {
              "outlinewidth": 0,
              "ticks": ""
             }
            },
            "type": "scattergeo"
           }
          ],
          "scattergl": [
           {
            "marker": {
             "colorbar": {
              "outlinewidth": 0,
              "ticks": ""
             }
            },
            "type": "scattergl"
           }
          ],
          "scattermapbox": [
           {
            "marker": {
             "colorbar": {
              "outlinewidth": 0,
              "ticks": ""
             }
            },
            "type": "scattermapbox"
           }
          ],
          "scatterpolar": [
           {
            "marker": {
             "colorbar": {
              "outlinewidth": 0,
              "ticks": ""
             }
            },
            "type": "scatterpolar"
           }
          ],
          "scatterpolargl": [
           {
            "marker": {
             "colorbar": {
              "outlinewidth": 0,
              "ticks": ""
             }
            },
            "type": "scatterpolargl"
           }
          ],
          "scatterternary": [
           {
            "marker": {
             "colorbar": {
              "outlinewidth": 0,
              "ticks": ""
             }
            },
            "type": "scatterternary"
           }
          ],
          "surface": [
           {
            "colorbar": {
             "outlinewidth": 0,
             "ticks": ""
            },
            "colorscale": [
             [
              0,
              "#0d0887"
             ],
             [
              0.1111111111111111,
              "#46039f"
             ],
             [
              0.2222222222222222,
              "#7201a8"
             ],
             [
              0.3333333333333333,
              "#9c179e"
             ],
             [
              0.4444444444444444,
              "#bd3786"
             ],
             [
              0.5555555555555556,
              "#d8576b"
             ],
             [
              0.6666666666666666,
              "#ed7953"
             ],
             [
              0.7777777777777778,
              "#fb9f3a"
             ],
             [
              0.8888888888888888,
              "#fdca26"
             ],
             [
              1,
              "#f0f921"
             ]
            ],
            "type": "surface"
           }
          ],
          "table": [
           {
            "cells": {
             "fill": {
              "color": "#EBF0F8"
             },
             "line": {
              "color": "white"
             }
            },
            "header": {
             "fill": {
              "color": "#C8D4E3"
             },
             "line": {
              "color": "white"
             }
            },
            "type": "table"
           }
          ]
         },
         "layout": {
          "annotationdefaults": {
           "arrowcolor": "#2a3f5f",
           "arrowhead": 0,
           "arrowwidth": 1
          },
          "autotypenumbers": "strict",
          "coloraxis": {
           "colorbar": {
            "outlinewidth": 0,
            "ticks": ""
           }
          },
          "colorscale": {
           "diverging": [
            [
             0,
             "#8e0152"
            ],
            [
             0.1,
             "#c51b7d"
            ],
            [
             0.2,
             "#de77ae"
            ],
            [
             0.3,
             "#f1b6da"
            ],
            [
             0.4,
             "#fde0ef"
            ],
            [
             0.5,
             "#f7f7f7"
            ],
            [
             0.6,
             "#e6f5d0"
            ],
            [
             0.7,
             "#b8e186"
            ],
            [
             0.8,
             "#7fbc41"
            ],
            [
             0.9,
             "#4d9221"
            ],
            [
             1,
             "#276419"
            ]
           ],
           "sequential": [
            [
             0,
             "#0d0887"
            ],
            [
             0.1111111111111111,
             "#46039f"
            ],
            [
             0.2222222222222222,
             "#7201a8"
            ],
            [
             0.3333333333333333,
             "#9c179e"
            ],
            [
             0.4444444444444444,
             "#bd3786"
            ],
            [
             0.5555555555555556,
             "#d8576b"
            ],
            [
             0.6666666666666666,
             "#ed7953"
            ],
            [
             0.7777777777777778,
             "#fb9f3a"
            ],
            [
             0.8888888888888888,
             "#fdca26"
            ],
            [
             1,
             "#f0f921"
            ]
           ],
           "sequentialminus": [
            [
             0,
             "#0d0887"
            ],
            [
             0.1111111111111111,
             "#46039f"
            ],
            [
             0.2222222222222222,
             "#7201a8"
            ],
            [
             0.3333333333333333,
             "#9c179e"
            ],
            [
             0.4444444444444444,
             "#bd3786"
            ],
            [
             0.5555555555555556,
             "#d8576b"
            ],
            [
             0.6666666666666666,
             "#ed7953"
            ],
            [
             0.7777777777777778,
             "#fb9f3a"
            ],
            [
             0.8888888888888888,
             "#fdca26"
            ],
            [
             1,
             "#f0f921"
            ]
           ]
          },
          "colorway": [
           "#636efa",
           "#EF553B",
           "#00cc96",
           "#ab63fa",
           "#FFA15A",
           "#19d3f3",
           "#FF6692",
           "#B6E880",
           "#FF97FF",
           "#FECB52"
          ],
          "font": {
           "color": "#2a3f5f"
          },
          "geo": {
           "bgcolor": "white",
           "lakecolor": "white",
           "landcolor": "#E5ECF6",
           "showlakes": true,
           "showland": true,
           "subunitcolor": "white"
          },
          "hoverlabel": {
           "align": "left"
          },
          "hovermode": "closest",
          "mapbox": {
           "style": "light"
          },
          "paper_bgcolor": "white",
          "plot_bgcolor": "#E5ECF6",
          "polar": {
           "angularaxis": {
            "gridcolor": "white",
            "linecolor": "white",
            "ticks": ""
           },
           "bgcolor": "#E5ECF6",
           "radialaxis": {
            "gridcolor": "white",
            "linecolor": "white",
            "ticks": ""
           }
          },
          "scene": {
           "xaxis": {
            "backgroundcolor": "#E5ECF6",
            "gridcolor": "white",
            "gridwidth": 2,
            "linecolor": "white",
            "showbackground": true,
            "ticks": "",
            "zerolinecolor": "white"
           },
           "yaxis": {
            "backgroundcolor": "#E5ECF6",
            "gridcolor": "white",
            "gridwidth": 2,
            "linecolor": "white",
            "showbackground": true,
            "ticks": "",
            "zerolinecolor": "white"
           },
           "zaxis": {
            "backgroundcolor": "#E5ECF6",
            "gridcolor": "white",
            "gridwidth": 2,
            "linecolor": "white",
            "showbackground": true,
            "ticks": "",
            "zerolinecolor": "white"
           }
          },
          "shapedefaults": {
           "line": {
            "color": "#2a3f5f"
           }
          },
          "ternary": {
           "aaxis": {
            "gridcolor": "white",
            "linecolor": "white",
            "ticks": ""
           },
           "baxis": {
            "gridcolor": "white",
            "linecolor": "white",
            "ticks": ""
           },
           "bgcolor": "#E5ECF6",
           "caxis": {
            "gridcolor": "white",
            "linecolor": "white",
            "ticks": ""
           }
          },
          "title": {
           "x": 0.05
          },
          "xaxis": {
           "automargin": true,
           "gridcolor": "white",
           "linecolor": "white",
           "ticks": "",
           "title": {
            "standoff": 15
           },
           "zerolinecolor": "white",
           "zerolinewidth": 2
          },
          "yaxis": {
           "automargin": true,
           "gridcolor": "white",
           "linecolor": "white",
           "ticks": "",
           "title": {
            "standoff": 15
           },
           "zerolinecolor": "white",
           "zerolinewidth": 2
          }
         }
        },
        "title": {
         "text": "3D Visualization (Energy, Loudness, Valence)"
        }
       }
      }
     },
     "metadata": {},
     "output_type": "display_data"
    }
   ],
   "source": [
    "#created 3d interactive html plot\n",
    "df_new= pd.DataFrame({\n",
    "    'Energy': X['energy'],\n",
    "    'Loudness': X['loudness'],\n",
    "    'Valence': X['valence'],\n",
    "    'Song Name' : df['Song Name'],\n",
    "    #'artist genre': df['genre']\n",
    "})\n",
    "\n",
    "#set names below\n",
    "fig = px.scatter_3d(df_new, x='Energy', y='Loudness', z='Valence', color='color', color_continuous_scale='viridis'\n",
    "                    , hover_name = 'Song Name') #hover_data={'artist genre':True})\n",
    "fig.update_layout(title='3D Visualization (Energy, Loudness, Valence)')\n",
    "\n",
    "\n",
    "fig.show()\n",
    "fig.write_html(\"3D_vis_of_data.html\")"
   ]
  }
 ],
 "metadata": {
  "kernelspec": {
   "display_name": "Python 3",
   "language": "python",
   "name": "python3"
  },
  "language_info": {
   "codemirror_mode": {
    "name": "ipython",
    "version": 3
   },
   "file_extension": ".py",
   "mimetype": "text/x-python",
   "name": "python",
   "nbconvert_exporter": "python",
   "pygments_lexer": "ipython3",
   "version": "3.12.7"
  }
 },
 "nbformat": 4,
 "nbformat_minor": 2
}
