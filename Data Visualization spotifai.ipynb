{
 "cells": [
  {
   "cell_type": "code",
   "execution_count": 1,
   "metadata": {},
   "outputs": [
    {
     "name": "stdout",
     "output_type": "stream",
     "text": [
      "Requirement already satisfied: numpy in c:\\users\\kevin\\anaconda3\\lib\\site-packages (1.26.4)\n",
      "Requirement already satisfied: pandas in c:\\users\\kevin\\anaconda3\\lib\\site-packages (2.2.2)\n",
      "Requirement already satisfied: scikit-learn in c:\\users\\kevin\\anaconda3\\lib\\site-packages (1.4.2)\n",
      "Requirement already satisfied: matplotlib in c:\\users\\kevin\\anaconda3\\lib\\site-packages (3.8.4)\n",
      "Requirement already satisfied: seaborn in c:\\users\\kevin\\anaconda3\\lib\\site-packages (0.13.2)\n",
      "Requirement already satisfied: python-dateutil>=2.8.2 in c:\\users\\kevin\\anaconda3\\lib\\site-packages (from pandas) (2.9.0.post0)\n",
      "Requirement already satisfied: pytz>=2020.1 in c:\\users\\kevin\\anaconda3\\lib\\site-packages (from pandas) (2024.1)\n",
      "Requirement already satisfied: tzdata>=2022.7 in c:\\users\\kevin\\anaconda3\\lib\\site-packages (from pandas) (2023.3)\n",
      "Requirement already satisfied: scipy>=1.6.0 in c:\\users\\kevin\\anaconda3\\lib\\site-packages (from scikit-learn) (1.13.1)\n",
      "Requirement already satisfied: joblib>=1.2.0 in c:\\users\\kevin\\anaconda3\\lib\\site-packages (from scikit-learn) (1.4.2)\n",
      "Requirement already satisfied: threadpoolctl>=2.0.0 in c:\\users\\kevin\\anaconda3\\lib\\site-packages (from scikit-learn) (2.2.0)\n",
      "Requirement already satisfied: contourpy>=1.0.1 in c:\\users\\kevin\\anaconda3\\lib\\site-packages (from matplotlib) (1.2.0)\n",
      "Requirement already satisfied: cycler>=0.10 in c:\\users\\kevin\\anaconda3\\lib\\site-packages (from matplotlib) (0.11.0)\n",
      "Requirement already satisfied: fonttools>=4.22.0 in c:\\users\\kevin\\anaconda3\\lib\\site-packages (from matplotlib) (4.51.0)\n",
      "Requirement already satisfied: kiwisolver>=1.3.1 in c:\\users\\kevin\\anaconda3\\lib\\site-packages (from matplotlib) (1.4.4)\n",
      "Requirement already satisfied: packaging>=20.0 in c:\\users\\kevin\\anaconda3\\lib\\site-packages (from matplotlib) (23.2)\n",
      "Requirement already satisfied: pillow>=8 in c:\\users\\kevin\\anaconda3\\lib\\site-packages (from matplotlib) (10.3.0)\n",
      "Requirement already satisfied: pyparsing>=2.3.1 in c:\\users\\kevin\\anaconda3\\lib\\site-packages (from matplotlib) (3.0.9)\n",
      "Requirement already satisfied: six>=1.5 in c:\\users\\kevin\\anaconda3\\lib\\site-packages (from python-dateutil>=2.8.2->pandas) (1.16.0)\n",
      "Requirement already satisfied: plotly in c:\\users\\kevin\\anaconda3\\lib\\site-packages (5.22.0)\n",
      "Requirement already satisfied: tenacity>=6.2.0 in c:\\users\\kevin\\anaconda3\\lib\\site-packages (from plotly) (8.2.2)\n",
      "Requirement already satisfied: packaging in c:\\users\\kevin\\anaconda3\\lib\\site-packages (from plotly) (23.2)\n"
     ]
    }
   ],
   "source": [
    "\"\"\"\"\"\n",
    "!pip install numpy pandas scikit-learn matplotlib seaborn\n",
    "!pip install plotly\n",
    "\"\"\"\"\""
   ]
  },
  {
   "cell_type": "code",
   "execution_count": 1,
   "metadata": {},
   "outputs": [],
   "source": [
    "\n",
    "import pandas as pd\n",
    "import plotly.graph_objects as go\n",
    "import numpy as np\n",
    "from sklearn.datasets import make_moons\n",
    "from sklearn.model_selection import train_test_split\n",
    "from sklearn.neighbors import KNeighborsClassifier\n",
    "import matplotlib.pyplot as plt\n",
    "import mpl_toolkits.mplot3d\n",
    "from sklearn import datasets\n",
    "from sklearn.manifold import Isomap\n",
    "import plotly.express as px "
   ]
  },
  {
   "cell_type": "code",
   "execution_count": 2,
   "metadata": {},
   "outputs": [
    {
     "name": "stdout",
     "output_type": "stream",
     "text": [
      "Index(['Unnamed: 0', 'name', 'album', 'artist', 'release_date', 'length',\n",
      "       'popularity', 'acousticness', 'danceability', 'energy',\n",
      "       'instrumentalness', 'liveness', 'loudness', 'speechiness', 'tempo',\n",
      "       'valence', 'time_signature', 'key', 'mode', 'uri', 'genre',\n",
      "       'release_year'],\n",
      "      dtype='object')\n"
     ]
    }
   ],
   "source": [
    "\n",
    "df = pd.read_csv(\"c:\\\\Users\\\\Kevin\\\\Downloads\\\\disc1.csv\")\n",
    "print(df.columns)"
   ]
  },
  {
   "cell_type": "code",
   "execution_count": 3,
   "metadata": {},
   "outputs": [],
   "source": [
    "# No need for train-test split; use the entire dataset for unsupervised learning\n",
    "\"\"\"\"\"\n",
    "X = df[['length', 'popularity',\n",
    "       'acousticness', 'danceability', 'energy', 'instrumentalness',\n",
    "       'liveness', 'loudness', 'speechiness', 'tempo', 'valence',\n",
    "       'time_signature', 'key', 'mode']]\n",
    "\"\"\"\n",
    "\n",
    "X = df[['liveness', 'danceability', 'energy']]\n",
    "\n",
    "# Now, use X for unsupervised learning models\n"
   ]
  },
  {
   "cell_type": "code",
   "execution_count": 4,
   "metadata": {},
   "outputs": [
    {
     "data": {
      "text/html": [
       "<style>#sk-container-id-1 {\n",
       "  /* Definition of color scheme common for light and dark mode */\n",
       "  --sklearn-color-text: black;\n",
       "  --sklearn-color-line: gray;\n",
       "  /* Definition of color scheme for unfitted estimators */\n",
       "  --sklearn-color-unfitted-level-0: #fff5e6;\n",
       "  --sklearn-color-unfitted-level-1: #f6e4d2;\n",
       "  --sklearn-color-unfitted-level-2: #ffe0b3;\n",
       "  --sklearn-color-unfitted-level-3: chocolate;\n",
       "  /* Definition of color scheme for fitted estimators */\n",
       "  --sklearn-color-fitted-level-0: #f0f8ff;\n",
       "  --sklearn-color-fitted-level-1: #d4ebff;\n",
       "  --sklearn-color-fitted-level-2: #b3dbfd;\n",
       "  --sklearn-color-fitted-level-3: cornflowerblue;\n",
       "\n",
       "  /* Specific color for light theme */\n",
       "  --sklearn-color-text-on-default-background: var(--sg-text-color, var(--theme-code-foreground, var(--jp-content-font-color1, black)));\n",
       "  --sklearn-color-background: var(--sg-background-color, var(--theme-background, var(--jp-layout-color0, white)));\n",
       "  --sklearn-color-border-box: var(--sg-text-color, var(--theme-code-foreground, var(--jp-content-font-color1, black)));\n",
       "  --sklearn-color-icon: #696969;\n",
       "\n",
       "  @media (prefers-color-scheme: dark) {\n",
       "    /* Redefinition of color scheme for dark theme */\n",
       "    --sklearn-color-text-on-default-background: var(--sg-text-color, var(--theme-code-foreground, var(--jp-content-font-color1, white)));\n",
       "    --sklearn-color-background: var(--sg-background-color, var(--theme-background, var(--jp-layout-color0, #111)));\n",
       "    --sklearn-color-border-box: var(--sg-text-color, var(--theme-code-foreground, var(--jp-content-font-color1, white)));\n",
       "    --sklearn-color-icon: #878787;\n",
       "  }\n",
       "}\n",
       "\n",
       "#sk-container-id-1 {\n",
       "  color: var(--sklearn-color-text);\n",
       "}\n",
       "\n",
       "#sk-container-id-1 pre {\n",
       "  padding: 0;\n",
       "}\n",
       "\n",
       "#sk-container-id-1 input.sk-hidden--visually {\n",
       "  border: 0;\n",
       "  clip: rect(1px 1px 1px 1px);\n",
       "  clip: rect(1px, 1px, 1px, 1px);\n",
       "  height: 1px;\n",
       "  margin: -1px;\n",
       "  overflow: hidden;\n",
       "  padding: 0;\n",
       "  position: absolute;\n",
       "  width: 1px;\n",
       "}\n",
       "\n",
       "#sk-container-id-1 div.sk-dashed-wrapped {\n",
       "  border: 1px dashed var(--sklearn-color-line);\n",
       "  margin: 0 0.4em 0.5em 0.4em;\n",
       "  box-sizing: border-box;\n",
       "  padding-bottom: 0.4em;\n",
       "  background-color: var(--sklearn-color-background);\n",
       "}\n",
       "\n",
       "#sk-container-id-1 div.sk-container {\n",
       "  /* jupyter's `normalize.less` sets `[hidden] { display: none; }`\n",
       "     but bootstrap.min.css set `[hidden] { display: none !important; }`\n",
       "     so we also need the `!important` here to be able to override the\n",
       "     default hidden behavior on the sphinx rendered scikit-learn.org.\n",
       "     See: https://github.com/scikit-learn/scikit-learn/issues/21755 */\n",
       "  display: inline-block !important;\n",
       "  position: relative;\n",
       "}\n",
       "\n",
       "#sk-container-id-1 div.sk-text-repr-fallback {\n",
       "  display: none;\n",
       "}\n",
       "\n",
       "div.sk-parallel-item,\n",
       "div.sk-serial,\n",
       "div.sk-item {\n",
       "  /* draw centered vertical line to link estimators */\n",
       "  background-image: linear-gradient(var(--sklearn-color-text-on-default-background), var(--sklearn-color-text-on-default-background));\n",
       "  background-size: 2px 100%;\n",
       "  background-repeat: no-repeat;\n",
       "  background-position: center center;\n",
       "}\n",
       "\n",
       "/* Parallel-specific style estimator block */\n",
       "\n",
       "#sk-container-id-1 div.sk-parallel-item::after {\n",
       "  content: \"\";\n",
       "  width: 100%;\n",
       "  border-bottom: 2px solid var(--sklearn-color-text-on-default-background);\n",
       "  flex-grow: 1;\n",
       "}\n",
       "\n",
       "#sk-container-id-1 div.sk-parallel {\n",
       "  display: flex;\n",
       "  align-items: stretch;\n",
       "  justify-content: center;\n",
       "  background-color: var(--sklearn-color-background);\n",
       "  position: relative;\n",
       "}\n",
       "\n",
       "#sk-container-id-1 div.sk-parallel-item {\n",
       "  display: flex;\n",
       "  flex-direction: column;\n",
       "}\n",
       "\n",
       "#sk-container-id-1 div.sk-parallel-item:first-child::after {\n",
       "  align-self: flex-end;\n",
       "  width: 50%;\n",
       "}\n",
       "\n",
       "#sk-container-id-1 div.sk-parallel-item:last-child::after {\n",
       "  align-self: flex-start;\n",
       "  width: 50%;\n",
       "}\n",
       "\n",
       "#sk-container-id-1 div.sk-parallel-item:only-child::after {\n",
       "  width: 0;\n",
       "}\n",
       "\n",
       "/* Serial-specific style estimator block */\n",
       "\n",
       "#sk-container-id-1 div.sk-serial {\n",
       "  display: flex;\n",
       "  flex-direction: column;\n",
       "  align-items: center;\n",
       "  background-color: var(--sklearn-color-background);\n",
       "  padding-right: 1em;\n",
       "  padding-left: 1em;\n",
       "}\n",
       "\n",
       "\n",
       "/* Toggleable style: style used for estimator/Pipeline/ColumnTransformer box that is\n",
       "clickable and can be expanded/collapsed.\n",
       "- Pipeline and ColumnTransformer use this feature and define the default style\n",
       "- Estimators will overwrite some part of the style using the `sk-estimator` class\n",
       "*/\n",
       "\n",
       "/* Pipeline and ColumnTransformer style (default) */\n",
       "\n",
       "#sk-container-id-1 div.sk-toggleable {\n",
       "  /* Default theme specific background. It is overwritten whether we have a\n",
       "  specific estimator or a Pipeline/ColumnTransformer */\n",
       "  background-color: var(--sklearn-color-background);\n",
       "}\n",
       "\n",
       "/* Toggleable label */\n",
       "#sk-container-id-1 label.sk-toggleable__label {\n",
       "  cursor: pointer;\n",
       "  display: block;\n",
       "  width: 100%;\n",
       "  margin-bottom: 0;\n",
       "  padding: 0.5em;\n",
       "  box-sizing: border-box;\n",
       "  text-align: center;\n",
       "}\n",
       "\n",
       "#sk-container-id-1 label.sk-toggleable__label-arrow:before {\n",
       "  /* Arrow on the left of the label */\n",
       "  content: \"▸\";\n",
       "  float: left;\n",
       "  margin-right: 0.25em;\n",
       "  color: var(--sklearn-color-icon);\n",
       "}\n",
       "\n",
       "#sk-container-id-1 label.sk-toggleable__label-arrow:hover:before {\n",
       "  color: var(--sklearn-color-text);\n",
       "}\n",
       "\n",
       "/* Toggleable content - dropdown */\n",
       "\n",
       "#sk-container-id-1 div.sk-toggleable__content {\n",
       "  max-height: 0;\n",
       "  max-width: 0;\n",
       "  overflow: hidden;\n",
       "  text-align: left;\n",
       "  /* unfitted */\n",
       "  background-color: var(--sklearn-color-unfitted-level-0);\n",
       "}\n",
       "\n",
       "#sk-container-id-1 div.sk-toggleable__content.fitted {\n",
       "  /* fitted */\n",
       "  background-color: var(--sklearn-color-fitted-level-0);\n",
       "}\n",
       "\n",
       "#sk-container-id-1 div.sk-toggleable__content pre {\n",
       "  margin: 0.2em;\n",
       "  border-radius: 0.25em;\n",
       "  color: var(--sklearn-color-text);\n",
       "  /* unfitted */\n",
       "  background-color: var(--sklearn-color-unfitted-level-0);\n",
       "}\n",
       "\n",
       "#sk-container-id-1 div.sk-toggleable__content.fitted pre {\n",
       "  /* unfitted */\n",
       "  background-color: var(--sklearn-color-fitted-level-0);\n",
       "}\n",
       "\n",
       "#sk-container-id-1 input.sk-toggleable__control:checked~div.sk-toggleable__content {\n",
       "  /* Expand drop-down */\n",
       "  max-height: 200px;\n",
       "  max-width: 100%;\n",
       "  overflow: auto;\n",
       "}\n",
       "\n",
       "#sk-container-id-1 input.sk-toggleable__control:checked~label.sk-toggleable__label-arrow:before {\n",
       "  content: \"▾\";\n",
       "}\n",
       "\n",
       "/* Pipeline/ColumnTransformer-specific style */\n",
       "\n",
       "#sk-container-id-1 div.sk-label input.sk-toggleable__control:checked~label.sk-toggleable__label {\n",
       "  color: var(--sklearn-color-text);\n",
       "  background-color: var(--sklearn-color-unfitted-level-2);\n",
       "}\n",
       "\n",
       "#sk-container-id-1 div.sk-label.fitted input.sk-toggleable__control:checked~label.sk-toggleable__label {\n",
       "  background-color: var(--sklearn-color-fitted-level-2);\n",
       "}\n",
       "\n",
       "/* Estimator-specific style */\n",
       "\n",
       "/* Colorize estimator box */\n",
       "#sk-container-id-1 div.sk-estimator input.sk-toggleable__control:checked~label.sk-toggleable__label {\n",
       "  /* unfitted */\n",
       "  background-color: var(--sklearn-color-unfitted-level-2);\n",
       "}\n",
       "\n",
       "#sk-container-id-1 div.sk-estimator.fitted input.sk-toggleable__control:checked~label.sk-toggleable__label {\n",
       "  /* fitted */\n",
       "  background-color: var(--sklearn-color-fitted-level-2);\n",
       "}\n",
       "\n",
       "#sk-container-id-1 div.sk-label label.sk-toggleable__label,\n",
       "#sk-container-id-1 div.sk-label label {\n",
       "  /* The background is the default theme color */\n",
       "  color: var(--sklearn-color-text-on-default-background);\n",
       "}\n",
       "\n",
       "/* On hover, darken the color of the background */\n",
       "#sk-container-id-1 div.sk-label:hover label.sk-toggleable__label {\n",
       "  color: var(--sklearn-color-text);\n",
       "  background-color: var(--sklearn-color-unfitted-level-2);\n",
       "}\n",
       "\n",
       "/* Label box, darken color on hover, fitted */\n",
       "#sk-container-id-1 div.sk-label.fitted:hover label.sk-toggleable__label.fitted {\n",
       "  color: var(--sklearn-color-text);\n",
       "  background-color: var(--sklearn-color-fitted-level-2);\n",
       "}\n",
       "\n",
       "/* Estimator label */\n",
       "\n",
       "#sk-container-id-1 div.sk-label label {\n",
       "  font-family: monospace;\n",
       "  font-weight: bold;\n",
       "  display: inline-block;\n",
       "  line-height: 1.2em;\n",
       "}\n",
       "\n",
       "#sk-container-id-1 div.sk-label-container {\n",
       "  text-align: center;\n",
       "}\n",
       "\n",
       "/* Estimator-specific */\n",
       "#sk-container-id-1 div.sk-estimator {\n",
       "  font-family: monospace;\n",
       "  border: 1px dotted var(--sklearn-color-border-box);\n",
       "  border-radius: 0.25em;\n",
       "  box-sizing: border-box;\n",
       "  margin-bottom: 0.5em;\n",
       "  /* unfitted */\n",
       "  background-color: var(--sklearn-color-unfitted-level-0);\n",
       "}\n",
       "\n",
       "#sk-container-id-1 div.sk-estimator.fitted {\n",
       "  /* fitted */\n",
       "  background-color: var(--sklearn-color-fitted-level-0);\n",
       "}\n",
       "\n",
       "/* on hover */\n",
       "#sk-container-id-1 div.sk-estimator:hover {\n",
       "  /* unfitted */\n",
       "  background-color: var(--sklearn-color-unfitted-level-2);\n",
       "}\n",
       "\n",
       "#sk-container-id-1 div.sk-estimator.fitted:hover {\n",
       "  /* fitted */\n",
       "  background-color: var(--sklearn-color-fitted-level-2);\n",
       "}\n",
       "\n",
       "/* Specification for estimator info (e.g. \"i\" and \"?\") */\n",
       "\n",
       "/* Common style for \"i\" and \"?\" */\n",
       "\n",
       ".sk-estimator-doc-link,\n",
       "a:link.sk-estimator-doc-link,\n",
       "a:visited.sk-estimator-doc-link {\n",
       "  float: right;\n",
       "  font-size: smaller;\n",
       "  line-height: 1em;\n",
       "  font-family: monospace;\n",
       "  background-color: var(--sklearn-color-background);\n",
       "  border-radius: 1em;\n",
       "  height: 1em;\n",
       "  width: 1em;\n",
       "  text-decoration: none !important;\n",
       "  margin-left: 1ex;\n",
       "  /* unfitted */\n",
       "  border: var(--sklearn-color-unfitted-level-1) 1pt solid;\n",
       "  color: var(--sklearn-color-unfitted-level-1);\n",
       "}\n",
       "\n",
       ".sk-estimator-doc-link.fitted,\n",
       "a:link.sk-estimator-doc-link.fitted,\n",
       "a:visited.sk-estimator-doc-link.fitted {\n",
       "  /* fitted */\n",
       "  border: var(--sklearn-color-fitted-level-1) 1pt solid;\n",
       "  color: var(--sklearn-color-fitted-level-1);\n",
       "}\n",
       "\n",
       "/* On hover */\n",
       "div.sk-estimator:hover .sk-estimator-doc-link:hover,\n",
       ".sk-estimator-doc-link:hover,\n",
       "div.sk-label-container:hover .sk-estimator-doc-link:hover,\n",
       ".sk-estimator-doc-link:hover {\n",
       "  /* unfitted */\n",
       "  background-color: var(--sklearn-color-unfitted-level-3);\n",
       "  color: var(--sklearn-color-background);\n",
       "  text-decoration: none;\n",
       "}\n",
       "\n",
       "div.sk-estimator.fitted:hover .sk-estimator-doc-link.fitted:hover,\n",
       ".sk-estimator-doc-link.fitted:hover,\n",
       "div.sk-label-container:hover .sk-estimator-doc-link.fitted:hover,\n",
       ".sk-estimator-doc-link.fitted:hover {\n",
       "  /* fitted */\n",
       "  background-color: var(--sklearn-color-fitted-level-3);\n",
       "  color: var(--sklearn-color-background);\n",
       "  text-decoration: none;\n",
       "}\n",
       "\n",
       "/* Span, style for the box shown on hovering the info icon */\n",
       ".sk-estimator-doc-link span {\n",
       "  display: none;\n",
       "  z-index: 9999;\n",
       "  position: relative;\n",
       "  font-weight: normal;\n",
       "  right: .2ex;\n",
       "  padding: .5ex;\n",
       "  margin: .5ex;\n",
       "  width: min-content;\n",
       "  min-width: 20ex;\n",
       "  max-width: 50ex;\n",
       "  color: var(--sklearn-color-text);\n",
       "  box-shadow: 2pt 2pt 4pt #999;\n",
       "  /* unfitted */\n",
       "  background: var(--sklearn-color-unfitted-level-0);\n",
       "  border: .5pt solid var(--sklearn-color-unfitted-level-3);\n",
       "}\n",
       "\n",
       ".sk-estimator-doc-link.fitted span {\n",
       "  /* fitted */\n",
       "  background: var(--sklearn-color-fitted-level-0);\n",
       "  border: var(--sklearn-color-fitted-level-3);\n",
       "}\n",
       "\n",
       ".sk-estimator-doc-link:hover span {\n",
       "  display: block;\n",
       "}\n",
       "\n",
       "/* \"?\"-specific style due to the `<a>` HTML tag */\n",
       "\n",
       "#sk-container-id-1 a.estimator_doc_link {\n",
       "  float: right;\n",
       "  font-size: 1rem;\n",
       "  line-height: 1em;\n",
       "  font-family: monospace;\n",
       "  background-color: var(--sklearn-color-background);\n",
       "  border-radius: 1rem;\n",
       "  height: 1rem;\n",
       "  width: 1rem;\n",
       "  text-decoration: none;\n",
       "  /* unfitted */\n",
       "  color: var(--sklearn-color-unfitted-level-1);\n",
       "  border: var(--sklearn-color-unfitted-level-1) 1pt solid;\n",
       "}\n",
       "\n",
       "#sk-container-id-1 a.estimator_doc_link.fitted {\n",
       "  /* fitted */\n",
       "  border: var(--sklearn-color-fitted-level-1) 1pt solid;\n",
       "  color: var(--sklearn-color-fitted-level-1);\n",
       "}\n",
       "\n",
       "/* On hover */\n",
       "#sk-container-id-1 a.estimator_doc_link:hover {\n",
       "  /* unfitted */\n",
       "  background-color: var(--sklearn-color-unfitted-level-3);\n",
       "  color: var(--sklearn-color-background);\n",
       "  text-decoration: none;\n",
       "}\n",
       "\n",
       "#sk-container-id-1 a.estimator_doc_link.fitted:hover {\n",
       "  /* fitted */\n",
       "  background-color: var(--sklearn-color-fitted-level-3);\n",
       "}\n",
       "</style><div id=\"sk-container-id-1\" class=\"sk-top-container\"><div class=\"sk-text-repr-fallback\"><pre>NearestNeighbors(n_neighbors=40)</pre><b>In a Jupyter environment, please rerun this cell to show the HTML representation or trust the notebook. <br />On GitHub, the HTML representation is unable to render, please try loading this page with nbviewer.org.</b></div><div class=\"sk-container\" hidden><div class=\"sk-item\"><div class=\"sk-estimator fitted sk-toggleable\"><input class=\"sk-toggleable__control sk-hidden--visually\" id=\"sk-estimator-id-1\" type=\"checkbox\" checked><label for=\"sk-estimator-id-1\" class=\"sk-toggleable__label fitted sk-toggleable__label-arrow fitted\">&nbsp;&nbsp;NearestNeighbors<a class=\"sk-estimator-doc-link fitted\" rel=\"noreferrer\" target=\"_blank\" href=\"https://scikit-learn.org/1.4/modules/generated/sklearn.neighbors.NearestNeighbors.html\">?<span>Documentation for NearestNeighbors</span></a><span class=\"sk-estimator-doc-link fitted\">i<span>Fitted</span></span></label><div class=\"sk-toggleable__content fitted\"><pre>NearestNeighbors(n_neighbors=40)</pre></div> </div></div></div></div>"
      ],
      "text/plain": [
       "NearestNeighbors(n_neighbors=40)"
      ]
     },
     "execution_count": 4,
     "metadata": {},
     "output_type": "execute_result"
    }
   ],
   "source": [
    "from sklearn.neighbors import NearestNeighbors\n",
    "\n",
    "#k neighbors\n",
    "model = NearestNeighbors(n_neighbors=40)\n",
    "\n",
    "# Train the model\n",
    "model.fit(X)"
   ]
  },
  {
   "cell_type": "code",
   "execution_count": 9,
   "metadata": {},
   "outputs": [],
   "source": [
    "sr_points, _ = datasets.make_swiss_roll(n_samples=len(df), random_state=0)\n",
    "sr_color = np.arange(len(sr_points))"
   ]
  },
  {
   "cell_type": "code",
   "execution_count": 10,
   "metadata": {},
   "outputs": [],
   "source": [
    "\n",
    "iso = Isomap(n_components= 3, n_neighbors=40)\n",
    "x_iso  = iso.fit_transform(X)\n"
   ]
  },
  {
   "cell_type": "code",
   "execution_count": 11,
   "metadata": {},
   "outputs": [
    {
     "data": {
      "text/plain": [
       "0.003231588827492653"
      ]
     },
     "execution_count": 11,
     "metadata": {},
     "output_type": "execute_result"
    }
   ],
   "source": [
    "iso.reconstruction_error()"
   ]
  },
  {
   "cell_type": "code",
   "execution_count": 12,
   "metadata": {},
   "outputs": [
    {
     "data": {
      "application/vnd.plotly.v1+json": {
       "config": {
        "plotlyServerURL": "https://plot.ly"
       },
       "data": [
        {
         "customdata": [
          [
           "Days I Will Remember",
           "['acoustic pop', 'neo mellow']"
          ],
          [
           "The Time of My Life",
           "['idol', 'neo mellow', 'talent show']"
          ],
          [
           "Keep Your Head Up",
           "['neo mellow', 'post-teen pop']"
          ],
          [
           "Lego House",
           "['pop', 'singer-songwriter pop', 'uk pop']"
          ],
          [
           "Timeless - From \"Austin & Ally\"",
           "['movie tunes', 'post-teen pop']"
          ],
          [
           "Written in the Stars (feat. Eric Turner)",
           "['dance pop', 'grime', 'pop rap']"
          ],
          [
           "Rude",
           "['pop', 'reggae fusion']"
          ],
          [
           "Silicone Kingdom",
           "['indie pop rap']"
          ],
          [
           "Dreaming With Our Eyes Open",
           "['indie pop rap']"
          ],
          [
           "Like Toy Soldiers",
           "['detroit hip hop', 'hip hop', 'rap']"
          ],
          [
           "Happiness",
           "['boston hip hop', 'deep underground hip hop', 'indie pop rap']"
          ],
          [
           "Piano Man",
           "['album rock', 'classic rock', 'mellow gold', 'piano rock', 'rock', 'singer-songwriter', 'soft rock']"
          ],
          [
           "Chasing Cars",
           "['irish rock', 'modern rock', 'neo mellow', 'permanent wave', 'pop rock']"
          ],
          [
           "Bless The Broken Road",
           "['contemporary country', 'country', 'country road']"
          ],
          [
           "One Thing",
           "['alternative metal', 'canadian rock', 'funk metal', 'nu metal', 'post-grunge']"
          ],
          [
           "Handlebars",
           "['conscious hip hop', 'nerdcore']"
          ],
          [
           "Forever",
           "['indie pop rap', 'sad rap']"
          ],
          [
           "Don't Look Down",
           "['indie pop rap']"
          ],
          [
           "F.M.F.M.H",
           "['indie pop rap']"
          ],
          [
           "Good Old Days (feat. Kesha)",
           "['pop rap', 'seattle hip hop']"
          ],
          [
           "Gone",
           "['ohio hip hop', 'pop rap']"
          ],
          [
           "all the kids are depressed",
           "['alt z', 'electropop', 'pop']"
          ],
          [
           "Don't Forget to Remember Me",
           "['classic oklahoma country', 'contemporary country', 'country', 'country dawn', 'dance pop', 'pop']"
          ],
          [
           "I'll Always Remember You",
           "['pop', 'post-teen pop']"
          ],
          [
           "Someday",
           "['neo mellow', 'pop rock', 'post-grunge']"
          ],
          [
           "Bigger Than Love",
           "['alternative pop rock', 'neon pop punk', 'pop emo']"
          ],
          [
           "How to Save a Life",
           "['neo mellow', 'piano rock', 'pop', 'pop rock']"
          ],
          [
           "80's Films",
           "['indie pop rap']"
          ],
          [
           "Maybe IDK",
           "['indie pop rap']"
          ],
          [
           "Movies",
           "['indie pop rap']"
          ],
          [
           "Last Letter",
           "['indie pop rap']"
          ],
          [
           "If the World Was Ending (feat. Julia Michaels)",
           "['alt z', 'canadian contemporary r&b', 'singer-songwriter pop']"
          ],
          [
           "Imagine - Remastered 2010",
           "['classic rock', 'rock']"
          ],
          [
           "Who Knew",
           "['dance pop', 'pop']"
          ],
          [
           "Gonna Be Ok",
           "['talent show']"
          ],
          [
           "Beautiful Disaster",
           "['acoustic pop', 'indy indie', 'neo mellow', 'piano rock']"
          ],
          [
           "I Wish I Had Cheated",
           "['modern country pop']"
          ],
          [
           "The One That Got Away",
           "['pop']"
          ],
          [
           "Freshman Year",
           "['seattle hip hop']"
          ],
          [
           "Have It All",
           "['acoustic pop', 'dance pop', 'neo mellow', 'pop']"
          ],
          [
           "Live Like We're Dying",
           "['acoustic pop', 'idol', 'neo mellow']"
          ],
          [
           "Never Forget You (feat. John Legend)",
           "['chicago rap', 'conscious hip hop', 'hip hop', 'political hip hop', 'pop rap', 'rap', 'southern hip hop']"
          ],
          [
           "The Show Goes On",
           "['chicago rap', 'conscious hip hop', 'hip hop', 'political hip hop', 'pop rap', 'rap', 'southern hip hop']"
          ],
          [
           "No Surprise",
           "['alternative metal', 'neo mellow', 'pop rock', 'post-grunge']"
          ],
          [
           "One Day",
           "['reggae fusion']"
          ],
          [
           "Fairytale",
           "['singer-songwriter pop']"
          ],
          [
           "Home",
           "['singer-songwriter pop']"
          ],
          [
           "Young",
           "['singer-songwriter pop']"
          ],
          [
           "Photograph",
           "['alternative metal', 'canadian rock', 'post-grunge']"
          ],
          [
           "Little Wonders",
           "['neo mellow', 'pop rock', 'post-grunge']"
          ],
          [
           "Live Life",
           "['indie pop rap']"
          ],
          [
           "7 Years",
           "['danish pop', 'scandipop']"
          ],
          [
           "Mama Said",
           "['danish pop', 'scandipop']"
          ],
          [
           "Story of My Life",
           "['boy band', 'pop', 'post-teen pop', 'talent show']"
          ],
          [
           "Thank You",
           "['pop', 'post-teen pop']"
          ],
          [
           "No More Second Chances (feat. Jessica Ashley)",
           "['pop', 'post-teen pop']"
          ],
          [
           "Verge",
           "['indietronica', 'pop']"
          ],
          [
           "Take Your Time",
           "['contemporary country', 'country', 'country pop', 'modern country rock']"
          ],
          [
           "Happily Ever After",
           "['alternative pop rock', 'neon pop punk', 'pixie', 'washington indie']"
          ],
          [
           "I Lived",
           "['piano rock', 'pop']"
          ],
          [
           "In This Life",
           "['hawaiian']"
          ],
          [
           "How to Fly",
           "['viral pop']"
          ],
          [
           "Not Alone",
           "['indie pop rap']"
          ],
          [
           "Possible",
           "['indie pop rap', 'sad rap']"
          ],
          [
           "Hey Look Ma, I Made It",
           "['pop']"
          ],
          [
           "Someday (feat. Max Schneider) - Film Version",
           "['post-teen pop']"
          ],
          [
           "The Reason",
           "['alternative metal', 'funk metal', 'nu metal', 'pop rock', 'post-grunge']"
          ],
          [
           "Beautiful",
           "['detroit hip hop', 'hip hop', 'rap']"
          ],
          [
           "Rockabye (feat. Sean Paul & Anne-Marie)",
           "['pop', 'uk dance', 'uk funky']"
          ],
          [
           "End of the Road",
           "[]"
          ],
          [
           "Nate",
           "['hip hop', 'pop rap']"
          ],
          [
           "See You Again (feat. Charlie Puth)",
           "['hip hop', 'pittsburgh rap', 'pop rap', 'rap', 'southern hip hop', 'trap']"
          ],
          [
           "Slice",
           "['neo mellow', 'piano rock', 'pop rock']"
          ],
          [
           "Chances",
           "['neo mellow', 'piano rock', 'pop rock']"
          ],
          [
           "This Dance",
           "['neo mellow', 'piano rock', 'pop rock']"
          ],
          [
           "Livin' On A Prayer",
           "['glam metal', 'rock']"
          ],
          [
           "It Is What It Is",
           "['neo mellow', 'pop rock', 'post-grunge']"
          ],
          [
           "Jesus, Take the Wheel",
           "['classic oklahoma country', 'contemporary country', 'country', 'country dawn', 'dance pop', 'pop']"
          ],
          [
           "We Are Young (feat. Janelle Monáe)",
           "['baroque pop', 'metropopolis', 'neo mellow']"
          ],
          [
           "Sun Dried",
           "['indie pop rap']"
          ],
          [
           "Life to Lead",
           "['indie pop rap']"
          ],
          [
           "Sirens",
           "['dance pop', 'pop', 'post-teen pop', 'talent show']"
          ],
          [
           "Human",
           "['dance pop', 'pop', 'post-teen pop', 'talent show']"
          ],
          [
           "Second Chance",
           "['alternative metal', 'nu metal', 'post-grunge']"
          ],
          [
           "Better in Time",
           "['british soul', 'dance pop', 'pop', 'talent show']"
          ],
          [
           "I'm Alright",
           "['indie pop rap', 'teen pop']"
          ],
          [
           "Beautiful People (feat. Carolina Liar)",
           "['dance pop', 'pop', 'post-teen pop', 'talent show']"
          ],
          [
           "Still Woke (feat. Roze)",
           "['indie pop rap']"
          ],
          [
           "I Fall Apart",
           "['dfw rap', 'melodic rap', 'pop', 'rap']"
          ],
          [
           "Untitled (How Could This Happen to Me?)",
           "['canadian pop punk', 'canadian punk', 'canadian rock', 'modern rock', 'neon pop punk', 'pop punk', 'pop rock']"
          ],
          [
           "Welcome to My Life",
           "['canadian pop punk', 'canadian punk', 'canadian rock', 'modern rock', 'neon pop punk', 'pop punk', 'pop rock']"
          ],
          [
           "Both of Us (feat. Taylor Swift)",
           "['atl hip hop', 'dance pop', 'pop rap', 'rap', 'southern hip hop']"
          ],
          [
           "So Hard to Breathe",
           "['atl hip hop', 'dance pop', 'pop rap', 'rap', 'southern hip hop']"
          ],
          [
           "Round and Around",
           "['jawaiian']"
          ],
          [
           "Sand",
           "['indie pop rap']"
          ],
          [
           "Love",
           "['indie pop rap']"
          ],
          [
           "Beautiful",
           "['indie pop rap']"
          ],
          [
           "Darkest Places",
           "['indie pop rap']"
          ],
          [
           "Interroga Omnia",
           "['indie pop rap']"
          ],
          [
           "Volition",
           "['indie pop rap']"
          ],
          [
           "Die For You",
           "['viral pop']"
          ],
          [
           "SLOW DANCING IN THE DARK",
           "['viral pop']"
          ],
          [
           "NIGHT RIDER",
           "['viral pop']"
          ],
          [
           "Say",
           "['chill r&b']"
          ],
          [
           "Gimme Love",
           "['viral pop']"
          ],
          [
           "Afterthought",
           "['viral pop']"
          ],
          [
           "UNDERSTAND",
           "['chill r&b']"
          ],
          [
           "ANGOSTURA",
           "['chill r&b']"
          ],
          [
           "Romantic Homicide",
           "['bedroom pop', 'bedroom r&b']"
          ],
          [
           "You and I",
           "['bedroom pop', 'bedroom r&b']"
          ],
          [
           "Feel It - From The Original Series “Invincible”",
           "['bedroom pop', 'bedroom r&b']"
          ],
          [
           "WORTHLESS",
           "['bedroom pop', 'bedroom r&b']"
          ],
          [
           "My House Is Not A Home",
           "['bedroom pop', 'bedroom r&b']"
          ],
          [
           "Night",
           "['chill r&b']"
          ],
          [
           "Soft Spot",
           "['chill r&b']"
          ],
          [
           "Dream",
           "['chill r&b']"
          ],
          [
           "Bodies",
           "['chill r&b']"
          ],
          [
           "I'd Rather Pretend (with d4vd)",
           "['bedroom r&b']"
          ],
          [
           "Feeling Like The End",
           "['viral pop']"
          ],
          [
           "Sanctuary",
           "['viral pop']"
          ],
          [
           "Kiss Me Right",
           "['chill r&b']"
          ],
          [
           "Placebo Effect",
           "['bedroom pop', 'bedroom r&b']"
          ],
          [
           "Amen",
           "['chill r&b']"
          ],
          [
           "R.I.P. (feat. Trippie Redd)",
           "['viral pop']"
          ],
          [
           "Will He",
           "['viral pop']"
          ],
          [
           "HELL/HEAVEN",
           "['chill r&b']"
          ],
          [
           "Never Forget You",
           "['pop', 'scandipop', 'swedish electropop', 'swedish pop']"
          ],
          [
           "Wide Awake",
           "['pop']"
          ],
          [
           "Unconditionally",
           "['pop']"
          ],
          [
           "Symphony (feat. Zara Larsson)",
           "['pop', 'uk dance', 'uk funky']"
          ],
          [
           "Right Now",
           "['boy band', 'pop', 'post-teen pop', 'talent show']"
          ],
          [
           "Part Of Me",
           "['pop']"
          ],
          [
           "Dandelions",
           "['alt z', 'canadian contemporary r&b', 'canadian pop', 'pop']"
          ],
          [
           "Butterflies",
           "['pop', 'post-teen pop']"
          ],
          [
           "Story of My Life",
           "['boy band', 'pop', 'post-teen pop', 'talent show']"
          ],
          [
           "What A Time (feat. Niall Horan)",
           "['pop']"
          ],
          [
           "no body, no crime (feat. HAIM)",
           "['pop']"
          ],
          [
           "Perfect",
           "['boy band', 'pop', 'post-teen pop', 'talent show']"
          ],
          [
           "A.M.",
           "['boy band', 'pop', 'post-teen pop', 'talent show']"
          ],
          [
           "One Last Time",
           "['pop']"
          ],
          [
           "safety net (feat. Ty Dolla $ign)",
           "['pop']"
          ],
          [
           "goodnight n go",
           "['pop']"
          ],
          [
           "Secret Love Song (feat. Jason Derulo)",
           "['girl group', 'pop', 'talent show', 'uk pop']"
          ],
          [
           "They Don't Know About Us",
           "['boy band', 'pop', 'post-teen pop', 'talent show']"
          ],
          [
           "Come & Get It",
           "['pop', 'post-teen pop']"
          ],
          [
           "I Know What You Did Last Summer",
           "['canadian pop', 'pop', 'viral pop']"
          ],
          [
           "Poison",
           "['dance pop', 'pop', 'uk pop']"
          ],
          [
           "Please Don't Go",
           "['australian pop', 'pop soul']"
          ],
          [
           "Hiding In The Blue",
           "['speedrun']"
          ],
          [
           "Wake Me Up",
           "['dance pop', 'edm', 'pop', 'pop dance']"
          ],
          [
           "Runaway Baby",
           "['dance pop', 'pop']"
          ],
          [
           "I Think I'm In Love",
           "['hip pop', 'miami hip hop']"
          ],
          [
           "Drag Me Down",
           "['boy band', 'pop', 'post-teen pop', 'talent show']"
          ],
          [
           "Want U Back",
           "['dance pop', 'pop', 'post-teen pop', 'talent show']"
          ],
          [
           "With Ur Love",
           "['dance pop', 'pop', 'post-teen pop', 'talent show']"
          ],
          [
           "Heart Attack",
           "['pop', 'post-teen pop']"
          ],
          [
           "Can't Stop Dancin'",
           "['latin pop', 'latin viral pop', 'rap latina', 'reggaeton', 'trap latino', 'urbano latino']"
          ],
          [
           "How Do You Do",
           "[]"
          ],
          [
           "Tears of Gold",
           "['alt z', 'canadian pop']"
          ],
          [
           "Good In Goodbye",
           "['pop']"
          ],
          [
           "If I Can't Have You",
           "['canadian pop', 'pop', 'viral pop']"
          ],
          [
           "Rise",
           "['pop']"
          ],
          [
           "Back to the Start",
           "['german pop', 'talentschau']"
          ],
          [
           "Had Me @ Hello",
           "['post-teen pop']"
          ],
          [
           "Rewrite The Stars (with James Arthur & Anne-Marie)",
           "['pop', 'talent show', 'uk pop']"
          ],
          [
           "As Long As I Have You",
           "['movie tunes']"
          ],
          [
           "Heartbeat",
           "['norwegian pop', 'talentkonkurranse']"
          ],
          [
           "Can You Hear The Music",
           "['nordic soundtrack', 'orchestral soundtrack', 'soundtrack']"
          ],
          [
           "No Time for Caution",
           "['german soundtrack', 'orchestral soundtrack', 'soundtrack']"
          ],
          [
           "Cornfield Chase",
           "['german soundtrack', 'orchestral soundtrack', 'soundtrack']"
          ],
          [
           "Low of Solipsism",
           "['anime score']"
          ],
          [
           "Teleology of Death",
           "['anime score']"
          ],
          [
           "Domine Kira",
           "['anime score']"
          ],
          [
           "Kyrie",
           "['anime score']"
          ],
          [
           "Death Note Theme",
           "['anime score']"
          ],
          [
           "Rem",
           "[]"
          ],
          [
           "L no Theme",
           "[]"
          ],
          [
           "Overture - From \"Whiplash\"",
           "['hollywood', 'movie tunes']"
          ],
          [
           "What's Your Name - If You Want the Part, Earn It",
           "[]"
          ],
          [
           "Caravan",
           "[]"
          ],
          [
           "Whiplash",
           "[]"
          ],
          [
           "Quantum Mechanics",
           "['nordic soundtrack', 'orchestral soundtrack', 'soundtrack']"
          ],
          [
           "Can't Fight City Halloween",
           "['orchestral soundtrack', 'soundtrack']"
          ],
          [
           "Kuroi Light",
           "[]"
          ],
          [
           "Meimou",
           "['anime score']"
          ],
          [
           "Ansatsu Ikka no Yakata",
           "['anime score']"
          ],
          [
           "Elegy of the Dynast",
           "['anime score']"
          ],
          [
           "Sonata in Darkness",
           "['orchestral soundtrack', 'soundtrack']"
          ],
          [
           "Training With Mr. Schaibel",
           "['old west', 'soundtrack']"
          ],
          [
           "The Batman",
           "['orchestral soundtrack', 'soundtrack']"
          ],
          [
           "Paul's Dream",
           "['german soundtrack', 'orchestral soundtrack', 'soundtrack']"
          ],
          [
           "Ripples in the Sand",
           "['german soundtrack', 'orchestral soundtrack', 'soundtrack']"
          ],
          [
           "Anakin's Betrayal",
           "['orchestral soundtrack', 'soundtrack']"
          ],
          [
           "Souvenir d'Italie",
           "['swing italiano']"
          ],
          [
           "5 Pieces, Op. 75, \"The Trees\": No. 5 Granen (The Spruce)",
           "['classical', 'finnish classical', 'impressionism', 'post-romantic era']"
          ],
          [
           "Clair de lune",
           "['classical', 'impressionism', 'post-romantic era']"
          ],
          [
           "Adagio for Strings, Op. 11",
           "['american modern classical', 'classical']"
          ],
          [
           "One Final Effort",
           "['video game music']"
          ],
          [
           "Tip of the Spear",
           "['video game music']"
          ],
          [
           "Overture",
           "['video game music']"
          ],
          [
           "Tick-Tock",
           "['german soundtrack', 'orchestral soundtrack', 'soundtrack']"
          ],
          [
           "Mountains",
           "['german soundtrack', 'orchestral soundtrack', 'soundtrack']"
          ],
          [
           "Soundtrack for Your Backseat",
           "['socal indie']"
          ],
          [
           "Huit octobre 1971",
           "['spytrack']"
          ],
          [
           "on solid ground?",
           "[]"
          ],
          [
           "Who Is She ?",
           "['downtempo']"
          ],
          [
           "Something In The Way - Remastered",
           "['grunge', 'permanent wave', 'rock']"
          ],
          [
           "Chamber Of Reflection",
           "['edmonton indie', 'lo-fi indie', 'pov: indie', 'slacker rock']"
          ],
          [
           "Madame Lulu",
           "['italian library music', 'vintage italian soundtrack']"
          ],
          [
           "Rain",
           "[]"
          ],
          [
           "Words That We Couldn't Say",
           "[]"
          ],
          [
           "Show Me How",
           "['indie pop', 'pov: indie']"
          ],
          [
           "Heather",
           "['bedroom pop', 'pop', 'pov: indie']"
          ],
          [
           "Moonlight on the River",
           "['edmonton indie', 'lo-fi indie', 'pov: indie', 'slacker rock']"
          ],
          [
           "Sparks",
           "['permanent wave', 'pop']"
          ],
          [
           "Roddy",
           "['pov: indie', 'psychedelic pop']"
          ],
          [
           "What Would I Do?",
           "['bedroom pop']"
          ],
          [
           "My Jinji",
           "['taiwan indie']"
          ],
          [
           "Chamber of Reflection",
           "['corecore']"
          ],
          [
           "A Rush of Blood to the Head",
           "['permanent wave', 'pop']"
          ],
          [
           "Good Looking",
           "['indie pop']"
          ],
          [
           "A Different Age",
           "['lo-fi indie', 'pov: indie']"
          ],
          [
           "this is what autumn feels like",
           "['modern indie pop', 'pov: indie', 'singer-songwriter pop']"
          ],
          [
           "Misty",
           "['brill building pop', 'bubblegum pop', 'classic girl group']"
          ],
          [
           "Nothing's Gonna Hurt You Baby",
           "['ambient pop', 'dream pop', 'el paso indie', 'shoegaze']"
          ],
          [
           "YKWIM?",
           "['bedroom pop']"
          ],
          [
           "Adieu",
           "[]"
          ],
          [
           "My Way - 2008 Remastered",
           "['adult standards', 'easy listening', 'lounge']"
          ],
          [
           "Glimpse of Us",
           "['viral pop']"
          ],
          [
           "SLOW DANCING IN THE DARK",
           "['viral pop']"
          ],
          [
           "PRIDE.",
           "['conscious hip hop', 'hip hop', 'rap', 'west coast rap']"
          ],
          [
           "8TEEN",
           "['pop', 'pop r&b']"
          ],
          [
           "lovely (with Khalid)",
           "['art pop', 'pop']"
          ],
          [
           "Another Sad Love Song",
           "['pop', 'pop r&b']"
          ],
          [
           "I'll die next summer (no joke)",
           "[]"
          ],
          [
           "Lavender Town (From \"Pokémon Red and Blue\")",
           "['lo-fi vgm', 'pixel', 'vgm remix']"
          ],
          [
           "Lavender Town",
           "[]"
          ],
          [
           "Lavender Town (From \"Pokémon Red and Blue\")",
           "['lo-fi vgm', 'pixel', 'vgm remix']"
          ],
          [
           "Pokemon LOFI \"Lavender Town\"",
           "['anime lo-fi']"
          ],
          [
           "Lavender Town (From \"Pokémon Red, Blue, Yellow\")",
           "['8-bit']"
          ],
          [
           "Lavender Town - Lofi",
           "['anime lo-fi']"
          ]
         ],
         "hovertemplate": "x=%{x}<br>y=%{y}<br>name=%{customdata[0]}<br>genre=%{customdata[1]}<br>color=%{marker.color}<extra></extra>",
         "legendgroup": "",
         "marker": {
          "color": [
           0,
           1,
           2,
           3,
           4,
           5,
           6,
           7,
           8,
           9,
           10,
           11,
           12,
           13,
           14,
           15,
           16,
           17,
           18,
           19,
           20,
           21,
           22,
           23,
           24,
           25,
           26,
           27,
           28,
           29,
           30,
           31,
           32,
           33,
           34,
           35,
           36,
           37,
           38,
           39,
           40,
           41,
           42,
           43,
           44,
           45,
           46,
           47,
           48,
           49,
           50,
           51,
           52,
           53,
           54,
           55,
           56,
           57,
           58,
           59,
           60,
           61,
           62,
           63,
           64,
           65,
           66,
           67,
           68,
           69,
           70,
           71,
           72,
           73,
           74,
           75,
           76,
           77,
           78,
           79,
           80,
           81,
           82,
           83,
           84,
           85,
           86,
           87,
           88,
           89,
           90,
           91,
           92,
           93,
           94,
           95,
           96,
           97,
           98,
           99,
           100,
           101,
           102,
           103,
           104,
           105,
           106,
           107,
           108,
           109,
           110,
           111,
           112,
           113,
           114,
           115,
           116,
           117,
           118,
           119,
           120,
           121,
           122,
           123,
           124,
           125,
           126,
           127,
           128,
           129,
           130,
           131,
           132,
           133,
           134,
           135,
           136,
           137,
           138,
           139,
           140,
           141,
           142,
           143,
           144,
           145,
           146,
           147,
           148,
           149,
           150,
           151,
           152,
           153,
           154,
           155,
           156,
           157,
           158,
           159,
           160,
           161,
           162,
           163,
           164,
           165,
           166,
           167,
           168,
           169,
           170,
           171,
           172,
           173,
           174,
           175,
           176,
           177,
           178,
           179,
           180,
           181,
           182,
           183,
           184,
           185,
           186,
           187,
           188,
           189,
           190,
           191,
           192,
           193,
           194,
           195,
           196,
           197,
           198,
           199,
           200,
           201,
           202,
           203,
           204,
           205,
           206,
           207,
           208,
           209,
           210,
           211,
           212,
           213,
           214,
           215,
           216,
           217,
           218,
           219,
           220,
           221,
           222,
           223,
           224,
           225,
           226,
           227,
           228,
           229,
           230,
           231,
           232,
           233,
           234,
           235,
           236,
           237,
           238,
           239,
           240
          ],
          "coloraxis": "coloraxis",
          "symbol": "circle"
         },
         "mode": "markers",
         "name": "",
         "orientation": "v",
         "showlegend": false,
         "type": "scatter",
         "x": [
          0.024705582721467795,
          0.07025677454389107,
          -0.22833293822726408,
          -0.06531554457440195,
          -0.1519327772188021,
          -0.37211325737685375,
          -0.2917151029293424,
          -0.14357109893616118,
          -0.3871433380179845,
          -0.1459007067845235,
          -0.2837837652780549,
          0.17695526321968205,
          -0.012968920232124991,
          0.10008291848740898,
          0.016092638435802217,
          -0.05377433733044877,
          0.157825512566393,
          -0.11455363179623254,
          0.04852400657442385,
          -0.004408716993683476,
          -0.24109485430686053,
          -0.06390703873980491,
          0.0206006307702546,
          -0.05763938927247551,
          -0.29284374355599946,
          -0.23962151291378694,
          -0.17619385642315027,
          0.13955697024606803,
          0.02846272584076051,
          -0.3169326224198515,
          -0.09735332387263763,
          0.1424766508714897,
          0.3005483178406171,
          -0.18851814346846624,
          -0.25266994364513456,
          -0.019938744214611344,
          -0.09553416351033016,
          -0.2628221940573634,
          -0.1902166339829516,
          -0.08204238098076255,
          -0.3246309758324946,
          -0.3062400295310203,
          -0.2934250521505178,
          -0.14250475157480166,
          0.07320763550204466,
          -0.044674062202546154,
          0.11324748988387506,
          -0.0760569020557822,
          -0.2453933694757516,
          0.15271207885202326,
          -0.051594994437917895,
          -0.04601431423808244,
          -0.30762420254572637,
          -0.08888696975126957,
          -0.36524614969095065,
          -0.15628758047763316,
          -0.13586733405835089,
          -0.13855809506886269,
          -0.10945054007562854,
          -0.2864854446936033,
          0.21985663836889466,
          0.01771025448741328,
          -0.01764987741965252,
          -0.04595451274464731,
          -0.23034304146637866,
          -0.3447656894181748,
          -0.031111091408250954,
          -0.17069098274261735,
          -0.2425369108871,
          -0.28186881716162226,
          -0.2478411037183337,
          0.03967081048164546,
          -0.10310454559558571,
          -0.14398902374310993,
          0.12193084822053281,
          -0.29002371008622413,
          -0.09939151408877826,
          0.15069755031897614,
          0.03674925009796641,
          -0.10928954219123531,
          -0.12575082396082277,
          -0.24762128762990987,
          -0.31663734950247563,
          -0.1469444551909699,
          -0.11582568796922671,
          -0.3693503851148492,
          -0.05351152179856949,
          -0.08516760058914287,
          0.030840280309148375,
          0.37725412370915246,
          -0.17934726445210264,
          -0.19746798951801015,
          -0.22650328221320343,
          0.06883152282682657,
          -0.08362558294447768,
          -0.13619972258063134,
          -0.23339212130256132,
          0.017438363412019788,
          0.03398610661637751,
          0.24929735369868888,
          0.05864312042943159,
          0.10155277157216994,
          -0.24477637062410276,
          -0.12291271037957834,
          -0.026201068935970125,
          -0.01476685471688134,
          0.42431302700696416,
          -0.054812815905606306,
          -0.008638107522763875,
          -0.31427216236156136,
          -0.02708885999279217,
          -0.18345078072822385,
          0.19768067794111993,
          -0.025890095819635802,
          -0.06904999251446114,
          0.49028933410528563,
          0.06563737773062757,
          0.22527869197626207,
          -0.17763821002086216,
          -0.08651113239082636,
          -0.13397458693661213,
          0.3568419289818092,
          0.3948716318768668,
          -0.014863551766171549,
          0.2431240925118191,
          0.08781062337923382,
          -0.1672696351025277,
          -0.11176979451491487,
          -0.08456599598477874,
          -0.11236785736135264,
          -0.20959547060648898,
          -0.3436542004965706,
          -0.1151354666520388,
          -0.27272678646464066,
          -0.08888696975126958,
          0.12642688538628633,
          -0.017966341096458154,
          -0.2521968138489884,
          0.04147897469572863,
          -0.037997514587647226,
          -0.00877903289211194,
          0.05471188045064314,
          -0.0413485367537034,
          -0.10633448988143382,
          -0.17259375291383566,
          -0.2191070621900536,
          -0.17124251700214413,
          -0.17568299659327538,
          -0.08948063530384462,
          -0.17328901163704472,
          -0.2035659425468833,
          -0.08313503970451068,
          -0.1780626267424973,
          -0.40028725557816774,
          -0.2226210123353559,
          -0.1774384803109983,
          -0.11260708342993654,
          -0.4480500414248182,
          -0.12000571069685936,
          -0.15729822703461285,
          -0.2739480469176049,
          -0.04457271369854997,
          -0.26194313373183803,
          -0.30685242271876934,
          -0.24923774095766169,
          -0.29530698994282767,
          0.03671775063062946,
          0.30197984416693663,
          0.4635344527394964,
          0.4949009379334564,
          0.19242116517805172,
          -0.26023596529028425,
          -0.1952689079646543,
          0.46048534533138885,
          0.12425891507957045,
          0.5156002129573386,
          -0.263669030136112,
          -0.08588964468197186,
          -0.20097250821579596,
          -0.11475437770376323,
          -0.30304640200288824,
          0.3881529794823849,
          0.5108209118367261,
          -0.34312933839269777,
          0.4097434448788705,
          0.47674037924817925,
          0.38672032092486386,
          0.5782084124942062,
          0.5506244875998757,
          0.5500061388812414,
          0.4973769901700828,
          0.5051579162958197,
          0.5580874567707114,
          0.36968023408112,
          0.6075889862796162,
          0.6079809723536838,
          0.6498682470908974,
          -0.06325335904354351,
          0.1408210103212669,
          0.3544678420603866,
          0.45815773836252444,
          0.5896246421120008,
          -0.09757522246359711,
          -0.056685658571345346,
          0.2148989116978604,
          -0.11819987183141362,
          0.38508469991076544,
          0.03452817782541935,
          0.2636301815075826,
          0.3953484075991555,
          0.025648039469167674,
          0.17885648662474068,
          0.21055690023178897,
          0.0359059637833782,
          0.37218427207052873,
          0.06018519188980364,
          0.12031427750040738,
          0.06261709581962097,
          0.4194064004366675,
          0.075591474107898,
          0.11313027575402408,
          0.1651427905430905,
          0.2672663247414885,
          0.2958579133784878,
          0.2487130775564583,
          0.09615341477588883,
          0.43545421820568153,
          0.26226130246892343,
          0.29456665270991766,
          0.10155277157216987,
          -0.008789922329350292,
          -0.11342962131495908,
          0.3580259859058178,
          -0.019674441883560444,
          -0.34960853278875687,
          0.17753868098904688,
          -0.07739286535102696,
          0.17753868098904702,
          0.018884193085578434,
          -0.057971069048017486,
          0.12425646003663855
         ],
         "xaxis": "x",
         "y": [
          -0.1712478178798676,
          0.11754530710222116,
          -0.02751523572352575,
          -0.015866800495981062,
          -0.03331780988192997,
          0.08484769393867465,
          -0.11176989482846804,
          -0.16378572176842746,
          -0.09252676990961156,
          0.1013568833615044,
          0.06951677070110067,
          0.16515461165333298,
          -0.00953832113323962,
          -0.10012371568535175,
          -0.055739660441076214,
          -0.15123808047285395,
          -0.10771485455469176,
          -0.2002259470628261,
          -0.21788064741343066,
          -0.18767021596756922,
          0.18345096767696606,
          -0.245591297543811,
          0.21866272675286424,
          0.1739423349541597,
          0.11496552427468705,
          0.06506345768153274,
          -0.01751652270415989,
          -0.028650325310725623,
          -0.010054635317147249,
          -0.1836323724893449,
          0.07815450640296089,
          0.023987006875673483,
          -0.14709800808404142,
          -0.06032281888360037,
          -0.11064207347878134,
          0.14345460865568047,
          -0.045840866316966995,
          -0.027572864592054974,
          -0.09493619263681148,
          -0.06794340273588555,
          0.12139724131609159,
          0.07259464143997654,
          0.10385392984770522,
          0.14343568850647687,
          0.19100633794666275,
          -0.15159314394606438,
          -0.06889719802385924,
          -0.040535676264707415,
          0.1563713628731053,
          0.3570635028274989,
          -0.06953255588767832,
          -0.224626395455436,
          -0.024093741472999655,
          -0.012725066975639486,
          0.0714809734024447,
          0.04625915492743388,
          0.07142660476430525,
          0.061380465941228965,
          0.030421505809615407,
          0.08609315356216693,
          -0.19127983886978536,
          0.04756522934540673,
          -0.0683306644925482,
          0.013718248937638683,
          0.08333964006573291,
          0.008804191825191742,
          0.13255825889449177,
          -0.11575909378813434,
          -0.07071583909257709,
          -0.04159441498210407,
          0.20363720651586262,
          -0.18139889844872106,
          0.008534233248437474,
          0.24205350685597235,
          -0.3492894156835087,
          0.1716558390039056,
          0.08646630281794526,
          0.13903248962867823,
          0.1718208638537367,
          -0.20669546258258867,
          -0.14852817448558825,
          -0.02631661750620966,
          0.22115501034737367,
          0.17147125304439212,
          0.018388358352329975,
          0.13284435846608783,
          -0.018803009520917204,
          -0.08033984691930807,
          -0.024814792416358894,
          0.20426530496169204,
          0.22518043365843388,
          -0.054895531902149214,
          0.11885782505516011,
          -0.4044597069248248,
          -0.13662154501697915,
          -0.3303145291777686,
          -0.26397833708051904,
          -0.20022502679983536,
          -0.1407932727926206,
          -0.11869040278200169,
          0.04996766551002018,
          -0.019875127074168275,
          -0.12471650102736469,
          -0.0782941148939555,
          0.08288005639256817,
          -0.13064032223523883,
          -0.02199348191148341,
          0.0409945420596222,
          -0.02795338190932554,
          0.2383982739509468,
          -0.01277166111901219,
          -0.035698313610586695,
          -0.1304660771528784,
          -0.10723071433762106,
          -0.13409440965258257,
          0.0037437841866633523,
          -0.16316894398093296,
          -0.1315157722984253,
          -0.18660022764427295,
          0.043613775272952085,
          0.31734097995186106,
          -0.06571031302441684,
          0.06979945428061538,
          -0.18789898024786286,
          -0.18330875947550743,
          -0.13677814476082994,
          0.048408452667487285,
          0.10100664249724524,
          0.17746286657841967,
          -0.1264751328546981,
          -0.004493653929340582,
          0.039358161484558125,
          -0.011046646624036137,
          0.07743972775351829,
          -0.012725066975639535,
          -0.030021313200929826,
          0.011631560526845445,
          0.014379113612523597,
          -0.06466248258723577,
          -0.07132485979191361,
          -0.0010041583773950555,
          -0.20883434972705178,
          0.039337433832464345,
          0.08902946044780351,
          0.08577060198210189,
          -0.04691628075854592,
          0.056988028924873334,
          0.13199346665646666,
          -0.0338227374918156,
          0.10918860016929077,
          -0.021412231335937563,
          -0.05355389701144967,
          -0.11639188342466915,
          0.057872736798912985,
          0.11496031603032997,
          0.14523227483606413,
          -0.05310226622938546,
          -0.09410191272777657,
          0.009072802099517562,
          -0.04693849349886184,
          -0.0247424727036086,
          0.01736505545035092,
          0.005932657854963969,
          0.05407915755418331,
          -0.002411844360835639,
          0.11313932586174914,
          -0.41442471647650797,
          0.2544484304929532,
          0.09027502314181379,
          0.17492912119263207,
          0.06970725932700639,
          0.18775384650412813,
          0.2191934359178678,
          0.12469923778989997,
          0.16652817346699156,
          -0.24618096275834778,
          -0.008510205494849696,
          0.19277277105275645,
          0.04740637167338456,
          0.19227967839588106,
          -0.07523925689912912,
          0.05326514640490205,
          0.006010472131527309,
          -0.022091760883235164,
          0.1402786421108882,
          0.09947266525632112,
          0.1703477913151231,
          -0.10740545205537316,
          -0.05719975379317419,
          0.10705879552109819,
          0.16840720654258431,
          0.24405437065971483,
          0.18348268528313594,
          0.45294953286030454,
          -0.10353886418741023,
          -0.09943888074387164,
          0.1663759836050152,
          0.2663509255479645,
          0.10457090494720858,
          0.2794089733087261,
          0.1167779992191403,
          -0.020135847029541312,
          -0.014221597401701806,
          0.07041596227356273,
          0.24004590268481493,
          0.2294996486902932,
          -0.054314190655924154,
          -0.005911870910710753,
          0.20827973032728586,
          -0.1262146616451716,
          0.026990662532913684,
          -0.3568915895022554,
          0.12019405073333943,
          -0.14733609385323498,
          0.013588044801735437,
          -0.04486361687828956,
          -0.0557392260163511,
          0.15065324857723722,
          -0.29775394029493396,
          -0.02514462266721907,
          0.15075811598224387,
          -0.17413544967692549,
          0.2234127210216214,
          -0.13112666625335379,
          -0.08317635117507342,
          0.15779794076430512,
          -0.1610989402372753,
          0.182600812796018,
          -0.023398706540620918,
          -0.01987512707416833,
          -0.13435844320883916,
          -0.2596450986387692,
          0.04418504354463276,
          -0.3118926899520524,
          0.042359211183659325,
          -0.1096817789234612,
          -0.04015135121164646,
          -0.10968177892346122,
          -0.2740439916710298,
          -0.2437858421178338,
          -0.22709170455914526
         ],
         "yaxis": "y"
        }
       ],
       "layout": {
        "coloraxis": {
         "colorbar": {
          "title": {
           "text": "color"
          }
         },
         "colorscale": [
          [
           0,
           "#440154"
          ],
          [
           0.1111111111111111,
           "#482878"
          ],
          [
           0.2222222222222222,
           "#3e4989"
          ],
          [
           0.3333333333333333,
           "#31688e"
          ],
          [
           0.4444444444444444,
           "#26828e"
          ],
          [
           0.5555555555555556,
           "#1f9e89"
          ],
          [
           0.6666666666666666,
           "#35b779"
          ],
          [
           0.7777777777777778,
           "#6ece58"
          ],
          [
           0.8888888888888888,
           "#b5de2b"
          ],
          [
           1,
           "#fde725"
          ]
         ]
        },
        "legend": {
         "tracegroupgap": 0
        },
        "margin": {
         "t": 60
        },
        "template": {
         "data": {
          "bar": [
           {
            "error_x": {
             "color": "#2a3f5f"
            },
            "error_y": {
             "color": "#2a3f5f"
            },
            "marker": {
             "line": {
              "color": "#E5ECF6",
              "width": 0.5
             },
             "pattern": {
              "fillmode": "overlay",
              "size": 10,
              "solidity": 0.2
             }
            },
            "type": "bar"
           }
          ],
          "barpolar": [
           {
            "marker": {
             "line": {
              "color": "#E5ECF6",
              "width": 0.5
             },
             "pattern": {
              "fillmode": "overlay",
              "size": 10,
              "solidity": 0.2
             }
            },
            "type": "barpolar"
           }
          ],
          "carpet": [
           {
            "aaxis": {
             "endlinecolor": "#2a3f5f",
             "gridcolor": "white",
             "linecolor": "white",
             "minorgridcolor": "white",
             "startlinecolor": "#2a3f5f"
            },
            "baxis": {
             "endlinecolor": "#2a3f5f",
             "gridcolor": "white",
             "linecolor": "white",
             "minorgridcolor": "white",
             "startlinecolor": "#2a3f5f"
            },
            "type": "carpet"
           }
          ],
          "choropleth": [
           {
            "colorbar": {
             "outlinewidth": 0,
             "ticks": ""
            },
            "type": "choropleth"
           }
          ],
          "contour": [
           {
            "colorbar": {
             "outlinewidth": 0,
             "ticks": ""
            },
            "colorscale": [
             [
              0,
              "#0d0887"
             ],
             [
              0.1111111111111111,
              "#46039f"
             ],
             [
              0.2222222222222222,
              "#7201a8"
             ],
             [
              0.3333333333333333,
              "#9c179e"
             ],
             [
              0.4444444444444444,
              "#bd3786"
             ],
             [
              0.5555555555555556,
              "#d8576b"
             ],
             [
              0.6666666666666666,
              "#ed7953"
             ],
             [
              0.7777777777777778,
              "#fb9f3a"
             ],
             [
              0.8888888888888888,
              "#fdca26"
             ],
             [
              1,
              "#f0f921"
             ]
            ],
            "type": "contour"
           }
          ],
          "contourcarpet": [
           {
            "colorbar": {
             "outlinewidth": 0,
             "ticks": ""
            },
            "type": "contourcarpet"
           }
          ],
          "heatmap": [
           {
            "colorbar": {
             "outlinewidth": 0,
             "ticks": ""
            },
            "colorscale": [
             [
              0,
              "#0d0887"
             ],
             [
              0.1111111111111111,
              "#46039f"
             ],
             [
              0.2222222222222222,
              "#7201a8"
             ],
             [
              0.3333333333333333,
              "#9c179e"
             ],
             [
              0.4444444444444444,
              "#bd3786"
             ],
             [
              0.5555555555555556,
              "#d8576b"
             ],
             [
              0.6666666666666666,
              "#ed7953"
             ],
             [
              0.7777777777777778,
              "#fb9f3a"
             ],
             [
              0.8888888888888888,
              "#fdca26"
             ],
             [
              1,
              "#f0f921"
             ]
            ],
            "type": "heatmap"
           }
          ],
          "heatmapgl": [
           {
            "colorbar": {
             "outlinewidth": 0,
             "ticks": ""
            },
            "colorscale": [
             [
              0,
              "#0d0887"
             ],
             [
              0.1111111111111111,
              "#46039f"
             ],
             [
              0.2222222222222222,
              "#7201a8"
             ],
             [
              0.3333333333333333,
              "#9c179e"
             ],
             [
              0.4444444444444444,
              "#bd3786"
             ],
             [
              0.5555555555555556,
              "#d8576b"
             ],
             [
              0.6666666666666666,
              "#ed7953"
             ],
             [
              0.7777777777777778,
              "#fb9f3a"
             ],
             [
              0.8888888888888888,
              "#fdca26"
             ],
             [
              1,
              "#f0f921"
             ]
            ],
            "type": "heatmapgl"
           }
          ],
          "histogram": [
           {
            "marker": {
             "pattern": {
              "fillmode": "overlay",
              "size": 10,
              "solidity": 0.2
             }
            },
            "type": "histogram"
           }
          ],
          "histogram2d": [
           {
            "colorbar": {
             "outlinewidth": 0,
             "ticks": ""
            },
            "colorscale": [
             [
              0,
              "#0d0887"
             ],
             [
              0.1111111111111111,
              "#46039f"
             ],
             [
              0.2222222222222222,
              "#7201a8"
             ],
             [
              0.3333333333333333,
              "#9c179e"
             ],
             [
              0.4444444444444444,
              "#bd3786"
             ],
             [
              0.5555555555555556,
              "#d8576b"
             ],
             [
              0.6666666666666666,
              "#ed7953"
             ],
             [
              0.7777777777777778,
              "#fb9f3a"
             ],
             [
              0.8888888888888888,
              "#fdca26"
             ],
             [
              1,
              "#f0f921"
             ]
            ],
            "type": "histogram2d"
           }
          ],
          "histogram2dcontour": [
           {
            "colorbar": {
             "outlinewidth": 0,
             "ticks": ""
            },
            "colorscale": [
             [
              0,
              "#0d0887"
             ],
             [
              0.1111111111111111,
              "#46039f"
             ],
             [
              0.2222222222222222,
              "#7201a8"
             ],
             [
              0.3333333333333333,
              "#9c179e"
             ],
             [
              0.4444444444444444,
              "#bd3786"
             ],
             [
              0.5555555555555556,
              "#d8576b"
             ],
             [
              0.6666666666666666,
              "#ed7953"
             ],
             [
              0.7777777777777778,
              "#fb9f3a"
             ],
             [
              0.8888888888888888,
              "#fdca26"
             ],
             [
              1,
              "#f0f921"
             ]
            ],
            "type": "histogram2dcontour"
           }
          ],
          "mesh3d": [
           {
            "colorbar": {
             "outlinewidth": 0,
             "ticks": ""
            },
            "type": "mesh3d"
           }
          ],
          "parcoords": [
           {
            "line": {
             "colorbar": {
              "outlinewidth": 0,
              "ticks": ""
             }
            },
            "type": "parcoords"
           }
          ],
          "pie": [
           {
            "automargin": true,
            "type": "pie"
           }
          ],
          "scatter": [
           {
            "fillpattern": {
             "fillmode": "overlay",
             "size": 10,
             "solidity": 0.2
            },
            "type": "scatter"
           }
          ],
          "scatter3d": [
           {
            "line": {
             "colorbar": {
              "outlinewidth": 0,
              "ticks": ""
             }
            },
            "marker": {
             "colorbar": {
              "outlinewidth": 0,
              "ticks": ""
             }
            },
            "type": "scatter3d"
           }
          ],
          "scattercarpet": [
           {
            "marker": {
             "colorbar": {
              "outlinewidth": 0,
              "ticks": ""
             }
            },
            "type": "scattercarpet"
           }
          ],
          "scattergeo": [
           {
            "marker": {
             "colorbar": {
              "outlinewidth": 0,
              "ticks": ""
             }
            },
            "type": "scattergeo"
           }
          ],
          "scattergl": [
           {
            "marker": {
             "colorbar": {
              "outlinewidth": 0,
              "ticks": ""
             }
            },
            "type": "scattergl"
           }
          ],
          "scattermapbox": [
           {
            "marker": {
             "colorbar": {
              "outlinewidth": 0,
              "ticks": ""
             }
            },
            "type": "scattermapbox"
           }
          ],
          "scatterpolar": [
           {
            "marker": {
             "colorbar": {
              "outlinewidth": 0,
              "ticks": ""
             }
            },
            "type": "scatterpolar"
           }
          ],
          "scatterpolargl": [
           {
            "marker": {
             "colorbar": {
              "outlinewidth": 0,
              "ticks": ""
             }
            },
            "type": "scatterpolargl"
           }
          ],
          "scatterternary": [
           {
            "marker": {
             "colorbar": {
              "outlinewidth": 0,
              "ticks": ""
             }
            },
            "type": "scatterternary"
           }
          ],
          "surface": [
           {
            "colorbar": {
             "outlinewidth": 0,
             "ticks": ""
            },
            "colorscale": [
             [
              0,
              "#0d0887"
             ],
             [
              0.1111111111111111,
              "#46039f"
             ],
             [
              0.2222222222222222,
              "#7201a8"
             ],
             [
              0.3333333333333333,
              "#9c179e"
             ],
             [
              0.4444444444444444,
              "#bd3786"
             ],
             [
              0.5555555555555556,
              "#d8576b"
             ],
             [
              0.6666666666666666,
              "#ed7953"
             ],
             [
              0.7777777777777778,
              "#fb9f3a"
             ],
             [
              0.8888888888888888,
              "#fdca26"
             ],
             [
              1,
              "#f0f921"
             ]
            ],
            "type": "surface"
           }
          ],
          "table": [
           {
            "cells": {
             "fill": {
              "color": "#EBF0F8"
             },
             "line": {
              "color": "white"
             }
            },
            "header": {
             "fill": {
              "color": "#C8D4E3"
             },
             "line": {
              "color": "white"
             }
            },
            "type": "table"
           }
          ]
         },
         "layout": {
          "annotationdefaults": {
           "arrowcolor": "#2a3f5f",
           "arrowhead": 0,
           "arrowwidth": 1
          },
          "autotypenumbers": "strict",
          "coloraxis": {
           "colorbar": {
            "outlinewidth": 0,
            "ticks": ""
           }
          },
          "colorscale": {
           "diverging": [
            [
             0,
             "#8e0152"
            ],
            [
             0.1,
             "#c51b7d"
            ],
            [
             0.2,
             "#de77ae"
            ],
            [
             0.3,
             "#f1b6da"
            ],
            [
             0.4,
             "#fde0ef"
            ],
            [
             0.5,
             "#f7f7f7"
            ],
            [
             0.6,
             "#e6f5d0"
            ],
            [
             0.7,
             "#b8e186"
            ],
            [
             0.8,
             "#7fbc41"
            ],
            [
             0.9,
             "#4d9221"
            ],
            [
             1,
             "#276419"
            ]
           ],
           "sequential": [
            [
             0,
             "#0d0887"
            ],
            [
             0.1111111111111111,
             "#46039f"
            ],
            [
             0.2222222222222222,
             "#7201a8"
            ],
            [
             0.3333333333333333,
             "#9c179e"
            ],
            [
             0.4444444444444444,
             "#bd3786"
            ],
            [
             0.5555555555555556,
             "#d8576b"
            ],
            [
             0.6666666666666666,
             "#ed7953"
            ],
            [
             0.7777777777777778,
             "#fb9f3a"
            ],
            [
             0.8888888888888888,
             "#fdca26"
            ],
            [
             1,
             "#f0f921"
            ]
           ],
           "sequentialminus": [
            [
             0,
             "#0d0887"
            ],
            [
             0.1111111111111111,
             "#46039f"
            ],
            [
             0.2222222222222222,
             "#7201a8"
            ],
            [
             0.3333333333333333,
             "#9c179e"
            ],
            [
             0.4444444444444444,
             "#bd3786"
            ],
            [
             0.5555555555555556,
             "#d8576b"
            ],
            [
             0.6666666666666666,
             "#ed7953"
            ],
            [
             0.7777777777777778,
             "#fb9f3a"
            ],
            [
             0.8888888888888888,
             "#fdca26"
            ],
            [
             1,
             "#f0f921"
            ]
           ]
          },
          "colorway": [
           "#636efa",
           "#EF553B",
           "#00cc96",
           "#ab63fa",
           "#FFA15A",
           "#19d3f3",
           "#FF6692",
           "#B6E880",
           "#FF97FF",
           "#FECB52"
          ],
          "font": {
           "color": "#2a3f5f"
          },
          "geo": {
           "bgcolor": "white",
           "lakecolor": "white",
           "landcolor": "#E5ECF6",
           "showlakes": true,
           "showland": true,
           "subunitcolor": "white"
          },
          "hoverlabel": {
           "align": "left"
          },
          "hovermode": "closest",
          "mapbox": {
           "style": "light"
          },
          "paper_bgcolor": "white",
          "plot_bgcolor": "#E5ECF6",
          "polar": {
           "angularaxis": {
            "gridcolor": "white",
            "linecolor": "white",
            "ticks": ""
           },
           "bgcolor": "#E5ECF6",
           "radialaxis": {
            "gridcolor": "white",
            "linecolor": "white",
            "ticks": ""
           }
          },
          "scene": {
           "xaxis": {
            "backgroundcolor": "#E5ECF6",
            "gridcolor": "white",
            "gridwidth": 2,
            "linecolor": "white",
            "showbackground": true,
            "ticks": "",
            "zerolinecolor": "white"
           },
           "yaxis": {
            "backgroundcolor": "#E5ECF6",
            "gridcolor": "white",
            "gridwidth": 2,
            "linecolor": "white",
            "showbackground": true,
            "ticks": "",
            "zerolinecolor": "white"
           },
           "zaxis": {
            "backgroundcolor": "#E5ECF6",
            "gridcolor": "white",
            "gridwidth": 2,
            "linecolor": "white",
            "showbackground": true,
            "ticks": "",
            "zerolinecolor": "white"
           }
          },
          "shapedefaults": {
           "line": {
            "color": "#2a3f5f"
           }
          },
          "ternary": {
           "aaxis": {
            "gridcolor": "white",
            "linecolor": "white",
            "ticks": ""
           },
           "baxis": {
            "gridcolor": "white",
            "linecolor": "white",
            "ticks": ""
           },
           "bgcolor": "#E5ECF6",
           "caxis": {
            "gridcolor": "white",
            "linecolor": "white",
            "ticks": ""
           }
          },
          "title": {
           "x": 0.05
          },
          "xaxis": {
           "automargin": true,
           "gridcolor": "white",
           "linecolor": "white",
           "ticks": "",
           "title": {
            "standoff": 15
           },
           "zerolinecolor": "white",
           "zerolinewidth": 2
          },
          "yaxis": {
           "automargin": true,
           "gridcolor": "white",
           "linecolor": "white",
           "ticks": "",
           "title": {
            "standoff": 15
           },
           "zerolinecolor": "white",
           "zerolinewidth": 2
          }
         }
        },
        "title": {
         "text": "Interactive Scatter Plot for SpotifAI"
        },
        "xaxis": {
         "anchor": "y",
         "domain": [
          0,
          1
         ],
         "title": {
          "text": "x"
         }
        },
        "yaxis": {
         "anchor": "x",
         "domain": [
          0,
          1
         ],
         "title": {
          "text": "y"
         }
        }
       }
      }
     },
     "metadata": {},
     "output_type": "display_data"
    }
   ],
   "source": [
    "fig = px.scatter(\n",
    "    x=x_iso[:, 0], #liveness\n",
    "    y=x_iso[:, 1],  #danceability\n",
    "    color=sr_color, \n",
    "    color_continuous_scale='viridis', \n",
    "    hover_data={'name': df['name'], 'genre': df['genre']}  # Adding hover information\n",
    ")\n",
    "\n",
    "# Set the axis labels and plot title\n",
    "fig.update_layout(\n",
    "    title='Interactive Scatter Plot for SpotifAI',\n",
    "    xaxis_title='x',\n",
    "    yaxis_title='y'\n",
    ")\n",
    "\n",
    "# Show the plot\n",
    "fig.show()\n",
    "fig.write_html(\"int_scatter.html\")"
   ]
  },
  {
   "cell_type": "code",
   "execution_count": 13,
   "metadata": {},
   "outputs": [
    {
     "data": {
      "application/vnd.plotly.v1+json": {
       "config": {
        "plotlyServerURL": "https://plot.ly"
       },
       "data": [
        {
         "customdata": [
          [
           "['acoustic pop', 'neo mellow']"
          ],
          [
           "['idol', 'neo mellow', 'talent show']"
          ],
          [
           "['neo mellow', 'post-teen pop']"
          ],
          [
           "['pop', 'singer-songwriter pop', 'uk pop']"
          ],
          [
           "['movie tunes', 'post-teen pop']"
          ],
          [
           "['dance pop', 'grime', 'pop rap']"
          ],
          [
           "['pop', 'reggae fusion']"
          ],
          [
           "['indie pop rap']"
          ],
          [
           "['indie pop rap']"
          ],
          [
           "['detroit hip hop', 'hip hop', 'rap']"
          ],
          [
           "['boston hip hop', 'deep underground hip hop', 'indie pop rap']"
          ],
          [
           "['album rock', 'classic rock', 'mellow gold', 'piano rock', 'rock', 'singer-songwriter', 'soft rock']"
          ],
          [
           "['irish rock', 'modern rock', 'neo mellow', 'permanent wave', 'pop rock']"
          ],
          [
           "['contemporary country', 'country', 'country road']"
          ],
          [
           "['alternative metal', 'canadian rock', 'funk metal', 'nu metal', 'post-grunge']"
          ],
          [
           "['conscious hip hop', 'nerdcore']"
          ],
          [
           "['indie pop rap', 'sad rap']"
          ],
          [
           "['indie pop rap']"
          ],
          [
           "['indie pop rap']"
          ],
          [
           "['pop rap', 'seattle hip hop']"
          ],
          [
           "['ohio hip hop', 'pop rap']"
          ],
          [
           "['alt z', 'electropop', 'pop']"
          ],
          [
           "['classic oklahoma country', 'contemporary country', 'country', 'country dawn', 'dance pop', 'pop']"
          ],
          [
           "['pop', 'post-teen pop']"
          ],
          [
           "['neo mellow', 'pop rock', 'post-grunge']"
          ],
          [
           "['alternative pop rock', 'neon pop punk', 'pop emo']"
          ],
          [
           "['neo mellow', 'piano rock', 'pop', 'pop rock']"
          ],
          [
           "['indie pop rap']"
          ],
          [
           "['indie pop rap']"
          ],
          [
           "['indie pop rap']"
          ],
          [
           "['indie pop rap']"
          ],
          [
           "['alt z', 'canadian contemporary r&b', 'singer-songwriter pop']"
          ],
          [
           "['classic rock', 'rock']"
          ],
          [
           "['dance pop', 'pop']"
          ],
          [
           "['talent show']"
          ],
          [
           "['acoustic pop', 'indy indie', 'neo mellow', 'piano rock']"
          ],
          [
           "['modern country pop']"
          ],
          [
           "['pop']"
          ],
          [
           "['seattle hip hop']"
          ],
          [
           "['acoustic pop', 'dance pop', 'neo mellow', 'pop']"
          ],
          [
           "['acoustic pop', 'idol', 'neo mellow']"
          ],
          [
           "['chicago rap', 'conscious hip hop', 'hip hop', 'political hip hop', 'pop rap', 'rap', 'southern hip hop']"
          ],
          [
           "['chicago rap', 'conscious hip hop', 'hip hop', 'political hip hop', 'pop rap', 'rap', 'southern hip hop']"
          ],
          [
           "['alternative metal', 'neo mellow', 'pop rock', 'post-grunge']"
          ],
          [
           "['reggae fusion']"
          ],
          [
           "['singer-songwriter pop']"
          ],
          [
           "['singer-songwriter pop']"
          ],
          [
           "['singer-songwriter pop']"
          ],
          [
           "['alternative metal', 'canadian rock', 'post-grunge']"
          ],
          [
           "['neo mellow', 'pop rock', 'post-grunge']"
          ],
          [
           "['indie pop rap']"
          ],
          [
           "['danish pop', 'scandipop']"
          ],
          [
           "['danish pop', 'scandipop']"
          ],
          [
           "['boy band', 'pop', 'post-teen pop', 'talent show']"
          ],
          [
           "['pop', 'post-teen pop']"
          ],
          [
           "['pop', 'post-teen pop']"
          ],
          [
           "['indietronica', 'pop']"
          ],
          [
           "['contemporary country', 'country', 'country pop', 'modern country rock']"
          ],
          [
           "['alternative pop rock', 'neon pop punk', 'pixie', 'washington indie']"
          ],
          [
           "['piano rock', 'pop']"
          ],
          [
           "['hawaiian']"
          ],
          [
           "['viral pop']"
          ],
          [
           "['indie pop rap']"
          ],
          [
           "['indie pop rap', 'sad rap']"
          ],
          [
           "['pop']"
          ],
          [
           "['post-teen pop']"
          ],
          [
           "['alternative metal', 'funk metal', 'nu metal', 'pop rock', 'post-grunge']"
          ],
          [
           "['detroit hip hop', 'hip hop', 'rap']"
          ],
          [
           "['pop', 'uk dance', 'uk funky']"
          ],
          [
           "[]"
          ],
          [
           "['hip hop', 'pop rap']"
          ],
          [
           "['hip hop', 'pittsburgh rap', 'pop rap', 'rap', 'southern hip hop', 'trap']"
          ],
          [
           "['neo mellow', 'piano rock', 'pop rock']"
          ],
          [
           "['neo mellow', 'piano rock', 'pop rock']"
          ],
          [
           "['neo mellow', 'piano rock', 'pop rock']"
          ],
          [
           "['glam metal', 'rock']"
          ],
          [
           "['neo mellow', 'pop rock', 'post-grunge']"
          ],
          [
           "['classic oklahoma country', 'contemporary country', 'country', 'country dawn', 'dance pop', 'pop']"
          ],
          [
           "['baroque pop', 'metropopolis', 'neo mellow']"
          ],
          [
           "['indie pop rap']"
          ],
          [
           "['indie pop rap']"
          ],
          [
           "['dance pop', 'pop', 'post-teen pop', 'talent show']"
          ],
          [
           "['dance pop', 'pop', 'post-teen pop', 'talent show']"
          ],
          [
           "['alternative metal', 'nu metal', 'post-grunge']"
          ],
          [
           "['british soul', 'dance pop', 'pop', 'talent show']"
          ],
          [
           "['indie pop rap', 'teen pop']"
          ],
          [
           "['dance pop', 'pop', 'post-teen pop', 'talent show']"
          ],
          [
           "['indie pop rap']"
          ],
          [
           "['dfw rap', 'melodic rap', 'pop', 'rap']"
          ],
          [
           "['canadian pop punk', 'canadian punk', 'canadian rock', 'modern rock', 'neon pop punk', 'pop punk', 'pop rock']"
          ],
          [
           "['canadian pop punk', 'canadian punk', 'canadian rock', 'modern rock', 'neon pop punk', 'pop punk', 'pop rock']"
          ],
          [
           "['atl hip hop', 'dance pop', 'pop rap', 'rap', 'southern hip hop']"
          ],
          [
           "['atl hip hop', 'dance pop', 'pop rap', 'rap', 'southern hip hop']"
          ],
          [
           "['jawaiian']"
          ],
          [
           "['indie pop rap']"
          ],
          [
           "['indie pop rap']"
          ],
          [
           "['indie pop rap']"
          ],
          [
           "['indie pop rap']"
          ],
          [
           "['indie pop rap']"
          ],
          [
           "['indie pop rap']"
          ],
          [
           "['viral pop']"
          ],
          [
           "['viral pop']"
          ],
          [
           "['viral pop']"
          ],
          [
           "['chill r&b']"
          ],
          [
           "['viral pop']"
          ],
          [
           "['viral pop']"
          ],
          [
           "['chill r&b']"
          ],
          [
           "['chill r&b']"
          ],
          [
           "['bedroom pop', 'bedroom r&b']"
          ],
          [
           "['bedroom pop', 'bedroom r&b']"
          ],
          [
           "['bedroom pop', 'bedroom r&b']"
          ],
          [
           "['bedroom pop', 'bedroom r&b']"
          ],
          [
           "['bedroom pop', 'bedroom r&b']"
          ],
          [
           "['chill r&b']"
          ],
          [
           "['chill r&b']"
          ],
          [
           "['chill r&b']"
          ],
          [
           "['chill r&b']"
          ],
          [
           "['bedroom r&b']"
          ],
          [
           "['viral pop']"
          ],
          [
           "['viral pop']"
          ],
          [
           "['chill r&b']"
          ],
          [
           "['bedroom pop', 'bedroom r&b']"
          ],
          [
           "['chill r&b']"
          ],
          [
           "['viral pop']"
          ],
          [
           "['viral pop']"
          ],
          [
           "['chill r&b']"
          ],
          [
           "['pop', 'scandipop', 'swedish electropop', 'swedish pop']"
          ],
          [
           "['pop']"
          ],
          [
           "['pop']"
          ],
          [
           "['pop', 'uk dance', 'uk funky']"
          ],
          [
           "['boy band', 'pop', 'post-teen pop', 'talent show']"
          ],
          [
           "['pop']"
          ],
          [
           "['alt z', 'canadian contemporary r&b', 'canadian pop', 'pop']"
          ],
          [
           "['pop', 'post-teen pop']"
          ],
          [
           "['boy band', 'pop', 'post-teen pop', 'talent show']"
          ],
          [
           "['pop']"
          ],
          [
           "['pop']"
          ],
          [
           "['boy band', 'pop', 'post-teen pop', 'talent show']"
          ],
          [
           "['boy band', 'pop', 'post-teen pop', 'talent show']"
          ],
          [
           "['pop']"
          ],
          [
           "['pop']"
          ],
          [
           "['pop']"
          ],
          [
           "['girl group', 'pop', 'talent show', 'uk pop']"
          ],
          [
           "['boy band', 'pop', 'post-teen pop', 'talent show']"
          ],
          [
           "['pop', 'post-teen pop']"
          ],
          [
           "['canadian pop', 'pop', 'viral pop']"
          ],
          [
           "['dance pop', 'pop', 'uk pop']"
          ],
          [
           "['australian pop', 'pop soul']"
          ],
          [
           "['speedrun']"
          ],
          [
           "['dance pop', 'edm', 'pop', 'pop dance']"
          ],
          [
           "['dance pop', 'pop']"
          ],
          [
           "['hip pop', 'miami hip hop']"
          ],
          [
           "['boy band', 'pop', 'post-teen pop', 'talent show']"
          ],
          [
           "['dance pop', 'pop', 'post-teen pop', 'talent show']"
          ],
          [
           "['dance pop', 'pop', 'post-teen pop', 'talent show']"
          ],
          [
           "['pop', 'post-teen pop']"
          ],
          [
           "['latin pop', 'latin viral pop', 'rap latina', 'reggaeton', 'trap latino', 'urbano latino']"
          ],
          [
           "[]"
          ],
          [
           "['alt z', 'canadian pop']"
          ],
          [
           "['pop']"
          ],
          [
           "['canadian pop', 'pop', 'viral pop']"
          ],
          [
           "['pop']"
          ],
          [
           "['german pop', 'talentschau']"
          ],
          [
           "['post-teen pop']"
          ],
          [
           "['pop', 'talent show', 'uk pop']"
          ],
          [
           "['movie tunes']"
          ],
          [
           "['norwegian pop', 'talentkonkurranse']"
          ],
          [
           "['nordic soundtrack', 'orchestral soundtrack', 'soundtrack']"
          ],
          [
           "['german soundtrack', 'orchestral soundtrack', 'soundtrack']"
          ],
          [
           "['german soundtrack', 'orchestral soundtrack', 'soundtrack']"
          ],
          [
           "['anime score']"
          ],
          [
           "['anime score']"
          ],
          [
           "['anime score']"
          ],
          [
           "['anime score']"
          ],
          [
           "['anime score']"
          ],
          [
           "[]"
          ],
          [
           "[]"
          ],
          [
           "['hollywood', 'movie tunes']"
          ],
          [
           "[]"
          ],
          [
           "[]"
          ],
          [
           "[]"
          ],
          [
           "['nordic soundtrack', 'orchestral soundtrack', 'soundtrack']"
          ],
          [
           "['orchestral soundtrack', 'soundtrack']"
          ],
          [
           "[]"
          ],
          [
           "['anime score']"
          ],
          [
           "['anime score']"
          ],
          [
           "['anime score']"
          ],
          [
           "['orchestral soundtrack', 'soundtrack']"
          ],
          [
           "['old west', 'soundtrack']"
          ],
          [
           "['orchestral soundtrack', 'soundtrack']"
          ],
          [
           "['german soundtrack', 'orchestral soundtrack', 'soundtrack']"
          ],
          [
           "['german soundtrack', 'orchestral soundtrack', 'soundtrack']"
          ],
          [
           "['orchestral soundtrack', 'soundtrack']"
          ],
          [
           "['swing italiano']"
          ],
          [
           "['classical', 'finnish classical', 'impressionism', 'post-romantic era']"
          ],
          [
           "['classical', 'impressionism', 'post-romantic era']"
          ],
          [
           "['american modern classical', 'classical']"
          ],
          [
           "['video game music']"
          ],
          [
           "['video game music']"
          ],
          [
           "['video game music']"
          ],
          [
           "['german soundtrack', 'orchestral soundtrack', 'soundtrack']"
          ],
          [
           "['german soundtrack', 'orchestral soundtrack', 'soundtrack']"
          ],
          [
           "['socal indie']"
          ],
          [
           "['spytrack']"
          ],
          [
           "[]"
          ],
          [
           "['downtempo']"
          ],
          [
           "['grunge', 'permanent wave', 'rock']"
          ],
          [
           "['edmonton indie', 'lo-fi indie', 'pov: indie', 'slacker rock']"
          ],
          [
           "['italian library music', 'vintage italian soundtrack']"
          ],
          [
           "[]"
          ],
          [
           "[]"
          ],
          [
           "['indie pop', 'pov: indie']"
          ],
          [
           "['bedroom pop', 'pop', 'pov: indie']"
          ],
          [
           "['edmonton indie', 'lo-fi indie', 'pov: indie', 'slacker rock']"
          ],
          [
           "['permanent wave', 'pop']"
          ],
          [
           "['pov: indie', 'psychedelic pop']"
          ],
          [
           "['bedroom pop']"
          ],
          [
           "['taiwan indie']"
          ],
          [
           "['corecore']"
          ],
          [
           "['permanent wave', 'pop']"
          ],
          [
           "['indie pop']"
          ],
          [
           "['lo-fi indie', 'pov: indie']"
          ],
          [
           "['modern indie pop', 'pov: indie', 'singer-songwriter pop']"
          ],
          [
           "['brill building pop', 'bubblegum pop', 'classic girl group']"
          ],
          [
           "['ambient pop', 'dream pop', 'el paso indie', 'shoegaze']"
          ],
          [
           "['bedroom pop']"
          ],
          [
           "[]"
          ],
          [
           "['adult standards', 'easy listening', 'lounge']"
          ],
          [
           "['viral pop']"
          ],
          [
           "['viral pop']"
          ],
          [
           "['conscious hip hop', 'hip hop', 'rap', 'west coast rap']"
          ],
          [
           "['pop', 'pop r&b']"
          ],
          [
           "['art pop', 'pop']"
          ],
          [
           "['pop', 'pop r&b']"
          ],
          [
           "[]"
          ],
          [
           "['lo-fi vgm', 'pixel', 'vgm remix']"
          ],
          [
           "[]"
          ],
          [
           "['lo-fi vgm', 'pixel', 'vgm remix']"
          ],
          [
           "['anime lo-fi']"
          ],
          [
           "['8-bit']"
          ],
          [
           "['anime lo-fi']"
          ]
         ],
         "hovertemplate": "<b>%{hovertext}</b><br><br>x=%{x}<br>y=%{y}<br>z=%{z}<br>artist genre=%{customdata[0]}<br>color=%{marker.color}<extra></extra>",
         "hovertext": [
          "Days I Will Remember",
          "The Time of My Life",
          "Keep Your Head Up",
          "Lego House",
          "Timeless - From \"Austin & Ally\"",
          "Written in the Stars (feat. Eric Turner)",
          "Rude",
          "Silicone Kingdom",
          "Dreaming With Our Eyes Open",
          "Like Toy Soldiers",
          "Happiness",
          "Piano Man",
          "Chasing Cars",
          "Bless The Broken Road",
          "One Thing",
          "Handlebars",
          "Forever",
          "Don't Look Down",
          "F.M.F.M.H",
          "Good Old Days (feat. Kesha)",
          "Gone",
          "all the kids are depressed",
          "Don't Forget to Remember Me",
          "I'll Always Remember You",
          "Someday",
          "Bigger Than Love",
          "How to Save a Life",
          "80's Films",
          "Maybe IDK",
          "Movies",
          "Last Letter",
          "If the World Was Ending (feat. Julia Michaels)",
          "Imagine - Remastered 2010",
          "Who Knew",
          "Gonna Be Ok",
          "Beautiful Disaster",
          "I Wish I Had Cheated",
          "The One That Got Away",
          "Freshman Year",
          "Have It All",
          "Live Like We're Dying",
          "Never Forget You (feat. John Legend)",
          "The Show Goes On",
          "No Surprise",
          "One Day",
          "Fairytale",
          "Home",
          "Young",
          "Photograph",
          "Little Wonders",
          "Live Life",
          "7 Years",
          "Mama Said",
          "Story of My Life",
          "Thank You",
          "No More Second Chances (feat. Jessica Ashley)",
          "Verge",
          "Take Your Time",
          "Happily Ever After",
          "I Lived",
          "In This Life",
          "How to Fly",
          "Not Alone",
          "Possible",
          "Hey Look Ma, I Made It",
          "Someday (feat. Max Schneider) - Film Version",
          "The Reason",
          "Beautiful",
          "Rockabye (feat. Sean Paul & Anne-Marie)",
          "End of the Road",
          "Nate",
          "See You Again (feat. Charlie Puth)",
          "Slice",
          "Chances",
          "This Dance",
          "Livin' On A Prayer",
          "It Is What It Is",
          "Jesus, Take the Wheel",
          "We Are Young (feat. Janelle Monáe)",
          "Sun Dried",
          "Life to Lead",
          "Sirens",
          "Human",
          "Second Chance",
          "Better in Time",
          "I'm Alright",
          "Beautiful People (feat. Carolina Liar)",
          "Still Woke (feat. Roze)",
          "I Fall Apart",
          "Untitled (How Could This Happen to Me?)",
          "Welcome to My Life",
          "Both of Us (feat. Taylor Swift)",
          "So Hard to Breathe",
          "Round and Around",
          "Sand",
          "Love",
          "Beautiful",
          "Darkest Places",
          "Interroga Omnia",
          "Volition",
          "Die For You",
          "SLOW DANCING IN THE DARK",
          "NIGHT RIDER",
          "Say",
          "Gimme Love",
          "Afterthought",
          "UNDERSTAND",
          "ANGOSTURA",
          "Romantic Homicide",
          "You and I",
          "Feel It - From The Original Series “Invincible”",
          "WORTHLESS",
          "My House Is Not A Home",
          "Night",
          "Soft Spot",
          "Dream",
          "Bodies",
          "I'd Rather Pretend (with d4vd)",
          "Feeling Like The End",
          "Sanctuary",
          "Kiss Me Right",
          "Placebo Effect",
          "Amen",
          "R.I.P. (feat. Trippie Redd)",
          "Will He",
          "HELL/HEAVEN",
          "Never Forget You",
          "Wide Awake",
          "Unconditionally",
          "Symphony (feat. Zara Larsson)",
          "Right Now",
          "Part Of Me",
          "Dandelions",
          "Butterflies",
          "Story of My Life",
          "What A Time (feat. Niall Horan)",
          "no body, no crime (feat. HAIM)",
          "Perfect",
          "A.M.",
          "One Last Time",
          "safety net (feat. Ty Dolla $ign)",
          "goodnight n go",
          "Secret Love Song (feat. Jason Derulo)",
          "They Don't Know About Us",
          "Come & Get It",
          "I Know What You Did Last Summer",
          "Poison",
          "Please Don't Go",
          "Hiding In The Blue",
          "Wake Me Up",
          "Runaway Baby",
          "I Think I'm In Love",
          "Drag Me Down",
          "Want U Back",
          "With Ur Love",
          "Heart Attack",
          "Can't Stop Dancin'",
          "How Do You Do",
          "Tears of Gold",
          "Good In Goodbye",
          "If I Can't Have You",
          "Rise",
          "Back to the Start",
          "Had Me @ Hello",
          "Rewrite The Stars (with James Arthur & Anne-Marie)",
          "As Long As I Have You",
          "Heartbeat",
          "Can You Hear The Music",
          "No Time for Caution",
          "Cornfield Chase",
          "Low of Solipsism",
          "Teleology of Death",
          "Domine Kira",
          "Kyrie",
          "Death Note Theme",
          "Rem",
          "L no Theme",
          "Overture - From \"Whiplash\"",
          "What's Your Name - If You Want the Part, Earn It",
          "Caravan",
          "Whiplash",
          "Quantum Mechanics",
          "Can't Fight City Halloween",
          "Kuroi Light",
          "Meimou",
          "Ansatsu Ikka no Yakata",
          "Elegy of the Dynast",
          "Sonata in Darkness",
          "Training With Mr. Schaibel",
          "The Batman",
          "Paul's Dream",
          "Ripples in the Sand",
          "Anakin's Betrayal",
          "Souvenir d'Italie",
          "5 Pieces, Op. 75, \"The Trees\": No. 5 Granen (The Spruce)",
          "Clair de lune",
          "Adagio for Strings, Op. 11",
          "One Final Effort",
          "Tip of the Spear",
          "Overture",
          "Tick-Tock",
          "Mountains",
          "Soundtrack for Your Backseat",
          "Huit octobre 1971",
          "on solid ground?",
          "Who Is She ?",
          "Something In The Way - Remastered",
          "Chamber Of Reflection",
          "Madame Lulu",
          "Rain",
          "Words That We Couldn't Say",
          "Show Me How",
          "Heather",
          "Moonlight on the River",
          "Sparks",
          "Roddy",
          "What Would I Do?",
          "My Jinji",
          "Chamber of Reflection",
          "A Rush of Blood to the Head",
          "Good Looking",
          "A Different Age",
          "this is what autumn feels like",
          "Misty",
          "Nothing's Gonna Hurt You Baby",
          "YKWIM?",
          "Adieu",
          "My Way - 2008 Remastered",
          "Glimpse of Us",
          "SLOW DANCING IN THE DARK",
          "PRIDE.",
          "8TEEN",
          "lovely (with Khalid)",
          "Another Sad Love Song",
          "I'll die next summer (no joke)",
          "Lavender Town (From \"Pokémon Red and Blue\")",
          "Lavender Town",
          "Lavender Town (From \"Pokémon Red and Blue\")",
          "Pokemon LOFI \"Lavender Town\"",
          "Lavender Town (From \"Pokémon Red, Blue, Yellow\")",
          "Lavender Town - Lofi"
         ],
         "legendgroup": "",
         "marker": {
          "color": [
           0,
           1,
           2,
           3,
           4,
           5,
           6,
           7,
           8,
           9,
           10,
           11,
           12,
           13,
           14,
           15,
           16,
           17,
           18,
           19,
           20,
           21,
           22,
           23,
           24,
           25,
           26,
           27,
           28,
           29,
           30,
           31,
           32,
           33,
           34,
           35,
           36,
           37,
           38,
           39,
           40,
           41,
           42,
           43,
           44,
           45,
           46,
           47,
           48,
           49,
           50,
           51,
           52,
           53,
           54,
           55,
           56,
           57,
           58,
           59,
           60,
           61,
           62,
           63,
           64,
           65,
           66,
           67,
           68,
           69,
           70,
           71,
           72,
           73,
           74,
           75,
           76,
           77,
           78,
           79,
           80,
           81,
           82,
           83,
           84,
           85,
           86,
           87,
           88,
           89,
           90,
           91,
           92,
           93,
           94,
           95,
           96,
           97,
           98,
           99,
           100,
           101,
           102,
           103,
           104,
           105,
           106,
           107,
           108,
           109,
           110,
           111,
           112,
           113,
           114,
           115,
           116,
           117,
           118,
           119,
           120,
           121,
           122,
           123,
           124,
           125,
           126,
           127,
           128,
           129,
           130,
           131,
           132,
           133,
           134,
           135,
           136,
           137,
           138,
           139,
           140,
           141,
           142,
           143,
           144,
           145,
           146,
           147,
           148,
           149,
           150,
           151,
           152,
           153,
           154,
           155,
           156,
           157,
           158,
           159,
           160,
           161,
           162,
           163,
           164,
           165,
           166,
           167,
           168,
           169,
           170,
           171,
           172,
           173,
           174,
           175,
           176,
           177,
           178,
           179,
           180,
           181,
           182,
           183,
           184,
           185,
           186,
           187,
           188,
           189,
           190,
           191,
           192,
           193,
           194,
           195,
           196,
           197,
           198,
           199,
           200,
           201,
           202,
           203,
           204,
           205,
           206,
           207,
           208,
           209,
           210,
           211,
           212,
           213,
           214,
           215,
           216,
           217,
           218,
           219,
           220,
           221,
           222,
           223,
           224,
           225,
           226,
           227,
           228,
           229,
           230,
           231,
           232,
           233,
           234,
           235,
           236,
           237,
           238,
           239,
           240
          ],
          "coloraxis": "coloraxis",
          "symbol": "circle"
         },
         "mode": "markers",
         "name": "",
         "scene": "scene",
         "showlegend": false,
         "type": "scatter3d",
         "x": [
          0.024705582721467795,
          0.07025677454389107,
          -0.22833293822726408,
          -0.06531554457440195,
          -0.1519327772188021,
          -0.37211325737685375,
          -0.2917151029293424,
          -0.14357109893616118,
          -0.3871433380179845,
          -0.1459007067845235,
          -0.2837837652780549,
          0.17695526321968205,
          -0.012968920232124991,
          0.10008291848740898,
          0.016092638435802217,
          -0.05377433733044877,
          0.157825512566393,
          -0.11455363179623254,
          0.04852400657442385,
          -0.004408716993683476,
          -0.24109485430686053,
          -0.06390703873980491,
          0.0206006307702546,
          -0.05763938927247551,
          -0.29284374355599946,
          -0.23962151291378694,
          -0.17619385642315027,
          0.13955697024606803,
          0.02846272584076051,
          -0.3169326224198515,
          -0.09735332387263763,
          0.1424766508714897,
          0.3005483178406171,
          -0.18851814346846624,
          -0.25266994364513456,
          -0.019938744214611344,
          -0.09553416351033016,
          -0.2628221940573634,
          -0.1902166339829516,
          -0.08204238098076255,
          -0.3246309758324946,
          -0.3062400295310203,
          -0.2934250521505178,
          -0.14250475157480166,
          0.07320763550204466,
          -0.044674062202546154,
          0.11324748988387506,
          -0.0760569020557822,
          -0.2453933694757516,
          0.15271207885202326,
          -0.051594994437917895,
          -0.04601431423808244,
          -0.30762420254572637,
          -0.08888696975126957,
          -0.36524614969095065,
          -0.15628758047763316,
          -0.13586733405835089,
          -0.13855809506886269,
          -0.10945054007562854,
          -0.2864854446936033,
          0.21985663836889466,
          0.01771025448741328,
          -0.01764987741965252,
          -0.04595451274464731,
          -0.23034304146637866,
          -0.3447656894181748,
          -0.031111091408250954,
          -0.17069098274261735,
          -0.2425369108871,
          -0.28186881716162226,
          -0.2478411037183337,
          0.03967081048164546,
          -0.10310454559558571,
          -0.14398902374310993,
          0.12193084822053281,
          -0.29002371008622413,
          -0.09939151408877826,
          0.15069755031897614,
          0.03674925009796641,
          -0.10928954219123531,
          -0.12575082396082277,
          -0.24762128762990987,
          -0.31663734950247563,
          -0.1469444551909699,
          -0.11582568796922671,
          -0.3693503851148492,
          -0.05351152179856949,
          -0.08516760058914287,
          0.030840280309148375,
          0.37725412370915246,
          -0.17934726445210264,
          -0.19746798951801015,
          -0.22650328221320343,
          0.06883152282682657,
          -0.08362558294447768,
          -0.13619972258063134,
          -0.23339212130256132,
          0.017438363412019788,
          0.03398610661637751,
          0.24929735369868888,
          0.05864312042943159,
          0.10155277157216994,
          -0.24477637062410276,
          -0.12291271037957834,
          -0.026201068935970125,
          -0.01476685471688134,
          0.42431302700696416,
          -0.054812815905606306,
          -0.008638107522763875,
          -0.31427216236156136,
          -0.02708885999279217,
          -0.18345078072822385,
          0.19768067794111993,
          -0.025890095819635802,
          -0.06904999251446114,
          0.49028933410528563,
          0.06563737773062757,
          0.22527869197626207,
          -0.17763821002086216,
          -0.08651113239082636,
          -0.13397458693661213,
          0.3568419289818092,
          0.3948716318768668,
          -0.014863551766171549,
          0.2431240925118191,
          0.08781062337923382,
          -0.1672696351025277,
          -0.11176979451491487,
          -0.08456599598477874,
          -0.11236785736135264,
          -0.20959547060648898,
          -0.3436542004965706,
          -0.1151354666520388,
          -0.27272678646464066,
          -0.08888696975126958,
          0.12642688538628633,
          -0.017966341096458154,
          -0.2521968138489884,
          0.04147897469572863,
          -0.037997514587647226,
          -0.00877903289211194,
          0.05471188045064314,
          -0.0413485367537034,
          -0.10633448988143382,
          -0.17259375291383566,
          -0.2191070621900536,
          -0.17124251700214413,
          -0.17568299659327538,
          -0.08948063530384462,
          -0.17328901163704472,
          -0.2035659425468833,
          -0.08313503970451068,
          -0.1780626267424973,
          -0.40028725557816774,
          -0.2226210123353559,
          -0.1774384803109983,
          -0.11260708342993654,
          -0.4480500414248182,
          -0.12000571069685936,
          -0.15729822703461285,
          -0.2739480469176049,
          -0.04457271369854997,
          -0.26194313373183803,
          -0.30685242271876934,
          -0.24923774095766169,
          -0.29530698994282767,
          0.03671775063062946,
          0.30197984416693663,
          0.4635344527394964,
          0.4949009379334564,
          0.19242116517805172,
          -0.26023596529028425,
          -0.1952689079646543,
          0.46048534533138885,
          0.12425891507957045,
          0.5156002129573386,
          -0.263669030136112,
          -0.08588964468197186,
          -0.20097250821579596,
          -0.11475437770376323,
          -0.30304640200288824,
          0.3881529794823849,
          0.5108209118367261,
          -0.34312933839269777,
          0.4097434448788705,
          0.47674037924817925,
          0.38672032092486386,
          0.5782084124942062,
          0.5506244875998757,
          0.5500061388812414,
          0.4973769901700828,
          0.5051579162958197,
          0.5580874567707114,
          0.36968023408112,
          0.6075889862796162,
          0.6079809723536838,
          0.6498682470908974,
          -0.06325335904354351,
          0.1408210103212669,
          0.3544678420603866,
          0.45815773836252444,
          0.5896246421120008,
          -0.09757522246359711,
          -0.056685658571345346,
          0.2148989116978604,
          -0.11819987183141362,
          0.38508469991076544,
          0.03452817782541935,
          0.2636301815075826,
          0.3953484075991555,
          0.025648039469167674,
          0.17885648662474068,
          0.21055690023178897,
          0.0359059637833782,
          0.37218427207052873,
          0.06018519188980364,
          0.12031427750040738,
          0.06261709581962097,
          0.4194064004366675,
          0.075591474107898,
          0.11313027575402408,
          0.1651427905430905,
          0.2672663247414885,
          0.2958579133784878,
          0.2487130775564583,
          0.09615341477588883,
          0.43545421820568153,
          0.26226130246892343,
          0.29456665270991766,
          0.10155277157216987,
          -0.008789922329350292,
          -0.11342962131495908,
          0.3580259859058178,
          -0.019674441883560444,
          -0.34960853278875687,
          0.17753868098904688,
          -0.07739286535102696,
          0.17753868098904702,
          0.018884193085578434,
          -0.057971069048017486,
          0.12425646003663855
         ],
         "y": [
          -0.1712478178798676,
          0.11754530710222116,
          -0.02751523572352575,
          -0.015866800495981062,
          -0.03331780988192997,
          0.08484769393867465,
          -0.11176989482846804,
          -0.16378572176842746,
          -0.09252676990961156,
          0.1013568833615044,
          0.06951677070110067,
          0.16515461165333298,
          -0.00953832113323962,
          -0.10012371568535175,
          -0.055739660441076214,
          -0.15123808047285395,
          -0.10771485455469176,
          -0.2002259470628261,
          -0.21788064741343066,
          -0.18767021596756922,
          0.18345096767696606,
          -0.245591297543811,
          0.21866272675286424,
          0.1739423349541597,
          0.11496552427468705,
          0.06506345768153274,
          -0.01751652270415989,
          -0.028650325310725623,
          -0.010054635317147249,
          -0.1836323724893449,
          0.07815450640296089,
          0.023987006875673483,
          -0.14709800808404142,
          -0.06032281888360037,
          -0.11064207347878134,
          0.14345460865568047,
          -0.045840866316966995,
          -0.027572864592054974,
          -0.09493619263681148,
          -0.06794340273588555,
          0.12139724131609159,
          0.07259464143997654,
          0.10385392984770522,
          0.14343568850647687,
          0.19100633794666275,
          -0.15159314394606438,
          -0.06889719802385924,
          -0.040535676264707415,
          0.1563713628731053,
          0.3570635028274989,
          -0.06953255588767832,
          -0.224626395455436,
          -0.024093741472999655,
          -0.012725066975639486,
          0.0714809734024447,
          0.04625915492743388,
          0.07142660476430525,
          0.061380465941228965,
          0.030421505809615407,
          0.08609315356216693,
          -0.19127983886978536,
          0.04756522934540673,
          -0.0683306644925482,
          0.013718248937638683,
          0.08333964006573291,
          0.008804191825191742,
          0.13255825889449177,
          -0.11575909378813434,
          -0.07071583909257709,
          -0.04159441498210407,
          0.20363720651586262,
          -0.18139889844872106,
          0.008534233248437474,
          0.24205350685597235,
          -0.3492894156835087,
          0.1716558390039056,
          0.08646630281794526,
          0.13903248962867823,
          0.1718208638537367,
          -0.20669546258258867,
          -0.14852817448558825,
          -0.02631661750620966,
          0.22115501034737367,
          0.17147125304439212,
          0.018388358352329975,
          0.13284435846608783,
          -0.018803009520917204,
          -0.08033984691930807,
          -0.024814792416358894,
          0.20426530496169204,
          0.22518043365843388,
          -0.054895531902149214,
          0.11885782505516011,
          -0.4044597069248248,
          -0.13662154501697915,
          -0.3303145291777686,
          -0.26397833708051904,
          -0.20022502679983536,
          -0.1407932727926206,
          -0.11869040278200169,
          0.04996766551002018,
          -0.019875127074168275,
          -0.12471650102736469,
          -0.0782941148939555,
          0.08288005639256817,
          -0.13064032223523883,
          -0.02199348191148341,
          0.0409945420596222,
          -0.02795338190932554,
          0.2383982739509468,
          -0.01277166111901219,
          -0.035698313610586695,
          -0.1304660771528784,
          -0.10723071433762106,
          -0.13409440965258257,
          0.0037437841866633523,
          -0.16316894398093296,
          -0.1315157722984253,
          -0.18660022764427295,
          0.043613775272952085,
          0.31734097995186106,
          -0.06571031302441684,
          0.06979945428061538,
          -0.18789898024786286,
          -0.18330875947550743,
          -0.13677814476082994,
          0.048408452667487285,
          0.10100664249724524,
          0.17746286657841967,
          -0.1264751328546981,
          -0.004493653929340582,
          0.039358161484558125,
          -0.011046646624036137,
          0.07743972775351829,
          -0.012725066975639535,
          -0.030021313200929826,
          0.011631560526845445,
          0.014379113612523597,
          -0.06466248258723577,
          -0.07132485979191361,
          -0.0010041583773950555,
          -0.20883434972705178,
          0.039337433832464345,
          0.08902946044780351,
          0.08577060198210189,
          -0.04691628075854592,
          0.056988028924873334,
          0.13199346665646666,
          -0.0338227374918156,
          0.10918860016929077,
          -0.021412231335937563,
          -0.05355389701144967,
          -0.11639188342466915,
          0.057872736798912985,
          0.11496031603032997,
          0.14523227483606413,
          -0.05310226622938546,
          -0.09410191272777657,
          0.009072802099517562,
          -0.04693849349886184,
          -0.0247424727036086,
          0.01736505545035092,
          0.005932657854963969,
          0.05407915755418331,
          -0.002411844360835639,
          0.11313932586174914,
          -0.41442471647650797,
          0.2544484304929532,
          0.09027502314181379,
          0.17492912119263207,
          0.06970725932700639,
          0.18775384650412813,
          0.2191934359178678,
          0.12469923778989997,
          0.16652817346699156,
          -0.24618096275834778,
          -0.008510205494849696,
          0.19277277105275645,
          0.04740637167338456,
          0.19227967839588106,
          -0.07523925689912912,
          0.05326514640490205,
          0.006010472131527309,
          -0.022091760883235164,
          0.1402786421108882,
          0.09947266525632112,
          0.1703477913151231,
          -0.10740545205537316,
          -0.05719975379317419,
          0.10705879552109819,
          0.16840720654258431,
          0.24405437065971483,
          0.18348268528313594,
          0.45294953286030454,
          -0.10353886418741023,
          -0.09943888074387164,
          0.1663759836050152,
          0.2663509255479645,
          0.10457090494720858,
          0.2794089733087261,
          0.1167779992191403,
          -0.020135847029541312,
          -0.014221597401701806,
          0.07041596227356273,
          0.24004590268481493,
          0.2294996486902932,
          -0.054314190655924154,
          -0.005911870910710753,
          0.20827973032728586,
          -0.1262146616451716,
          0.026990662532913684,
          -0.3568915895022554,
          0.12019405073333943,
          -0.14733609385323498,
          0.013588044801735437,
          -0.04486361687828956,
          -0.0557392260163511,
          0.15065324857723722,
          -0.29775394029493396,
          -0.02514462266721907,
          0.15075811598224387,
          -0.17413544967692549,
          0.2234127210216214,
          -0.13112666625335379,
          -0.08317635117507342,
          0.15779794076430512,
          -0.1610989402372753,
          0.182600812796018,
          -0.023398706540620918,
          -0.01987512707416833,
          -0.13435844320883916,
          -0.2596450986387692,
          0.04418504354463276,
          -0.3118926899520524,
          0.042359211183659325,
          -0.1096817789234612,
          -0.04015135121164646,
          -0.10968177892346122,
          -0.2740439916710298,
          -0.2437858421178338,
          -0.22709170455914526
         ],
         "z": [
          0.05351361224155842,
          -0.035826107032216906,
          -0.047182292275706035,
          -0.035983799100525654,
          -0.08779694522126735,
          -0.04388036500389317,
          0.12303003498113639,
          -0.07130713907928743,
          -0.1636832099445866,
          -0.08840607978820553,
          -0.11103524536102267,
          0.1767633105631973,
          -0.025136666637419727,
          0.025952716002676235,
          -0.0670201345169979,
          -0.05099616065948972,
          0.009334347892317093,
          -0.019447209103056712,
          -0.06413320040981663,
          -0.026886173805239204,
          0.026095298747003982,
          0.4185142980366585,
          0.0627992569237597,
          -0.08356380237118188,
          -0.10395387073116909,
          -0.127598110225274,
          -0.08584387811074981,
          -0.07727695173168778,
          0.08960644361314647,
          -0.121292018344237,
          -0.06352773840599926,
          -0.026242619362387802,
          -0.01882677368869875,
          -0.10627301931013612,
          -0.13700832891241638,
          -0.023777858384386175,
          -0.08990628011441204,
          0.010110295142667137,
          0.08975002331306386,
          -0.09014784926569247,
          0.1224431781882651,
          0.03518760843912656,
          -0.06279268444107855,
          -0.09311697915049887,
          -0.05191640634813219,
          0.16306894899454033,
          0.06090298427529215,
          0.12592505539414442,
          -0.080476377247329,
          -0.0918489279189694,
          -0.09348869201395443,
          0.2640421181351805,
          0.17833356588811766,
          -0.050878294271769854,
          -0.07500045987221735,
          -0.08966902860106532,
          -0.07509856549951865,
          0.037035393827201855,
          -0.08250375351600084,
          0.07231271193482526,
          0.005304371067061179,
          -0.04993781469447241,
          -0.01617930194426933,
          -0.007817223555112631,
          -0.08806941843904065,
          0.03960894254025638,
          -0.019946248247171786,
          -0.10359038617637387,
          -0.006342835440599848,
          0.19956667951216844,
          0.1527992674044578,
          -0.06481254782786856,
          -0.050866305697111536,
          0.021099800990730836,
          -0.03286890737726309,
          0.07666159707464823,
          -0.07688334357695346,
          -0.043570113416444435,
          -0.0866130153865372,
          -0.02681030971351442,
          -0.05347570355140903,
          -0.08557523354422494,
          0.04829217875581253,
          -0.09112766178960509,
          -0.04779892755594612,
          0.15532403124845007,
          -0.04966858825138192,
          -0.014423597576293287,
          0.053958097035581666,
          -0.04501297163330093,
          -0.1427846066400647,
          0.029892193105374835,
          0.009551721672264493,
          -0.005142295613738266,
          0.014506648181842411,
          -0.03404889617014434,
          0.2789891247933514,
          0.04994836008529159,
          0.031978353890377786,
          0.0011911703175581316,
          0.15526212407392292,
          0.0598884944783059,
          -0.07886512767957672,
          -0.04944373446622155,
          0.047043811750001316,
          -0.05574124953683431,
          -0.008178093775102936,
          -0.06395041071934689,
          0.1830666919961761,
          0.22743324391507677,
          0.06302776668627169,
          -0.07060320878447736,
          -0.03067435819533061,
          0.22214229113319078,
          -0.06339043783498576,
          -0.019902154514119103,
          0.003950251188456938,
          -0.018563050898572943,
          -0.085722802787891,
          0.21234895754221067,
          0.0741472010368096,
          -0.017634246663849235,
          -0.06507367677103293,
          -0.007251282350294832,
          0.4390968488846438,
          0.19704501274780795,
          0.09162520578383952,
          0.22234987954677882,
          0.027634820056129238,
          -0.025404272536770064,
          -0.1005593132891188,
          -0.13241782360307633,
          -0.08751543034288105,
          -0.05233152721898904,
          -0.05087829427176983,
          -0.04746499130026571,
          -0.05748647722915591,
          -0.08371391408408854,
          -0.04806496110166593,
          -0.06077525999014089,
          -0.0579604085607343,
          -0.05345582187495541,
          0.12904761564303202,
          -0.08612389996023133,
          -0.11589626253647337,
          -0.04003055960064423,
          0.05325233899728961,
          0.10515959671174772,
          -0.04945516789199906,
          -0.035240963348041866,
          -0.06349016533237772,
          -0.03940081340423927,
          -0.11087256143721608,
          0.3337079866046049,
          -0.047680993328301904,
          0.048170353038139664,
          -0.07317353778276785,
          -0.17683554158980314,
          0.1592280967566756,
          -0.001627775947000465,
          -0.06461334221251196,
          -0.059037945791581455,
          -0.09238280298697732,
          -0.07366764615972074,
          0.28002760320165615,
          -0.14767500701895678,
          -0.07413776771814728,
          -0.04177210367622923,
          -0.030345039737897116,
          -0.03376367377266487,
          -0.02885586949487858,
          -0.12686032507555778,
          0.10823003396937222,
          -0.05493027010318071,
          -0.04497306626379395,
          0.06173036343859468,
          -0.10851467675934133,
          -0.05447937749264731,
          0.7233524681333231,
          -0.11962108504214451,
          0.1013983391024118,
          -0.06416201306674583,
          -0.030406906605985523,
          0.03618887761841487,
          0.2274190972479537,
          -0.03312426538075536,
          0.031149872258914708,
          -0.007243546926119186,
          -0.014466929133141206,
          -0.03145498403570377,
          -0.03850539887784897,
          -0.041439983490308495,
          -0.03681032790234467,
          0.11723347720832134,
          -0.023963327800144023,
          -0.04267720734571721,
          -0.038993712651804215,
          0.05563282868070991,
          -0.020372099127896035,
          -0.028691102293446805,
          0.10872057873071825,
          -0.02746682072397497,
          -0.02814805658578794,
          -0.011936912653790592,
          0.031867856644699134,
          -0.10723000773486639,
          -0.015031453165691643,
          -0.04871139823873609,
          -0.03371460725643046,
          -0.02467340239717006,
          -0.04457516064671551,
          -0.021854174829753253,
          0.1842547251371878,
          0.08306222216766558,
          -0.025919256682683862,
          -0.07208457541822648,
          -0.05675712982252744,
          -0.02449109844389355,
          0.014738124580536404,
          0.16947868142071357,
          -0.03271745269124187,
          -0.039234775256839785,
          0.025401595535730518,
          0.0991895083252056,
          0.0035747741689302814,
          0.1375362102940967,
          0.03567794347058876,
          -0.0058538290249755985,
          0.013790186826531445,
          0.05988849447830597,
          0.007787767810222816,
          -0.10180732294880733,
          -0.045543837430986486,
          -0.059365806682363055,
          0.1472047696325027,
          -0.04031645324740099,
          -0.05709843379297405,
          -0.04031645324740099,
          -0.08346776882286797,
          -0.024953129280145293,
          -0.034380785756211174
         ]
        }
       ],
       "layout": {
        "coloraxis": {
         "colorbar": {
          "title": {
           "text": "color"
          }
         },
         "colorscale": [
          [
           0,
           "#440154"
          ],
          [
           0.1111111111111111,
           "#482878"
          ],
          [
           0.2222222222222222,
           "#3e4989"
          ],
          [
           0.3333333333333333,
           "#31688e"
          ],
          [
           0.4444444444444444,
           "#26828e"
          ],
          [
           0.5555555555555556,
           "#1f9e89"
          ],
          [
           0.6666666666666666,
           "#35b779"
          ],
          [
           0.7777777777777778,
           "#6ece58"
          ],
          [
           0.8888888888888888,
           "#b5de2b"
          ],
          [
           1,
           "#fde725"
          ]
         ]
        },
        "legend": {
         "tracegroupgap": 0
        },
        "margin": {
         "t": 60
        },
        "scene": {
         "domain": {
          "x": [
           0,
           1
          ],
          "y": [
           0,
           1
          ]
         },
         "xaxis": {
          "title": {
           "text": "x"
          }
         },
         "yaxis": {
          "title": {
           "text": "y"
          }
         },
         "zaxis": {
          "title": {
           "text": "z"
          }
         }
        },
        "template": {
         "data": {
          "bar": [
           {
            "error_x": {
             "color": "#2a3f5f"
            },
            "error_y": {
             "color": "#2a3f5f"
            },
            "marker": {
             "line": {
              "color": "#E5ECF6",
              "width": 0.5
             },
             "pattern": {
              "fillmode": "overlay",
              "size": 10,
              "solidity": 0.2
             }
            },
            "type": "bar"
           }
          ],
          "barpolar": [
           {
            "marker": {
             "line": {
              "color": "#E5ECF6",
              "width": 0.5
             },
             "pattern": {
              "fillmode": "overlay",
              "size": 10,
              "solidity": 0.2
             }
            },
            "type": "barpolar"
           }
          ],
          "carpet": [
           {
            "aaxis": {
             "endlinecolor": "#2a3f5f",
             "gridcolor": "white",
             "linecolor": "white",
             "minorgridcolor": "white",
             "startlinecolor": "#2a3f5f"
            },
            "baxis": {
             "endlinecolor": "#2a3f5f",
             "gridcolor": "white",
             "linecolor": "white",
             "minorgridcolor": "white",
             "startlinecolor": "#2a3f5f"
            },
            "type": "carpet"
           }
          ],
          "choropleth": [
           {
            "colorbar": {
             "outlinewidth": 0,
             "ticks": ""
            },
            "type": "choropleth"
           }
          ],
          "contour": [
           {
            "colorbar": {
             "outlinewidth": 0,
             "ticks": ""
            },
            "colorscale": [
             [
              0,
              "#0d0887"
             ],
             [
              0.1111111111111111,
              "#46039f"
             ],
             [
              0.2222222222222222,
              "#7201a8"
             ],
             [
              0.3333333333333333,
              "#9c179e"
             ],
             [
              0.4444444444444444,
              "#bd3786"
             ],
             [
              0.5555555555555556,
              "#d8576b"
             ],
             [
              0.6666666666666666,
              "#ed7953"
             ],
             [
              0.7777777777777778,
              "#fb9f3a"
             ],
             [
              0.8888888888888888,
              "#fdca26"
             ],
             [
              1,
              "#f0f921"
             ]
            ],
            "type": "contour"
           }
          ],
          "contourcarpet": [
           {
            "colorbar": {
             "outlinewidth": 0,
             "ticks": ""
            },
            "type": "contourcarpet"
           }
          ],
          "heatmap": [
           {
            "colorbar": {
             "outlinewidth": 0,
             "ticks": ""
            },
            "colorscale": [
             [
              0,
              "#0d0887"
             ],
             [
              0.1111111111111111,
              "#46039f"
             ],
             [
              0.2222222222222222,
              "#7201a8"
             ],
             [
              0.3333333333333333,
              "#9c179e"
             ],
             [
              0.4444444444444444,
              "#bd3786"
             ],
             [
              0.5555555555555556,
              "#d8576b"
             ],
             [
              0.6666666666666666,
              "#ed7953"
             ],
             [
              0.7777777777777778,
              "#fb9f3a"
             ],
             [
              0.8888888888888888,
              "#fdca26"
             ],
             [
              1,
              "#f0f921"
             ]
            ],
            "type": "heatmap"
           }
          ],
          "heatmapgl": [
           {
            "colorbar": {
             "outlinewidth": 0,
             "ticks": ""
            },
            "colorscale": [
             [
              0,
              "#0d0887"
             ],
             [
              0.1111111111111111,
              "#46039f"
             ],
             [
              0.2222222222222222,
              "#7201a8"
             ],
             [
              0.3333333333333333,
              "#9c179e"
             ],
             [
              0.4444444444444444,
              "#bd3786"
             ],
             [
              0.5555555555555556,
              "#d8576b"
             ],
             [
              0.6666666666666666,
              "#ed7953"
             ],
             [
              0.7777777777777778,
              "#fb9f3a"
             ],
             [
              0.8888888888888888,
              "#fdca26"
             ],
             [
              1,
              "#f0f921"
             ]
            ],
            "type": "heatmapgl"
           }
          ],
          "histogram": [
           {
            "marker": {
             "pattern": {
              "fillmode": "overlay",
              "size": 10,
              "solidity": 0.2
             }
            },
            "type": "histogram"
           }
          ],
          "histogram2d": [
           {
            "colorbar": {
             "outlinewidth": 0,
             "ticks": ""
            },
            "colorscale": [
             [
              0,
              "#0d0887"
             ],
             [
              0.1111111111111111,
              "#46039f"
             ],
             [
              0.2222222222222222,
              "#7201a8"
             ],
             [
              0.3333333333333333,
              "#9c179e"
             ],
             [
              0.4444444444444444,
              "#bd3786"
             ],
             [
              0.5555555555555556,
              "#d8576b"
             ],
             [
              0.6666666666666666,
              "#ed7953"
             ],
             [
              0.7777777777777778,
              "#fb9f3a"
             ],
             [
              0.8888888888888888,
              "#fdca26"
             ],
             [
              1,
              "#f0f921"
             ]
            ],
            "type": "histogram2d"
           }
          ],
          "histogram2dcontour": [
           {
            "colorbar": {
             "outlinewidth": 0,
             "ticks": ""
            },
            "colorscale": [
             [
              0,
              "#0d0887"
             ],
             [
              0.1111111111111111,
              "#46039f"
             ],
             [
              0.2222222222222222,
              "#7201a8"
             ],
             [
              0.3333333333333333,
              "#9c179e"
             ],
             [
              0.4444444444444444,
              "#bd3786"
             ],
             [
              0.5555555555555556,
              "#d8576b"
             ],
             [
              0.6666666666666666,
              "#ed7953"
             ],
             [
              0.7777777777777778,
              "#fb9f3a"
             ],
             [
              0.8888888888888888,
              "#fdca26"
             ],
             [
              1,
              "#f0f921"
             ]
            ],
            "type": "histogram2dcontour"
           }
          ],
          "mesh3d": [
           {
            "colorbar": {
             "outlinewidth": 0,
             "ticks": ""
            },
            "type": "mesh3d"
           }
          ],
          "parcoords": [
           {
            "line": {
             "colorbar": {
              "outlinewidth": 0,
              "ticks": ""
             }
            },
            "type": "parcoords"
           }
          ],
          "pie": [
           {
            "automargin": true,
            "type": "pie"
           }
          ],
          "scatter": [
           {
            "fillpattern": {
             "fillmode": "overlay",
             "size": 10,
             "solidity": 0.2
            },
            "type": "scatter"
           }
          ],
          "scatter3d": [
           {
            "line": {
             "colorbar": {
              "outlinewidth": 0,
              "ticks": ""
             }
            },
            "marker": {
             "colorbar": {
              "outlinewidth": 0,
              "ticks": ""
             }
            },
            "type": "scatter3d"
           }
          ],
          "scattercarpet": [
           {
            "marker": {
             "colorbar": {
              "outlinewidth": 0,
              "ticks": ""
             }
            },
            "type": "scattercarpet"
           }
          ],
          "scattergeo": [
           {
            "marker": {
             "colorbar": {
              "outlinewidth": 0,
              "ticks": ""
             }
            },
            "type": "scattergeo"
           }
          ],
          "scattergl": [
           {
            "marker": {
             "colorbar": {
              "outlinewidth": 0,
              "ticks": ""
             }
            },
            "type": "scattergl"
           }
          ],
          "scattermapbox": [
           {
            "marker": {
             "colorbar": {
              "outlinewidth": 0,
              "ticks": ""
             }
            },
            "type": "scattermapbox"
           }
          ],
          "scatterpolar": [
           {
            "marker": {
             "colorbar": {
              "outlinewidth": 0,
              "ticks": ""
             }
            },
            "type": "scatterpolar"
           }
          ],
          "scatterpolargl": [
           {
            "marker": {
             "colorbar": {
              "outlinewidth": 0,
              "ticks": ""
             }
            },
            "type": "scatterpolargl"
           }
          ],
          "scatterternary": [
           {
            "marker": {
             "colorbar": {
              "outlinewidth": 0,
              "ticks": ""
             }
            },
            "type": "scatterternary"
           }
          ],
          "surface": [
           {
            "colorbar": {
             "outlinewidth": 0,
             "ticks": ""
            },
            "colorscale": [
             [
              0,
              "#0d0887"
             ],
             [
              0.1111111111111111,
              "#46039f"
             ],
             [
              0.2222222222222222,
              "#7201a8"
             ],
             [
              0.3333333333333333,
              "#9c179e"
             ],
             [
              0.4444444444444444,
              "#bd3786"
             ],
             [
              0.5555555555555556,
              "#d8576b"
             ],
             [
              0.6666666666666666,
              "#ed7953"
             ],
             [
              0.7777777777777778,
              "#fb9f3a"
             ],
             [
              0.8888888888888888,
              "#fdca26"
             ],
             [
              1,
              "#f0f921"
             ]
            ],
            "type": "surface"
           }
          ],
          "table": [
           {
            "cells": {
             "fill": {
              "color": "#EBF0F8"
             },
             "line": {
              "color": "white"
             }
            },
            "header": {
             "fill": {
              "color": "#C8D4E3"
             },
             "line": {
              "color": "white"
             }
            },
            "type": "table"
           }
          ]
         },
         "layout": {
          "annotationdefaults": {
           "arrowcolor": "#2a3f5f",
           "arrowhead": 0,
           "arrowwidth": 1
          },
          "autotypenumbers": "strict",
          "coloraxis": {
           "colorbar": {
            "outlinewidth": 0,
            "ticks": ""
           }
          },
          "colorscale": {
           "diverging": [
            [
             0,
             "#8e0152"
            ],
            [
             0.1,
             "#c51b7d"
            ],
            [
             0.2,
             "#de77ae"
            ],
            [
             0.3,
             "#f1b6da"
            ],
            [
             0.4,
             "#fde0ef"
            ],
            [
             0.5,
             "#f7f7f7"
            ],
            [
             0.6,
             "#e6f5d0"
            ],
            [
             0.7,
             "#b8e186"
            ],
            [
             0.8,
             "#7fbc41"
            ],
            [
             0.9,
             "#4d9221"
            ],
            [
             1,
             "#276419"
            ]
           ],
           "sequential": [
            [
             0,
             "#0d0887"
            ],
            [
             0.1111111111111111,
             "#46039f"
            ],
            [
             0.2222222222222222,
             "#7201a8"
            ],
            [
             0.3333333333333333,
             "#9c179e"
            ],
            [
             0.4444444444444444,
             "#bd3786"
            ],
            [
             0.5555555555555556,
             "#d8576b"
            ],
            [
             0.6666666666666666,
             "#ed7953"
            ],
            [
             0.7777777777777778,
             "#fb9f3a"
            ],
            [
             0.8888888888888888,
             "#fdca26"
            ],
            [
             1,
             "#f0f921"
            ]
           ],
           "sequentialminus": [
            [
             0,
             "#0d0887"
            ],
            [
             0.1111111111111111,
             "#46039f"
            ],
            [
             0.2222222222222222,
             "#7201a8"
            ],
            [
             0.3333333333333333,
             "#9c179e"
            ],
            [
             0.4444444444444444,
             "#bd3786"
            ],
            [
             0.5555555555555556,
             "#d8576b"
            ],
            [
             0.6666666666666666,
             "#ed7953"
            ],
            [
             0.7777777777777778,
             "#fb9f3a"
            ],
            [
             0.8888888888888888,
             "#fdca26"
            ],
            [
             1,
             "#f0f921"
            ]
           ]
          },
          "colorway": [
           "#636efa",
           "#EF553B",
           "#00cc96",
           "#ab63fa",
           "#FFA15A",
           "#19d3f3",
           "#FF6692",
           "#B6E880",
           "#FF97FF",
           "#FECB52"
          ],
          "font": {
           "color": "#2a3f5f"
          },
          "geo": {
           "bgcolor": "white",
           "lakecolor": "white",
           "landcolor": "#E5ECF6",
           "showlakes": true,
           "showland": true,
           "subunitcolor": "white"
          },
          "hoverlabel": {
           "align": "left"
          },
          "hovermode": "closest",
          "mapbox": {
           "style": "light"
          },
          "paper_bgcolor": "white",
          "plot_bgcolor": "#E5ECF6",
          "polar": {
           "angularaxis": {
            "gridcolor": "white",
            "linecolor": "white",
            "ticks": ""
           },
           "bgcolor": "#E5ECF6",
           "radialaxis": {
            "gridcolor": "white",
            "linecolor": "white",
            "ticks": ""
           }
          },
          "scene": {
           "xaxis": {
            "backgroundcolor": "#E5ECF6",
            "gridcolor": "white",
            "gridwidth": 2,
            "linecolor": "white",
            "showbackground": true,
            "ticks": "",
            "zerolinecolor": "white"
           },
           "yaxis": {
            "backgroundcolor": "#E5ECF6",
            "gridcolor": "white",
            "gridwidth": 2,
            "linecolor": "white",
            "showbackground": true,
            "ticks": "",
            "zerolinecolor": "white"
           },
           "zaxis": {
            "backgroundcolor": "#E5ECF6",
            "gridcolor": "white",
            "gridwidth": 2,
            "linecolor": "white",
            "showbackground": true,
            "ticks": "",
            "zerolinecolor": "white"
           }
          },
          "shapedefaults": {
           "line": {
            "color": "#2a3f5f"
           }
          },
          "ternary": {
           "aaxis": {
            "gridcolor": "white",
            "linecolor": "white",
            "ticks": ""
           },
           "baxis": {
            "gridcolor": "white",
            "linecolor": "white",
            "ticks": ""
           },
           "bgcolor": "#E5ECF6",
           "caxis": {
            "gridcolor": "white",
            "linecolor": "white",
            "ticks": ""
           }
          },
          "title": {
           "x": 0.05
          },
          "xaxis": {
           "automargin": true,
           "gridcolor": "white",
           "linecolor": "white",
           "ticks": "",
           "title": {
            "standoff": 15
           },
           "zerolinecolor": "white",
           "zerolinewidth": 2
          },
          "yaxis": {
           "automargin": true,
           "gridcolor": "white",
           "linecolor": "white",
           "ticks": "",
           "title": {
            "standoff": 15
           },
           "zerolinecolor": "white",
           "zerolinewidth": 2
          }
         }
        },
        "title": {
         "text": "3D visualization of SpotifAI"
        }
       }
      }
     },
     "metadata": {},
     "output_type": "display_data"
    }
   ],
   "source": [
    "df_new= pd.DataFrame({\n",
    "    'x': x_iso[:, 0],\n",
    "    'y': x_iso[:, 1],\n",
    "    'z': x_iso[:, 2],\n",
    "    'color': sr_color,\n",
    "    'name' : df['name'],\n",
    "    'artist genre': df['genre']\n",
    "})\n",
    "\n",
    "# Create an interactive 3D scatter plot using Plotly\n",
    "fig = px.scatter_3d(df_new, x='x', y='y', z='z', color='color', color_continuous_scale='viridis'\n",
    "                    , hover_name = 'name', hover_data={'artist genre':True})\n",
    "\n",
    "# Set the title\n",
    "fig.update_layout(title='3D visualization of SpotifAI')\n",
    "\n",
    "# Show the interactive plot\n",
    "fig.show()\n",
    "fig.write_html(\"3D_vis_of_data(live,dance,ene).html\")"
   ]
  },
  {
   "cell_type": "code",
   "execution_count": null,
   "metadata": {},
   "outputs": [],
   "source": []
  },
  {
   "cell_type": "code",
   "execution_count": null,
   "metadata": {},
   "outputs": [],
   "source": []
  }
 ],
 "metadata": {
  "kernelspec": {
   "display_name": "base",
   "language": "python",
   "name": "python3"
  },
  "language_info": {
   "codemirror_mode": {
    "name": "ipython",
    "version": 3
   },
   "file_extension": ".py",
   "mimetype": "text/x-python",
   "name": "python",
   "nbconvert_exporter": "python",
   "pygments_lexer": "ipython3",
   "version": "3.12.4"
  }
 },
 "nbformat": 4,
 "nbformat_minor": 2
}
